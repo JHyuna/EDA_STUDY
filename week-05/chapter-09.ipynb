{
 "metadata": {
  "language_info": {
   "codemirror_mode": {
    "name": "ipython",
    "version": 3
   },
   "file_extension": ".py",
   "mimetype": "text/x-python",
   "name": "python",
   "nbconvert_exporter": "python",
   "pygments_lexer": "ipython3",
   "version": "3.8.2-final"
  },
  "orig_nbformat": 2,
  "kernelspec": {
   "name": "Python 3.8.2 64-bit",
   "display_name": "Python 3.8.2 64-bit",
   "metadata": {
    "interpreter": {
     "hash": "a22da94b6d0eb1bb9e13ff23c6dec5d5d0682dd7591db237e737d29eb0bbf2ae"
    }
   }
  }
 },
 "nbformat": 4,
 "nbformat_minor": 2,
 "cells": [
  {
   "source": [
    "# CHAPTER 09. pandas 객체 합치기\n"
   ],
   "cell_type": "markdown",
   "metadata": {}
  },
  {
   "source": [
    "## DataFrame에 새로운 행 추가\n"
   ],
   "cell_type": "markdown",
   "metadata": {}
  },
  {
   "cell_type": "code",
   "execution_count": 1,
   "metadata": {},
   "outputs": [
    {
     "output_type": "execute_result",
     "data": {
      "text/plain": [
       "       Name  Age\n",
       "0  Cornelia   70\n",
       "1     Abbas   69\n",
       "2  Penelope    4\n",
       "3      Niko    2"
      ],
      "text/html": "<div>\n<style scoped>\n    .dataframe tbody tr th:only-of-type {\n        vertical-align: middle;\n    }\n\n    .dataframe tbody tr th {\n        vertical-align: top;\n    }\n\n    .dataframe thead th {\n        text-align: right;\n    }\n</style>\n<table border=\"1\" class=\"dataframe\">\n  <thead>\n    <tr style=\"text-align: right;\">\n      <th></th>\n      <th>Name</th>\n      <th>Age</th>\n    </tr>\n  </thead>\n  <tbody>\n    <tr>\n      <th>0</th>\n      <td>Cornelia</td>\n      <td>70</td>\n    </tr>\n    <tr>\n      <th>1</th>\n      <td>Abbas</td>\n      <td>69</td>\n    </tr>\n    <tr>\n      <th>2</th>\n      <td>Penelope</td>\n      <td>4</td>\n    </tr>\n    <tr>\n      <th>3</th>\n      <td>Niko</td>\n      <td>2</td>\n    </tr>\n  </tbody>\n</table>\n</div>"
     },
     "metadata": {},
     "execution_count": 1
    }
   ],
   "source": [
    "import pandas as pd\n",
    "import numpy as np\n",
    "\n",
    "names = pd.read_csv(\"../data/names.csv\")\n",
    "names\n"
   ]
  },
  {
   "cell_type": "code",
   "execution_count": 2,
   "metadata": {},
   "outputs": [
    {
     "output_type": "execute_result",
     "data": {
      "text/plain": [
       "       Name  Age\n",
       "0  Cornelia   70\n",
       "1     Abbas   69\n",
       "2  Penelope    4\n",
       "3      Niko    2\n",
       "4      Aria    1"
      ],
      "text/html": "<div>\n<style scoped>\n    .dataframe tbody tr th:only-of-type {\n        vertical-align: middle;\n    }\n\n    .dataframe tbody tr th {\n        vertical-align: top;\n    }\n\n    .dataframe thead th {\n        text-align: right;\n    }\n</style>\n<table border=\"1\" class=\"dataframe\">\n  <thead>\n    <tr style=\"text-align: right;\">\n      <th></th>\n      <th>Name</th>\n      <th>Age</th>\n    </tr>\n  </thead>\n  <tbody>\n    <tr>\n      <th>0</th>\n      <td>Cornelia</td>\n      <td>70</td>\n    </tr>\n    <tr>\n      <th>1</th>\n      <td>Abbas</td>\n      <td>69</td>\n    </tr>\n    <tr>\n      <th>2</th>\n      <td>Penelope</td>\n      <td>4</td>\n    </tr>\n    <tr>\n      <th>3</th>\n      <td>Niko</td>\n      <td>2</td>\n    </tr>\n    <tr>\n      <th>4</th>\n      <td>Aria</td>\n      <td>1</td>\n    </tr>\n  </tbody>\n</table>\n</div>"
     },
     "metadata": {},
     "execution_count": 2
    }
   ],
   "source": [
    "new_data_list = [\"Aria\", 1]\n",
    "names.loc[4] = new_data_list\n",
    "names"
   ]
  },
  {
   "cell_type": "code",
   "execution_count": 3,
   "metadata": {},
   "outputs": [
    {
     "output_type": "execute_result",
     "data": {
      "text/plain": [
       "          Name  Age\n",
       "0     Cornelia   70\n",
       "1        Abbas   69\n",
       "2     Penelope    4\n",
       "3         Niko    2\n",
       "4         Aria    1\n",
       "five      Zach    3"
      ],
      "text/html": "<div>\n<style scoped>\n    .dataframe tbody tr th:only-of-type {\n        vertical-align: middle;\n    }\n\n    .dataframe tbody tr th {\n        vertical-align: top;\n    }\n\n    .dataframe thead th {\n        text-align: right;\n    }\n</style>\n<table border=\"1\" class=\"dataframe\">\n  <thead>\n    <tr style=\"text-align: right;\">\n      <th></th>\n      <th>Name</th>\n      <th>Age</th>\n    </tr>\n  </thead>\n  <tbody>\n    <tr>\n      <th>0</th>\n      <td>Cornelia</td>\n      <td>70</td>\n    </tr>\n    <tr>\n      <th>1</th>\n      <td>Abbas</td>\n      <td>69</td>\n    </tr>\n    <tr>\n      <th>2</th>\n      <td>Penelope</td>\n      <td>4</td>\n    </tr>\n    <tr>\n      <th>3</th>\n      <td>Niko</td>\n      <td>2</td>\n    </tr>\n    <tr>\n      <th>4</th>\n      <td>Aria</td>\n      <td>1</td>\n    </tr>\n    <tr>\n      <th>five</th>\n      <td>Zach</td>\n      <td>3</td>\n    </tr>\n  </tbody>\n</table>\n</div>"
     },
     "metadata": {},
     "execution_count": 3
    }
   ],
   "source": [
    "names.loc[\"five\"] = [\"Zach\", 3]\n",
    "names"
   ]
  },
  {
   "cell_type": "code",
   "execution_count": 4,
   "metadata": {},
   "outputs": [
    {
     "output_type": "execute_result",
     "data": {
      "text/plain": [
       "          Name  Age\n",
       "0     Cornelia   70\n",
       "1        Abbas   69\n",
       "2     Penelope    4\n",
       "3         Niko    2\n",
       "4         Aria    1\n",
       "five      Zach    3\n",
       "6         Zayd    2"
      ],
      "text/html": "<div>\n<style scoped>\n    .dataframe tbody tr th:only-of-type {\n        vertical-align: middle;\n    }\n\n    .dataframe tbody tr th {\n        vertical-align: top;\n    }\n\n    .dataframe thead th {\n        text-align: right;\n    }\n</style>\n<table border=\"1\" class=\"dataframe\">\n  <thead>\n    <tr style=\"text-align: right;\">\n      <th></th>\n      <th>Name</th>\n      <th>Age</th>\n    </tr>\n  </thead>\n  <tbody>\n    <tr>\n      <th>0</th>\n      <td>Cornelia</td>\n      <td>70</td>\n    </tr>\n    <tr>\n      <th>1</th>\n      <td>Abbas</td>\n      <td>69</td>\n    </tr>\n    <tr>\n      <th>2</th>\n      <td>Penelope</td>\n      <td>4</td>\n    </tr>\n    <tr>\n      <th>3</th>\n      <td>Niko</td>\n      <td>2</td>\n    </tr>\n    <tr>\n      <th>4</th>\n      <td>Aria</td>\n      <td>1</td>\n    </tr>\n    <tr>\n      <th>five</th>\n      <td>Zach</td>\n      <td>3</td>\n    </tr>\n    <tr>\n      <th>6</th>\n      <td>Zayd</td>\n      <td>2</td>\n    </tr>\n  </tbody>\n</table>\n</div>"
     },
     "metadata": {},
     "execution_count": 4
    }
   ],
   "source": [
    "names.loc[len(names)] = {'Name':'Zayd', 'Age':2}\n",
    "names\n"
   ]
  },
  {
   "cell_type": "code",
   "execution_count": 5,
   "metadata": {},
   "outputs": [
    {
     "output_type": "execute_result",
     "data": {
      "text/plain": [
       "          Name  Age\n",
       "0     Cornelia   70\n",
       "1        Abbas   69\n",
       "2     Penelope    4\n",
       "3         Niko    2\n",
       "4         Aria    1\n",
       "five      Zach    3\n",
       "6         Zayd    2\n",
       "7         Dean   32"
      ],
      "text/html": "<div>\n<style scoped>\n    .dataframe tbody tr th:only-of-type {\n        vertical-align: middle;\n    }\n\n    .dataframe tbody tr th {\n        vertical-align: top;\n    }\n\n    .dataframe thead th {\n        text-align: right;\n    }\n</style>\n<table border=\"1\" class=\"dataframe\">\n  <thead>\n    <tr style=\"text-align: right;\">\n      <th></th>\n      <th>Name</th>\n      <th>Age</th>\n    </tr>\n  </thead>\n  <tbody>\n    <tr>\n      <th>0</th>\n      <td>Cornelia</td>\n      <td>70</td>\n    </tr>\n    <tr>\n      <th>1</th>\n      <td>Abbas</td>\n      <td>69</td>\n    </tr>\n    <tr>\n      <th>2</th>\n      <td>Penelope</td>\n      <td>4</td>\n    </tr>\n    <tr>\n      <th>3</th>\n      <td>Niko</td>\n      <td>2</td>\n    </tr>\n    <tr>\n      <th>4</th>\n      <td>Aria</td>\n      <td>1</td>\n    </tr>\n    <tr>\n      <th>five</th>\n      <td>Zach</td>\n      <td>3</td>\n    </tr>\n    <tr>\n      <th>6</th>\n      <td>Zayd</td>\n      <td>2</td>\n    </tr>\n    <tr>\n      <th>7</th>\n      <td>Dean</td>\n      <td>32</td>\n    </tr>\n  </tbody>\n</table>\n</div>"
     },
     "metadata": {},
     "execution_count": 5
    }
   ],
   "source": [
    "names.loc[len(names)] = pd.Series({'Age':32, 'Name':'Dean'})\n",
    "names"
   ]
  },
  {
   "cell_type": "code",
   "execution_count": 6,
   "metadata": {},
   "outputs": [
    {
     "output_type": "execute_result",
     "data": {
      "text/plain": [
       "       Name  Age\n",
       "0  Cornelia   70\n",
       "1     Abbas   69\n",
       "2  Penelope    4\n",
       "3      Niko    2\n",
       "4      Aria    1"
      ],
      "text/html": "<div>\n<style scoped>\n    .dataframe tbody tr th:only-of-type {\n        vertical-align: middle;\n    }\n\n    .dataframe tbody tr th {\n        vertical-align: top;\n    }\n\n    .dataframe thead th {\n        text-align: right;\n    }\n</style>\n<table border=\"1\" class=\"dataframe\">\n  <thead>\n    <tr style=\"text-align: right;\">\n      <th></th>\n      <th>Name</th>\n      <th>Age</th>\n    </tr>\n  </thead>\n  <tbody>\n    <tr>\n      <th>0</th>\n      <td>Cornelia</td>\n      <td>70</td>\n    </tr>\n    <tr>\n      <th>1</th>\n      <td>Abbas</td>\n      <td>69</td>\n    </tr>\n    <tr>\n      <th>2</th>\n      <td>Penelope</td>\n      <td>4</td>\n    </tr>\n    <tr>\n      <th>3</th>\n      <td>Niko</td>\n      <td>2</td>\n    </tr>\n    <tr>\n      <th>4</th>\n      <td>Aria</td>\n      <td>1</td>\n    </tr>\n  </tbody>\n</table>\n</div>"
     },
     "metadata": {},
     "execution_count": 6
    }
   ],
   "source": [
    "names = pd.read_csv('../data/names.csv')\n",
    "names.append({'Name':'Aria', 'Age':1}, ignore_index=True)"
   ]
  },
  {
   "cell_type": "code",
   "execution_count": 7,
   "metadata": {},
   "outputs": [
    {
     "output_type": "execute_result",
     "data": {
      "text/plain": [
       "            Name  Age\n",
       "Canada  Cornelia   70\n",
       "Canada     Abbas   69\n",
       "USA     Penelope    4\n",
       "USA         Niko    2"
      ],
      "text/html": "<div>\n<style scoped>\n    .dataframe tbody tr th:only-of-type {\n        vertical-align: middle;\n    }\n\n    .dataframe tbody tr th {\n        vertical-align: top;\n    }\n\n    .dataframe thead th {\n        text-align: right;\n    }\n</style>\n<table border=\"1\" class=\"dataframe\">\n  <thead>\n    <tr style=\"text-align: right;\">\n      <th></th>\n      <th>Name</th>\n      <th>Age</th>\n    </tr>\n  </thead>\n  <tbody>\n    <tr>\n      <th>Canada</th>\n      <td>Cornelia</td>\n      <td>70</td>\n    </tr>\n    <tr>\n      <th>Canada</th>\n      <td>Abbas</td>\n      <td>69</td>\n    </tr>\n    <tr>\n      <th>USA</th>\n      <td>Penelope</td>\n      <td>4</td>\n    </tr>\n    <tr>\n      <th>USA</th>\n      <td>Niko</td>\n      <td>2</td>\n    </tr>\n  </tbody>\n</table>\n</div>"
     },
     "metadata": {},
     "execution_count": 7
    }
   ],
   "source": [
    "names.index = ['Canada', 'Canada', 'USA', 'USA']\n",
    "names"
   ]
  },
  {
   "cell_type": "code",
   "execution_count": 8,
   "metadata": {},
   "outputs": [
    {
     "output_type": "execute_result",
     "data": {
      "text/plain": [
       "       Name  Age\n",
       "0  Cornelia   70\n",
       "1     Abbas   69\n",
       "2  Penelope    4\n",
       "3      Niko    2\n",
       "4      Aria    1"
      ],
      "text/html": "<div>\n<style scoped>\n    .dataframe tbody tr th:only-of-type {\n        vertical-align: middle;\n    }\n\n    .dataframe tbody tr th {\n        vertical-align: top;\n    }\n\n    .dataframe thead th {\n        text-align: right;\n    }\n</style>\n<table border=\"1\" class=\"dataframe\">\n  <thead>\n    <tr style=\"text-align: right;\">\n      <th></th>\n      <th>Name</th>\n      <th>Age</th>\n    </tr>\n  </thead>\n  <tbody>\n    <tr>\n      <th>0</th>\n      <td>Cornelia</td>\n      <td>70</td>\n    </tr>\n    <tr>\n      <th>1</th>\n      <td>Abbas</td>\n      <td>69</td>\n    </tr>\n    <tr>\n      <th>2</th>\n      <td>Penelope</td>\n      <td>4</td>\n    </tr>\n    <tr>\n      <th>3</th>\n      <td>Niko</td>\n      <td>2</td>\n    </tr>\n    <tr>\n      <th>4</th>\n      <td>Aria</td>\n      <td>1</td>\n    </tr>\n  </tbody>\n</table>\n</div>"
     },
     "metadata": {},
     "execution_count": 8
    }
   ],
   "source": [
    "names.append({'Name':'Aria', 'Age':1}, ignore_index=True)"
   ]
  },
  {
   "cell_type": "code",
   "execution_count": 9,
   "metadata": {},
   "outputs": [
    {
     "output_type": "execute_result",
     "data": {
      "text/plain": [
       "Name    Zach\n",
       "Age        3\n",
       "Name: 4, dtype: object"
      ]
     },
     "metadata": {},
     "execution_count": 9
    }
   ],
   "source": [
    "s = pd.Series({'Name': 'Zach', 'Age': 3}, name=len(names))\n",
    "s"
   ]
  },
  {
   "cell_type": "code",
   "execution_count": 10,
   "metadata": {},
   "outputs": [
    {
     "output_type": "execute_result",
     "data": {
      "text/plain": [
       "            Name  Age\n",
       "Canada  Cornelia   70\n",
       "Canada     Abbas   69\n",
       "USA     Penelope    4\n",
       "USA         Niko    2\n",
       "4           Zach    3"
      ],
      "text/html": "<div>\n<style scoped>\n    .dataframe tbody tr th:only-of-type {\n        vertical-align: middle;\n    }\n\n    .dataframe tbody tr th {\n        vertical-align: top;\n    }\n\n    .dataframe thead th {\n        text-align: right;\n    }\n</style>\n<table border=\"1\" class=\"dataframe\">\n  <thead>\n    <tr style=\"text-align: right;\">\n      <th></th>\n      <th>Name</th>\n      <th>Age</th>\n    </tr>\n  </thead>\n  <tbody>\n    <tr>\n      <th>Canada</th>\n      <td>Cornelia</td>\n      <td>70</td>\n    </tr>\n    <tr>\n      <th>Canada</th>\n      <td>Abbas</td>\n      <td>69</td>\n    </tr>\n    <tr>\n      <th>USA</th>\n      <td>Penelope</td>\n      <td>4</td>\n    </tr>\n    <tr>\n      <th>USA</th>\n      <td>Niko</td>\n      <td>2</td>\n    </tr>\n    <tr>\n      <th>4</th>\n      <td>Zach</td>\n      <td>3</td>\n    </tr>\n  </tbody>\n</table>\n</div>"
     },
     "metadata": {},
     "execution_count": 10
    }
   ],
   "source": [
    "names.append(s)"
   ]
  },
  {
   "cell_type": "code",
   "execution_count": 11,
   "metadata": {},
   "outputs": [
    {
     "output_type": "execute_result",
     "data": {
      "text/plain": [
       "            Name  Age\n",
       "Canada  Cornelia   70\n",
       "Canada     Abbas   69\n",
       "USA     Penelope    4\n",
       "USA         Niko    2\n",
       "4           Zach    3\n",
       "USA         Zayd    2"
      ],
      "text/html": "<div>\n<style scoped>\n    .dataframe tbody tr th:only-of-type {\n        vertical-align: middle;\n    }\n\n    .dataframe tbody tr th {\n        vertical-align: top;\n    }\n\n    .dataframe thead th {\n        text-align: right;\n    }\n</style>\n<table border=\"1\" class=\"dataframe\">\n  <thead>\n    <tr style=\"text-align: right;\">\n      <th></th>\n      <th>Name</th>\n      <th>Age</th>\n    </tr>\n  </thead>\n  <tbody>\n    <tr>\n      <th>Canada</th>\n      <td>Cornelia</td>\n      <td>70</td>\n    </tr>\n    <tr>\n      <th>Canada</th>\n      <td>Abbas</td>\n      <td>69</td>\n    </tr>\n    <tr>\n      <th>USA</th>\n      <td>Penelope</td>\n      <td>4</td>\n    </tr>\n    <tr>\n      <th>USA</th>\n      <td>Niko</td>\n      <td>2</td>\n    </tr>\n    <tr>\n      <th>4</th>\n      <td>Zach</td>\n      <td>3</td>\n    </tr>\n    <tr>\n      <th>USA</th>\n      <td>Zayd</td>\n      <td>2</td>\n    </tr>\n  </tbody>\n</table>\n</div>"
     },
     "metadata": {},
     "execution_count": 11
    }
   ],
   "source": [
    "s1 = pd.Series({'Name': 'Zach', 'Age': 3}, name=len(names))\n",
    "s2 = pd.Series({'Name': 'Zayd', 'Age': 2}, name='USA')\n",
    "names.append([s1, s2])"
   ]
  },
  {
   "cell_type": "code",
   "execution_count": 12,
   "metadata": {},
   "outputs": [
    {
     "output_type": "execute_result",
     "data": {
      "text/plain": [
       "    playerID  yearID  stint teamID lgID    G   AB    R    H  2B  ...   RBI  \\\n",
       "0  altuvjo01    2016      1    HOU   AL  161  640  108  216  42  ...  96.0   \n",
       "1  bregmal01    2016      1    HOU   AL   49  201   31   53  13  ...  34.0   \n",
       "2  castrja01    2016      1    HOU   AL  113  329   41   69  16  ...  32.0   \n",
       "3  correca01    2016      1    HOU   AL  153  577   76  158  36  ...  96.0   \n",
       "4  gattiev01    2016      1    HOU   AL  128  447   58  112  19  ...  72.0   \n",
       "\n",
       "     SB    CS  BB     SO   IBB  HBP   SH   SF  GIDP  \n",
       "0  30.0  10.0  60   70.0  11.0  7.0  3.0  7.0  15.0  \n",
       "1   2.0   0.0  15   52.0   0.0  0.0  0.0  1.0   1.0  \n",
       "2   2.0   1.0  45  123.0   0.0  1.0  1.0  0.0   9.0  \n",
       "3  13.0   3.0  75  139.0   5.0  5.0  0.0  3.0  12.0  \n",
       "4   2.0   1.0  43  127.0   6.0  4.0  0.0  5.0  12.0  \n",
       "\n",
       "[5 rows x 22 columns]"
      ],
      "text/html": "<div>\n<style scoped>\n    .dataframe tbody tr th:only-of-type {\n        vertical-align: middle;\n    }\n\n    .dataframe tbody tr th {\n        vertical-align: top;\n    }\n\n    .dataframe thead th {\n        text-align: right;\n    }\n</style>\n<table border=\"1\" class=\"dataframe\">\n  <thead>\n    <tr style=\"text-align: right;\">\n      <th></th>\n      <th>playerID</th>\n      <th>yearID</th>\n      <th>stint</th>\n      <th>teamID</th>\n      <th>lgID</th>\n      <th>G</th>\n      <th>AB</th>\n      <th>R</th>\n      <th>H</th>\n      <th>2B</th>\n      <th>...</th>\n      <th>RBI</th>\n      <th>SB</th>\n      <th>CS</th>\n      <th>BB</th>\n      <th>SO</th>\n      <th>IBB</th>\n      <th>HBP</th>\n      <th>SH</th>\n      <th>SF</th>\n      <th>GIDP</th>\n    </tr>\n  </thead>\n  <tbody>\n    <tr>\n      <th>0</th>\n      <td>altuvjo01</td>\n      <td>2016</td>\n      <td>1</td>\n      <td>HOU</td>\n      <td>AL</td>\n      <td>161</td>\n      <td>640</td>\n      <td>108</td>\n      <td>216</td>\n      <td>42</td>\n      <td>...</td>\n      <td>96.0</td>\n      <td>30.0</td>\n      <td>10.0</td>\n      <td>60</td>\n      <td>70.0</td>\n      <td>11.0</td>\n      <td>7.0</td>\n      <td>3.0</td>\n      <td>7.0</td>\n      <td>15.0</td>\n    </tr>\n    <tr>\n      <th>1</th>\n      <td>bregmal01</td>\n      <td>2016</td>\n      <td>1</td>\n      <td>HOU</td>\n      <td>AL</td>\n      <td>49</td>\n      <td>201</td>\n      <td>31</td>\n      <td>53</td>\n      <td>13</td>\n      <td>...</td>\n      <td>34.0</td>\n      <td>2.0</td>\n      <td>0.0</td>\n      <td>15</td>\n      <td>52.0</td>\n      <td>0.0</td>\n      <td>0.0</td>\n      <td>0.0</td>\n      <td>1.0</td>\n      <td>1.0</td>\n    </tr>\n    <tr>\n      <th>2</th>\n      <td>castrja01</td>\n      <td>2016</td>\n      <td>1</td>\n      <td>HOU</td>\n      <td>AL</td>\n      <td>113</td>\n      <td>329</td>\n      <td>41</td>\n      <td>69</td>\n      <td>16</td>\n      <td>...</td>\n      <td>32.0</td>\n      <td>2.0</td>\n      <td>1.0</td>\n      <td>45</td>\n      <td>123.0</td>\n      <td>0.0</td>\n      <td>1.0</td>\n      <td>1.0</td>\n      <td>0.0</td>\n      <td>9.0</td>\n    </tr>\n    <tr>\n      <th>3</th>\n      <td>correca01</td>\n      <td>2016</td>\n      <td>1</td>\n      <td>HOU</td>\n      <td>AL</td>\n      <td>153</td>\n      <td>577</td>\n      <td>76</td>\n      <td>158</td>\n      <td>36</td>\n      <td>...</td>\n      <td>96.0</td>\n      <td>13.0</td>\n      <td>3.0</td>\n      <td>75</td>\n      <td>139.0</td>\n      <td>5.0</td>\n      <td>5.0</td>\n      <td>0.0</td>\n      <td>3.0</td>\n      <td>12.0</td>\n    </tr>\n    <tr>\n      <th>4</th>\n      <td>gattiev01</td>\n      <td>2016</td>\n      <td>1</td>\n      <td>HOU</td>\n      <td>AL</td>\n      <td>128</td>\n      <td>447</td>\n      <td>58</td>\n      <td>112</td>\n      <td>19</td>\n      <td>...</td>\n      <td>72.0</td>\n      <td>2.0</td>\n      <td>1.0</td>\n      <td>43</td>\n      <td>127.0</td>\n      <td>6.0</td>\n      <td>4.0</td>\n      <td>0.0</td>\n      <td>5.0</td>\n      <td>12.0</td>\n    </tr>\n  </tbody>\n</table>\n<p>5 rows × 22 columns</p>\n</div>"
     },
     "metadata": {},
     "execution_count": 12
    }
   ],
   "source": [
    "bball_16 = pd.read_csv('../data/baseball16.csv')\n",
    "bball_16.head()\n"
   ]
  },
  {
   "cell_type": "code",
   "execution_count": 13,
   "metadata": {},
   "outputs": [
    {
     "output_type": "stream",
     "name": "stdout",
     "text": [
      "{'playerID': 'altuvjo01', 'yearID': 2016, 'stint': 1, 'teamID': 'HOU', 'lgID': 'AL', 'G': 161, 'AB': 640, 'R': 108, 'H': 216, '2B': 42, '3B': 5, 'HR': 24, 'RBI': 96.0, 'SB': 30.0, 'CS': 10.0, 'BB': 60, 'SO': 70.0, 'IBB': 11.0, 'HBP': 7.0, 'SH': 3.0, 'SF': 7.0, 'GIDP': 15.0}\n"
     ]
    }
   ],
   "source": [
    "data_dict = bball_16.iloc[0].to_dict()\n",
    "print(data_dict)\n"
   ]
  },
  {
   "cell_type": "code",
   "execution_count": 14,
   "metadata": {},
   "outputs": [
    {
     "output_type": "stream",
     "name": "stdout",
     "text": [
      "{'playerID': '', 'yearID': nan, 'stint': nan, 'teamID': '', 'lgID': '', 'G': nan, 'AB': nan, 'R': nan, 'H': nan, '2B': nan, '3B': nan, 'HR': nan, 'RBI': nan, 'SB': nan, 'CS': nan, 'BB': nan, 'SO': nan, 'IBB': nan, 'HBP': nan, 'SH': nan, 'SF': nan, 'GIDP': nan}\n"
     ]
    }
   ],
   "source": [
    "new_data_dict = {k: '' if isinstance(v, str) else np.nan for k, v in data_dict.items()}\n",
    "print(new_data_dict)"
   ]
  },
  {
   "cell_type": "code",
   "execution_count": 15,
   "metadata": {},
   "outputs": [
    {
     "output_type": "execute_result",
     "data": {
      "text/plain": [
       "playerID    c\n",
       "yearID      7\n",
       "stint       2\n",
       "teamID      a\n",
       "lgID        b\n",
       "Name: 16, dtype: object"
      ]
     },
     "metadata": {},
     "execution_count": 15
    }
   ],
   "source": [
    "random_data = []\n",
    "for i in range(1000):\n",
    "    d = dict()\n",
    "    for k, v in data_dict.items():\n",
    "        if isinstance(v, str):\n",
    "            d[k] = np.random.choice(list('abcde'))\n",
    "        else:\n",
    "            d[k] = np.random.randint(10)\n",
    "    random_data.append(pd.Series(d, name=i + len(bball_16)))\n",
    "    \n",
    "random_data[0].head()\n"
   ]
  },
  {
   "cell_type": "code",
   "execution_count": 16,
   "metadata": {},
   "outputs": [
    {
     "output_type": "stream",
     "name": "stdout",
     "text": [
      "6.41 s ± 689 ms per loop (mean ± std. dev. of 7 runs, 1 loop each)\n"
     ]
    }
   ],
   "source": [
    "%%timeit\n",
    "bball_16_copy = bball_16.copy()\n",
    "for row in random_data:\n",
    "    bball_16_copy = bball_16_copy.append(row)"
   ]
  },
  {
   "cell_type": "code",
   "execution_count": 17,
   "metadata": {},
   "outputs": [
    {
     "output_type": "stream",
     "name": "stdout",
     "text": [
      "77.7 ms ± 10.1 ms per loop (mean ± std. dev. of 7 runs, 10 loops each)\n"
     ]
    }
   ],
   "source": [
    "%%timeit\n",
    "bball_16_copy = bball_16.copy()\n",
    "bball_16_copy = bball_16_copy.append(random_data)"
   ]
  },
  {
   "source": [
    "## 복수 DataFrame 연결\n"
   ],
   "cell_type": "markdown",
   "metadata": {}
  },
  {
   "cell_type": "code",
   "execution_count": 18,
   "metadata": {},
   "outputs": [
    {
     "output_type": "execute_result",
     "data": {
      "text/plain": [
       "        Shares  Low  High\n",
       "Symbol                   \n",
       "AAPL        80   95   110\n",
       "TSLA        50   80   130\n",
       "WMT         40   55    70"
      ],
      "text/html": "<div>\n<style scoped>\n    .dataframe tbody tr th:only-of-type {\n        vertical-align: middle;\n    }\n\n    .dataframe tbody tr th {\n        vertical-align: top;\n    }\n\n    .dataframe thead th {\n        text-align: right;\n    }\n</style>\n<table border=\"1\" class=\"dataframe\">\n  <thead>\n    <tr style=\"text-align: right;\">\n      <th></th>\n      <th>Shares</th>\n      <th>Low</th>\n      <th>High</th>\n    </tr>\n    <tr>\n      <th>Symbol</th>\n      <th></th>\n      <th></th>\n      <th></th>\n    </tr>\n  </thead>\n  <tbody>\n    <tr>\n      <th>AAPL</th>\n      <td>80</td>\n      <td>95</td>\n      <td>110</td>\n    </tr>\n    <tr>\n      <th>TSLA</th>\n      <td>50</td>\n      <td>80</td>\n      <td>130</td>\n    </tr>\n    <tr>\n      <th>WMT</th>\n      <td>40</td>\n      <td>55</td>\n      <td>70</td>\n    </tr>\n  </tbody>\n</table>\n</div>"
     },
     "metadata": {},
     "execution_count": 18
    }
   ],
   "source": [
    "stocks_2016 = pd.read_csv('../data/stocks_2016.csv', index_col='Symbol')\n",
    "stocks_2017 = pd.read_csv('../data/stocks_2017.csv', index_col='Symbol')\n",
    "stocks_2016"
   ]
  },
  {
   "cell_type": "code",
   "execution_count": 19,
   "metadata": {},
   "outputs": [
    {
     "output_type": "execute_result",
     "data": {
      "text/plain": [
       "        Shares  Low  High\n",
       "Symbol                   \n",
       "AAPL        50  120   140\n",
       "GE         100   30    40\n",
       "IBM         87   75    95\n",
       "SLB         20   55    85\n",
       "TXN        500   15    23\n",
       "TSLA       100  100   300"
      ],
      "text/html": "<div>\n<style scoped>\n    .dataframe tbody tr th:only-of-type {\n        vertical-align: middle;\n    }\n\n    .dataframe tbody tr th {\n        vertical-align: top;\n    }\n\n    .dataframe thead th {\n        text-align: right;\n    }\n</style>\n<table border=\"1\" class=\"dataframe\">\n  <thead>\n    <tr style=\"text-align: right;\">\n      <th></th>\n      <th>Shares</th>\n      <th>Low</th>\n      <th>High</th>\n    </tr>\n    <tr>\n      <th>Symbol</th>\n      <th></th>\n      <th></th>\n      <th></th>\n    </tr>\n  </thead>\n  <tbody>\n    <tr>\n      <th>AAPL</th>\n      <td>50</td>\n      <td>120</td>\n      <td>140</td>\n    </tr>\n    <tr>\n      <th>GE</th>\n      <td>100</td>\n      <td>30</td>\n      <td>40</td>\n    </tr>\n    <tr>\n      <th>IBM</th>\n      <td>87</td>\n      <td>75</td>\n      <td>95</td>\n    </tr>\n    <tr>\n      <th>SLB</th>\n      <td>20</td>\n      <td>55</td>\n      <td>85</td>\n    </tr>\n    <tr>\n      <th>TXN</th>\n      <td>500</td>\n      <td>15</td>\n      <td>23</td>\n    </tr>\n    <tr>\n      <th>TSLA</th>\n      <td>100</td>\n      <td>100</td>\n      <td>300</td>\n    </tr>\n  </tbody>\n</table>\n</div>"
     },
     "metadata": {},
     "execution_count": 19
    }
   ],
   "source": [
    "stocks_2017"
   ]
  },
  {
   "cell_type": "code",
   "execution_count": 20,
   "metadata": {},
   "outputs": [
    {
     "output_type": "execute_result",
     "data": {
      "text/plain": [
       "        Shares  Low  High\n",
       "Symbol                   \n",
       "AAPL        80   95   110\n",
       "TSLA        50   80   130\n",
       "WMT         40   55    70\n",
       "AAPL        50  120   140\n",
       "GE         100   30    40\n",
       "IBM         87   75    95\n",
       "SLB         20   55    85\n",
       "TXN        500   15    23\n",
       "TSLA       100  100   300"
      ],
      "text/html": "<div>\n<style scoped>\n    .dataframe tbody tr th:only-of-type {\n        vertical-align: middle;\n    }\n\n    .dataframe tbody tr th {\n        vertical-align: top;\n    }\n\n    .dataframe thead th {\n        text-align: right;\n    }\n</style>\n<table border=\"1\" class=\"dataframe\">\n  <thead>\n    <tr style=\"text-align: right;\">\n      <th></th>\n      <th>Shares</th>\n      <th>Low</th>\n      <th>High</th>\n    </tr>\n    <tr>\n      <th>Symbol</th>\n      <th></th>\n      <th></th>\n      <th></th>\n    </tr>\n  </thead>\n  <tbody>\n    <tr>\n      <th>AAPL</th>\n      <td>80</td>\n      <td>95</td>\n      <td>110</td>\n    </tr>\n    <tr>\n      <th>TSLA</th>\n      <td>50</td>\n      <td>80</td>\n      <td>130</td>\n    </tr>\n    <tr>\n      <th>WMT</th>\n      <td>40</td>\n      <td>55</td>\n      <td>70</td>\n    </tr>\n    <tr>\n      <th>AAPL</th>\n      <td>50</td>\n      <td>120</td>\n      <td>140</td>\n    </tr>\n    <tr>\n      <th>GE</th>\n      <td>100</td>\n      <td>30</td>\n      <td>40</td>\n    </tr>\n    <tr>\n      <th>IBM</th>\n      <td>87</td>\n      <td>75</td>\n      <td>95</td>\n    </tr>\n    <tr>\n      <th>SLB</th>\n      <td>20</td>\n      <td>55</td>\n      <td>85</td>\n    </tr>\n    <tr>\n      <th>TXN</th>\n      <td>500</td>\n      <td>15</td>\n      <td>23</td>\n    </tr>\n    <tr>\n      <th>TSLA</th>\n      <td>100</td>\n      <td>100</td>\n      <td>300</td>\n    </tr>\n  </tbody>\n</table>\n</div>"
     },
     "metadata": {},
     "execution_count": 20
    }
   ],
   "source": [
    "s_list = [stocks_2016, stocks_2017]\n",
    "pd.concat(s_list)"
   ]
  },
  {
   "cell_type": "code",
   "execution_count": 21,
   "metadata": {},
   "outputs": [
    {
     "output_type": "execute_result",
     "data": {
      "text/plain": [
       "             Shares  Low  High\n",
       "Year Symbol                   \n",
       "2016 AAPL        80   95   110\n",
       "     TSLA        50   80   130\n",
       "     WMT         40   55    70\n",
       "2017 AAPL        50  120   140\n",
       "     GE         100   30    40\n",
       "     IBM         87   75    95\n",
       "     SLB         20   55    85\n",
       "     TXN        500   15    23\n",
       "     TSLA       100  100   300"
      ],
      "text/html": "<div>\n<style scoped>\n    .dataframe tbody tr th:only-of-type {\n        vertical-align: middle;\n    }\n\n    .dataframe tbody tr th {\n        vertical-align: top;\n    }\n\n    .dataframe thead th {\n        text-align: right;\n    }\n</style>\n<table border=\"1\" class=\"dataframe\">\n  <thead>\n    <tr style=\"text-align: right;\">\n      <th></th>\n      <th></th>\n      <th>Shares</th>\n      <th>Low</th>\n      <th>High</th>\n    </tr>\n    <tr>\n      <th>Year</th>\n      <th>Symbol</th>\n      <th></th>\n      <th></th>\n      <th></th>\n    </tr>\n  </thead>\n  <tbody>\n    <tr>\n      <th rowspan=\"3\" valign=\"top\">2016</th>\n      <th>AAPL</th>\n      <td>80</td>\n      <td>95</td>\n      <td>110</td>\n    </tr>\n    <tr>\n      <th>TSLA</th>\n      <td>50</td>\n      <td>80</td>\n      <td>130</td>\n    </tr>\n    <tr>\n      <th>WMT</th>\n      <td>40</td>\n      <td>55</td>\n      <td>70</td>\n    </tr>\n    <tr>\n      <th rowspan=\"6\" valign=\"top\">2017</th>\n      <th>AAPL</th>\n      <td>50</td>\n      <td>120</td>\n      <td>140</td>\n    </tr>\n    <tr>\n      <th>GE</th>\n      <td>100</td>\n      <td>30</td>\n      <td>40</td>\n    </tr>\n    <tr>\n      <th>IBM</th>\n      <td>87</td>\n      <td>75</td>\n      <td>95</td>\n    </tr>\n    <tr>\n      <th>SLB</th>\n      <td>20</td>\n      <td>55</td>\n      <td>85</td>\n    </tr>\n    <tr>\n      <th>TXN</th>\n      <td>500</td>\n      <td>15</td>\n      <td>23</td>\n    </tr>\n    <tr>\n      <th>TSLA</th>\n      <td>100</td>\n      <td>100</td>\n      <td>300</td>\n    </tr>\n  </tbody>\n</table>\n</div>"
     },
     "metadata": {},
     "execution_count": 21
    }
   ],
   "source": [
    "pd.concat(s_list, keys=['2016', '2017'], names=['Year', 'Symbol'])"
   ]
  },
  {
   "cell_type": "code",
   "execution_count": 22,
   "metadata": {},
   "outputs": [
    {
     "output_type": "execute_result",
     "data": {
      "text/plain": [
       "Year   2016                2017              \n",
       "     Shares   Low   High Shares    Low   High\n",
       "AAPL   80.0  95.0  110.0   50.0  120.0  140.0\n",
       "TSLA   50.0  80.0  130.0  100.0  100.0  300.0\n",
       "WMT    40.0  55.0   70.0    NaN    NaN    NaN\n",
       "GE      NaN   NaN    NaN  100.0   30.0   40.0\n",
       "IBM     NaN   NaN    NaN   87.0   75.0   95.0\n",
       "SLB     NaN   NaN    NaN   20.0   55.0   85.0\n",
       "TXN     NaN   NaN    NaN  500.0   15.0   23.0"
      ],
      "text/html": "<div>\n<style scoped>\n    .dataframe tbody tr th:only-of-type {\n        vertical-align: middle;\n    }\n\n    .dataframe tbody tr th {\n        vertical-align: top;\n    }\n\n    .dataframe thead tr th {\n        text-align: left;\n    }\n</style>\n<table border=\"1\" class=\"dataframe\">\n  <thead>\n    <tr>\n      <th>Year</th>\n      <th colspan=\"3\" halign=\"left\">2016</th>\n      <th colspan=\"3\" halign=\"left\">2017</th>\n    </tr>\n    <tr>\n      <th></th>\n      <th>Shares</th>\n      <th>Low</th>\n      <th>High</th>\n      <th>Shares</th>\n      <th>Low</th>\n      <th>High</th>\n    </tr>\n  </thead>\n  <tbody>\n    <tr>\n      <th>AAPL</th>\n      <td>80.0</td>\n      <td>95.0</td>\n      <td>110.0</td>\n      <td>50.0</td>\n      <td>120.0</td>\n      <td>140.0</td>\n    </tr>\n    <tr>\n      <th>TSLA</th>\n      <td>50.0</td>\n      <td>80.0</td>\n      <td>130.0</td>\n      <td>100.0</td>\n      <td>100.0</td>\n      <td>300.0</td>\n    </tr>\n    <tr>\n      <th>WMT</th>\n      <td>40.0</td>\n      <td>55.0</td>\n      <td>70.0</td>\n      <td>NaN</td>\n      <td>NaN</td>\n      <td>NaN</td>\n    </tr>\n    <tr>\n      <th>GE</th>\n      <td>NaN</td>\n      <td>NaN</td>\n      <td>NaN</td>\n      <td>100.0</td>\n      <td>30.0</td>\n      <td>40.0</td>\n    </tr>\n    <tr>\n      <th>IBM</th>\n      <td>NaN</td>\n      <td>NaN</td>\n      <td>NaN</td>\n      <td>87.0</td>\n      <td>75.0</td>\n      <td>95.0</td>\n    </tr>\n    <tr>\n      <th>SLB</th>\n      <td>NaN</td>\n      <td>NaN</td>\n      <td>NaN</td>\n      <td>20.0</td>\n      <td>55.0</td>\n      <td>85.0</td>\n    </tr>\n    <tr>\n      <th>TXN</th>\n      <td>NaN</td>\n      <td>NaN</td>\n      <td>NaN</td>\n      <td>500.0</td>\n      <td>15.0</td>\n      <td>23.0</td>\n    </tr>\n  </tbody>\n</table>\n</div>"
     },
     "metadata": {},
     "execution_count": 22
    }
   ],
   "source": [
    "pd.concat(s_list, keys=['2016', '2017'], axis='columns', names=['Year', None])"
   ]
  },
  {
   "cell_type": "code",
   "execution_count": 23,
   "metadata": {},
   "outputs": [
    {
     "output_type": "execute_result",
     "data": {
      "text/plain": [
       "Year     2016            2017          \n",
       "       Shares Low High Shares  Low High\n",
       "Symbol                                 \n",
       "AAPL       80  95  110     50  120  140\n",
       "TSLA       50  80  130    100  100  300"
      ],
      "text/html": "<div>\n<style scoped>\n    .dataframe tbody tr th:only-of-type {\n        vertical-align: middle;\n    }\n\n    .dataframe tbody tr th {\n        vertical-align: top;\n    }\n\n    .dataframe thead tr th {\n        text-align: left;\n    }\n\n    .dataframe thead tr:last-of-type th {\n        text-align: right;\n    }\n</style>\n<table border=\"1\" class=\"dataframe\">\n  <thead>\n    <tr>\n      <th>Year</th>\n      <th colspan=\"3\" halign=\"left\">2016</th>\n      <th colspan=\"3\" halign=\"left\">2017</th>\n    </tr>\n    <tr>\n      <th></th>\n      <th>Shares</th>\n      <th>Low</th>\n      <th>High</th>\n      <th>Shares</th>\n      <th>Low</th>\n      <th>High</th>\n    </tr>\n    <tr>\n      <th>Symbol</th>\n      <th></th>\n      <th></th>\n      <th></th>\n      <th></th>\n      <th></th>\n      <th></th>\n    </tr>\n  </thead>\n  <tbody>\n    <tr>\n      <th>AAPL</th>\n      <td>80</td>\n      <td>95</td>\n      <td>110</td>\n      <td>50</td>\n      <td>120</td>\n      <td>140</td>\n    </tr>\n    <tr>\n      <th>TSLA</th>\n      <td>50</td>\n      <td>80</td>\n      <td>130</td>\n      <td>100</td>\n      <td>100</td>\n      <td>300</td>\n    </tr>\n  </tbody>\n</table>\n</div>"
     },
     "metadata": {},
     "execution_count": 23
    }
   ],
   "source": [
    "pd.concat(s_list, join='inner', keys=['2016', '2017'], axis='columns', names=['Year', None])"
   ]
  },
  {
   "cell_type": "code",
   "execution_count": 24,
   "metadata": {},
   "outputs": [
    {
     "output_type": "execute_result",
     "data": {
      "text/plain": [
       "        Shares  Low  High\n",
       "Symbol                   \n",
       "AAPL        80   95   110\n",
       "TSLA        50   80   130\n",
       "WMT         40   55    70\n",
       "AAPL        50  120   140\n",
       "GE         100   30    40\n",
       "IBM         87   75    95\n",
       "SLB         20   55    85\n",
       "TXN        500   15    23\n",
       "TSLA       100  100   300"
      ],
      "text/html": "<div>\n<style scoped>\n    .dataframe tbody tr th:only-of-type {\n        vertical-align: middle;\n    }\n\n    .dataframe tbody tr th {\n        vertical-align: top;\n    }\n\n    .dataframe thead th {\n        text-align: right;\n    }\n</style>\n<table border=\"1\" class=\"dataframe\">\n  <thead>\n    <tr style=\"text-align: right;\">\n      <th></th>\n      <th>Shares</th>\n      <th>Low</th>\n      <th>High</th>\n    </tr>\n    <tr>\n      <th>Symbol</th>\n      <th></th>\n      <th></th>\n      <th></th>\n    </tr>\n  </thead>\n  <tbody>\n    <tr>\n      <th>AAPL</th>\n      <td>80</td>\n      <td>95</td>\n      <td>110</td>\n    </tr>\n    <tr>\n      <th>TSLA</th>\n      <td>50</td>\n      <td>80</td>\n      <td>130</td>\n    </tr>\n    <tr>\n      <th>WMT</th>\n      <td>40</td>\n      <td>55</td>\n      <td>70</td>\n    </tr>\n    <tr>\n      <th>AAPL</th>\n      <td>50</td>\n      <td>120</td>\n      <td>140</td>\n    </tr>\n    <tr>\n      <th>GE</th>\n      <td>100</td>\n      <td>30</td>\n      <td>40</td>\n    </tr>\n    <tr>\n      <th>IBM</th>\n      <td>87</td>\n      <td>75</td>\n      <td>95</td>\n    </tr>\n    <tr>\n      <th>SLB</th>\n      <td>20</td>\n      <td>55</td>\n      <td>85</td>\n    </tr>\n    <tr>\n      <th>TXN</th>\n      <td>500</td>\n      <td>15</td>\n      <td>23</td>\n    </tr>\n    <tr>\n      <th>TSLA</th>\n      <td>100</td>\n      <td>100</td>\n      <td>300</td>\n    </tr>\n  </tbody>\n</table>\n</div>"
     },
     "metadata": {},
     "execution_count": 24
    }
   ],
   "source": [
    "stocks_2016.append(stocks_2017)\n"
   ]
  },
  {
   "source": [
    "## 트럼프와 오바마 대통령 국정 수행 능력 비교\n"
   ],
   "cell_type": "markdown",
   "metadata": {}
  },
  {
   "source": [
    "## concat, join, merge 사이의 차이점 이해하기\n"
   ],
   "cell_type": "markdown",
   "metadata": {}
  },
  {
   "cell_type": "code",
   "execution_count": 25,
   "metadata": {},
   "outputs": [
    {
     "output_type": "display_data",
     "data": {
      "text/html": "<table style=\"display: inline;\" border=\"1\" class=\"dataframe\">\n  <thead>\n    <tr style=\"text-align: right;\">\n      <th></th>\n      <th>Shares</th>\n      <th>Low</th>\n      <th>High</th>\n    </tr>\n    <tr>\n      <th>Symbol</th>\n      <th></th>\n      <th></th>\n      <th></th>\n    </tr>\n  </thead>\n  <tbody>\n    <tr>\n      <th>AAPL</th>\n      <td>80</td>\n      <td>95</td>\n      <td>110</td>\n    </tr>\n    <tr>\n      <th>TSLA</th>\n      <td>50</td>\n      <td>80</td>\n      <td>130</td>\n    </tr>\n    <tr>\n      <th>WMT</th>\n      <td>40</td>\n      <td>55</td>\n      <td>70</td>\n    </tr>\n  </tbody>\n</table>&nbsp;&nbsp;&nbsp;&nbsp;&nbsp;&nbsp;&nbsp;&nbsp;&nbsp;&nbsp;&nbsp;&nbsp;&nbsp;&nbsp;&nbsp;&nbsp;&nbsp;&nbsp;&nbsp;&nbsp;&nbsp;&nbsp;&nbsp;&nbsp;&nbsp;&nbsp;&nbsp;&nbsp;&nbsp;&nbsp;<table style=\"display: inline;\" border=\"1\" class=\"dataframe\">\n  <thead>\n    <tr style=\"text-align: right;\">\n      <th></th>\n      <th>Shares</th>\n      <th>Low</th>\n      <th>High</th>\n    </tr>\n    <tr>\n      <th>Symbol</th>\n      <th></th>\n      <th></th>\n      <th></th>\n    </tr>\n  </thead>\n  <tbody>\n    <tr>\n      <th>AAPL</th>\n      <td>50</td>\n      <td>120</td>\n      <td>140</td>\n    </tr>\n    <tr>\n      <th>GE</th>\n      <td>100</td>\n      <td>30</td>\n      <td>40</td>\n    </tr>\n    <tr>\n      <th>IBM</th>\n      <td>87</td>\n      <td>75</td>\n      <td>95</td>\n    </tr>\n    <tr>\n      <th>SLB</th>\n      <td>20</td>\n      <td>55</td>\n      <td>85</td>\n    </tr>\n    <tr>\n      <th>TXN</th>\n      <td>500</td>\n      <td>15</td>\n      <td>23</td>\n    </tr>\n    <tr>\n      <th>TSLA</th>\n      <td>100</td>\n      <td>100</td>\n      <td>300</td>\n    </tr>\n  </tbody>\n</table>&nbsp;&nbsp;&nbsp;&nbsp;&nbsp;&nbsp;&nbsp;&nbsp;&nbsp;&nbsp;&nbsp;&nbsp;&nbsp;&nbsp;&nbsp;&nbsp;&nbsp;&nbsp;&nbsp;&nbsp;&nbsp;&nbsp;&nbsp;&nbsp;&nbsp;&nbsp;&nbsp;&nbsp;&nbsp;&nbsp;<table style=\"display: inline;\" border=\"1\" class=\"dataframe\">\n  <thead>\n    <tr style=\"text-align: right;\">\n      <th></th>\n      <th>Shares</th>\n      <th>Low</th>\n      <th>High</th>\n    </tr>\n    <tr>\n      <th>Symbol</th>\n      <th></th>\n      <th></th>\n      <th></th>\n    </tr>\n  </thead>\n  <tbody>\n    <tr>\n      <th>AAPL</th>\n      <td>40</td>\n      <td>135</td>\n      <td>170</td>\n    </tr>\n    <tr>\n      <th>AMZN</th>\n      <td>8</td>\n      <td>900</td>\n      <td>1125</td>\n    </tr>\n    <tr>\n      <th>TSLA</th>\n      <td>50</td>\n      <td>220</td>\n      <td>400</td>\n    </tr>\n  </tbody>\n</table>"
     },
     "metadata": {}
    }
   ],
   "source": [
    " from IPython.display import display_html\n",
    "\n",
    "years = 2016, 2017, 2018\n",
    "stock_tables = [pd.read_csv('../data/stocks_{}.csv'.format(year), index_col='Symbol') \n",
    "                for year in years]\n",
    "\n",
    "def display_frames(frames, num_spaces=0):\n",
    "    t_style = '<table style=\"display: inline;\"'\n",
    "    tables_html = [df.to_html().replace('<table', t_style) for df in frames]\n",
    "\n",
    "    space = '&nbsp;' * num_spaces\n",
    "    display_html(space.join(tables_html), raw=True)\n",
    "\n",
    "display_frames(stock_tables, 30)\n",
    "stocks_2016, stocks_2017, stocks_2018 = stock_tables\n"
   ]
  },
  {
   "cell_type": "code",
   "execution_count": 26,
   "metadata": {},
   "outputs": [
    {
     "output_type": "execute_result",
     "data": {
      "text/plain": [
       "             Shares  Low  High\n",
       "     Symbol                   \n",
       "2016 AAPL        80   95   110\n",
       "     TSLA        50   80   130\n",
       "     WMT         40   55    70\n",
       "2017 AAPL        50  120   140\n",
       "     GE         100   30    40\n",
       "     IBM         87   75    95\n",
       "     SLB         20   55    85\n",
       "     TXN        500   15    23\n",
       "     TSLA       100  100   300\n",
       "2018 AAPL        40  135   170\n",
       "     AMZN         8  900  1125\n",
       "     TSLA        50  220   400"
      ],
      "text/html": "<div>\n<style scoped>\n    .dataframe tbody tr th:only-of-type {\n        vertical-align: middle;\n    }\n\n    .dataframe tbody tr th {\n        vertical-align: top;\n    }\n\n    .dataframe thead th {\n        text-align: right;\n    }\n</style>\n<table border=\"1\" class=\"dataframe\">\n  <thead>\n    <tr style=\"text-align: right;\">\n      <th></th>\n      <th></th>\n      <th>Shares</th>\n      <th>Low</th>\n      <th>High</th>\n    </tr>\n    <tr>\n      <th></th>\n      <th>Symbol</th>\n      <th></th>\n      <th></th>\n      <th></th>\n    </tr>\n  </thead>\n  <tbody>\n    <tr>\n      <th rowspan=\"3\" valign=\"top\">2016</th>\n      <th>AAPL</th>\n      <td>80</td>\n      <td>95</td>\n      <td>110</td>\n    </tr>\n    <tr>\n      <th>TSLA</th>\n      <td>50</td>\n      <td>80</td>\n      <td>130</td>\n    </tr>\n    <tr>\n      <th>WMT</th>\n      <td>40</td>\n      <td>55</td>\n      <td>70</td>\n    </tr>\n    <tr>\n      <th rowspan=\"6\" valign=\"top\">2017</th>\n      <th>AAPL</th>\n      <td>50</td>\n      <td>120</td>\n      <td>140</td>\n    </tr>\n    <tr>\n      <th>GE</th>\n      <td>100</td>\n      <td>30</td>\n      <td>40</td>\n    </tr>\n    <tr>\n      <th>IBM</th>\n      <td>87</td>\n      <td>75</td>\n      <td>95</td>\n    </tr>\n    <tr>\n      <th>SLB</th>\n      <td>20</td>\n      <td>55</td>\n      <td>85</td>\n    </tr>\n    <tr>\n      <th>TXN</th>\n      <td>500</td>\n      <td>15</td>\n      <td>23</td>\n    </tr>\n    <tr>\n      <th>TSLA</th>\n      <td>100</td>\n      <td>100</td>\n      <td>300</td>\n    </tr>\n    <tr>\n      <th rowspan=\"3\" valign=\"top\">2018</th>\n      <th>AAPL</th>\n      <td>40</td>\n      <td>135</td>\n      <td>170</td>\n    </tr>\n    <tr>\n      <th>AMZN</th>\n      <td>8</td>\n      <td>900</td>\n      <td>1125</td>\n    </tr>\n    <tr>\n      <th>TSLA</th>\n      <td>50</td>\n      <td>220</td>\n      <td>400</td>\n    </tr>\n  </tbody>\n</table>\n</div>"
     },
     "metadata": {},
     "execution_count": 26
    }
   ],
   "source": [
    "pd.concat(stock_tables, keys=[2016, 2017, 2018])"
   ]
  },
  {
   "cell_type": "code",
   "execution_count": 27,
   "metadata": {},
   "outputs": [
    {
     "output_type": "execute_result",
     "data": {
      "text/plain": [
       "       2016                2017                 2018               \n",
       "     Shares   Low   High Shares    Low   High Shares    Low    High\n",
       "AAPL   80.0  95.0  110.0   50.0  120.0  140.0   40.0  135.0   170.0\n",
       "TSLA   50.0  80.0  130.0  100.0  100.0  300.0   50.0  220.0   400.0\n",
       "WMT    40.0  55.0   70.0    NaN    NaN    NaN    NaN    NaN     NaN\n",
       "GE      NaN   NaN    NaN  100.0   30.0   40.0    NaN    NaN     NaN\n",
       "IBM     NaN   NaN    NaN   87.0   75.0   95.0    NaN    NaN     NaN\n",
       "SLB     NaN   NaN    NaN   20.0   55.0   85.0    NaN    NaN     NaN\n",
       "TXN     NaN   NaN    NaN  500.0   15.0   23.0    NaN    NaN     NaN\n",
       "AMZN    NaN   NaN    NaN    NaN    NaN    NaN    8.0  900.0  1125.0"
      ],
      "text/html": "<div>\n<style scoped>\n    .dataframe tbody tr th:only-of-type {\n        vertical-align: middle;\n    }\n\n    .dataframe tbody tr th {\n        vertical-align: top;\n    }\n\n    .dataframe thead tr th {\n        text-align: left;\n    }\n</style>\n<table border=\"1\" class=\"dataframe\">\n  <thead>\n    <tr>\n      <th></th>\n      <th colspan=\"3\" halign=\"left\">2016</th>\n      <th colspan=\"3\" halign=\"left\">2017</th>\n      <th colspan=\"3\" halign=\"left\">2018</th>\n    </tr>\n    <tr>\n      <th></th>\n      <th>Shares</th>\n      <th>Low</th>\n      <th>High</th>\n      <th>Shares</th>\n      <th>Low</th>\n      <th>High</th>\n      <th>Shares</th>\n      <th>Low</th>\n      <th>High</th>\n    </tr>\n  </thead>\n  <tbody>\n    <tr>\n      <th>AAPL</th>\n      <td>80.0</td>\n      <td>95.0</td>\n      <td>110.0</td>\n      <td>50.0</td>\n      <td>120.0</td>\n      <td>140.0</td>\n      <td>40.0</td>\n      <td>135.0</td>\n      <td>170.0</td>\n    </tr>\n    <tr>\n      <th>TSLA</th>\n      <td>50.0</td>\n      <td>80.0</td>\n      <td>130.0</td>\n      <td>100.0</td>\n      <td>100.0</td>\n      <td>300.0</td>\n      <td>50.0</td>\n      <td>220.0</td>\n      <td>400.0</td>\n    </tr>\n    <tr>\n      <th>WMT</th>\n      <td>40.0</td>\n      <td>55.0</td>\n      <td>70.0</td>\n      <td>NaN</td>\n      <td>NaN</td>\n      <td>NaN</td>\n      <td>NaN</td>\n      <td>NaN</td>\n      <td>NaN</td>\n    </tr>\n    <tr>\n      <th>GE</th>\n      <td>NaN</td>\n      <td>NaN</td>\n      <td>NaN</td>\n      <td>100.0</td>\n      <td>30.0</td>\n      <td>40.0</td>\n      <td>NaN</td>\n      <td>NaN</td>\n      <td>NaN</td>\n    </tr>\n    <tr>\n      <th>IBM</th>\n      <td>NaN</td>\n      <td>NaN</td>\n      <td>NaN</td>\n      <td>87.0</td>\n      <td>75.0</td>\n      <td>95.0</td>\n      <td>NaN</td>\n      <td>NaN</td>\n      <td>NaN</td>\n    </tr>\n    <tr>\n      <th>SLB</th>\n      <td>NaN</td>\n      <td>NaN</td>\n      <td>NaN</td>\n      <td>20.0</td>\n      <td>55.0</td>\n      <td>85.0</td>\n      <td>NaN</td>\n      <td>NaN</td>\n      <td>NaN</td>\n    </tr>\n    <tr>\n      <th>TXN</th>\n      <td>NaN</td>\n      <td>NaN</td>\n      <td>NaN</td>\n      <td>500.0</td>\n      <td>15.0</td>\n      <td>23.0</td>\n      <td>NaN</td>\n      <td>NaN</td>\n      <td>NaN</td>\n    </tr>\n    <tr>\n      <th>AMZN</th>\n      <td>NaN</td>\n      <td>NaN</td>\n      <td>NaN</td>\n      <td>NaN</td>\n      <td>NaN</td>\n      <td>NaN</td>\n      <td>8.0</td>\n      <td>900.0</td>\n      <td>1125.0</td>\n    </tr>\n  </tbody>\n</table>\n</div>"
     },
     "metadata": {},
     "execution_count": 27
    }
   ],
   "source": [
    "pd.concat(dict(zip(years,stock_tables)), axis='columns')"
   ]
  },
  {
   "cell_type": "code",
   "execution_count": 28,
   "metadata": {},
   "outputs": [
    {
     "output_type": "execute_result",
     "data": {
      "text/plain": [
       "        Shares_2016  Low_2016  High_2016  Shares_2017  Low_2017  High_2017\n",
       "Symbol                                                                    \n",
       "AAPL           80.0      95.0      110.0         50.0     120.0      140.0\n",
       "GE              NaN       NaN        NaN        100.0      30.0       40.0\n",
       "IBM             NaN       NaN        NaN         87.0      75.0       95.0\n",
       "SLB             NaN       NaN        NaN         20.0      55.0       85.0\n",
       "TSLA           50.0      80.0      130.0        100.0     100.0      300.0\n",
       "TXN             NaN       NaN        NaN        500.0      15.0       23.0\n",
       "WMT            40.0      55.0       70.0          NaN       NaN        NaN"
      ],
      "text/html": "<div>\n<style scoped>\n    .dataframe tbody tr th:only-of-type {\n        vertical-align: middle;\n    }\n\n    .dataframe tbody tr th {\n        vertical-align: top;\n    }\n\n    .dataframe thead th {\n        text-align: right;\n    }\n</style>\n<table border=\"1\" class=\"dataframe\">\n  <thead>\n    <tr style=\"text-align: right;\">\n      <th></th>\n      <th>Shares_2016</th>\n      <th>Low_2016</th>\n      <th>High_2016</th>\n      <th>Shares_2017</th>\n      <th>Low_2017</th>\n      <th>High_2017</th>\n    </tr>\n    <tr>\n      <th>Symbol</th>\n      <th></th>\n      <th></th>\n      <th></th>\n      <th></th>\n      <th></th>\n      <th></th>\n    </tr>\n  </thead>\n  <tbody>\n    <tr>\n      <th>AAPL</th>\n      <td>80.0</td>\n      <td>95.0</td>\n      <td>110.0</td>\n      <td>50.0</td>\n      <td>120.0</td>\n      <td>140.0</td>\n    </tr>\n    <tr>\n      <th>GE</th>\n      <td>NaN</td>\n      <td>NaN</td>\n      <td>NaN</td>\n      <td>100.0</td>\n      <td>30.0</td>\n      <td>40.0</td>\n    </tr>\n    <tr>\n      <th>IBM</th>\n      <td>NaN</td>\n      <td>NaN</td>\n      <td>NaN</td>\n      <td>87.0</td>\n      <td>75.0</td>\n      <td>95.0</td>\n    </tr>\n    <tr>\n      <th>SLB</th>\n      <td>NaN</td>\n      <td>NaN</td>\n      <td>NaN</td>\n      <td>20.0</td>\n      <td>55.0</td>\n      <td>85.0</td>\n    </tr>\n    <tr>\n      <th>TSLA</th>\n      <td>50.0</td>\n      <td>80.0</td>\n      <td>130.0</td>\n      <td>100.0</td>\n      <td>100.0</td>\n      <td>300.0</td>\n    </tr>\n    <tr>\n      <th>TXN</th>\n      <td>NaN</td>\n      <td>NaN</td>\n      <td>NaN</td>\n      <td>500.0</td>\n      <td>15.0</td>\n      <td>23.0</td>\n    </tr>\n    <tr>\n      <th>WMT</th>\n      <td>40.0</td>\n      <td>55.0</td>\n      <td>70.0</td>\n      <td>NaN</td>\n      <td>NaN</td>\n      <td>NaN</td>\n    </tr>\n  </tbody>\n</table>\n</div>"
     },
     "metadata": {},
     "execution_count": 28
    }
   ],
   "source": [
    "stocks_2016.join(stocks_2017, lsuffix='_2016', rsuffix='_2017', how='outer') # suffix for same column name"
   ]
  },
  {
   "cell_type": "code",
   "execution_count": 29,
   "metadata": {},
   "outputs": [
    {
     "output_type": "execute_result",
     "data": {
      "text/plain": [
       "      Shares_2016  Low_2016  High_2016  Shares_2017  Low_2017  High_2017  \\\n",
       "AAPL         80.0      95.0      110.0         50.0     120.0      140.0   \n",
       "TSLA         50.0      80.0      130.0        100.0     100.0      300.0   \n",
       "WMT          40.0      55.0       70.0          NaN       NaN        NaN   \n",
       "GE            NaN       NaN        NaN        100.0      30.0       40.0   \n",
       "IBM           NaN       NaN        NaN         87.0      75.0       95.0   \n",
       "SLB           NaN       NaN        NaN         20.0      55.0       85.0   \n",
       "TXN           NaN       NaN        NaN        500.0      15.0       23.0   \n",
       "AMZN          NaN       NaN        NaN          NaN       NaN        NaN   \n",
       "\n",
       "      Shares_2018  Low_2018  High_2018  \n",
       "AAPL         40.0     135.0      170.0  \n",
       "TSLA         50.0     220.0      400.0  \n",
       "WMT           NaN       NaN        NaN  \n",
       "GE            NaN       NaN        NaN  \n",
       "IBM           NaN       NaN        NaN  \n",
       "SLB           NaN       NaN        NaN  \n",
       "TXN           NaN       NaN        NaN  \n",
       "AMZN          8.0     900.0     1125.0  "
      ],
      "text/html": "<div>\n<style scoped>\n    .dataframe tbody tr th:only-of-type {\n        vertical-align: middle;\n    }\n\n    .dataframe tbody tr th {\n        vertical-align: top;\n    }\n\n    .dataframe thead th {\n        text-align: right;\n    }\n</style>\n<table border=\"1\" class=\"dataframe\">\n  <thead>\n    <tr style=\"text-align: right;\">\n      <th></th>\n      <th>Shares_2016</th>\n      <th>Low_2016</th>\n      <th>High_2016</th>\n      <th>Shares_2017</th>\n      <th>Low_2017</th>\n      <th>High_2017</th>\n      <th>Shares_2018</th>\n      <th>Low_2018</th>\n      <th>High_2018</th>\n    </tr>\n  </thead>\n  <tbody>\n    <tr>\n      <th>AAPL</th>\n      <td>80.0</td>\n      <td>95.0</td>\n      <td>110.0</td>\n      <td>50.0</td>\n      <td>120.0</td>\n      <td>140.0</td>\n      <td>40.0</td>\n      <td>135.0</td>\n      <td>170.0</td>\n    </tr>\n    <tr>\n      <th>TSLA</th>\n      <td>50.0</td>\n      <td>80.0</td>\n      <td>130.0</td>\n      <td>100.0</td>\n      <td>100.0</td>\n      <td>300.0</td>\n      <td>50.0</td>\n      <td>220.0</td>\n      <td>400.0</td>\n    </tr>\n    <tr>\n      <th>WMT</th>\n      <td>40.0</td>\n      <td>55.0</td>\n      <td>70.0</td>\n      <td>NaN</td>\n      <td>NaN</td>\n      <td>NaN</td>\n      <td>NaN</td>\n      <td>NaN</td>\n      <td>NaN</td>\n    </tr>\n    <tr>\n      <th>GE</th>\n      <td>NaN</td>\n      <td>NaN</td>\n      <td>NaN</td>\n      <td>100.0</td>\n      <td>30.0</td>\n      <td>40.0</td>\n      <td>NaN</td>\n      <td>NaN</td>\n      <td>NaN</td>\n    </tr>\n    <tr>\n      <th>IBM</th>\n      <td>NaN</td>\n      <td>NaN</td>\n      <td>NaN</td>\n      <td>87.0</td>\n      <td>75.0</td>\n      <td>95.0</td>\n      <td>NaN</td>\n      <td>NaN</td>\n      <td>NaN</td>\n    </tr>\n    <tr>\n      <th>SLB</th>\n      <td>NaN</td>\n      <td>NaN</td>\n      <td>NaN</td>\n      <td>20.0</td>\n      <td>55.0</td>\n      <td>85.0</td>\n      <td>NaN</td>\n      <td>NaN</td>\n      <td>NaN</td>\n    </tr>\n    <tr>\n      <th>TXN</th>\n      <td>NaN</td>\n      <td>NaN</td>\n      <td>NaN</td>\n      <td>500.0</td>\n      <td>15.0</td>\n      <td>23.0</td>\n      <td>NaN</td>\n      <td>NaN</td>\n      <td>NaN</td>\n    </tr>\n    <tr>\n      <th>AMZN</th>\n      <td>NaN</td>\n      <td>NaN</td>\n      <td>NaN</td>\n      <td>NaN</td>\n      <td>NaN</td>\n      <td>NaN</td>\n      <td>8.0</td>\n      <td>900.0</td>\n      <td>1125.0</td>\n    </tr>\n  </tbody>\n</table>\n</div>"
     },
     "metadata": {},
     "execution_count": 29
    }
   ],
   "source": [
    "other = [stocks_2017.add_suffix('_2017'), stocks_2018.add_suffix('_2018')]\n",
    "stocks_2016.add_suffix('_2016').join(other, how='outer')"
   ]
  },
  {
   "cell_type": "code",
   "execution_count": 30,
   "metadata": {},
   "outputs": [
    {
     "output_type": "execute_result",
     "data": {
      "text/plain": [
       "      Shares_2016  Low_2016  High_2016  Shares_2017  Low_2017  High_2017  \\\n",
       "AAPL         80.0      95.0      110.0         50.0     120.0      140.0   \n",
       "TSLA         50.0      80.0      130.0        100.0     100.0      300.0   \n",
       "WMT          40.0      55.0       70.0          NaN       NaN        NaN   \n",
       "GE            NaN       NaN        NaN        100.0      30.0       40.0   \n",
       "IBM           NaN       NaN        NaN         87.0      75.0       95.0   \n",
       "SLB           NaN       NaN        NaN         20.0      55.0       85.0   \n",
       "TXN           NaN       NaN        NaN        500.0      15.0       23.0   \n",
       "AMZN          NaN       NaN        NaN          NaN       NaN        NaN   \n",
       "\n",
       "      Shares_2018  Low_2018  High_2018  \n",
       "AAPL         40.0     135.0      170.0  \n",
       "TSLA         50.0     220.0      400.0  \n",
       "WMT           NaN       NaN        NaN  \n",
       "GE            NaN       NaN        NaN  \n",
       "IBM           NaN       NaN        NaN  \n",
       "SLB           NaN       NaN        NaN  \n",
       "TXN           NaN       NaN        NaN  \n",
       "AMZN          8.0     900.0     1125.0  "
      ],
      "text/html": "<div>\n<style scoped>\n    .dataframe tbody tr th:only-of-type {\n        vertical-align: middle;\n    }\n\n    .dataframe tbody tr th {\n        vertical-align: top;\n    }\n\n    .dataframe thead th {\n        text-align: right;\n    }\n</style>\n<table border=\"1\" class=\"dataframe\">\n  <thead>\n    <tr style=\"text-align: right;\">\n      <th></th>\n      <th>Shares_2016</th>\n      <th>Low_2016</th>\n      <th>High_2016</th>\n      <th>Shares_2017</th>\n      <th>Low_2017</th>\n      <th>High_2017</th>\n      <th>Shares_2018</th>\n      <th>Low_2018</th>\n      <th>High_2018</th>\n    </tr>\n  </thead>\n  <tbody>\n    <tr>\n      <th>AAPL</th>\n      <td>80.0</td>\n      <td>95.0</td>\n      <td>110.0</td>\n      <td>50.0</td>\n      <td>120.0</td>\n      <td>140.0</td>\n      <td>40.0</td>\n      <td>135.0</td>\n      <td>170.0</td>\n    </tr>\n    <tr>\n      <th>TSLA</th>\n      <td>50.0</td>\n      <td>80.0</td>\n      <td>130.0</td>\n      <td>100.0</td>\n      <td>100.0</td>\n      <td>300.0</td>\n      <td>50.0</td>\n      <td>220.0</td>\n      <td>400.0</td>\n    </tr>\n    <tr>\n      <th>WMT</th>\n      <td>40.0</td>\n      <td>55.0</td>\n      <td>70.0</td>\n      <td>NaN</td>\n      <td>NaN</td>\n      <td>NaN</td>\n      <td>NaN</td>\n      <td>NaN</td>\n      <td>NaN</td>\n    </tr>\n    <tr>\n      <th>GE</th>\n      <td>NaN</td>\n      <td>NaN</td>\n      <td>NaN</td>\n      <td>100.0</td>\n      <td>30.0</td>\n      <td>40.0</td>\n      <td>NaN</td>\n      <td>NaN</td>\n      <td>NaN</td>\n    </tr>\n    <tr>\n      <th>IBM</th>\n      <td>NaN</td>\n      <td>NaN</td>\n      <td>NaN</td>\n      <td>87.0</td>\n      <td>75.0</td>\n      <td>95.0</td>\n      <td>NaN</td>\n      <td>NaN</td>\n      <td>NaN</td>\n    </tr>\n    <tr>\n      <th>SLB</th>\n      <td>NaN</td>\n      <td>NaN</td>\n      <td>NaN</td>\n      <td>20.0</td>\n      <td>55.0</td>\n      <td>85.0</td>\n      <td>NaN</td>\n      <td>NaN</td>\n      <td>NaN</td>\n    </tr>\n    <tr>\n      <th>TXN</th>\n      <td>NaN</td>\n      <td>NaN</td>\n      <td>NaN</td>\n      <td>500.0</td>\n      <td>15.0</td>\n      <td>23.0</td>\n      <td>NaN</td>\n      <td>NaN</td>\n      <td>NaN</td>\n    </tr>\n    <tr>\n      <th>AMZN</th>\n      <td>NaN</td>\n      <td>NaN</td>\n      <td>NaN</td>\n      <td>NaN</td>\n      <td>NaN</td>\n      <td>NaN</td>\n      <td>8.0</td>\n      <td>900.0</td>\n      <td>1125.0</td>\n    </tr>\n  </tbody>\n</table>\n</div>"
     },
     "metadata": {},
     "execution_count": 30
    }
   ],
   "source": [
    "stock_join = stocks_2016.add_suffix('_2016').join(other, how='outer')\n",
    "stock_concat = pd.concat(dict(zip(years,stock_tables)), axis='columns')\n",
    "stock_concat.columns = stock_concat.columns.get_level_values(1) + '_' + \\\n",
    "                            stock_concat.columns.get_level_values(0).astype(str)\n",
    "stock_concat"
   ]
  },
  {
   "cell_type": "code",
   "execution_count": 31,
   "metadata": {},
   "outputs": [
    {
     "output_type": "execute_result",
     "data": {
      "text/plain": [
       "True"
      ]
     },
     "metadata": {},
     "execution_count": 31
    }
   ],
   "source": [
    "stock_join.equals(stock_concat)"
   ]
  },
  {
   "cell_type": "code",
   "execution_count": 32,
   "metadata": {},
   "outputs": [
    {
     "output_type": "execute_result",
     "data": {
      "text/plain": [
       "        Shares_x  Low_x  High_x  Shares_y  Low_y  High_y\n",
       "Symbol                                                  \n",
       "AAPL          80     95     110        50    120     140\n",
       "TSLA          50     80     130       100    100     300"
      ],
      "text/html": "<div>\n<style scoped>\n    .dataframe tbody tr th:only-of-type {\n        vertical-align: middle;\n    }\n\n    .dataframe tbody tr th {\n        vertical-align: top;\n    }\n\n    .dataframe thead th {\n        text-align: right;\n    }\n</style>\n<table border=\"1\" class=\"dataframe\">\n  <thead>\n    <tr style=\"text-align: right;\">\n      <th></th>\n      <th>Shares_x</th>\n      <th>Low_x</th>\n      <th>High_x</th>\n      <th>Shares_y</th>\n      <th>Low_y</th>\n      <th>High_y</th>\n    </tr>\n    <tr>\n      <th>Symbol</th>\n      <th></th>\n      <th></th>\n      <th></th>\n      <th></th>\n      <th></th>\n      <th></th>\n    </tr>\n  </thead>\n  <tbody>\n    <tr>\n      <th>AAPL</th>\n      <td>80</td>\n      <td>95</td>\n      <td>110</td>\n      <td>50</td>\n      <td>120</td>\n      <td>140</td>\n    </tr>\n    <tr>\n      <th>TSLA</th>\n      <td>50</td>\n      <td>80</td>\n      <td>130</td>\n      <td>100</td>\n      <td>100</td>\n      <td>300</td>\n    </tr>\n  </tbody>\n</table>\n</div>"
     },
     "metadata": {},
     "execution_count": 32
    }
   ],
   "source": [
    "stocks_2016.merge(stocks_2017, left_index = True, right_index = True)"
   ]
  },
  {
   "cell_type": "code",
   "execution_count": 33,
   "metadata": {},
   "outputs": [
    {
     "output_type": "execute_result",
     "data": {
      "text/plain": [
       "False"
      ]
     },
     "metadata": {},
     "execution_count": 33
    }
   ],
   "source": [
    "step1 = stocks_2016.merge(stocks_2017, left_index=True, right_index=True, \n",
    "                          how='outer', suffixes=('_2016', '_2017'))\n",
    "stock_merge = step1.merge(stocks_2018.add_suffix('_2018'), \n",
    "                          left_index=True, right_index=True, how='outer')\n",
    "\n",
    "stock_concat.equals(stock_merge) #?"
   ]
  },
  {
   "cell_type": "code",
   "execution_count": 34,
   "metadata": {},
   "outputs": [
    {
     "output_type": "execute_result",
     "data": {
      "text/plain": [
       "        Shares_2016  Low_2016  High_2016  Shares_2017  Low_2017  High_2017  \\\n",
       "Symbol                                                                       \n",
       "AAPL           80.0      95.0      110.0         50.0     120.0      140.0   \n",
       "AMZN            NaN       NaN        NaN          NaN       NaN        NaN   \n",
       "GE              NaN       NaN        NaN        100.0      30.0       40.0   \n",
       "IBM             NaN       NaN        NaN         87.0      75.0       95.0   \n",
       "SLB             NaN       NaN        NaN         20.0      55.0       85.0   \n",
       "TSLA           50.0      80.0      130.0        100.0     100.0      300.0   \n",
       "TXN             NaN       NaN        NaN        500.0      15.0       23.0   \n",
       "WMT            40.0      55.0       70.0          NaN       NaN        NaN   \n",
       "\n",
       "        Shares_2018  Low_2018  High_2018  \n",
       "Symbol                                    \n",
       "AAPL           40.0     135.0      170.0  \n",
       "AMZN            8.0     900.0     1125.0  \n",
       "GE              NaN       NaN        NaN  \n",
       "IBM             NaN       NaN        NaN  \n",
       "SLB             NaN       NaN        NaN  \n",
       "TSLA           50.0     220.0      400.0  \n",
       "TXN             NaN       NaN        NaN  \n",
       "WMT             NaN       NaN        NaN  "
      ],
      "text/html": "<div>\n<style scoped>\n    .dataframe tbody tr th:only-of-type {\n        vertical-align: middle;\n    }\n\n    .dataframe tbody tr th {\n        vertical-align: top;\n    }\n\n    .dataframe thead th {\n        text-align: right;\n    }\n</style>\n<table border=\"1\" class=\"dataframe\">\n  <thead>\n    <tr style=\"text-align: right;\">\n      <th></th>\n      <th>Shares_2016</th>\n      <th>Low_2016</th>\n      <th>High_2016</th>\n      <th>Shares_2017</th>\n      <th>Low_2017</th>\n      <th>High_2017</th>\n      <th>Shares_2018</th>\n      <th>Low_2018</th>\n      <th>High_2018</th>\n    </tr>\n    <tr>\n      <th>Symbol</th>\n      <th></th>\n      <th></th>\n      <th></th>\n      <th></th>\n      <th></th>\n      <th></th>\n      <th></th>\n      <th></th>\n      <th></th>\n    </tr>\n  </thead>\n  <tbody>\n    <tr>\n      <th>AAPL</th>\n      <td>80.0</td>\n      <td>95.0</td>\n      <td>110.0</td>\n      <td>50.0</td>\n      <td>120.0</td>\n      <td>140.0</td>\n      <td>40.0</td>\n      <td>135.0</td>\n      <td>170.0</td>\n    </tr>\n    <tr>\n      <th>AMZN</th>\n      <td>NaN</td>\n      <td>NaN</td>\n      <td>NaN</td>\n      <td>NaN</td>\n      <td>NaN</td>\n      <td>NaN</td>\n      <td>8.0</td>\n      <td>900.0</td>\n      <td>1125.0</td>\n    </tr>\n    <tr>\n      <th>GE</th>\n      <td>NaN</td>\n      <td>NaN</td>\n      <td>NaN</td>\n      <td>100.0</td>\n      <td>30.0</td>\n      <td>40.0</td>\n      <td>NaN</td>\n      <td>NaN</td>\n      <td>NaN</td>\n    </tr>\n    <tr>\n      <th>IBM</th>\n      <td>NaN</td>\n      <td>NaN</td>\n      <td>NaN</td>\n      <td>87.0</td>\n      <td>75.0</td>\n      <td>95.0</td>\n      <td>NaN</td>\n      <td>NaN</td>\n      <td>NaN</td>\n    </tr>\n    <tr>\n      <th>SLB</th>\n      <td>NaN</td>\n      <td>NaN</td>\n      <td>NaN</td>\n      <td>20.0</td>\n      <td>55.0</td>\n      <td>85.0</td>\n      <td>NaN</td>\n      <td>NaN</td>\n      <td>NaN</td>\n    </tr>\n    <tr>\n      <th>TSLA</th>\n      <td>50.0</td>\n      <td>80.0</td>\n      <td>130.0</td>\n      <td>100.0</td>\n      <td>100.0</td>\n      <td>300.0</td>\n      <td>50.0</td>\n      <td>220.0</td>\n      <td>400.0</td>\n    </tr>\n    <tr>\n      <th>TXN</th>\n      <td>NaN</td>\n      <td>NaN</td>\n      <td>NaN</td>\n      <td>500.0</td>\n      <td>15.0</td>\n      <td>23.0</td>\n      <td>NaN</td>\n      <td>NaN</td>\n      <td>NaN</td>\n    </tr>\n    <tr>\n      <th>WMT</th>\n      <td>40.0</td>\n      <td>55.0</td>\n      <td>70.0</td>\n      <td>NaN</td>\n      <td>NaN</td>\n      <td>NaN</td>\n      <td>NaN</td>\n      <td>NaN</td>\n      <td>NaN</td>\n    </tr>\n  </tbody>\n</table>\n</div>"
     },
     "metadata": {},
     "execution_count": 34
    }
   ],
   "source": [
    "stock_merge"
   ]
  },
  {
   "cell_type": "code",
   "execution_count": 35,
   "metadata": {},
   "outputs": [
    {
     "output_type": "execute_result",
     "data": {
      "text/plain": [
       "      Shares_2016  Low_2016  High_2016  Shares_2017  Low_2017  High_2017  \\\n",
       "AAPL         80.0      95.0      110.0         50.0     120.0      140.0   \n",
       "TSLA         50.0      80.0      130.0        100.0     100.0      300.0   \n",
       "WMT          40.0      55.0       70.0          NaN       NaN        NaN   \n",
       "GE            NaN       NaN        NaN        100.0      30.0       40.0   \n",
       "IBM           NaN       NaN        NaN         87.0      75.0       95.0   \n",
       "SLB           NaN       NaN        NaN         20.0      55.0       85.0   \n",
       "TXN           NaN       NaN        NaN        500.0      15.0       23.0   \n",
       "AMZN          NaN       NaN        NaN          NaN       NaN        NaN   \n",
       "\n",
       "      Shares_2018  Low_2018  High_2018  \n",
       "AAPL         40.0     135.0      170.0  \n",
       "TSLA         50.0     220.0      400.0  \n",
       "WMT           NaN       NaN        NaN  \n",
       "GE            NaN       NaN        NaN  \n",
       "IBM           NaN       NaN        NaN  \n",
       "SLB           NaN       NaN        NaN  \n",
       "TXN           NaN       NaN        NaN  \n",
       "AMZN          8.0     900.0     1125.0  "
      ],
      "text/html": "<div>\n<style scoped>\n    .dataframe tbody tr th:only-of-type {\n        vertical-align: middle;\n    }\n\n    .dataframe tbody tr th {\n        vertical-align: top;\n    }\n\n    .dataframe thead th {\n        text-align: right;\n    }\n</style>\n<table border=\"1\" class=\"dataframe\">\n  <thead>\n    <tr style=\"text-align: right;\">\n      <th></th>\n      <th>Shares_2016</th>\n      <th>Low_2016</th>\n      <th>High_2016</th>\n      <th>Shares_2017</th>\n      <th>Low_2017</th>\n      <th>High_2017</th>\n      <th>Shares_2018</th>\n      <th>Low_2018</th>\n      <th>High_2018</th>\n    </tr>\n  </thead>\n  <tbody>\n    <tr>\n      <th>AAPL</th>\n      <td>80.0</td>\n      <td>95.0</td>\n      <td>110.0</td>\n      <td>50.0</td>\n      <td>120.0</td>\n      <td>140.0</td>\n      <td>40.0</td>\n      <td>135.0</td>\n      <td>170.0</td>\n    </tr>\n    <tr>\n      <th>TSLA</th>\n      <td>50.0</td>\n      <td>80.0</td>\n      <td>130.0</td>\n      <td>100.0</td>\n      <td>100.0</td>\n      <td>300.0</td>\n      <td>50.0</td>\n      <td>220.0</td>\n      <td>400.0</td>\n    </tr>\n    <tr>\n      <th>WMT</th>\n      <td>40.0</td>\n      <td>55.0</td>\n      <td>70.0</td>\n      <td>NaN</td>\n      <td>NaN</td>\n      <td>NaN</td>\n      <td>NaN</td>\n      <td>NaN</td>\n      <td>NaN</td>\n    </tr>\n    <tr>\n      <th>GE</th>\n      <td>NaN</td>\n      <td>NaN</td>\n      <td>NaN</td>\n      <td>100.0</td>\n      <td>30.0</td>\n      <td>40.0</td>\n      <td>NaN</td>\n      <td>NaN</td>\n      <td>NaN</td>\n    </tr>\n    <tr>\n      <th>IBM</th>\n      <td>NaN</td>\n      <td>NaN</td>\n      <td>NaN</td>\n      <td>87.0</td>\n      <td>75.0</td>\n      <td>95.0</td>\n      <td>NaN</td>\n      <td>NaN</td>\n      <td>NaN</td>\n    </tr>\n    <tr>\n      <th>SLB</th>\n      <td>NaN</td>\n      <td>NaN</td>\n      <td>NaN</td>\n      <td>20.0</td>\n      <td>55.0</td>\n      <td>85.0</td>\n      <td>NaN</td>\n      <td>NaN</td>\n      <td>NaN</td>\n    </tr>\n    <tr>\n      <th>TXN</th>\n      <td>NaN</td>\n      <td>NaN</td>\n      <td>NaN</td>\n      <td>500.0</td>\n      <td>15.0</td>\n      <td>23.0</td>\n      <td>NaN</td>\n      <td>NaN</td>\n      <td>NaN</td>\n    </tr>\n    <tr>\n      <th>AMZN</th>\n      <td>NaN</td>\n      <td>NaN</td>\n      <td>NaN</td>\n      <td>NaN</td>\n      <td>NaN</td>\n      <td>NaN</td>\n      <td>8.0</td>\n      <td>900.0</td>\n      <td>1125.0</td>\n    </tr>\n  </tbody>\n</table>\n</div>"
     },
     "metadata": {},
     "execution_count": 35
    }
   ],
   "source": [
    "stock_concat"
   ]
  },
  {
   "cell_type": "code",
   "execution_count": 36,
   "metadata": {},
   "outputs": [
    {
     "output_type": "display_data",
     "data": {
      "text/html": "<table style=\"display: inline;\" border=\"1\" class=\"dataframe\">\n  <thead>\n    <tr style=\"text-align: right;\">\n      <th></th>\n      <th>item</th>\n      <th>store</th>\n      <th>price</th>\n      <th>Date</th>\n    </tr>\n  </thead>\n  <tbody>\n    <tr>\n      <th>0</th>\n      <td>pear</td>\n      <td>A</td>\n      <td>0.99</td>\n      <td>2017</td>\n    </tr>\n    <tr>\n      <th>1</th>\n      <td>pear</td>\n      <td>B</td>\n      <td>1.99</td>\n      <td>2017</td>\n    </tr>\n    <tr>\n      <th>2</th>\n      <td>peach</td>\n      <td>A</td>\n      <td>2.99</td>\n      <td>2017</td>\n    </tr>\n    <tr>\n      <th>3</th>\n      <td>peach</td>\n      <td>B</td>\n      <td>3.49</td>\n      <td>2017</td>\n    </tr>\n    <tr>\n      <th>4</th>\n      <td>banana</td>\n      <td>A</td>\n      <td>0.39</td>\n      <td>2017</td>\n    </tr>\n    <tr>\n      <th>5</th>\n      <td>banana</td>\n      <td>B</td>\n      <td>0.49</td>\n      <td>2017</td>\n    </tr>\n    <tr>\n      <th>6</th>\n      <td>steak</td>\n      <td>A</td>\n      <td>5.99</td>\n      <td>2017</td>\n    </tr>\n    <tr>\n      <th>7</th>\n      <td>steak</td>\n      <td>B</td>\n      <td>6.99</td>\n      <td>2017</td>\n    </tr>\n    <tr>\n      <th>8</th>\n      <td>steak</td>\n      <td>B</td>\n      <td>4.99</td>\n      <td>2015</td>\n    </tr>\n  </tbody>\n</table>&nbsp;&nbsp;&nbsp;&nbsp;&nbsp;&nbsp;&nbsp;&nbsp;&nbsp;&nbsp;&nbsp;&nbsp;&nbsp;&nbsp;&nbsp;&nbsp;&nbsp;&nbsp;&nbsp;&nbsp;&nbsp;&nbsp;&nbsp;&nbsp;&nbsp;&nbsp;&nbsp;&nbsp;&nbsp;&nbsp;<table style=\"display: inline;\" border=\"1\" class=\"dataframe\">\n  <thead>\n    <tr style=\"text-align: right;\">\n      <th></th>\n      <th>custid</th>\n      <th>item</th>\n      <th>store</th>\n      <th>quantity</th>\n    </tr>\n  </thead>\n  <tbody>\n    <tr>\n      <th>0</th>\n      <td>1</td>\n      <td>pear</td>\n      <td>A</td>\n      <td>5</td>\n    </tr>\n    <tr>\n      <th>1</th>\n      <td>1</td>\n      <td>banana</td>\n      <td>A</td>\n      <td>10</td>\n    </tr>\n    <tr>\n      <th>2</th>\n      <td>2</td>\n      <td>steak</td>\n      <td>B</td>\n      <td>3</td>\n    </tr>\n    <tr>\n      <th>3</th>\n      <td>2</td>\n      <td>pear</td>\n      <td>B</td>\n      <td>1</td>\n    </tr>\n    <tr>\n      <th>4</th>\n      <td>2</td>\n      <td>peach</td>\n      <td>B</td>\n      <td>2</td>\n    </tr>\n    <tr>\n      <th>5</th>\n      <td>2</td>\n      <td>steak</td>\n      <td>B</td>\n      <td>1</td>\n    </tr>\n    <tr>\n      <th>6</th>\n      <td>2</td>\n      <td>coconut</td>\n      <td>B</td>\n      <td>4</td>\n    </tr>\n  </tbody>\n</table>"
     },
     "metadata": {}
    }
   ],
   "source": [
    "names = ['prices', 'transactions']\n",
    "food_tables = [pd.read_csv('../data/food_{}.csv'.format(name)) for name in names]\n",
    "food_prices, food_transactions = food_tables\n",
    "display_frames(food_tables, 30)\n"
   ]
  },
  {
   "cell_type": "code",
   "execution_count": 37,
   "metadata": {},
   "outputs": [
    {
     "output_type": "execute_result",
     "data": {
      "text/plain": [
       "   custid    item store  quantity  price  Date\n",
       "0       1    pear     A         5   0.99  2017\n",
       "1       1  banana     A        10   0.39  2017\n",
       "2       2   steak     B         3   6.99  2017\n",
       "3       2   steak     B         3   4.99  2015\n",
       "4       2   steak     B         1   6.99  2017\n",
       "5       2   steak     B         1   4.99  2015\n",
       "6       2    pear     B         1   1.99  2017\n",
       "7       2   peach     B         2   3.49  2017"
      ],
      "text/html": "<div>\n<style scoped>\n    .dataframe tbody tr th:only-of-type {\n        vertical-align: middle;\n    }\n\n    .dataframe tbody tr th {\n        vertical-align: top;\n    }\n\n    .dataframe thead th {\n        text-align: right;\n    }\n</style>\n<table border=\"1\" class=\"dataframe\">\n  <thead>\n    <tr style=\"text-align: right;\">\n      <th></th>\n      <th>custid</th>\n      <th>item</th>\n      <th>store</th>\n      <th>quantity</th>\n      <th>price</th>\n      <th>Date</th>\n    </tr>\n  </thead>\n  <tbody>\n    <tr>\n      <th>0</th>\n      <td>1</td>\n      <td>pear</td>\n      <td>A</td>\n      <td>5</td>\n      <td>0.99</td>\n      <td>2017</td>\n    </tr>\n    <tr>\n      <th>1</th>\n      <td>1</td>\n      <td>banana</td>\n      <td>A</td>\n      <td>10</td>\n      <td>0.39</td>\n      <td>2017</td>\n    </tr>\n    <tr>\n      <th>2</th>\n      <td>2</td>\n      <td>steak</td>\n      <td>B</td>\n      <td>3</td>\n      <td>6.99</td>\n      <td>2017</td>\n    </tr>\n    <tr>\n      <th>3</th>\n      <td>2</td>\n      <td>steak</td>\n      <td>B</td>\n      <td>3</td>\n      <td>4.99</td>\n      <td>2015</td>\n    </tr>\n    <tr>\n      <th>4</th>\n      <td>2</td>\n      <td>steak</td>\n      <td>B</td>\n      <td>1</td>\n      <td>6.99</td>\n      <td>2017</td>\n    </tr>\n    <tr>\n      <th>5</th>\n      <td>2</td>\n      <td>steak</td>\n      <td>B</td>\n      <td>1</td>\n      <td>4.99</td>\n      <td>2015</td>\n    </tr>\n    <tr>\n      <th>6</th>\n      <td>2</td>\n      <td>pear</td>\n      <td>B</td>\n      <td>1</td>\n      <td>1.99</td>\n      <td>2017</td>\n    </tr>\n    <tr>\n      <th>7</th>\n      <td>2</td>\n      <td>peach</td>\n      <td>B</td>\n      <td>2</td>\n      <td>3.49</td>\n      <td>2017</td>\n    </tr>\n  </tbody>\n</table>\n</div>"
     },
     "metadata": {},
     "execution_count": 37
    }
   ],
   "source": [
    "food_transactions.merge(food_prices, on = [\"item\", \"store\"])"
   ]
  },
  {
   "cell_type": "code",
   "execution_count": 38,
   "metadata": {},
   "outputs": [
    {
     "output_type": "execute_result",
     "data": {
      "text/plain": [
       "   custid     item store  quantity  price    Date\n",
       "0       1     pear     A         5   0.99  2017.0\n",
       "1       1   banana     A        10   0.39  2017.0\n",
       "2       2    steak     B         3   6.99  2017.0\n",
       "3       2     pear     B         1   1.99  2017.0\n",
       "4       2    peach     B         2   3.49  2017.0\n",
       "5       2    steak     B         1   6.99  2017.0\n",
       "6       2  coconut     B         4    NaN     NaN"
      ],
      "text/html": "<div>\n<style scoped>\n    .dataframe tbody tr th:only-of-type {\n        vertical-align: middle;\n    }\n\n    .dataframe tbody tr th {\n        vertical-align: top;\n    }\n\n    .dataframe thead th {\n        text-align: right;\n    }\n</style>\n<table border=\"1\" class=\"dataframe\">\n  <thead>\n    <tr style=\"text-align: right;\">\n      <th></th>\n      <th>custid</th>\n      <th>item</th>\n      <th>store</th>\n      <th>quantity</th>\n      <th>price</th>\n      <th>Date</th>\n    </tr>\n  </thead>\n  <tbody>\n    <tr>\n      <th>0</th>\n      <td>1</td>\n      <td>pear</td>\n      <td>A</td>\n      <td>5</td>\n      <td>0.99</td>\n      <td>2017.0</td>\n    </tr>\n    <tr>\n      <th>1</th>\n      <td>1</td>\n      <td>banana</td>\n      <td>A</td>\n      <td>10</td>\n      <td>0.39</td>\n      <td>2017.0</td>\n    </tr>\n    <tr>\n      <th>2</th>\n      <td>2</td>\n      <td>steak</td>\n      <td>B</td>\n      <td>3</td>\n      <td>6.99</td>\n      <td>2017.0</td>\n    </tr>\n    <tr>\n      <th>3</th>\n      <td>2</td>\n      <td>pear</td>\n      <td>B</td>\n      <td>1</td>\n      <td>1.99</td>\n      <td>2017.0</td>\n    </tr>\n    <tr>\n      <th>4</th>\n      <td>2</td>\n      <td>peach</td>\n      <td>B</td>\n      <td>2</td>\n      <td>3.49</td>\n      <td>2017.0</td>\n    </tr>\n    <tr>\n      <th>5</th>\n      <td>2</td>\n      <td>steak</td>\n      <td>B</td>\n      <td>1</td>\n      <td>6.99</td>\n      <td>2017.0</td>\n    </tr>\n    <tr>\n      <th>6</th>\n      <td>2</td>\n      <td>coconut</td>\n      <td>B</td>\n      <td>4</td>\n      <td>NaN</td>\n      <td>NaN</td>\n    </tr>\n  </tbody>\n</table>\n</div>"
     },
     "metadata": {},
     "execution_count": 38
    }
   ],
   "source": [
    "food_transactions.merge(food_prices.query('Date == 2017'), how='left')"
   ]
  },
  {
   "cell_type": "code",
   "execution_count": 39,
   "metadata": {},
   "outputs": [
    {
     "output_type": "execute_result",
     "data": {
      "text/plain": [
       "              price  Date\n",
       "item   store             \n",
       "pear   A       0.99  2017\n",
       "       B       1.99  2017\n",
       "peach  A       2.99  2017\n",
       "       B       3.49  2017\n",
       "banana A       0.39  2017\n",
       "       B       0.49  2017\n",
       "steak  A       5.99  2017\n",
       "       B       6.99  2017"
      ],
      "text/html": "<div>\n<style scoped>\n    .dataframe tbody tr th:only-of-type {\n        vertical-align: middle;\n    }\n\n    .dataframe tbody tr th {\n        vertical-align: top;\n    }\n\n    .dataframe thead th {\n        text-align: right;\n    }\n</style>\n<table border=\"1\" class=\"dataframe\">\n  <thead>\n    <tr style=\"text-align: right;\">\n      <th></th>\n      <th></th>\n      <th>price</th>\n      <th>Date</th>\n    </tr>\n    <tr>\n      <th>item</th>\n      <th>store</th>\n      <th></th>\n      <th></th>\n    </tr>\n  </thead>\n  <tbody>\n    <tr>\n      <th rowspan=\"2\" valign=\"top\">pear</th>\n      <th>A</th>\n      <td>0.99</td>\n      <td>2017</td>\n    </tr>\n    <tr>\n      <th>B</th>\n      <td>1.99</td>\n      <td>2017</td>\n    </tr>\n    <tr>\n      <th rowspan=\"2\" valign=\"top\">peach</th>\n      <th>A</th>\n      <td>2.99</td>\n      <td>2017</td>\n    </tr>\n    <tr>\n      <th>B</th>\n      <td>3.49</td>\n      <td>2017</td>\n    </tr>\n    <tr>\n      <th rowspan=\"2\" valign=\"top\">banana</th>\n      <th>A</th>\n      <td>0.39</td>\n      <td>2017</td>\n    </tr>\n    <tr>\n      <th>B</th>\n      <td>0.49</td>\n      <td>2017</td>\n    </tr>\n    <tr>\n      <th rowspan=\"2\" valign=\"top\">steak</th>\n      <th>A</th>\n      <td>5.99</td>\n      <td>2017</td>\n    </tr>\n    <tr>\n      <th>B</th>\n      <td>6.99</td>\n      <td>2017</td>\n    </tr>\n  </tbody>\n</table>\n</div>"
     },
     "metadata": {},
     "execution_count": 39
    }
   ],
   "source": [
    "food_prices_join = food_prices.query('Date == 2017').set_index(['item', 'store'])\n",
    "food_prices_join"
   ]
  },
  {
   "cell_type": "code",
   "execution_count": 40,
   "metadata": {},
   "outputs": [
    {
     "output_type": "execute_result",
     "data": {
      "text/plain": [
       "   custid     item store  quantity  price    Date\n",
       "0       1     pear     A         5   0.99  2017.0\n",
       "1       1   banana     A        10   0.39  2017.0\n",
       "2       2    steak     B         3   6.99  2017.0\n",
       "3       2     pear     B         1   1.99  2017.0\n",
       "4       2    peach     B         2   3.49  2017.0\n",
       "5       2    steak     B         1   6.99  2017.0\n",
       "6       2  coconut     B         4    NaN     NaN"
      ],
      "text/html": "<div>\n<style scoped>\n    .dataframe tbody tr th:only-of-type {\n        vertical-align: middle;\n    }\n\n    .dataframe tbody tr th {\n        vertical-align: top;\n    }\n\n    .dataframe thead th {\n        text-align: right;\n    }\n</style>\n<table border=\"1\" class=\"dataframe\">\n  <thead>\n    <tr style=\"text-align: right;\">\n      <th></th>\n      <th>custid</th>\n      <th>item</th>\n      <th>store</th>\n      <th>quantity</th>\n      <th>price</th>\n      <th>Date</th>\n    </tr>\n  </thead>\n  <tbody>\n    <tr>\n      <th>0</th>\n      <td>1</td>\n      <td>pear</td>\n      <td>A</td>\n      <td>5</td>\n      <td>0.99</td>\n      <td>2017.0</td>\n    </tr>\n    <tr>\n      <th>1</th>\n      <td>1</td>\n      <td>banana</td>\n      <td>A</td>\n      <td>10</td>\n      <td>0.39</td>\n      <td>2017.0</td>\n    </tr>\n    <tr>\n      <th>2</th>\n      <td>2</td>\n      <td>steak</td>\n      <td>B</td>\n      <td>3</td>\n      <td>6.99</td>\n      <td>2017.0</td>\n    </tr>\n    <tr>\n      <th>3</th>\n      <td>2</td>\n      <td>pear</td>\n      <td>B</td>\n      <td>1</td>\n      <td>1.99</td>\n      <td>2017.0</td>\n    </tr>\n    <tr>\n      <th>4</th>\n      <td>2</td>\n      <td>peach</td>\n      <td>B</td>\n      <td>2</td>\n      <td>3.49</td>\n      <td>2017.0</td>\n    </tr>\n    <tr>\n      <th>5</th>\n      <td>2</td>\n      <td>steak</td>\n      <td>B</td>\n      <td>1</td>\n      <td>6.99</td>\n      <td>2017.0</td>\n    </tr>\n    <tr>\n      <th>6</th>\n      <td>2</td>\n      <td>coconut</td>\n      <td>B</td>\n      <td>4</td>\n      <td>NaN</td>\n      <td>NaN</td>\n    </tr>\n  </tbody>\n</table>\n</div>"
     },
     "metadata": {},
     "execution_count": 40
    }
   ],
   "source": [
    "food_transactions.join(food_prices_join, on=['item', 'store'])"
   ]
  },
  {
   "cell_type": "code",
   "execution_count": 41,
   "metadata": {},
   "outputs": [
    {
     "output_type": "execute_result",
     "data": {
      "text/plain": [
       "            Midgrade  Premium  Diesel  All Grades  Regular\n",
       "Week                                                      \n",
       "2017-09-25     2.859    3.105   2.788       2.701    2.583\n",
       "2017-09-18     2.906    3.151   2.791       2.750    2.634\n",
       "2017-09-11     2.953    3.197   2.802       2.800    2.685\n",
       "2017-09-04     2.946    3.191   2.758       2.794    2.679\n",
       "2017-08-28     2.668    2.901   2.605       2.513    2.399"
      ],
      "text/html": "<div>\n<style scoped>\n    .dataframe tbody tr th:only-of-type {\n        vertical-align: middle;\n    }\n\n    .dataframe tbody tr th {\n        vertical-align: top;\n    }\n\n    .dataframe thead th {\n        text-align: right;\n    }\n</style>\n<table border=\"1\" class=\"dataframe\">\n  <thead>\n    <tr style=\"text-align: right;\">\n      <th></th>\n      <th>Midgrade</th>\n      <th>Premium</th>\n      <th>Diesel</th>\n      <th>All Grades</th>\n      <th>Regular</th>\n    </tr>\n    <tr>\n      <th>Week</th>\n      <th></th>\n      <th></th>\n      <th></th>\n      <th></th>\n      <th></th>\n    </tr>\n  </thead>\n  <tbody>\n    <tr>\n      <th>2017-09-25</th>\n      <td>2.859</td>\n      <td>3.105</td>\n      <td>2.788</td>\n      <td>2.701</td>\n      <td>2.583</td>\n    </tr>\n    <tr>\n      <th>2017-09-18</th>\n      <td>2.906</td>\n      <td>3.151</td>\n      <td>2.791</td>\n      <td>2.750</td>\n      <td>2.634</td>\n    </tr>\n    <tr>\n      <th>2017-09-11</th>\n      <td>2.953</td>\n      <td>3.197</td>\n      <td>2.802</td>\n      <td>2.800</td>\n      <td>2.685</td>\n    </tr>\n    <tr>\n      <th>2017-09-04</th>\n      <td>2.946</td>\n      <td>3.191</td>\n      <td>2.758</td>\n      <td>2.794</td>\n      <td>2.679</td>\n    </tr>\n    <tr>\n      <th>2017-08-28</th>\n      <td>2.668</td>\n      <td>2.901</td>\n      <td>2.605</td>\n      <td>2.513</td>\n      <td>2.399</td>\n    </tr>\n  </tbody>\n</table>\n</div>"
     },
     "metadata": {},
     "execution_count": 41
    }
   ],
   "source": [
    "import glob\n",
    "\n",
    "df_list = []\n",
    "for filename in glob.glob('../data/gas prices/*.csv'):\n",
    "    df_list.append(pd.read_csv(filename, index_col='Week', parse_dates=['Week']))\n",
    "\n",
    "gas = pd.concat(df_list, axis='columns')\n",
    "gas.head()"
   ]
  },
  {
   "cell_type": "code",
   "execution_count": 42,
   "metadata": {},
   "outputs": [
    {
     "output_type": "execute_result",
     "data": {
      "text/plain": [
       "            Midgrade\n",
       "Week                \n",
       "2017-09-25     2.859\n",
       "2017-09-18     2.906\n",
       "2017-09-11     2.953\n",
       "2017-09-04     2.946\n",
       "2017-08-28     2.668\n",
       "...              ...\n",
       "2007-01-29     2.277\n",
       "2007-01-22     2.285\n",
       "2007-01-15     2.347\n",
       "2007-01-08     2.418\n",
       "2007-01-01     2.442\n",
       "\n",
       "[561 rows x 1 columns]"
      ],
      "text/html": "<div>\n<style scoped>\n    .dataframe tbody tr th:only-of-type {\n        vertical-align: middle;\n    }\n\n    .dataframe tbody tr th {\n        vertical-align: top;\n    }\n\n    .dataframe thead th {\n        text-align: right;\n    }\n</style>\n<table border=\"1\" class=\"dataframe\">\n  <thead>\n    <tr style=\"text-align: right;\">\n      <th></th>\n      <th>Midgrade</th>\n    </tr>\n    <tr>\n      <th>Week</th>\n      <th></th>\n    </tr>\n  </thead>\n  <tbody>\n    <tr>\n      <th>2017-09-25</th>\n      <td>2.859</td>\n    </tr>\n    <tr>\n      <th>2017-09-18</th>\n      <td>2.906</td>\n    </tr>\n    <tr>\n      <th>2017-09-11</th>\n      <td>2.953</td>\n    </tr>\n    <tr>\n      <th>2017-09-04</th>\n      <td>2.946</td>\n    </tr>\n    <tr>\n      <th>2017-08-28</th>\n      <td>2.668</td>\n    </tr>\n    <tr>\n      <th>...</th>\n      <td>...</td>\n    </tr>\n    <tr>\n      <th>2007-01-29</th>\n      <td>2.277</td>\n    </tr>\n    <tr>\n      <th>2007-01-22</th>\n      <td>2.285</td>\n    </tr>\n    <tr>\n      <th>2007-01-15</th>\n      <td>2.347</td>\n    </tr>\n    <tr>\n      <th>2007-01-08</th>\n      <td>2.418</td>\n    </tr>\n    <tr>\n      <th>2007-01-01</th>\n      <td>2.442</td>\n    </tr>\n  </tbody>\n</table>\n<p>561 rows × 1 columns</p>\n</div>"
     },
     "metadata": {},
     "execution_count": 42
    }
   ],
   "source": [
    "df_list[0]"
   ]
  },
  {
   "cell_type": "code",
   "execution_count": 43,
   "metadata": {},
   "outputs": [
    {
     "output_type": "execute_result",
     "data": {
      "text/plain": [
       "            Premium\n",
       "Week               \n",
       "2017-09-25    3.105\n",
       "2017-09-18    3.151\n",
       "2017-09-11    3.197\n",
       "2017-09-04    3.191\n",
       "2017-08-28    2.901\n",
       "...             ...\n",
       "2007-01-29    2.381\n",
       "2007-01-22    2.391\n",
       "2007-01-15    2.453\n",
       "2007-01-08    2.523\n",
       "2007-01-01    2.547\n",
       "\n",
       "[561 rows x 1 columns]"
      ],
      "text/html": "<div>\n<style scoped>\n    .dataframe tbody tr th:only-of-type {\n        vertical-align: middle;\n    }\n\n    .dataframe tbody tr th {\n        vertical-align: top;\n    }\n\n    .dataframe thead th {\n        text-align: right;\n    }\n</style>\n<table border=\"1\" class=\"dataframe\">\n  <thead>\n    <tr style=\"text-align: right;\">\n      <th></th>\n      <th>Premium</th>\n    </tr>\n    <tr>\n      <th>Week</th>\n      <th></th>\n    </tr>\n  </thead>\n  <tbody>\n    <tr>\n      <th>2017-09-25</th>\n      <td>3.105</td>\n    </tr>\n    <tr>\n      <th>2017-09-18</th>\n      <td>3.151</td>\n    </tr>\n    <tr>\n      <th>2017-09-11</th>\n      <td>3.197</td>\n    </tr>\n    <tr>\n      <th>2017-09-04</th>\n      <td>3.191</td>\n    </tr>\n    <tr>\n      <th>2017-08-28</th>\n      <td>2.901</td>\n    </tr>\n    <tr>\n      <th>...</th>\n      <td>...</td>\n    </tr>\n    <tr>\n      <th>2007-01-29</th>\n      <td>2.381</td>\n    </tr>\n    <tr>\n      <th>2007-01-22</th>\n      <td>2.391</td>\n    </tr>\n    <tr>\n      <th>2007-01-15</th>\n      <td>2.453</td>\n    </tr>\n    <tr>\n      <th>2007-01-08</th>\n      <td>2.523</td>\n    </tr>\n    <tr>\n      <th>2007-01-01</th>\n      <td>2.547</td>\n    </tr>\n  </tbody>\n</table>\n<p>561 rows × 1 columns</p>\n</div>"
     },
     "metadata": {},
     "execution_count": 43
    }
   ],
   "source": [
    "df_list[1]"
   ]
  },
  {
   "source": [
    "## SQL 데이터베이스에 연결\n"
   ],
   "cell_type": "markdown",
   "metadata": {}
  },
  {
   "cell_type": "code",
   "execution_count": 44,
   "metadata": {},
   "outputs": [
    {
     "output_type": "execute_result",
     "data": {
      "text/plain": [
       "   TrackId                                     Name  AlbumId  MediaTypeId  \\\n",
       "0        1  For Those About To Rock (We Salute You)        1            1   \n",
       "1        2                        Balls to the Wall        2            2   \n",
       "2        3                          Fast As a Shark        3            2   \n",
       "3        4                        Restless and Wild        3            2   \n",
       "4        5                     Princess of the Dawn        3            2   \n",
       "\n",
       "   GenreId                                           Composer  Milliseconds  \\\n",
       "0        1          Angus Young, Malcolm Young, Brian Johnson        343719   \n",
       "1        1                                               None        342562   \n",
       "2        1  F. Baltes, S. Kaufman, U. Dirkscneider & W. Ho...        230619   \n",
       "3        1  F. Baltes, R.A. Smith-Diesel, S. Kaufman, U. D...        252051   \n",
       "4        1                         Deaffy & R.A. Smith-Diesel        375418   \n",
       "\n",
       "      Bytes  UnitPrice  \n",
       "0  11170334       0.99  \n",
       "1   5510424       0.99  \n",
       "2   3990994       0.99  \n",
       "3   4331779       0.99  \n",
       "4   6290521       0.99  "
      ],
      "text/html": "<div>\n<style scoped>\n    .dataframe tbody tr th:only-of-type {\n        vertical-align: middle;\n    }\n\n    .dataframe tbody tr th {\n        vertical-align: top;\n    }\n\n    .dataframe thead th {\n        text-align: right;\n    }\n</style>\n<table border=\"1\" class=\"dataframe\">\n  <thead>\n    <tr style=\"text-align: right;\">\n      <th></th>\n      <th>TrackId</th>\n      <th>Name</th>\n      <th>AlbumId</th>\n      <th>MediaTypeId</th>\n      <th>GenreId</th>\n      <th>Composer</th>\n      <th>Milliseconds</th>\n      <th>Bytes</th>\n      <th>UnitPrice</th>\n    </tr>\n  </thead>\n  <tbody>\n    <tr>\n      <th>0</th>\n      <td>1</td>\n      <td>For Those About To Rock (We Salute You)</td>\n      <td>1</td>\n      <td>1</td>\n      <td>1</td>\n      <td>Angus Young, Malcolm Young, Brian Johnson</td>\n      <td>343719</td>\n      <td>11170334</td>\n      <td>0.99</td>\n    </tr>\n    <tr>\n      <th>1</th>\n      <td>2</td>\n      <td>Balls to the Wall</td>\n      <td>2</td>\n      <td>2</td>\n      <td>1</td>\n      <td>None</td>\n      <td>342562</td>\n      <td>5510424</td>\n      <td>0.99</td>\n    </tr>\n    <tr>\n      <th>2</th>\n      <td>3</td>\n      <td>Fast As a Shark</td>\n      <td>3</td>\n      <td>2</td>\n      <td>1</td>\n      <td>F. Baltes, S. Kaufman, U. Dirkscneider &amp; W. Ho...</td>\n      <td>230619</td>\n      <td>3990994</td>\n      <td>0.99</td>\n    </tr>\n    <tr>\n      <th>3</th>\n      <td>4</td>\n      <td>Restless and Wild</td>\n      <td>3</td>\n      <td>2</td>\n      <td>1</td>\n      <td>F. Baltes, R.A. Smith-Diesel, S. Kaufman, U. D...</td>\n      <td>252051</td>\n      <td>4331779</td>\n      <td>0.99</td>\n    </tr>\n    <tr>\n      <th>4</th>\n      <td>5</td>\n      <td>Princess of the Dawn</td>\n      <td>3</td>\n      <td>2</td>\n      <td>1</td>\n      <td>Deaffy &amp; R.A. Smith-Diesel</td>\n      <td>375418</td>\n      <td>6290521</td>\n      <td>0.99</td>\n    </tr>\n  </tbody>\n</table>\n</div>"
     },
     "metadata": {},
     "execution_count": 44
    }
   ],
   "source": [
    "from sqlalchemy import create_engine\n",
    "engine = create_engine('sqlite:///../data/chinook.db')\n",
    "\n",
    "tracks = pd.read_sql_table('tracks', engine)\n",
    "tracks.head()"
   ]
  },
  {
   "cell_type": "code",
   "execution_count": 45,
   "metadata": {},
   "outputs": [
    {
     "output_type": "execute_result",
     "data": {
      "text/plain": [
       "   GenreId                Name\n",
       "0        1                Rock\n",
       "1        2                Jazz\n",
       "2        3               Metal\n",
       "3        4  Alternative & Punk\n",
       "4        5       Rock And Roll"
      ],
      "text/html": "<div>\n<style scoped>\n    .dataframe tbody tr th:only-of-type {\n        vertical-align: middle;\n    }\n\n    .dataframe tbody tr th {\n        vertical-align: top;\n    }\n\n    .dataframe thead th {\n        text-align: right;\n    }\n</style>\n<table border=\"1\" class=\"dataframe\">\n  <thead>\n    <tr style=\"text-align: right;\">\n      <th></th>\n      <th>GenreId</th>\n      <th>Name</th>\n    </tr>\n  </thead>\n  <tbody>\n    <tr>\n      <th>0</th>\n      <td>1</td>\n      <td>Rock</td>\n    </tr>\n    <tr>\n      <th>1</th>\n      <td>2</td>\n      <td>Jazz</td>\n    </tr>\n    <tr>\n      <th>2</th>\n      <td>3</td>\n      <td>Metal</td>\n    </tr>\n    <tr>\n      <th>3</th>\n      <td>4</td>\n      <td>Alternative &amp; Punk</td>\n    </tr>\n    <tr>\n      <th>4</th>\n      <td>5</td>\n      <td>Rock And Roll</td>\n    </tr>\n  </tbody>\n</table>\n</div>"
     },
     "metadata": {},
     "execution_count": 45
    }
   ],
   "source": [
    "genres = pd.read_sql_table('genres', engine)\n",
    "genres.head()"
   ]
  },
  {
   "cell_type": "code",
   "execution_count": 46,
   "metadata": {},
   "outputs": [
    {
     "output_type": "execute_result",
     "data": {
      "text/plain": [
       "   Name  Milliseconds\n",
       "0  Rock        343719\n",
       "1  Rock        342562\n",
       "2  Rock        230619\n",
       "3  Rock        252051\n",
       "4  Rock        375418"
      ],
      "text/html": "<div>\n<style scoped>\n    .dataframe tbody tr th:only-of-type {\n        vertical-align: middle;\n    }\n\n    .dataframe tbody tr th {\n        vertical-align: top;\n    }\n\n    .dataframe thead th {\n        text-align: right;\n    }\n</style>\n<table border=\"1\" class=\"dataframe\">\n  <thead>\n    <tr style=\"text-align: right;\">\n      <th></th>\n      <th>Name</th>\n      <th>Milliseconds</th>\n    </tr>\n  </thead>\n  <tbody>\n    <tr>\n      <th>0</th>\n      <td>Rock</td>\n      <td>343719</td>\n    </tr>\n    <tr>\n      <th>1</th>\n      <td>Rock</td>\n      <td>342562</td>\n    </tr>\n    <tr>\n      <th>2</th>\n      <td>Rock</td>\n      <td>230619</td>\n    </tr>\n    <tr>\n      <th>3</th>\n      <td>Rock</td>\n      <td>252051</td>\n    </tr>\n    <tr>\n      <th>4</th>\n      <td>Rock</td>\n      <td>375418</td>\n    </tr>\n  </tbody>\n</table>\n</div>"
     },
     "metadata": {},
     "execution_count": 46
    }
   ],
   "source": [
    "genre_track = genres.merge(tracks[['GenreId', 'Milliseconds']], \n",
    "                           on='GenreId', how='left') \\\n",
    "                     .drop('GenreId', axis='columns')\n",
    "genre_track.head()"
   ]
  },
  {
   "cell_type": "code",
   "execution_count": 47,
   "metadata": {},
   "outputs": [
    {
     "output_type": "execute_result",
     "data": {
      "text/plain": [
       "Name\n",
       "Rock And Roll        0 days 00:02:14\n",
       "Opera                0 days 00:02:54\n",
       "Hip Hop/Rap          0 days 00:02:58\n",
       "Easy Listening       0 days 00:03:09\n",
       "Bossa Nova           0 days 00:03:39\n",
       "R&B/Soul             0 days 00:03:40\n",
       "World                0 days 00:03:44\n",
       "Pop                  0 days 00:03:49\n",
       "Latin                0 days 00:03:52\n",
       "Alternative & Punk   0 days 00:03:54\n",
       "Soundtrack           0 days 00:04:04\n",
       "Reggae               0 days 00:04:07\n",
       "Alternative          0 days 00:04:24\n",
       "Blues                0 days 00:04:30\n",
       "Rock                 0 days 00:04:43\n",
       "Jazz                 0 days 00:04:51\n",
       "Classical            0 days 00:04:53\n",
       "Heavy Metal          0 days 00:04:57\n",
       "Electronica/Dance    0 days 00:05:02\n",
       "Metal                0 days 00:05:09\n",
       "Comedy               0 days 00:26:25\n",
       "TV Shows             0 days 00:35:45\n",
       "Drama                0 days 00:42:55\n",
       "Science Fiction      0 days 00:43:45\n",
       "Sci Fi & Fantasy     0 days 00:48:31\n",
       "Name: Milliseconds, dtype: timedelta64[ns]"
      ]
     },
     "metadata": {},
     "execution_count": 47
    }
   ],
   "source": [
    "genre_time = genre_track.groupby('Name')['Milliseconds'].mean()\n",
    "pd.to_timedelta(genre_time, unit='ms').dt.floor('s').sort_values()"
   ]
  },
  {
   "cell_type": "code",
   "execution_count": 48,
   "metadata": {},
   "outputs": [
    {
     "output_type": "execute_result",
     "data": {
      "text/plain": [
       "   CustomerId  FirstName     LastName\n",
       "0           1       Luís    Gonçalves\n",
       "1           2     Leonie       Köhler\n",
       "2           3   François     Tremblay\n",
       "3           4      Bjørn       Hansen\n",
       "4           5  František  Wichterlová"
      ],
      "text/html": "<div>\n<style scoped>\n    .dataframe tbody tr th:only-of-type {\n        vertical-align: middle;\n    }\n\n    .dataframe tbody tr th {\n        vertical-align: top;\n    }\n\n    .dataframe thead th {\n        text-align: right;\n    }\n</style>\n<table border=\"1\" class=\"dataframe\">\n  <thead>\n    <tr style=\"text-align: right;\">\n      <th></th>\n      <th>CustomerId</th>\n      <th>FirstName</th>\n      <th>LastName</th>\n    </tr>\n  </thead>\n  <tbody>\n    <tr>\n      <th>0</th>\n      <td>1</td>\n      <td>Luís</td>\n      <td>Gonçalves</td>\n    </tr>\n    <tr>\n      <th>1</th>\n      <td>2</td>\n      <td>Leonie</td>\n      <td>Köhler</td>\n    </tr>\n    <tr>\n      <th>2</th>\n      <td>3</td>\n      <td>François</td>\n      <td>Tremblay</td>\n    </tr>\n    <tr>\n      <th>3</th>\n      <td>4</td>\n      <td>Bjørn</td>\n      <td>Hansen</td>\n    </tr>\n    <tr>\n      <th>4</th>\n      <td>5</td>\n      <td>František</td>\n      <td>Wichterlová</td>\n    </tr>\n  </tbody>\n</table>\n</div>"
     },
     "metadata": {},
     "execution_count": 48
    }
   ],
   "source": [
    "cust = pd.read_sql_table('customers', engine, \n",
    "                         columns=['CustomerId', 'FirstName', 'LastName'])\n",
    "invoice = pd.read_sql_table('invoices', engine, \n",
    "                            columns=['InvoiceId','CustomerId'])\n",
    "ii = pd.read_sql_table('invoice_items', engine, \n",
    "                       columns=['InvoiceId', 'UnitPrice', 'Quantity'])\n",
    "\n",
    "cust.head()"
   ]
  },
  {
   "cell_type": "code",
   "execution_count": 49,
   "metadata": {},
   "outputs": [
    {
     "output_type": "execute_result",
     "data": {
      "text/plain": [
       "   InvoiceId  CustomerId\n",
       "0         98           1\n",
       "1        121           1\n",
       "2        143           1\n",
       "3        195           1\n",
       "4        316           1"
      ],
      "text/html": "<div>\n<style scoped>\n    .dataframe tbody tr th:only-of-type {\n        vertical-align: middle;\n    }\n\n    .dataframe tbody tr th {\n        vertical-align: top;\n    }\n\n    .dataframe thead th {\n        text-align: right;\n    }\n</style>\n<table border=\"1\" class=\"dataframe\">\n  <thead>\n    <tr style=\"text-align: right;\">\n      <th></th>\n      <th>InvoiceId</th>\n      <th>CustomerId</th>\n    </tr>\n  </thead>\n  <tbody>\n    <tr>\n      <th>0</th>\n      <td>98</td>\n      <td>1</td>\n    </tr>\n    <tr>\n      <th>1</th>\n      <td>121</td>\n      <td>1</td>\n    </tr>\n    <tr>\n      <th>2</th>\n      <td>143</td>\n      <td>1</td>\n    </tr>\n    <tr>\n      <th>3</th>\n      <td>195</td>\n      <td>1</td>\n    </tr>\n    <tr>\n      <th>4</th>\n      <td>316</td>\n      <td>1</td>\n    </tr>\n  </tbody>\n</table>\n</div>"
     },
     "metadata": {},
     "execution_count": 49
    }
   ],
   "source": [
    "invoice.head()"
   ]
  },
  {
   "cell_type": "code",
   "execution_count": 50,
   "metadata": {},
   "outputs": [
    {
     "output_type": "execute_result",
     "data": {
      "text/plain": [
       "   InvoiceId  UnitPrice  Quantity\n",
       "0          1       0.99         1\n",
       "1          1       0.99         1\n",
       "2          2       0.99         1\n",
       "3          2       0.99         1\n",
       "4          2       0.99         1"
      ],
      "text/html": "<div>\n<style scoped>\n    .dataframe tbody tr th:only-of-type {\n        vertical-align: middle;\n    }\n\n    .dataframe tbody tr th {\n        vertical-align: top;\n    }\n\n    .dataframe thead th {\n        text-align: right;\n    }\n</style>\n<table border=\"1\" class=\"dataframe\">\n  <thead>\n    <tr style=\"text-align: right;\">\n      <th></th>\n      <th>InvoiceId</th>\n      <th>UnitPrice</th>\n      <th>Quantity</th>\n    </tr>\n  </thead>\n  <tbody>\n    <tr>\n      <th>0</th>\n      <td>1</td>\n      <td>0.99</td>\n      <td>1</td>\n    </tr>\n    <tr>\n      <th>1</th>\n      <td>1</td>\n      <td>0.99</td>\n      <td>1</td>\n    </tr>\n    <tr>\n      <th>2</th>\n      <td>2</td>\n      <td>0.99</td>\n      <td>1</td>\n    </tr>\n    <tr>\n      <th>3</th>\n      <td>2</td>\n      <td>0.99</td>\n      <td>1</td>\n    </tr>\n    <tr>\n      <th>4</th>\n      <td>2</td>\n      <td>0.99</td>\n      <td>1</td>\n    </tr>\n  </tbody>\n</table>\n</div>"
     },
     "metadata": {},
     "execution_count": 50
    }
   ],
   "source": [
    "ii.head()"
   ]
  },
  {
   "cell_type": "code",
   "execution_count": 51,
   "metadata": {},
   "outputs": [
    {
     "output_type": "execute_result",
     "data": {
      "text/plain": [
       "   CustomerId FirstName   LastName  InvoiceId  UnitPrice  Quantity\n",
       "0           1      Luís  Gonçalves         98       1.99         1\n",
       "1           1      Luís  Gonçalves         98       1.99         1\n",
       "2           1      Luís  Gonçalves        121       0.99         1\n",
       "3           1      Luís  Gonçalves        121       0.99         1\n",
       "4           1      Luís  Gonçalves        121       0.99         1"
      ],
      "text/html": "<div>\n<style scoped>\n    .dataframe tbody tr th:only-of-type {\n        vertical-align: middle;\n    }\n\n    .dataframe tbody tr th {\n        vertical-align: top;\n    }\n\n    .dataframe thead th {\n        text-align: right;\n    }\n</style>\n<table border=\"1\" class=\"dataframe\">\n  <thead>\n    <tr style=\"text-align: right;\">\n      <th></th>\n      <th>CustomerId</th>\n      <th>FirstName</th>\n      <th>LastName</th>\n      <th>InvoiceId</th>\n      <th>UnitPrice</th>\n      <th>Quantity</th>\n    </tr>\n  </thead>\n  <tbody>\n    <tr>\n      <th>0</th>\n      <td>1</td>\n      <td>Luís</td>\n      <td>Gonçalves</td>\n      <td>98</td>\n      <td>1.99</td>\n      <td>1</td>\n    </tr>\n    <tr>\n      <th>1</th>\n      <td>1</td>\n      <td>Luís</td>\n      <td>Gonçalves</td>\n      <td>98</td>\n      <td>1.99</td>\n      <td>1</td>\n    </tr>\n    <tr>\n      <th>2</th>\n      <td>1</td>\n      <td>Luís</td>\n      <td>Gonçalves</td>\n      <td>121</td>\n      <td>0.99</td>\n      <td>1</td>\n    </tr>\n    <tr>\n      <th>3</th>\n      <td>1</td>\n      <td>Luís</td>\n      <td>Gonçalves</td>\n      <td>121</td>\n      <td>0.99</td>\n      <td>1</td>\n    </tr>\n    <tr>\n      <th>4</th>\n      <td>1</td>\n      <td>Luís</td>\n      <td>Gonçalves</td>\n      <td>121</td>\n      <td>0.99</td>\n      <td>1</td>\n    </tr>\n  </tbody>\n</table>\n</div>"
     },
     "metadata": {},
     "execution_count": 51
    }
   ],
   "source": [
    "cust_inv = cust.merge(invoice, on='CustomerId') \\\n",
    "               .merge(ii, on='InvoiceId')\n",
    "cust_inv.head()"
   ]
  },
  {
   "cell_type": "code",
   "execution_count": 52,
   "metadata": {},
   "outputs": [
    {
     "output_type": "execute_result",
     "data": {
      "text/plain": [
       "CustomerId  FirstName  LastName  \n",
       "6           Helena     Holý          49.62\n",
       "26          Richard    Cunningham    47.62\n",
       "57          Luis       Rojas         46.62\n",
       "46          Hugh       O'Reilly      45.62\n",
       "45          Ladislav   Kovács        45.62\n",
       "Name: Total, dtype: float64"
      ]
     },
     "metadata": {},
     "execution_count": 52
    }
   ],
   "source": [
    "total = cust_inv['Quantity'] * cust_inv['UnitPrice']\n",
    "cols = ['CustomerId', 'FirstName', 'LastName']\n",
    "cust_inv.assign(Total = total).groupby(cols)['Total'] \\\n",
    "                                  .sum() \\\n",
    "                                  .sort_values(ascending=False).head()"
   ]
  },
  {
   "cell_type": "code",
   "execution_count": 53,
   "metadata": {},
   "outputs": [
    {
     "output_type": "execute_result",
     "data": {
      "text/plain": [
       "             Name  avg_time\n",
       "0   Rock And Roll  00:02:14\n",
       "1           Opera  00:02:54\n",
       "2     Hip Hop/Rap  00:02:58\n",
       "3  Easy Listening  00:03:09\n",
       "4      Bossa Nova  00:03:39"
      ],
      "text/html": "<div>\n<style scoped>\n    .dataframe tbody tr th:only-of-type {\n        vertical-align: middle;\n    }\n\n    .dataframe tbody tr th {\n        vertical-align: top;\n    }\n\n    .dataframe thead th {\n        text-align: right;\n    }\n</style>\n<table border=\"1\" class=\"dataframe\">\n  <thead>\n    <tr style=\"text-align: right;\">\n      <th></th>\n      <th>Name</th>\n      <th>avg_time</th>\n    </tr>\n  </thead>\n  <tbody>\n    <tr>\n      <th>0</th>\n      <td>Rock And Roll</td>\n      <td>00:02:14</td>\n    </tr>\n    <tr>\n      <th>1</th>\n      <td>Opera</td>\n      <td>00:02:54</td>\n    </tr>\n    <tr>\n      <th>2</th>\n      <td>Hip Hop/Rap</td>\n      <td>00:02:58</td>\n    </tr>\n    <tr>\n      <th>3</th>\n      <td>Easy Listening</td>\n      <td>00:03:09</td>\n    </tr>\n    <tr>\n      <th>4</th>\n      <td>Bossa Nova</td>\n      <td>00:03:39</td>\n    </tr>\n  </tbody>\n</table>\n</div>"
     },
     "metadata": {},
     "execution_count": 53
    }
   ],
   "source": [
    "sql_string1 = '''\n",
    "select \n",
    "    Name, \n",
    "    time(avg(Milliseconds) / 1000, 'unixepoch') as avg_time\n",
    "from (\n",
    "        select \n",
    "            g.Name, \n",
    "            t.Milliseconds\n",
    "        from \n",
    "            genres as g \n",
    "        join\n",
    "            tracks as t\n",
    "            on \n",
    "                g.genreid == t.genreid\n",
    "    )\n",
    "group by \n",
    "    Name\n",
    "order by \n",
    "    avg_time\n",
    "'''\n",
    "pd.read_sql_query(sql_string1, engine).head()"
   ]
  },
  {
   "cell_type": "code",
   "execution_count": 54,
   "metadata": {},
   "outputs": [
    {
     "output_type": "execute_result",
     "data": {
      "text/plain": [
       "   CustomerId FirstName    LastName  Total\n",
       "0           6    Helena        Holý  49.62\n",
       "1          26   Richard  Cunningham  47.62\n",
       "2          57      Luis       Rojas  46.62\n",
       "3          45  Ladislav      Kovács  45.62\n",
       "4          46      Hugh    O'Reilly  45.62"
      ],
      "text/html": "<div>\n<style scoped>\n    .dataframe tbody tr th:only-of-type {\n        vertical-align: middle;\n    }\n\n    .dataframe tbody tr th {\n        vertical-align: top;\n    }\n\n    .dataframe thead th {\n        text-align: right;\n    }\n</style>\n<table border=\"1\" class=\"dataframe\">\n  <thead>\n    <tr style=\"text-align: right;\">\n      <th></th>\n      <th>CustomerId</th>\n      <th>FirstName</th>\n      <th>LastName</th>\n      <th>Total</th>\n    </tr>\n  </thead>\n  <tbody>\n    <tr>\n      <th>0</th>\n      <td>6</td>\n      <td>Helena</td>\n      <td>Holý</td>\n      <td>49.62</td>\n    </tr>\n    <tr>\n      <th>1</th>\n      <td>26</td>\n      <td>Richard</td>\n      <td>Cunningham</td>\n      <td>47.62</td>\n    </tr>\n    <tr>\n      <th>2</th>\n      <td>57</td>\n      <td>Luis</td>\n      <td>Rojas</td>\n      <td>46.62</td>\n    </tr>\n    <tr>\n      <th>3</th>\n      <td>45</td>\n      <td>Ladislav</td>\n      <td>Kovács</td>\n      <td>45.62</td>\n    </tr>\n    <tr>\n      <th>4</th>\n      <td>46</td>\n      <td>Hugh</td>\n      <td>O'Reilly</td>\n      <td>45.62</td>\n    </tr>\n  </tbody>\n</table>\n</div>"
     },
     "metadata": {},
     "execution_count": 54
    }
   ],
   "source": [
    "sql_string2 = '''\n",
    "select \n",
    "      c.customerid, \n",
    "      c.FirstName, \n",
    "      c.LastName, \n",
    "      sum(ii.quantity *  ii.unitprice) as Total\n",
    "from\n",
    "     customers as c\n",
    "join\n",
    "     invoices as i\n",
    "          on c.customerid = i.customerid\n",
    "join\n",
    "    invoice_items as ii\n",
    "          on i.invoiceid = ii.invoiceid\n",
    "group by\n",
    "    c.customerid, c.FirstName, c.LastName\n",
    "order by\n",
    "    Total desc\n",
    "'''\n",
    "pd.read_sql_query(sql_string2, engine).head()"
   ]
  }
 ]
}
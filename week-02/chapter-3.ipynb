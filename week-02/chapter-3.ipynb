{
 "metadata": {
  "language_info": {
   "codemirror_mode": {
    "name": "ipython",
    "version": 3
   },
   "file_extension": ".py",
   "mimetype": "text/x-python",
   "name": "python",
   "nbconvert_exporter": "python",
   "pygments_lexer": "ipython3",
   "version": "3.8.5-final"
  },
  "orig_nbformat": 2,
  "kernelspec": {
   "name": "Python 3.8.5 64-bit",
   "display_name": "Python 3.8.5 64-bit",
   "metadata": {
    "interpreter": {
     "hash": "a22da94b6d0eb1bb9e13ff23c6dec5d5d0682dd7591db237e737d29eb0bbf2ae"
    }
   }
  }
 },
 "nbformat": 4,
 "nbformat_minor": 2,
 "cells": [
  {
   "source": [
    "# CHAPTER 03. 데이터 분석 시작\n",
    "\n",
    "## 데이터 분석 루틴 개발\n",
    "\n",
    "- head(), shape, info(), describe() 로 데이터 파악. (T (transpose) 활용 가능)\n"
   ],
   "cell_type": "markdown",
   "metadata": {}
  },
  {
   "cell_type": "code",
   "execution_count": 36,
   "metadata": {},
   "outputs": [
    {
     "output_type": "execute_result",
     "data": {
      "text/plain": "                                INSTNM        CITY STABBR  HBCU  MENONLY  \\\n0             Alabama A &amp; M University      Normal     AL   1.0      0.0   \n1  University of Alabama at Birmingham  Birmingham     AL   0.0      0.0   \n2                   Amridge University  Montgomery     AL   0.0      0.0   \n\n   WOMENONLY  RELAFFIL  SATVRMID  SATMTMID  DISTANCEONLY  ...  UGDS_2MOR  \\\n0        0.0         0     424.0     420.0           0.0  ...     0.0000   \n1        0.0         0     570.0     565.0           0.0  ...     0.0368   \n2        0.0         1       NaN       NaN           1.0  ...     0.0000   \n\n   UGDS_NRA  UGDS_UNKN  PPTUG_EF  CURROPER  PCTPELL  PCTFLOAN  UG25ABV  \\\n0    0.0059     0.0138    0.0656         1   0.7356    0.8284   0.1049   \n1    0.0179     0.0100    0.2607         1   0.3460    0.5214   0.2422   \n2    0.0000     0.2715    0.4536         1   0.6801    0.7795   0.8540   \n\n   MD_EARN_WNE_P10  GRAD_DEBT_MDN_SUPP  \n0            30300               33888  \n1            39700             21941.5  \n2            40100               23370  \n\n[3 rows x 27 columns]",
      "text/html": "<div>\n<style scoped>\n    .dataframe tbody tr th:only-of-type {\n        vertical-align: middle;\n    }\n\n    .dataframe tbody tr th {\n        vertical-align: top;\n    }\n\n    .dataframe thead th {\n        text-align: right;\n    }\n</style>\n<table border=\"1\" class=\"dataframe\">\n  <thead>\n    <tr style=\"text-align: right;\">\n      <th></th>\n      <th>INSTNM</th>\n      <th>CITY</th>\n      <th>STABBR</th>\n      <th>HBCU</th>\n      <th>MENONLY</th>\n      <th>WOMENONLY</th>\n      <th>RELAFFIL</th>\n      <th>SATVRMID</th>\n      <th>SATMTMID</th>\n      <th>DISTANCEONLY</th>\n      <th>...</th>\n      <th>UGDS_2MOR</th>\n      <th>UGDS_NRA</th>\n      <th>UGDS_UNKN</th>\n      <th>PPTUG_EF</th>\n      <th>CURROPER</th>\n      <th>PCTPELL</th>\n      <th>PCTFLOAN</th>\n      <th>UG25ABV</th>\n      <th>MD_EARN_WNE_P10</th>\n      <th>GRAD_DEBT_MDN_SUPP</th>\n    </tr>\n  </thead>\n  <tbody>\n    <tr>\n      <th>0</th>\n      <td>Alabama A &amp; M University</td>\n      <td>Normal</td>\n      <td>AL</td>\n      <td>1.0</td>\n      <td>0.0</td>\n      <td>0.0</td>\n      <td>0</td>\n      <td>424.0</td>\n      <td>420.0</td>\n      <td>0.0</td>\n      <td>...</td>\n      <td>0.0000</td>\n      <td>0.0059</td>\n      <td>0.0138</td>\n      <td>0.0656</td>\n      <td>1</td>\n      <td>0.7356</td>\n      <td>0.8284</td>\n      <td>0.1049</td>\n      <td>30300</td>\n      <td>33888</td>\n    </tr>\n    <tr>\n      <th>1</th>\n      <td>University of Alabama at Birmingham</td>\n      <td>Birmingham</td>\n      <td>AL</td>\n      <td>0.0</td>\n      <td>0.0</td>\n      <td>0.0</td>\n      <td>0</td>\n      <td>570.0</td>\n      <td>565.0</td>\n      <td>0.0</td>\n      <td>...</td>\n      <td>0.0368</td>\n      <td>0.0179</td>\n      <td>0.0100</td>\n      <td>0.2607</td>\n      <td>1</td>\n      <td>0.3460</td>\n      <td>0.5214</td>\n      <td>0.2422</td>\n      <td>39700</td>\n      <td>21941.5</td>\n    </tr>\n    <tr>\n      <th>2</th>\n      <td>Amridge University</td>\n      <td>Montgomery</td>\n      <td>AL</td>\n      <td>0.0</td>\n      <td>0.0</td>\n      <td>0.0</td>\n      <td>1</td>\n      <td>NaN</td>\n      <td>NaN</td>\n      <td>1.0</td>\n      <td>...</td>\n      <td>0.0000</td>\n      <td>0.0000</td>\n      <td>0.2715</td>\n      <td>0.4536</td>\n      <td>1</td>\n      <td>0.6801</td>\n      <td>0.7795</td>\n      <td>0.8540</td>\n      <td>40100</td>\n      <td>23370</td>\n    </tr>\n  </tbody>\n</table>\n<p>3 rows × 27 columns</p>\n</div>"
     },
     "metadata": {},
     "execution_count": 36
    }
   ],
   "source": [
    "import pandas as pd\n",
    "import numpy as np\n",
    "\n",
    "college = pd.read_csv(\"../data/college.csv\")\n",
    "college.head(3)"
   ]
  },
  {
   "cell_type": "code",
   "execution_count": 38,
   "metadata": {
    "tags": []
   },
   "outputs": [
    {
     "output_type": "stream",
     "name": "stdout",
     "text": "&lt;class &#39;pandas.core.frame.DataFrame&#39;&gt;\nRangeIndex: 7535 entries, 0 to 7534\nData columns (total 27 columns):\n #   Column              Non-Null Count  Dtype  \n---  ------              --------------  -----  \n 0   INSTNM              7535 non-null   object \n 1   CITY                7535 non-null   object \n 2   STABBR              7535 non-null   object \n 3   HBCU                7164 non-null   float64\n 4   MENONLY             7164 non-null   float64\n 5   WOMENONLY           7164 non-null   float64\n 6   RELAFFIL            7535 non-null   int64  \n 7   SATVRMID            1185 non-null   float64\n 8   SATMTMID            1196 non-null   float64\n 9   DISTANCEONLY        7164 non-null   float64\n 10  UGDS                6874 non-null   float64\n 11  UGDS_WHITE          6874 non-null   float64\n 12  UGDS_BLACK          6874 non-null   float64\n 13  UGDS_HISP           6874 non-null   float64\n 14  UGDS_ASIAN          6874 non-null   float64\n 15  UGDS_AIAN           6874 non-null   float64\n 16  UGDS_NHPI           6874 non-null   float64\n 17  UGDS_2MOR           6874 non-null   float64\n 18  UGDS_NRA            6874 non-null   float64\n 19  UGDS_UNKN           6874 non-null   float64\n 20  PPTUG_EF            6853 non-null   float64\n 21  CURROPER            7535 non-null   int64  \n 22  PCTPELL             6849 non-null   float64\n 23  PCTFLOAN            6849 non-null   float64\n 24  UG25ABV             6718 non-null   float64\n 25  MD_EARN_WNE_P10     6413 non-null   object \n 26  GRAD_DEBT_MDN_SUPP  7503 non-null   object \ndtypes: float64(20), int64(2), object(5)\nmemory usage: 1.6+ MB\n"
    }
   ],
   "source": [
    "college.info()"
   ]
  },
  {
   "cell_type": "code",
   "execution_count": 40,
   "metadata": {},
   "outputs": [
    {
     "output_type": "execute_result",
     "data": {
      "text/plain": "            count      mean       std  min  25%  50%  75%  max\nHBCU       7164.0  0.014238  0.118478  0.0  0.0  0.0  0.0  1.0\nMENONLY    7164.0  0.009213  0.095546  0.0  0.0  0.0  0.0  1.0\nWOMENONLY  7164.0  0.005304  0.072642  0.0  0.0  0.0  0.0  1.0",
      "text/html": "<div>\n<style scoped>\n    .dataframe tbody tr th:only-of-type {\n        vertical-align: middle;\n    }\n\n    .dataframe tbody tr th {\n        vertical-align: top;\n    }\n\n    .dataframe thead th {\n        text-align: right;\n    }\n</style>\n<table border=\"1\" class=\"dataframe\">\n  <thead>\n    <tr style=\"text-align: right;\">\n      <th></th>\n      <th>count</th>\n      <th>mean</th>\n      <th>std</th>\n      <th>min</th>\n      <th>25%</th>\n      <th>50%</th>\n      <th>75%</th>\n      <th>max</th>\n    </tr>\n  </thead>\n  <tbody>\n    <tr>\n      <th>HBCU</th>\n      <td>7164.0</td>\n      <td>0.014238</td>\n      <td>0.118478</td>\n      <td>0.0</td>\n      <td>0.0</td>\n      <td>0.0</td>\n      <td>0.0</td>\n      <td>1.0</td>\n    </tr>\n    <tr>\n      <th>MENONLY</th>\n      <td>7164.0</td>\n      <td>0.009213</td>\n      <td>0.095546</td>\n      <td>0.0</td>\n      <td>0.0</td>\n      <td>0.0</td>\n      <td>0.0</td>\n      <td>1.0</td>\n    </tr>\n    <tr>\n      <th>WOMENONLY</th>\n      <td>7164.0</td>\n      <td>0.005304</td>\n      <td>0.072642</td>\n      <td>0.0</td>\n      <td>0.0</td>\n      <td>0.0</td>\n      <td>0.0</td>\n      <td>1.0</td>\n    </tr>\n  </tbody>\n</table>\n</div>"
     },
     "metadata": {},
     "execution_count": 40
    }
   ],
   "source": [
    "college.describe(include=[np.number]).T.head(3)"
   ]
  },
  {
   "cell_type": "code",
   "execution_count": 42,
   "metadata": {},
   "outputs": [
    {
     "output_type": "execute_result",
     "data": {
      "text/plain": "                   count unique                                 top  freq\nINSTNM              7535   7535  Columbia Central University-Caguas     1\nCITY                7535   2514                            New York    87\nSTABBR              7535     59                                  CA   773\nMD_EARN_WNE_P10     6413    598                   PrivacySuppressed   822\nGRAD_DEBT_MDN_SUPP  7503   2038                   PrivacySuppressed  1510",
      "text/html": "<div>\n<style scoped>\n    .dataframe tbody tr th:only-of-type {\n        vertical-align: middle;\n    }\n\n    .dataframe tbody tr th {\n        vertical-align: top;\n    }\n\n    .dataframe thead th {\n        text-align: right;\n    }\n</style>\n<table border=\"1\" class=\"dataframe\">\n  <thead>\n    <tr style=\"text-align: right;\">\n      <th></th>\n      <th>count</th>\n      <th>unique</th>\n      <th>top</th>\n      <th>freq</th>\n    </tr>\n  </thead>\n  <tbody>\n    <tr>\n      <th>INSTNM</th>\n      <td>7535</td>\n      <td>7535</td>\n      <td>Columbia Central University-Caguas</td>\n      <td>1</td>\n    </tr>\n    <tr>\n      <th>CITY</th>\n      <td>7535</td>\n      <td>2514</td>\n      <td>New York</td>\n      <td>87</td>\n    </tr>\n    <tr>\n      <th>STABBR</th>\n      <td>7535</td>\n      <td>59</td>\n      <td>CA</td>\n      <td>773</td>\n    </tr>\n    <tr>\n      <th>MD_EARN_WNE_P10</th>\n      <td>6413</td>\n      <td>598</td>\n      <td>PrivacySuppressed</td>\n      <td>822</td>\n    </tr>\n    <tr>\n      <th>GRAD_DEBT_MDN_SUPP</th>\n      <td>7503</td>\n      <td>2038</td>\n      <td>PrivacySuppressed</td>\n      <td>1510</td>\n    </tr>\n  </tbody>\n</table>\n</div>"
     },
     "metadata": {},
     "execution_count": 42
    }
   ],
   "source": [
    "college.describe(include=[np.object, pd.Categorical]).T"
   ]
  },
  {
   "cell_type": "code",
   "execution_count": 44,
   "metadata": {},
   "outputs": [
    {
     "output_type": "execute_result",
     "data": {
      "text/plain": "  column_name                description\n6    RELAFFIL  0/1 Religious Affiliation",
      "text/html": "<div>\n<style scoped>\n    .dataframe tbody tr th:only-of-type {\n        vertical-align: middle;\n    }\n\n    .dataframe tbody tr th {\n        vertical-align: top;\n    }\n\n    .dataframe thead th {\n        text-align: right;\n    }\n</style>\n<table border=\"1\" class=\"dataframe\">\n  <thead>\n    <tr style=\"text-align: right;\">\n      <th></th>\n      <th>column_name</th>\n      <th>description</th>\n    </tr>\n  </thead>\n  <tbody>\n    <tr>\n      <th>6</th>\n      <td>RELAFFIL</td>\n      <td>0/1 Religious Affiliation</td>\n    </tr>\n  </tbody>\n</table>\n</div>"
     },
     "metadata": {},
     "execution_count": 44
    }
   ],
   "source": [
    "college_data_dict = pd.read_csv(\"../data/college_data_dictionary.csv\")\n",
    "college_data_dict[college_data_dict[\"column_name\"] == \"RELAFFIL\"]"
   ]
  },
  {
   "source": [
    "## 데이터 형식 변경을 통한 메모리 절약\n"
   ],
   "cell_type": "markdown",
   "metadata": {}
  },
  {
   "cell_type": "code",
   "execution_count": 46,
   "metadata": {},
   "outputs": [
    {
     "output_type": "execute_result",
     "data": {
      "text/plain": "   RELAFFIL  SATMTMID  CURROPER                               INSTNM STABBR\n0         0     420.0         1             Alabama A &amp; M University     AL\n1         0     565.0         1  University of Alabama at Birmingham     AL\n2         1       NaN         1                   Amridge University     AL",
      "text/html": "<div>\n<style scoped>\n    .dataframe tbody tr th:only-of-type {\n        vertical-align: middle;\n    }\n\n    .dataframe tbody tr th {\n        vertical-align: top;\n    }\n\n    .dataframe thead th {\n        text-align: right;\n    }\n</style>\n<table border=\"1\" class=\"dataframe\">\n  <thead>\n    <tr style=\"text-align: right;\">\n      <th></th>\n      <th>RELAFFIL</th>\n      <th>SATMTMID</th>\n      <th>CURROPER</th>\n      <th>INSTNM</th>\n      <th>STABBR</th>\n    </tr>\n  </thead>\n  <tbody>\n    <tr>\n      <th>0</th>\n      <td>0</td>\n      <td>420.0</td>\n      <td>1</td>\n      <td>Alabama A &amp; M University</td>\n      <td>AL</td>\n    </tr>\n    <tr>\n      <th>1</th>\n      <td>0</td>\n      <td>565.0</td>\n      <td>1</td>\n      <td>University of Alabama at Birmingham</td>\n      <td>AL</td>\n    </tr>\n    <tr>\n      <th>2</th>\n      <td>1</td>\n      <td>NaN</td>\n      <td>1</td>\n      <td>Amridge University</td>\n      <td>AL</td>\n    </tr>\n  </tbody>\n</table>\n</div>"
     },
     "metadata": {},
     "execution_count": 46
    }
   ],
   "source": [
    "col_names = [\"RELAFFIL\", \"SATMTMID\", \"CURROPER\", \"INSTNM\", \"STABBR\"]\n",
    "cols = college.loc[:, col_names]\n",
    "cols.head(3)"
   ]
  },
  {
   "cell_type": "code",
   "execution_count": 48,
   "metadata": {},
   "outputs": [
    {
     "output_type": "execute_result",
     "data": {
      "text/plain": "RELAFFIL       int8\nSATMTMID    float64\nCURROPER      int64\nINSTNM       object\nSTABBR       object\ndtype: object"
     },
     "metadata": {},
     "execution_count": 48
    }
   ],
   "source": [
    "cols.dtypes"
   ]
  },
  {
   "cell_type": "code",
   "execution_count": 50,
   "metadata": {},
   "outputs": [
    {
     "output_type": "execute_result",
     "data": {
      "text/plain": "Index          128\nRELAFFIL      7535\nSATMTMID     60280\nCURROPER     60280\nINSTNM      660240\nSTABBR      444565\ndtype: int64"
     },
     "metadata": {},
     "execution_count": 50
    }
   ],
   "source": [
    "original_mem = cols.memory_usage(deep = True)\n",
    "original_mem"
   ]
  },
  {
   "cell_type": "code",
   "execution_count": 52,
   "metadata": {},
   "outputs": [],
   "source": [
    "cols[\"RELAFFIL\"] = cols[\"RELAFFIL\"].astype(np.int8) # 0, 1 만 가지므로 줄이기"
   ]
  },
  {
   "cell_type": "code",
   "execution_count": 54,
   "metadata": {},
   "outputs": [
    {
     "output_type": "execute_result",
     "data": {
      "text/plain": "Index          128\nRELAFFIL      7535\nSATMTMID     60280\nCURROPER     60280\nINSTNM      660699\nSTABBR      444565\ndtype: int64"
     },
     "metadata": {},
     "execution_count": 54
    }
   ],
   "source": [
    "cols.memory_usage(deep=True)"
   ]
  },
  {
   "cell_type": "code",
   "execution_count": 56,
   "metadata": {},
   "outputs": [
    {
     "output_type": "execute_result",
     "data": {
      "text/plain": "                                                 INSTNM\n0                              Alabama A &amp; M University\n1                   University of Alabama at Birmingham\n2                                    Amridge University\n3                   University of Alabama in Huntsville\n4                              Alabama State University\n...                                                 ...\n7530         SAE Institute of Technology  San Francisco\n7531                  Rasmussen College - Overland Park\n7532  National Personal Training Institute of Cleveland\n7533  Bay Area Medical Academy - San Jose Satellite ...\n7534            Excel Learning Center-San Antonio South\n\n[7535 rows x 1 columns]",
      "text/html": "<div>\n<style scoped>\n    .dataframe tbody tr th:only-of-type {\n        vertical-align: middle;\n    }\n\n    .dataframe tbody tr th {\n        vertical-align: top;\n    }\n\n    .dataframe thead th {\n        text-align: right;\n    }\n</style>\n<table border=\"1\" class=\"dataframe\">\n  <thead>\n    <tr style=\"text-align: right;\">\n      <th></th>\n      <th>INSTNM</th>\n    </tr>\n  </thead>\n  <tbody>\n    <tr>\n      <th>0</th>\n      <td>Alabama A &amp; M University</td>\n    </tr>\n    <tr>\n      <th>1</th>\n      <td>University of Alabama at Birmingham</td>\n    </tr>\n    <tr>\n      <th>2</th>\n      <td>Amridge University</td>\n    </tr>\n    <tr>\n      <th>3</th>\n      <td>University of Alabama in Huntsville</td>\n    </tr>\n    <tr>\n      <th>4</th>\n      <td>Alabama State University</td>\n    </tr>\n    <tr>\n      <th>...</th>\n      <td>...</td>\n    </tr>\n    <tr>\n      <th>7530</th>\n      <td>SAE Institute of Technology  San Francisco</td>\n    </tr>\n    <tr>\n      <th>7531</th>\n      <td>Rasmussen College - Overland Park</td>\n    </tr>\n    <tr>\n      <th>7532</th>\n      <td>National Personal Training Institute of Cleveland</td>\n    </tr>\n    <tr>\n      <th>7533</th>\n      <td>Bay Area Medical Academy - San Jose Satellite ...</td>\n    </tr>\n    <tr>\n      <th>7534</th>\n      <td>Excel Learning Center-San Antonio South</td>\n    </tr>\n  </tbody>\n</table>\n<p>7535 rows × 1 columns</p>\n</div>"
     },
     "metadata": {},
     "execution_count": 56
    }
   ],
   "source": [
    "cols.select_dtypes(include=[\"object\"])"
   ]
  },
  {
   "cell_type": "code",
   "execution_count": 58,
   "metadata": {},
   "outputs": [
    {
     "output_type": "execute_result",
     "data": {
      "text/plain": "INSTNM    7535\ndtype: int64"
     },
     "metadata": {},
     "execution_count": 58
    }
   ],
   "source": [
    "cols.select_dtypes(include=[\"object\"]).nunique()"
   ]
  },
  {
   "cell_type": "code",
   "execution_count": 60,
   "metadata": {},
   "outputs": [],
   "source": [
    "cols[\"STABBR\"] = cols[\"STABBR\"].astype(\"category\")\n"
   ]
  },
  {
   "cell_type": "code",
   "execution_count": 62,
   "metadata": {},
   "outputs": [
    {
     "output_type": "execute_result",
     "data": {
      "text/plain": "RELAFFIL        int8\nSATMTMID     float64\nCURROPER       int64\nINSTNM        object\nSTABBR      category\ndtype: object"
     },
     "metadata": {},
     "execution_count": 62
    }
   ],
   "source": [
    "cols.dtypes"
   ]
  },
  {
   "cell_type": "code",
   "execution_count": 64,
   "metadata": {},
   "outputs": [
    {
     "output_type": "execute_result",
     "data": {
      "text/plain": "Index          128\nRELAFFIL      7535\nSATMTMID     60280\nCURROPER     60280\nINSTNM      660699\nSTABBR       13576\ndtype: int64"
     },
     "metadata": {},
     "execution_count": 64
    }
   ],
   "source": [
    "new_mem = cols.memory_usage(deep=True)\n",
    "new_mem"
   ]
  },
  {
   "cell_type": "code",
   "execution_count": 66,
   "metadata": {},
   "outputs": [
    {
     "output_type": "execute_result",
     "data": {
      "text/plain": "Index       1.000000\nRELAFFIL    1.000000\nSATMTMID    1.000000\nCURROPER    1.000000\nINSTNM      1.000695\nSTABBR      0.030538\ndtype: float64"
     },
     "metadata": {},
     "execution_count": 66
    }
   ],
   "source": [
    "new_mem / original_mem"
   ]
  },
  {
   "source": [
    "- object 열은 줄일 여지가 많음\n",
    "- nan 값은 float 으로만 표현할 수 있어서 하나라도 있으면 정수형으로 바꾸기 불가능\n",
    "- RangeIndex 메모리 최소로 사용함.\n"
   ],
   "cell_type": "markdown",
   "metadata": {}
  },
  {
   "source": [
    "## 최대에서 최소 선택\n"
   ],
   "cell_type": "markdown",
   "metadata": {}
  },
  {
   "cell_type": "code",
   "execution_count": 68,
   "metadata": {},
   "outputs": [
    {
     "output_type": "execute_result",
     "data": {
      "text/plain": "                                movie_title  imdb_score       budget\n0                                    Avatar         7.9  237000000.0\n1  Pirates of the Caribbean: At World&#39;s End         7.1  300000000.0\n2                                   Spectre         6.8  245000000.0",
      "text/html": "<div>\n<style scoped>\n    .dataframe tbody tr th:only-of-type {\n        vertical-align: middle;\n    }\n\n    .dataframe tbody tr th {\n        vertical-align: top;\n    }\n\n    .dataframe thead th {\n        text-align: right;\n    }\n</style>\n<table border=\"1\" class=\"dataframe\">\n  <thead>\n    <tr style=\"text-align: right;\">\n      <th></th>\n      <th>movie_title</th>\n      <th>imdb_score</th>\n      <th>budget</th>\n    </tr>\n  </thead>\n  <tbody>\n    <tr>\n      <th>0</th>\n      <td>Avatar</td>\n      <td>7.9</td>\n      <td>237000000.0</td>\n    </tr>\n    <tr>\n      <th>1</th>\n      <td>Pirates of the Caribbean: At World's End</td>\n      <td>7.1</td>\n      <td>300000000.0</td>\n    </tr>\n    <tr>\n      <th>2</th>\n      <td>Spectre</td>\n      <td>6.8</td>\n      <td>245000000.0</td>\n    </tr>\n  </tbody>\n</table>\n</div>"
     },
     "metadata": {},
     "execution_count": 68
    }
   ],
   "source": [
    "movie = pd.read_csv(\"../data/movie.csv\")\n",
    "movie2 = movie[[\"movie_title\", \"imdb_score\", \"budget\"]]\n",
    "movie2.head(3)"
   ]
  },
  {
   "cell_type": "code",
   "execution_count": 70,
   "metadata": {},
   "outputs": [
    {
     "output_type": "execute_result",
     "data": {
      "text/plain": "                                movie_title  imdb_score    budget\n4846  Peace, Propaganda &amp; the Promised Land         8.3   70000.0\n4815              A Charlie Brown Christmas         8.4  150000.0\n4804                         Butterfly Girl         8.7  180000.0\n4801                     Children of Heaven         8.5  180000.0\n4680        Monty Python and the Holy Grail         8.3  229575.0",
      "text/html": "<div>\n<style scoped>\n    .dataframe tbody tr th:only-of-type {\n        vertical-align: middle;\n    }\n\n    .dataframe tbody tr th {\n        vertical-align: top;\n    }\n\n    .dataframe thead th {\n        text-align: right;\n    }\n</style>\n<table border=\"1\" class=\"dataframe\">\n  <thead>\n    <tr style=\"text-align: right;\">\n      <th></th>\n      <th>movie_title</th>\n      <th>imdb_score</th>\n      <th>budget</th>\n    </tr>\n  </thead>\n  <tbody>\n    <tr>\n      <th>4846</th>\n      <td>Peace, Propaganda &amp; the Promised Land</td>\n      <td>8.3</td>\n      <td>70000.0</td>\n    </tr>\n    <tr>\n      <th>4815</th>\n      <td>A Charlie Brown Christmas</td>\n      <td>8.4</td>\n      <td>150000.0</td>\n    </tr>\n    <tr>\n      <th>4804</th>\n      <td>Butterfly Girl</td>\n      <td>8.7</td>\n      <td>180000.0</td>\n    </tr>\n    <tr>\n      <th>4801</th>\n      <td>Children of Heaven</td>\n      <td>8.5</td>\n      <td>180000.0</td>\n    </tr>\n    <tr>\n      <th>4680</th>\n      <td>Monty Python and the Holy Grail</td>\n      <td>8.3</td>\n      <td>229575.0</td>\n    </tr>\n  </tbody>\n</table>\n</div>"
     },
     "metadata": {},
     "execution_count": 70
    }
   ],
   "source": [
    "movie2.nlargest(150, \"imdb_score\").nsmallest(5 ,\"budget\") # 상위 150개 영화 중 예산 최저 5개 영화"
   ]
  },
  {
   "source": [
    "## 정렬에 의해 각 그룹의 최대 선택\n",
    "\n"
   ],
   "cell_type": "markdown",
   "metadata": {}
  },
  {
   "cell_type": "code",
   "execution_count": 72,
   "metadata": {},
   "outputs": [
    {
     "output_type": "execute_result",
     "data": {
      "text/plain": "                         movie_title  imdb_score      budget\n2789  Justin Bieber: Never Say Never         1.6  13000000.0\n1126                      Foodfight!         1.7  65000000.0\n2240                  Disaster Movie         1.9  25000000.0\n2266    Superbabies: Baby Geniuses 2         1.9  20000000.0\n4498             The Helix... Loaded         1.9   1000000.0",
      "text/html": "<div>\n<style scoped>\n    .dataframe tbody tr th:only-of-type {\n        vertical-align: middle;\n    }\n\n    .dataframe tbody tr th {\n        vertical-align: top;\n    }\n\n    .dataframe thead th {\n        text-align: right;\n    }\n</style>\n<table border=\"1\" class=\"dataframe\">\n  <thead>\n    <tr style=\"text-align: right;\">\n      <th></th>\n      <th>movie_title</th>\n      <th>imdb_score</th>\n      <th>budget</th>\n    </tr>\n  </thead>\n  <tbody>\n    <tr>\n      <th>2789</th>\n      <td>Justin Bieber: Never Say Never</td>\n      <td>1.6</td>\n      <td>13000000.0</td>\n    </tr>\n    <tr>\n      <th>1126</th>\n      <td>Foodfight!</td>\n      <td>1.7</td>\n      <td>65000000.0</td>\n    </tr>\n    <tr>\n      <th>2240</th>\n      <td>Disaster Movie</td>\n      <td>1.9</td>\n      <td>25000000.0</td>\n    </tr>\n    <tr>\n      <th>2266</th>\n      <td>Superbabies: Baby Geniuses 2</td>\n      <td>1.9</td>\n      <td>20000000.0</td>\n    </tr>\n    <tr>\n      <th>4498</th>\n      <td>The Helix... Loaded</td>\n      <td>1.9</td>\n      <td>1000000.0</td>\n    </tr>\n  </tbody>\n</table>\n</div>"
     },
     "metadata": {},
     "execution_count": 72
    }
   ],
   "source": [
    "movie2.sort_values(\"imdb_score\").head()"
   ]
  },
  {
   "cell_type": "code",
   "execution_count": 74,
   "metadata": {},
   "outputs": [
    {
     "output_type": "execute_result",
     "data": {
      "text/plain": "                         movie_title  imdb_score      budget\n2789  Justin Bieber: Never Say Never         1.6  13000000.0\n1126                      Foodfight!         1.7  65000000.0\n4498             The Helix... Loaded         1.9   1000000.0\n2266    Superbabies: Baby Geniuses 2         1.9  20000000.0\n2240                  Disaster Movie         1.9  25000000.0",
      "text/html": "<div>\n<style scoped>\n    .dataframe tbody tr th:only-of-type {\n        vertical-align: middle;\n    }\n\n    .dataframe tbody tr th {\n        vertical-align: top;\n    }\n\n    .dataframe thead th {\n        text-align: right;\n    }\n</style>\n<table border=\"1\" class=\"dataframe\">\n  <thead>\n    <tr style=\"text-align: right;\">\n      <th></th>\n      <th>movie_title</th>\n      <th>imdb_score</th>\n      <th>budget</th>\n    </tr>\n  </thead>\n  <tbody>\n    <tr>\n      <th>2789</th>\n      <td>Justin Bieber: Never Say Never</td>\n      <td>1.6</td>\n      <td>13000000.0</td>\n    </tr>\n    <tr>\n      <th>1126</th>\n      <td>Foodfight!</td>\n      <td>1.7</td>\n      <td>65000000.0</td>\n    </tr>\n    <tr>\n      <th>4498</th>\n      <td>The Helix... Loaded</td>\n      <td>1.9</td>\n      <td>1000000.0</td>\n    </tr>\n    <tr>\n      <th>2266</th>\n      <td>Superbabies: Baby Geniuses 2</td>\n      <td>1.9</td>\n      <td>20000000.0</td>\n    </tr>\n    <tr>\n      <th>2240</th>\n      <td>Disaster Movie</td>\n      <td>1.9</td>\n      <td>25000000.0</td>\n    </tr>\n  </tbody>\n</table>\n</div>"
     },
     "metadata": {},
     "execution_count": 74
    }
   ],
   "source": [
    "movie2.sort_values([\"imdb_score\",\"budget\"]).head() # 두 열 동시 정렬, "
   ]
  },
  {
   "cell_type": "code",
   "execution_count": 76,
   "metadata": {},
   "outputs": [
    {
     "output_type": "execute_result",
     "data": {
      "text/plain": "                         movie_title  imdb_score      budget\n2789  Justin Bieber: Never Say Never         1.6  13000000.0\n1126                      Foodfight!         1.7  65000000.0\n4498             The Helix... Loaded         1.9   1000000.0\n3438               Who&#39;s Your Caddy?         2.0   7000000.0\n3595                       Crossover         2.1   5600000.0\n...                              ...         ...         ...\n2791          The Godfather: Part II         9.0  13000000.0\n4312            Kickboxer: Vengeance         9.1  17000000.0\n3402                   The Godfather         9.2   6000000.0\n1920        The Shawshank Redemption         9.3  25000000.0\n2725                Towering Inferno         9.5         NaN\n\n[78 rows x 3 columns]",
      "text/html": "<div>\n<style scoped>\n    .dataframe tbody tr th:only-of-type {\n        vertical-align: middle;\n    }\n\n    .dataframe tbody tr th {\n        vertical-align: top;\n    }\n\n    .dataframe thead th {\n        text-align: right;\n    }\n</style>\n<table border=\"1\" class=\"dataframe\">\n  <thead>\n    <tr style=\"text-align: right;\">\n      <th></th>\n      <th>movie_title</th>\n      <th>imdb_score</th>\n      <th>budget</th>\n    </tr>\n  </thead>\n  <tbody>\n    <tr>\n      <th>2789</th>\n      <td>Justin Bieber: Never Say Never</td>\n      <td>1.6</td>\n      <td>13000000.0</td>\n    </tr>\n    <tr>\n      <th>1126</th>\n      <td>Foodfight!</td>\n      <td>1.7</td>\n      <td>65000000.0</td>\n    </tr>\n    <tr>\n      <th>4498</th>\n      <td>The Helix... Loaded</td>\n      <td>1.9</td>\n      <td>1000000.0</td>\n    </tr>\n    <tr>\n      <th>3438</th>\n      <td>Who's Your Caddy?</td>\n      <td>2.0</td>\n      <td>7000000.0</td>\n    </tr>\n    <tr>\n      <th>3595</th>\n      <td>Crossover</td>\n      <td>2.1</td>\n      <td>5600000.0</td>\n    </tr>\n    <tr>\n      <th>...</th>\n      <td>...</td>\n      <td>...</td>\n      <td>...</td>\n    </tr>\n    <tr>\n      <th>2791</th>\n      <td>The Godfather: Part II</td>\n      <td>9.0</td>\n      <td>13000000.0</td>\n    </tr>\n    <tr>\n      <th>4312</th>\n      <td>Kickboxer: Vengeance</td>\n      <td>9.1</td>\n      <td>17000000.0</td>\n    </tr>\n    <tr>\n      <th>3402</th>\n      <td>The Godfather</td>\n      <td>9.2</td>\n      <td>6000000.0</td>\n    </tr>\n    <tr>\n      <th>1920</th>\n      <td>The Shawshank Redemption</td>\n      <td>9.3</td>\n      <td>25000000.0</td>\n    </tr>\n    <tr>\n      <th>2725</th>\n      <td>Towering Inferno</td>\n      <td>9.5</td>\n      <td>NaN</td>\n    </tr>\n  </tbody>\n</table>\n<p>78 rows × 3 columns</p>\n</div>"
     },
     "metadata": {},
     "execution_count": 76
    }
   ],
   "source": [
    "movie2.sort_values([\"imdb_score\", \"budget\"]).drop_duplicates(subset=\"imdb_score\")\n",
    "# 섭셋 기준 처음 등장행 하나만 남기고 나머지 날림"
   ]
  },
  {
   "source": [
    "## sort_values 를 사용해 nlargest를 구현\n",
    "\n",
    "- 경계값에 같은 값이 여러개 있는 구간이 걸리면 다르게 나올 수 있음, head 와 nlargest 가 동률을 처리하는 방법이 다름\n",
    "\n"
   ],
   "cell_type": "markdown",
   "metadata": {}
  },
  {
   "cell_type": "code",
   "execution_count": 78,
   "metadata": {},
   "outputs": [
    {
     "output_type": "execute_result",
     "data": {
      "text/plain": "               movie_title  imdb_score    budget\n4804        Butterfly Girl         8.7  180000.0\n4801    Children of Heaven         8.5  180000.0\n4706          12 Angry Men         8.9  350000.0\n4550          A Separation         8.4  500000.0\n4636  The Other Dream Team         8.4  500000.0",
      "text/html": "<div>\n<style scoped>\n    .dataframe tbody tr th:only-of-type {\n        vertical-align: middle;\n    }\n\n    .dataframe tbody tr th {\n        vertical-align: top;\n    }\n\n    .dataframe thead th {\n        text-align: right;\n    }\n</style>\n<table border=\"1\" class=\"dataframe\">\n  <thead>\n    <tr style=\"text-align: right;\">\n      <th></th>\n      <th>movie_title</th>\n      <th>imdb_score</th>\n      <th>budget</th>\n    </tr>\n  </thead>\n  <tbody>\n    <tr>\n      <th>4804</th>\n      <td>Butterfly Girl</td>\n      <td>8.7</td>\n      <td>180000.0</td>\n    </tr>\n    <tr>\n      <th>4801</th>\n      <td>Children of Heaven</td>\n      <td>8.5</td>\n      <td>180000.0</td>\n    </tr>\n    <tr>\n      <th>4706</th>\n      <td>12 Angry Men</td>\n      <td>8.9</td>\n      <td>350000.0</td>\n    </tr>\n    <tr>\n      <th>4550</th>\n      <td>A Separation</td>\n      <td>8.4</td>\n      <td>500000.0</td>\n    </tr>\n    <tr>\n      <th>4636</th>\n      <td>The Other Dream Team</td>\n      <td>8.4</td>\n      <td>500000.0</td>\n    </tr>\n  </tbody>\n</table>\n</div>"
     },
     "metadata": {},
     "execution_count": 78
    }
   ],
   "source": [
    "movie2.nlargest(100, \"imdb_score\").nsmallest(5, \"budget\")"
   ]
  },
  {
   "cell_type": "code",
   "execution_count": 80,
   "metadata": {},
   "outputs": [
    {
     "output_type": "execute_result",
     "data": {
      "text/plain": "                    movie_title  imdb_score    budget\n4815  A Charlie Brown Christmas         8.4  150000.0\n4801         Children of Heaven         8.5  180000.0\n4804             Butterfly Girl         8.7  180000.0\n4706               12 Angry Men         8.9  350000.0\n4636       The Other Dream Team         8.4  500000.0",
      "text/html": "<div>\n<style scoped>\n    .dataframe tbody tr th:only-of-type {\n        vertical-align: middle;\n    }\n\n    .dataframe tbody tr th {\n        vertical-align: top;\n    }\n\n    .dataframe thead th {\n        text-align: right;\n    }\n</style>\n<table border=\"1\" class=\"dataframe\">\n  <thead>\n    <tr style=\"text-align: right;\">\n      <th></th>\n      <th>movie_title</th>\n      <th>imdb_score</th>\n      <th>budget</th>\n    </tr>\n  </thead>\n  <tbody>\n    <tr>\n      <th>4815</th>\n      <td>A Charlie Brown Christmas</td>\n      <td>8.4</td>\n      <td>150000.0</td>\n    </tr>\n    <tr>\n      <th>4801</th>\n      <td>Children of Heaven</td>\n      <td>8.5</td>\n      <td>180000.0</td>\n    </tr>\n    <tr>\n      <th>4804</th>\n      <td>Butterfly Girl</td>\n      <td>8.7</td>\n      <td>180000.0</td>\n    </tr>\n    <tr>\n      <th>4706</th>\n      <td>12 Angry Men</td>\n      <td>8.9</td>\n      <td>350000.0</td>\n    </tr>\n    <tr>\n      <th>4636</th>\n      <td>The Other Dream Team</td>\n      <td>8.4</td>\n      <td>500000.0</td>\n    </tr>\n  </tbody>\n</table>\n</div>"
     },
     "metadata": {},
     "execution_count": 80
    }
   ],
   "source": [
    "movie2.sort_values(\"imdb_score\", ascending= False).head(100).sort_values(\"budget\").head(5)"
   ]
  },
  {
   "source": [
    "## 추적 지정 주문가 계산\n",
    "\n",
    "- 주가 상승할 때만 따라가\n",
    "- 손실을 몇퍼이하로 한정 할 수 있음\n"
   ],
   "cell_type": "markdown",
   "metadata": {}
  },
  {
   "cell_type": "code",
   "execution_count": 82,
   "metadata": {},
   "outputs": [
    {
     "output_type": "execute_result",
     "data": {
      "text/plain": "                  High         Low        Open       Close      Volume  \\\nDate                                                                     \n2017-01-03   44.066002   42.192001   42.972000   43.397999  29616500.0   \n2017-01-04   45.599998   42.862000   42.950001   45.397999  56067500.0   \n2017-01-05   45.495998   44.389999   45.284000   45.349998  29558500.0   \n2017-01-06   46.062000   45.090000   45.386002   45.801998  27639500.0   \n2017-01-09   46.383999   45.599998   45.793999   46.256001  19897500.0   \n...                ...         ...         ...         ...         ...   \n2020-09-25  408.730011  391.299988  393.470001  407.339996  67208500.0   \n2020-09-28  428.079987  415.549988  424.619995  421.200012  49719600.0   \n2020-09-29  428.500000  411.600006  416.000000  419.070007  50219300.0   \n2020-09-30  433.929993  420.470001  421.320007  429.010010  48145600.0   \n2020-10-01  448.880005  434.420013  440.760010  448.160004  50413600.0   \n\n             Adj Close  \nDate                    \n2017-01-03   43.397999  \n2017-01-04   45.397999  \n2017-01-05   45.349998  \n2017-01-06   45.801998  \n2017-01-09   46.256001  \n...                ...  \n2020-09-25  407.339996  \n2020-09-28  421.200012  \n2020-09-29  419.070007  \n2020-09-30  429.010010  \n2020-10-01  448.160004  \n\n[944 rows x 6 columns]",
      "text/html": "<div>\n<style scoped>\n    .dataframe tbody tr th:only-of-type {\n        vertical-align: middle;\n    }\n\n    .dataframe tbody tr th {\n        vertical-align: top;\n    }\n\n    .dataframe thead th {\n        text-align: right;\n    }\n</style>\n<table border=\"1\" class=\"dataframe\">\n  <thead>\n    <tr style=\"text-align: right;\">\n      <th></th>\n      <th>High</th>\n      <th>Low</th>\n      <th>Open</th>\n      <th>Close</th>\n      <th>Volume</th>\n      <th>Adj Close</th>\n    </tr>\n    <tr>\n      <th>Date</th>\n      <th></th>\n      <th></th>\n      <th></th>\n      <th></th>\n      <th></th>\n      <th></th>\n    </tr>\n  </thead>\n  <tbody>\n    <tr>\n      <th>2017-01-03</th>\n      <td>44.066002</td>\n      <td>42.192001</td>\n      <td>42.972000</td>\n      <td>43.397999</td>\n      <td>29616500.0</td>\n      <td>43.397999</td>\n    </tr>\n    <tr>\n      <th>2017-01-04</th>\n      <td>45.599998</td>\n      <td>42.862000</td>\n      <td>42.950001</td>\n      <td>45.397999</td>\n      <td>56067500.0</td>\n      <td>45.397999</td>\n    </tr>\n    <tr>\n      <th>2017-01-05</th>\n      <td>45.495998</td>\n      <td>44.389999</td>\n      <td>45.284000</td>\n      <td>45.349998</td>\n      <td>29558500.0</td>\n      <td>45.349998</td>\n    </tr>\n    <tr>\n      <th>2017-01-06</th>\n      <td>46.062000</td>\n      <td>45.090000</td>\n      <td>45.386002</td>\n      <td>45.801998</td>\n      <td>27639500.0</td>\n      <td>45.801998</td>\n    </tr>\n    <tr>\n      <th>2017-01-09</th>\n      <td>46.383999</td>\n      <td>45.599998</td>\n      <td>45.793999</td>\n      <td>46.256001</td>\n      <td>19897500.0</td>\n      <td>46.256001</td>\n    </tr>\n    <tr>\n      <th>...</th>\n      <td>...</td>\n      <td>...</td>\n      <td>...</td>\n      <td>...</td>\n      <td>...</td>\n      <td>...</td>\n    </tr>\n    <tr>\n      <th>2020-09-25</th>\n      <td>408.730011</td>\n      <td>391.299988</td>\n      <td>393.470001</td>\n      <td>407.339996</td>\n      <td>67208500.0</td>\n      <td>407.339996</td>\n    </tr>\n    <tr>\n      <th>2020-09-28</th>\n      <td>428.079987</td>\n      <td>415.549988</td>\n      <td>424.619995</td>\n      <td>421.200012</td>\n      <td>49719600.0</td>\n      <td>421.200012</td>\n    </tr>\n    <tr>\n      <th>2020-09-29</th>\n      <td>428.500000</td>\n      <td>411.600006</td>\n      <td>416.000000</td>\n      <td>419.070007</td>\n      <td>50219300.0</td>\n      <td>419.070007</td>\n    </tr>\n    <tr>\n      <th>2020-09-30</th>\n      <td>433.929993</td>\n      <td>420.470001</td>\n      <td>421.320007</td>\n      <td>429.010010</td>\n      <td>48145600.0</td>\n      <td>429.010010</td>\n    </tr>\n    <tr>\n      <th>2020-10-01</th>\n      <td>448.880005</td>\n      <td>434.420013</td>\n      <td>440.760010</td>\n      <td>448.160004</td>\n      <td>50413600.0</td>\n      <td>448.160004</td>\n    </tr>\n  </tbody>\n</table>\n<p>944 rows × 6 columns</p>\n</div>"
     },
     "metadata": {},
     "execution_count": 82
    }
   ],
   "source": [
    "import pandas_datareader as pdr \n",
    "tsla = pdr.DataReader(\"tsla\", data_source=\"yahoo\", start= \"2017-1-1\")\n",
    "tsla"
   ]
  },
  {
   "cell_type": "code",
   "execution_count": 84,
   "metadata": {},
   "outputs": [
    {
     "output_type": "execute_result",
     "data": {
      "text/plain": "Date\n2017-01-03     43.397999\n2017-01-04     45.397999\n2017-01-05     45.349998\n2017-01-06     45.801998\n2017-01-09     46.256001\n                 ...    \n2020-09-25    407.339996\n2020-09-28    421.200012\n2020-09-29    419.070007\n2020-09-30    429.010010\n2020-10-01    448.160004\nName: Close, Length: 944, dtype: float64"
     },
     "metadata": {},
     "execution_count": 84
    }
   ],
   "source": [
    "tsla_close = tsla[\"Close\"]\n",
    "tsla_close"
   ]
  },
  {
   "cell_type": "code",
   "execution_count": 85,
   "metadata": {},
   "outputs": [
    {
     "output_type": "execute_result",
     "data": {
      "text/plain": "Date\n2017-01-03     43.397999\n2017-01-04     45.397999\n2017-01-05     45.397999\n2017-01-06     45.801998\n2017-01-09     46.256001\n                 ...    \n2020-09-25    498.320007\n2020-09-28    498.320007\n2020-09-29    498.320007\n2020-09-30    498.320007\n2020-10-01    498.320007\nName: Close, Length: 944, dtype: float64"
     },
     "metadata": {},
     "execution_count": 85
    }
   ],
   "source": [
    "tsla_close_cummax = tsla_close.cummax()\n",
    "tsla_close_cummax"
   ]
  },
  {
   "cell_type": "code",
   "execution_count": 86,
   "metadata": {},
   "outputs": [
    {
     "output_type": "execute_result",
     "data": {
      "text/plain": "Date\n2017-01-03     39.058199\n2017-01-04     40.858199\n2017-01-05     40.858199\n2017-01-06     41.221798\n2017-01-09     41.630400\n                 ...    \n2020-09-25    448.488007\n2020-09-28    448.488007\n2020-09-29    448.488007\n2020-09-30    448.488007\n2020-10-01    448.488007\nName: Close, Length: 944, dtype: float64"
     },
     "metadata": {},
     "execution_count": 86
    }
   ],
   "source": [
    "tsla_close_cummax * 0.9 # 손실 10퍼이하로 만드는 추적 지정가"
   ]
  }
 ]
}
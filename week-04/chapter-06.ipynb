{
 "metadata": {
  "language_info": {
   "codemirror_mode": {
    "name": "ipython",
    "version": 3
   },
   "file_extension": ".py",
   "mimetype": "text/x-python",
   "name": "python",
   "nbconvert_exporter": "python",
   "pygments_lexer": "ipython3",
   "version": "3.8.2-final"
  },
  "orig_nbformat": 2,
  "kernelspec": {
   "name": "Python 3.8.2 64-bit ('dataStudy': conda)",
   "display_name": "Python 3.8.2 64-bit ('dataStudy': conda)",
   "metadata": {
    "interpreter": {
     "hash": "a22da94b6d0eb1bb9e13ff23c6dec5d5d0682dd7591db237e737d29eb0bbf2ae"
    }
   }
  }
 },
 "nbformat": 4,
 "nbformat_minor": 2,
 "cells": [
  {
   "source": [
    "# 06. 인덱스 정렬\n",
    "\n",
    "- 인덱스 같지 않으면 카티션 곱\n"
   ],
   "cell_type": "markdown",
   "metadata": {}
  },
  {
   "cell_type": "code",
   "execution_count": 1,
   "metadata": {},
   "outputs": [
    {
     "output_type": "execute_result",
     "data": {
      "text/plain": [
       "           yearID  stint teamID lgID    G   AB   R    H  2B  3B  ...   RBI  \\\n",
       "playerID                                                         ...         \n",
       "altuvjo01    2014      1    HOU   AL  158  660  85  225  47   3  ...  59.0   \n",
       "cartech02    2014      1    HOU   AL  145  507  68  115  21   1  ...  88.0   \n",
       "castrja01    2014      1    HOU   AL  126  465  43  103  21   2  ...  56.0   \n",
       "corpoca01    2014      1    HOU   AL   55  170  22   40   6   0  ...  19.0   \n",
       "dominma01    2014      1    HOU   AL  157  564  51  121  17   0  ...  57.0   \n",
       "\n",
       "             SB   CS  BB     SO  IBB  HBP   SH   SF  GIDP  \n",
       "playerID                                                   \n",
       "altuvjo01  56.0  9.0  36   53.0  7.0  5.0  1.0  5.0  20.0  \n",
       "cartech02   5.0  2.0  56  182.0  6.0  5.0  0.0  4.0  12.0  \n",
       "castrja01   1.0  0.0  34  151.0  1.0  9.0  1.0  3.0  11.0  \n",
       "corpoca01   0.0  0.0  14   37.0  0.0  3.0  1.0  2.0   3.0  \n",
       "dominma01   0.0  1.0  29  125.0  2.0  5.0  2.0  7.0  23.0  \n",
       "\n",
       "[5 rows x 21 columns]"
      ],
      "text/html": "<div>\n<style scoped>\n    .dataframe tbody tr th:only-of-type {\n        vertical-align: middle;\n    }\n\n    .dataframe tbody tr th {\n        vertical-align: top;\n    }\n\n    .dataframe thead th {\n        text-align: right;\n    }\n</style>\n<table border=\"1\" class=\"dataframe\">\n  <thead>\n    <tr style=\"text-align: right;\">\n      <th></th>\n      <th>yearID</th>\n      <th>stint</th>\n      <th>teamID</th>\n      <th>lgID</th>\n      <th>G</th>\n      <th>AB</th>\n      <th>R</th>\n      <th>H</th>\n      <th>2B</th>\n      <th>3B</th>\n      <th>...</th>\n      <th>RBI</th>\n      <th>SB</th>\n      <th>CS</th>\n      <th>BB</th>\n      <th>SO</th>\n      <th>IBB</th>\n      <th>HBP</th>\n      <th>SH</th>\n      <th>SF</th>\n      <th>GIDP</th>\n    </tr>\n    <tr>\n      <th>playerID</th>\n      <th></th>\n      <th></th>\n      <th></th>\n      <th></th>\n      <th></th>\n      <th></th>\n      <th></th>\n      <th></th>\n      <th></th>\n      <th></th>\n      <th></th>\n      <th></th>\n      <th></th>\n      <th></th>\n      <th></th>\n      <th></th>\n      <th></th>\n      <th></th>\n      <th></th>\n      <th></th>\n      <th></th>\n    </tr>\n  </thead>\n  <tbody>\n    <tr>\n      <th>altuvjo01</th>\n      <td>2014</td>\n      <td>1</td>\n      <td>HOU</td>\n      <td>AL</td>\n      <td>158</td>\n      <td>660</td>\n      <td>85</td>\n      <td>225</td>\n      <td>47</td>\n      <td>3</td>\n      <td>...</td>\n      <td>59.0</td>\n      <td>56.0</td>\n      <td>9.0</td>\n      <td>36</td>\n      <td>53.0</td>\n      <td>7.0</td>\n      <td>5.0</td>\n      <td>1.0</td>\n      <td>5.0</td>\n      <td>20.0</td>\n    </tr>\n    <tr>\n      <th>cartech02</th>\n      <td>2014</td>\n      <td>1</td>\n      <td>HOU</td>\n      <td>AL</td>\n      <td>145</td>\n      <td>507</td>\n      <td>68</td>\n      <td>115</td>\n      <td>21</td>\n      <td>1</td>\n      <td>...</td>\n      <td>88.0</td>\n      <td>5.0</td>\n      <td>2.0</td>\n      <td>56</td>\n      <td>182.0</td>\n      <td>6.0</td>\n      <td>5.0</td>\n      <td>0.0</td>\n      <td>4.0</td>\n      <td>12.0</td>\n    </tr>\n    <tr>\n      <th>castrja01</th>\n      <td>2014</td>\n      <td>1</td>\n      <td>HOU</td>\n      <td>AL</td>\n      <td>126</td>\n      <td>465</td>\n      <td>43</td>\n      <td>103</td>\n      <td>21</td>\n      <td>2</td>\n      <td>...</td>\n      <td>56.0</td>\n      <td>1.0</td>\n      <td>0.0</td>\n      <td>34</td>\n      <td>151.0</td>\n      <td>1.0</td>\n      <td>9.0</td>\n      <td>1.0</td>\n      <td>3.0</td>\n      <td>11.0</td>\n    </tr>\n    <tr>\n      <th>corpoca01</th>\n      <td>2014</td>\n      <td>1</td>\n      <td>HOU</td>\n      <td>AL</td>\n      <td>55</td>\n      <td>170</td>\n      <td>22</td>\n      <td>40</td>\n      <td>6</td>\n      <td>0</td>\n      <td>...</td>\n      <td>19.0</td>\n      <td>0.0</td>\n      <td>0.0</td>\n      <td>14</td>\n      <td>37.0</td>\n      <td>0.0</td>\n      <td>3.0</td>\n      <td>1.0</td>\n      <td>2.0</td>\n      <td>3.0</td>\n    </tr>\n    <tr>\n      <th>dominma01</th>\n      <td>2014</td>\n      <td>1</td>\n      <td>HOU</td>\n      <td>AL</td>\n      <td>157</td>\n      <td>564</td>\n      <td>51</td>\n      <td>121</td>\n      <td>17</td>\n      <td>0</td>\n      <td>...</td>\n      <td>57.0</td>\n      <td>0.0</td>\n      <td>1.0</td>\n      <td>29</td>\n      <td>125.0</td>\n      <td>2.0</td>\n      <td>5.0</td>\n      <td>2.0</td>\n      <td>7.0</td>\n      <td>23.0</td>\n    </tr>\n  </tbody>\n</table>\n<p>5 rows × 21 columns</p>\n</div>"
     },
     "metadata": {},
     "execution_count": 1
    }
   ],
   "source": [
    "import pandas as pd\n",
    "\n",
    "baseball_14 = pd.read_csv(\"../data/baseball14.csv\", index_col = \"playerID\")\n",
    "baseball_15 = pd.read_csv(\"../data/baseball15.csv\", index_col = \"playerID\")\n",
    "baseball_16 = pd.read_csv(\"../data/baseball16.csv\", index_col = \"playerID\")\n",
    "baseball_14.head()"
   ]
  },
  {
   "cell_type": "code",
   "execution_count": 2,
   "metadata": {},
   "outputs": [
    {
     "output_type": "stream",
     "name": "stdout",
     "text": [
      "playerID\naltuvjo01    225\ncartech02    115\ncastrja01    103\ncorpoca01     40\ndominma01    121\nfowlede01    120\ngonzama01     79\ngrossro01     84\nguzmaje01     31\nhoeslj01      21\nkrausma01     36\nmarisja01     47\npreslal01     62\nsingljo02     52\nspringe01     68\nvillajo01     55\nName: H, dtype: int64\nplayerID\naltuvjo01    200\ncartech02     78\ncastrja01     71\ncongeha01     46\ncorreca01    108\ngattiev01    139\ngomezca01     36\ngonzama01     96\nlowrije01     51\nmarisja01     80\nrasmuco01    103\nspringe01    107\ntuckepr01     73\nvalbulu01     97\nvillajo01     33\nName: H, dtype: int64\nplayerID\naltuvjo01    216\nbregmal01     53\ncastrja01     69\ncorreca01    158\ngattiev01    112\ngomezca01     62\ngonzama01    123\ngourryu01     34\nkempto01      26\nmarisja01     60\nrasmuco01     76\nreedaj01      20\nspringe01    168\ntuckepr01     22\nvalbulu01     76\nwhitety01     54\nName: H, dtype: int64\n"
     ]
    }
   ],
   "source": [
    "hits_14 = baseball_14[\"H\"]\n",
    "hits_15 = baseball_15[\"H\"]\n",
    "hits_16 = baseball_16[\"H\"]\n",
    "\n",
    "print(hits_14)\n",
    "print(hits_15)\n",
    "print(hits_16)\n"
   ]
  },
  {
   "cell_type": "code",
   "execution_count": 3,
   "metadata": {},
   "outputs": [
    {
     "output_type": "execute_result",
     "data": {
      "text/plain": [
       "playerID\n",
       "altuvjo01    641.0\n",
       "bregmal01     53.0\n",
       "cartech02    193.0\n",
       "castrja01    243.0\n",
       "congeha01     46.0\n",
       "corpoca01     40.0\n",
       "correca01    266.0\n",
       "dominma01    121.0\n",
       "fowlede01    120.0\n",
       "gattiev01    251.0\n",
       "gomezca01     98.0\n",
       "gonzama01    298.0\n",
       "gourryu01     34.0\n",
       "grossro01     84.0\n",
       "guzmaje01     31.0\n",
       "hoeslj01      21.0\n",
       "kempto01      26.0\n",
       "krausma01     36.0\n",
       "lowrije01     51.0\n",
       "marisja01    187.0\n",
       "preslal01     62.0\n",
       "rasmuco01    179.0\n",
       "reedaj01      20.0\n",
       "singljo02     52.0\n",
       "springe01    343.0\n",
       "tuckepr01     95.0\n",
       "valbulu01    173.0\n",
       "villajo01     88.0\n",
       "whitety01     54.0\n",
       "Name: H, dtype: float64"
      ]
     },
     "metadata": {},
     "execution_count": 3
    }
   ],
   "source": [
    "hists_total = hits_14.add(hits_15, fill_value = 0).add(hits_16, fill_value = 0)\n",
    "hists_total"
   ]
  },
  {
   "cell_type": "code",
   "execution_count": 4,
   "metadata": {},
   "outputs": [
    {
     "output_type": "execute_result",
     "data": {
      "text/plain": [
       "                      DEPARTMENT  BASE_SALARY\n",
       "1494  Admn. & Regulatory Affairs     140416.0\n",
       "237   Admn. & Regulatory Affairs     130416.0\n",
       "1679  Admn. & Regulatory Affairs     103776.0\n",
       "988   Admn. & Regulatory Affairs      72741.0\n",
       "693   Admn. & Regulatory Affairs      66825.0\n",
       "...                          ...          ...\n",
       "1140      Solid Waste Management      30410.0\n",
       "1243      Solid Waste Management      30410.0\n",
       "387       Solid Waste Management      28829.0\n",
       "57        Solid Waste Management      27622.0\n",
       "536       Solid Waste Management      26499.0\n",
       "\n",
       "[2000 rows x 2 columns]"
      ],
      "text/html": "<div>\n<style scoped>\n    .dataframe tbody tr th:only-of-type {\n        vertical-align: middle;\n    }\n\n    .dataframe tbody tr th {\n        vertical-align: top;\n    }\n\n    .dataframe thead th {\n        text-align: right;\n    }\n</style>\n<table border=\"1\" class=\"dataframe\">\n  <thead>\n    <tr style=\"text-align: right;\">\n      <th></th>\n      <th>DEPARTMENT</th>\n      <th>BASE_SALARY</th>\n    </tr>\n  </thead>\n  <tbody>\n    <tr>\n      <th>1494</th>\n      <td>Admn. &amp; Regulatory Affairs</td>\n      <td>140416.0</td>\n    </tr>\n    <tr>\n      <th>237</th>\n      <td>Admn. &amp; Regulatory Affairs</td>\n      <td>130416.0</td>\n    </tr>\n    <tr>\n      <th>1679</th>\n      <td>Admn. &amp; Regulatory Affairs</td>\n      <td>103776.0</td>\n    </tr>\n    <tr>\n      <th>988</th>\n      <td>Admn. &amp; Regulatory Affairs</td>\n      <td>72741.0</td>\n    </tr>\n    <tr>\n      <th>693</th>\n      <td>Admn. &amp; Regulatory Affairs</td>\n      <td>66825.0</td>\n    </tr>\n    <tr>\n      <th>...</th>\n      <td>...</td>\n      <td>...</td>\n    </tr>\n    <tr>\n      <th>1140</th>\n      <td>Solid Waste Management</td>\n      <td>30410.0</td>\n    </tr>\n    <tr>\n      <th>1243</th>\n      <td>Solid Waste Management</td>\n      <td>30410.0</td>\n    </tr>\n    <tr>\n      <th>387</th>\n      <td>Solid Waste Management</td>\n      <td>28829.0</td>\n    </tr>\n    <tr>\n      <th>57</th>\n      <td>Solid Waste Management</td>\n      <td>27622.0</td>\n    </tr>\n    <tr>\n      <th>536</th>\n      <td>Solid Waste Management</td>\n      <td>26499.0</td>\n    </tr>\n  </tbody>\n</table>\n<p>2000 rows × 2 columns</p>\n</div>"
     },
     "metadata": {},
     "execution_count": 4
    }
   ],
   "source": [
    "employee = pd.read_csv(\"../data/employee.csv\")\n",
    "\n",
    "dept_sal = employee[[\"DEPARTMENT\", \"BASE_SALARY\"]]\n",
    "\n",
    "dept_sal = dept_sal.sort_values([\"DEPARTMENT\", \"BASE_SALARY\"], ascending = [True, False])\n",
    "\n",
    "dept_sal"
   ]
  },
  {
   "cell_type": "code",
   "execution_count": 5,
   "metadata": {},
   "outputs": [
    {
     "output_type": "execute_result",
     "data": {
      "text/plain": [
       "                          DEPARTMENT  BASE_SALARY\n",
       "1494      Admn. & Regulatory Affairs     140416.0\n",
       "149         City Controller's Office      64251.0\n",
       "236                     City Council     100000.0\n",
       "647     Convention and Entertainment      38397.0\n",
       "1500     Dept of Neighborhoods (DON)      89221.0\n",
       "276                          Finance      96272.0\n",
       "561      Fleet Management Department     125884.0\n",
       "697      General Services Department      89194.0\n",
       "11           Health & Human Services     180416.0\n",
       "396      Housing and Community Devp.      98536.0\n",
       "855     Houston Airport System (HAS)     186192.0\n",
       "197   Houston Emergency Center (HEC)      84456.0\n",
       "178    Houston Fire Department (HFD)     210588.0\n",
       "217    Houston Information Tech Svcs     102019.0\n",
       "767    Houston Police Department-HPD     199596.0\n",
       "1778           Human Resources Dept.     110547.0\n",
       "593                 Legal Department     275000.0\n",
       "1165                         Library     107763.0\n",
       "713                   Mayor's Office     120750.0\n",
       "0        Municipal Courts Department     121862.0\n",
       "1469              Parks & Recreation      85055.0\n",
       "780           Planning & Development      68762.0\n",
       "1232  Public Works & Engineering-PWE     178331.0\n",
       "1559          Solid Waste Management     110005.0"
      ],
      "text/html": "<div>\n<style scoped>\n    .dataframe tbody tr th:only-of-type {\n        vertical-align: middle;\n    }\n\n    .dataframe tbody tr th {\n        vertical-align: top;\n    }\n\n    .dataframe thead th {\n        text-align: right;\n    }\n</style>\n<table border=\"1\" class=\"dataframe\">\n  <thead>\n    <tr style=\"text-align: right;\">\n      <th></th>\n      <th>DEPARTMENT</th>\n      <th>BASE_SALARY</th>\n    </tr>\n  </thead>\n  <tbody>\n    <tr>\n      <th>1494</th>\n      <td>Admn. &amp; Regulatory Affairs</td>\n      <td>140416.0</td>\n    </tr>\n    <tr>\n      <th>149</th>\n      <td>City Controller's Office</td>\n      <td>64251.0</td>\n    </tr>\n    <tr>\n      <th>236</th>\n      <td>City Council</td>\n      <td>100000.0</td>\n    </tr>\n    <tr>\n      <th>647</th>\n      <td>Convention and Entertainment</td>\n      <td>38397.0</td>\n    </tr>\n    <tr>\n      <th>1500</th>\n      <td>Dept of Neighborhoods (DON)</td>\n      <td>89221.0</td>\n    </tr>\n    <tr>\n      <th>276</th>\n      <td>Finance</td>\n      <td>96272.0</td>\n    </tr>\n    <tr>\n      <th>561</th>\n      <td>Fleet Management Department</td>\n      <td>125884.0</td>\n    </tr>\n    <tr>\n      <th>697</th>\n      <td>General Services Department</td>\n      <td>89194.0</td>\n    </tr>\n    <tr>\n      <th>11</th>\n      <td>Health &amp; Human Services</td>\n      <td>180416.0</td>\n    </tr>\n    <tr>\n      <th>396</th>\n      <td>Housing and Community Devp.</td>\n      <td>98536.0</td>\n    </tr>\n    <tr>\n      <th>855</th>\n      <td>Houston Airport System (HAS)</td>\n      <td>186192.0</td>\n    </tr>\n    <tr>\n      <th>197</th>\n      <td>Houston Emergency Center (HEC)</td>\n      <td>84456.0</td>\n    </tr>\n    <tr>\n      <th>178</th>\n      <td>Houston Fire Department (HFD)</td>\n      <td>210588.0</td>\n    </tr>\n    <tr>\n      <th>217</th>\n      <td>Houston Information Tech Svcs</td>\n      <td>102019.0</td>\n    </tr>\n    <tr>\n      <th>767</th>\n      <td>Houston Police Department-HPD</td>\n      <td>199596.0</td>\n    </tr>\n    <tr>\n      <th>1778</th>\n      <td>Human Resources Dept.</td>\n      <td>110547.0</td>\n    </tr>\n    <tr>\n      <th>593</th>\n      <td>Legal Department</td>\n      <td>275000.0</td>\n    </tr>\n    <tr>\n      <th>1165</th>\n      <td>Library</td>\n      <td>107763.0</td>\n    </tr>\n    <tr>\n      <th>713</th>\n      <td>Mayor's Office</td>\n      <td>120750.0</td>\n    </tr>\n    <tr>\n      <th>0</th>\n      <td>Municipal Courts Department</td>\n      <td>121862.0</td>\n    </tr>\n    <tr>\n      <th>1469</th>\n      <td>Parks &amp; Recreation</td>\n      <td>85055.0</td>\n    </tr>\n    <tr>\n      <th>780</th>\n      <td>Planning &amp; Development</td>\n      <td>68762.0</td>\n    </tr>\n    <tr>\n      <th>1232</th>\n      <td>Public Works &amp; Engineering-PWE</td>\n      <td>178331.0</td>\n    </tr>\n    <tr>\n      <th>1559</th>\n      <td>Solid Waste Management</td>\n      <td>110005.0</td>\n    </tr>\n  </tbody>\n</table>\n</div>"
     },
     "metadata": {},
     "execution_count": 5
    }
   ],
   "source": [
    "dept_sal = dept_sal.drop_duplicates(subset = \"DEPARTMENT\")\n",
    "dept_sal"
   ]
  },
  {
   "cell_type": "code",
   "execution_count": 6,
   "metadata": {},
   "outputs": [
    {
     "output_type": "execute_result",
     "data": {
      "text/plain": [
       "CITY                   object\n",
       "STABBR                 object\n",
       "HBCU                  float64\n",
       "MENONLY               float64\n",
       "WOMENONLY             float64\n",
       "RELAFFIL                int64\n",
       "SATVRMID              float64\n",
       "SATMTMID              float64\n",
       "DISTANCEONLY          float64\n",
       "UGDS                  float64\n",
       "UGDS_WHITE            float64\n",
       "UGDS_BLACK            float64\n",
       "UGDS_HISP             float64\n",
       "UGDS_ASIAN            float64\n",
       "UGDS_AIAN             float64\n",
       "UGDS_NHPI             float64\n",
       "UGDS_2MOR             float64\n",
       "UGDS_NRA              float64\n",
       "UGDS_UNKN             float64\n",
       "PPTUG_EF              float64\n",
       "CURROPER                int64\n",
       "PCTPELL               float64\n",
       "PCTFLOAN              float64\n",
       "UG25ABV               float64\n",
       "MD_EARN_WNE_P10        object\n",
       "GRAD_DEBT_MDN_SUPP     object\n",
       "dtype: object"
      ]
     },
     "metadata": {},
     "execution_count": 6
    }
   ],
   "source": [
    "college = pd.read_csv(\"../data/college.csv\", index_col = \"INSTNM\")\n",
    "college.dtypes"
   ]
  },
  {
   "cell_type": "code",
   "execution_count": 7,
   "metadata": {},
   "outputs": [
    {
     "output_type": "execute_result",
     "data": {
      "text/plain": [
       "                                    MD_EARN_WNE_P10 GRAD_DEBT_MDN_SUPP\n",
       "INSTNM                                                                \n",
       "Alabama A & M University                      30300              33888\n",
       "University of Alabama at Birmingham           39700            21941.5\n",
       "Amridge University                            40100              23370"
      ],
      "text/html": "<div>\n<style scoped>\n    .dataframe tbody tr th:only-of-type {\n        vertical-align: middle;\n    }\n\n    .dataframe tbody tr th {\n        vertical-align: top;\n    }\n\n    .dataframe thead th {\n        text-align: right;\n    }\n</style>\n<table border=\"1\" class=\"dataframe\">\n  <thead>\n    <tr style=\"text-align: right;\">\n      <th></th>\n      <th>MD_EARN_WNE_P10</th>\n      <th>GRAD_DEBT_MDN_SUPP</th>\n    </tr>\n    <tr>\n      <th>INSTNM</th>\n      <th></th>\n      <th></th>\n    </tr>\n  </thead>\n  <tbody>\n    <tr>\n      <th>Alabama A &amp; M University</th>\n      <td>30300</td>\n      <td>33888</td>\n    </tr>\n    <tr>\n      <th>University of Alabama at Birmingham</th>\n      <td>39700</td>\n      <td>21941.5</td>\n    </tr>\n    <tr>\n      <th>Amridge University</th>\n      <td>40100</td>\n      <td>23370</td>\n    </tr>\n  </tbody>\n</table>\n</div>"
     },
     "metadata": {},
     "execution_count": 7
    }
   ],
   "source": [
    "cols = [\"MD_EARN_WNE_P10\", \"GRAD_DEBT_MDN_SUPP\"]\n",
    "college[cols].head(3)"
   ]
  },
  {
   "cell_type": "code",
   "execution_count": 8,
   "metadata": {},
   "outputs": [
    {
     "output_type": "execute_result",
     "data": {
      "text/plain": [
       "CITY                   object\n",
       "STABBR                 object\n",
       "HBCU                  float64\n",
       "MENONLY               float64\n",
       "WOMENONLY             float64\n",
       "RELAFFIL                int64\n",
       "SATVRMID              float64\n",
       "SATMTMID              float64\n",
       "DISTANCEONLY          float64\n",
       "UGDS                  float64\n",
       "UGDS_WHITE            float64\n",
       "UGDS_BLACK            float64\n",
       "UGDS_HISP             float64\n",
       "UGDS_ASIAN            float64\n",
       "UGDS_AIAN             float64\n",
       "UGDS_NHPI             float64\n",
       "UGDS_2MOR             float64\n",
       "UGDS_NRA              float64\n",
       "UGDS_UNKN             float64\n",
       "PPTUG_EF              float64\n",
       "CURROPER                int64\n",
       "PCTPELL               float64\n",
       "PCTFLOAN              float64\n",
       "UG25ABV               float64\n",
       "MD_EARN_WNE_P10       float64\n",
       "GRAD_DEBT_MDN_SUPP    float64\n",
       "dtype: object"
      ]
     },
     "metadata": {},
     "execution_count": 8
    }
   ],
   "source": [
    "for col in cols:\n",
    "    college[col] = pd.to_numeric(college[col], errors = \"coerce\")\n",
    "\n",
    "college.dtypes"
   ]
  },
  {
   "cell_type": "code",
   "execution_count": 9,
   "metadata": {},
   "outputs": [
    {
     "output_type": "execute_result",
     "data": {
      "text/plain": [
       "                                     SATVRMID  SATMTMID     UGDS  UGDS_WHITE  \\\n",
       "INSTNM                                                                         \n",
       "Alabama A & M University                424.0     420.0   4206.0      0.0333   \n",
       "University of Alabama at Birmingham     570.0     565.0  11383.0      0.5922   \n",
       "Amridge University                        NaN       NaN    291.0      0.2990   \n",
       "University of Alabama in Huntsville     595.0     590.0   5451.0      0.6988   \n",
       "Alabama State University                425.0     430.0   4811.0      0.0158   \n",
       "\n",
       "                                     UGDS_BLACK  UGDS_HISP  UGDS_ASIAN  \\\n",
       "INSTNM                                                                   \n",
       "Alabama A & M University                 0.9353     0.0055      0.0019   \n",
       "University of Alabama at Birmingham      0.2600     0.0283      0.0518   \n",
       "Amridge University                       0.4192     0.0069      0.0034   \n",
       "University of Alabama in Huntsville      0.1255     0.0382      0.0376   \n",
       "Alabama State University                 0.9208     0.0121      0.0019   \n",
       "\n",
       "                                     UGDS_AIAN  UGDS_NHPI  UGDS_2MOR  \\\n",
       "INSTNM                                                                 \n",
       "Alabama A & M University                0.0024     0.0019     0.0000   \n",
       "University of Alabama at Birmingham     0.0022     0.0007     0.0368   \n",
       "Amridge University                      0.0000     0.0000     0.0000   \n",
       "University of Alabama in Huntsville     0.0143     0.0002     0.0172   \n",
       "Alabama State University                0.0010     0.0006     0.0098   \n",
       "\n",
       "                                     UGDS_NRA  UGDS_UNKN  PPTUG_EF  PCTPELL  \\\n",
       "INSTNM                                                                        \n",
       "Alabama A & M University               0.0059     0.0138    0.0656   0.7356   \n",
       "University of Alabama at Birmingham    0.0179     0.0100    0.2607   0.3460   \n",
       "Amridge University                     0.0000     0.2715    0.4536   0.6801   \n",
       "University of Alabama in Huntsville    0.0332     0.0350    0.2146   0.3072   \n",
       "Alabama State University               0.0243     0.0137    0.0892   0.7347   \n",
       "\n",
       "                                     PCTFLOAN  UG25ABV  MD_EARN_WNE_P10  \\\n",
       "INSTNM                                                                    \n",
       "Alabama A & M University               0.8284   0.1049          30300.0   \n",
       "University of Alabama at Birmingham    0.5214   0.2422          39700.0   \n",
       "Amridge University                     0.7795   0.8540          40100.0   \n",
       "University of Alabama in Huntsville    0.4596   0.2640          45500.0   \n",
       "Alabama State University               0.7554   0.1270          26600.0   \n",
       "\n",
       "                                     GRAD_DEBT_MDN_SUPP  \n",
       "INSTNM                                                   \n",
       "Alabama A & M University                        33888.0  \n",
       "University of Alabama at Birmingham             21941.5  \n",
       "Amridge University                              23370.0  \n",
       "University of Alabama in Huntsville             24097.0  \n",
       "Alabama State University                        33118.5  "
      ],
      "text/html": "<div>\n<style scoped>\n    .dataframe tbody tr th:only-of-type {\n        vertical-align: middle;\n    }\n\n    .dataframe tbody tr th {\n        vertical-align: top;\n    }\n\n    .dataframe thead th {\n        text-align: right;\n    }\n</style>\n<table border=\"1\" class=\"dataframe\">\n  <thead>\n    <tr style=\"text-align: right;\">\n      <th></th>\n      <th>SATVRMID</th>\n      <th>SATMTMID</th>\n      <th>UGDS</th>\n      <th>UGDS_WHITE</th>\n      <th>UGDS_BLACK</th>\n      <th>UGDS_HISP</th>\n      <th>UGDS_ASIAN</th>\n      <th>UGDS_AIAN</th>\n      <th>UGDS_NHPI</th>\n      <th>UGDS_2MOR</th>\n      <th>UGDS_NRA</th>\n      <th>UGDS_UNKN</th>\n      <th>PPTUG_EF</th>\n      <th>PCTPELL</th>\n      <th>PCTFLOAN</th>\n      <th>UG25ABV</th>\n      <th>MD_EARN_WNE_P10</th>\n      <th>GRAD_DEBT_MDN_SUPP</th>\n    </tr>\n    <tr>\n      <th>INSTNM</th>\n      <th></th>\n      <th></th>\n      <th></th>\n      <th></th>\n      <th></th>\n      <th></th>\n      <th></th>\n      <th></th>\n      <th></th>\n      <th></th>\n      <th></th>\n      <th></th>\n      <th></th>\n      <th></th>\n      <th></th>\n      <th></th>\n      <th></th>\n      <th></th>\n    </tr>\n  </thead>\n  <tbody>\n    <tr>\n      <th>Alabama A &amp; M University</th>\n      <td>424.0</td>\n      <td>420.0</td>\n      <td>4206.0</td>\n      <td>0.0333</td>\n      <td>0.9353</td>\n      <td>0.0055</td>\n      <td>0.0019</td>\n      <td>0.0024</td>\n      <td>0.0019</td>\n      <td>0.0000</td>\n      <td>0.0059</td>\n      <td>0.0138</td>\n      <td>0.0656</td>\n      <td>0.7356</td>\n      <td>0.8284</td>\n      <td>0.1049</td>\n      <td>30300.0</td>\n      <td>33888.0</td>\n    </tr>\n    <tr>\n      <th>University of Alabama at Birmingham</th>\n      <td>570.0</td>\n      <td>565.0</td>\n      <td>11383.0</td>\n      <td>0.5922</td>\n      <td>0.2600</td>\n      <td>0.0283</td>\n      <td>0.0518</td>\n      <td>0.0022</td>\n      <td>0.0007</td>\n      <td>0.0368</td>\n      <td>0.0179</td>\n      <td>0.0100</td>\n      <td>0.2607</td>\n      <td>0.3460</td>\n      <td>0.5214</td>\n      <td>0.2422</td>\n      <td>39700.0</td>\n      <td>21941.5</td>\n    </tr>\n    <tr>\n      <th>Amridge University</th>\n      <td>NaN</td>\n      <td>NaN</td>\n      <td>291.0</td>\n      <td>0.2990</td>\n      <td>0.4192</td>\n      <td>0.0069</td>\n      <td>0.0034</td>\n      <td>0.0000</td>\n      <td>0.0000</td>\n      <td>0.0000</td>\n      <td>0.0000</td>\n      <td>0.2715</td>\n      <td>0.4536</td>\n      <td>0.6801</td>\n      <td>0.7795</td>\n      <td>0.8540</td>\n      <td>40100.0</td>\n      <td>23370.0</td>\n    </tr>\n    <tr>\n      <th>University of Alabama in Huntsville</th>\n      <td>595.0</td>\n      <td>590.0</td>\n      <td>5451.0</td>\n      <td>0.6988</td>\n      <td>0.1255</td>\n      <td>0.0382</td>\n      <td>0.0376</td>\n      <td>0.0143</td>\n      <td>0.0002</td>\n      <td>0.0172</td>\n      <td>0.0332</td>\n      <td>0.0350</td>\n      <td>0.2146</td>\n      <td>0.3072</td>\n      <td>0.4596</td>\n      <td>0.2640</td>\n      <td>45500.0</td>\n      <td>24097.0</td>\n    </tr>\n    <tr>\n      <th>Alabama State University</th>\n      <td>425.0</td>\n      <td>430.0</td>\n      <td>4811.0</td>\n      <td>0.0158</td>\n      <td>0.9208</td>\n      <td>0.0121</td>\n      <td>0.0019</td>\n      <td>0.0010</td>\n      <td>0.0006</td>\n      <td>0.0098</td>\n      <td>0.0243</td>\n      <td>0.0137</td>\n      <td>0.0892</td>\n      <td>0.7347</td>\n      <td>0.7554</td>\n      <td>0.1270</td>\n      <td>26600.0</td>\n      <td>33118.5</td>\n    </tr>\n  </tbody>\n</table>\n</div>"
     },
     "metadata": {},
     "execution_count": 9
    }
   ],
   "source": [
    "import numpy as np\n",
    "\n",
    "college_n = college.select_dtypes(include = [np.number])\n",
    "criteria = college_n.nunique() == 2\n",
    "binary_cols = college_n.columns[criteria].tolist()\n",
    "\n",
    "college_n2 = college_n.drop(labels = binary_cols, axis = \"columns\")\n",
    "college_n2.head()"
   ]
  },
  {
   "cell_type": "code",
   "execution_count": 10,
   "metadata": {},
   "outputs": [
    {
     "output_type": "execute_result",
     "data": {
      "text/plain": [
       "SATVRMID                             California Institute of Technology\n",
       "SATMTMID                             California Institute of Technology\n",
       "UGDS                                      University of Phoenix-Arizona\n",
       "UGDS_WHITE                       Mr Leon's School of Hair Design-Moscow\n",
       "UGDS_BLACK                           Velvatex College of Beauty Culture\n",
       "UGDS_HISP                       Thunderbird School of Global Management\n",
       "UGDS_ASIAN                          Cosmopolitan Beauty and Tech School\n",
       "UGDS_AIAN                             Haskell Indian Nations University\n",
       "UGDS_NHPI                                       Palau Community College\n",
       "UGDS_2MOR                                                 LIU Brentwood\n",
       "UGDS_NRA               California University of Management and Sciences\n",
       "UGDS_UNKN             Le Cordon Bleu College of Culinary Arts-San Fr...\n",
       "PPTUG_EF                        Thunderbird School of Global Management\n",
       "PCTPELL                                        MTI Business College Inc\n",
       "PCTFLOAN                                         ABC Beauty College Inc\n",
       "UG25ABV                                  Dongguk University-Los Angeles\n",
       "MD_EARN_WNE_P10                            Medical College of Wisconsin\n",
       "GRAD_DEBT_MDN_SUPP           Southwest University of Visual Arts-Tucson\n",
       "dtype: object"
      ]
     },
     "metadata": {},
     "execution_count": 10
    }
   ],
   "source": [
    "max_cols = college_n2.idxmax()\n",
    "max_cols"
   ]
  },
  {
   "cell_type": "code",
   "execution_count": 11,
   "metadata": {},
   "outputs": [
    {
     "output_type": "execute_result",
     "data": {
      "text/plain": [
       "array(['California Institute of Technology',\n",
       "       'University of Phoenix-Arizona',\n",
       "       \"Mr Leon's School of Hair Design-Moscow\",\n",
       "       'Velvatex College of Beauty Culture',\n",
       "       'Thunderbird School of Global Management',\n",
       "       'Cosmopolitan Beauty and Tech School',\n",
       "       'Haskell Indian Nations University', 'Palau Community College',\n",
       "       'LIU Brentwood',\n",
       "       'California University of Management and Sciences',\n",
       "       'Le Cordon Bleu College of Culinary Arts-San Francisco',\n",
       "       'MTI Business College Inc', 'ABC Beauty College Inc',\n",
       "       'Dongguk University-Los Angeles', 'Medical College of Wisconsin',\n",
       "       'Southwest University of Visual Arts-Tucson'], dtype=object)"
      ]
     },
     "metadata": {},
     "execution_count": 11
    }
   ],
   "source": [
    "unique_max_cols = max_cols.unique()\n",
    "unique_max_cols"
   ]
  },
  {
   "cell_type": "code",
   "execution_count": 12,
   "metadata": {},
   "outputs": [
    {
     "output_type": "execute_result",
     "data": {
      "text/plain": [
       "<pandas.io.formats.style.Styler at 0x7fd4486abb20>"
      ],
      "text/html": "<style  type=\"text/css\" >\n#T_02dbd88a_1166_11eb_8ce3_38f9d35bbed7row0_col0,#T_02dbd88a_1166_11eb_8ce3_38f9d35bbed7row0_col1,#T_02dbd88a_1166_11eb_8ce3_38f9d35bbed7row0_col6,#T_02dbd88a_1166_11eb_8ce3_38f9d35bbed7row0_col10,#T_02dbd88a_1166_11eb_8ce3_38f9d35bbed7row1_col2,#T_02dbd88a_1166_11eb_8ce3_38f9d35bbed7row1_col7,#T_02dbd88a_1166_11eb_8ce3_38f9d35bbed7row1_col8,#T_02dbd88a_1166_11eb_8ce3_38f9d35bbed7row1_col9,#T_02dbd88a_1166_11eb_8ce3_38f9d35bbed7row1_col11,#T_02dbd88a_1166_11eb_8ce3_38f9d35bbed7row1_col17,#T_02dbd88a_1166_11eb_8ce3_38f9d35bbed7row2_col3,#T_02dbd88a_1166_11eb_8ce3_38f9d35bbed7row2_col14,#T_02dbd88a_1166_11eb_8ce3_38f9d35bbed7row3_col4,#T_02dbd88a_1166_11eb_8ce3_38f9d35bbed7row3_col13,#T_02dbd88a_1166_11eb_8ce3_38f9d35bbed7row3_col15,#T_02dbd88a_1166_11eb_8ce3_38f9d35bbed7row4_col5,#T_02dbd88a_1166_11eb_8ce3_38f9d35bbed7row4_col12,#T_02dbd88a_1166_11eb_8ce3_38f9d35bbed7row4_col16{\n            background-color:  yellow;\n        }</style><table id=\"T_02dbd88a_1166_11eb_8ce3_38f9d35bbed7\" ><thead>    <tr>        <th class=\"blank level0\" ></th>        <th class=\"col_heading level0 col0\" >SATVRMID</th>        <th class=\"col_heading level0 col1\" >SATMTMID</th>        <th class=\"col_heading level0 col2\" >UGDS</th>        <th class=\"col_heading level0 col3\" >UGDS_WHITE</th>        <th class=\"col_heading level0 col4\" >UGDS_BLACK</th>        <th class=\"col_heading level0 col5\" >UGDS_HISP</th>        <th class=\"col_heading level0 col6\" >UGDS_ASIAN</th>        <th class=\"col_heading level0 col7\" >UGDS_AIAN</th>        <th class=\"col_heading level0 col8\" >UGDS_NHPI</th>        <th class=\"col_heading level0 col9\" >UGDS_2MOR</th>        <th class=\"col_heading level0 col10\" >UGDS_NRA</th>        <th class=\"col_heading level0 col11\" >UGDS_UNKN</th>        <th class=\"col_heading level0 col12\" >PPTUG_EF</th>        <th class=\"col_heading level0 col13\" >PCTPELL</th>        <th class=\"col_heading level0 col14\" >PCTFLOAN</th>        <th class=\"col_heading level0 col15\" >UG25ABV</th>        <th class=\"col_heading level0 col16\" >MD_EARN_WNE_P10</th>        <th class=\"col_heading level0 col17\" >GRAD_DEBT_MDN_SUPP</th>    </tr>    <tr>        <th class=\"index_name level0\" >INSTNM</th>        <th class=\"blank\" ></th>        <th class=\"blank\" ></th>        <th class=\"blank\" ></th>        <th class=\"blank\" ></th>        <th class=\"blank\" ></th>        <th class=\"blank\" ></th>        <th class=\"blank\" ></th>        <th class=\"blank\" ></th>        <th class=\"blank\" ></th>        <th class=\"blank\" ></th>        <th class=\"blank\" ></th>        <th class=\"blank\" ></th>        <th class=\"blank\" ></th>        <th class=\"blank\" ></th>        <th class=\"blank\" ></th>        <th class=\"blank\" ></th>        <th class=\"blank\" ></th>        <th class=\"blank\" ></th>    </tr></thead><tbody>\n                <tr>\n                        <th id=\"T_02dbd88a_1166_11eb_8ce3_38f9d35bbed7level0_row0\" class=\"row_heading level0 row0\" >California Institute of Technology</th>\n                        <td id=\"T_02dbd88a_1166_11eb_8ce3_38f9d35bbed7row0_col0\" class=\"data row0 col0\" >765.000000</td>\n                        <td id=\"T_02dbd88a_1166_11eb_8ce3_38f9d35bbed7row0_col1\" class=\"data row0 col1\" >785.000000</td>\n                        <td id=\"T_02dbd88a_1166_11eb_8ce3_38f9d35bbed7row0_col2\" class=\"data row0 col2\" >983.000000</td>\n                        <td id=\"T_02dbd88a_1166_11eb_8ce3_38f9d35bbed7row0_col3\" class=\"data row0 col3\" >0.278700</td>\n                        <td id=\"T_02dbd88a_1166_11eb_8ce3_38f9d35bbed7row0_col4\" class=\"data row0 col4\" >0.015300</td>\n                        <td id=\"T_02dbd88a_1166_11eb_8ce3_38f9d35bbed7row0_col5\" class=\"data row0 col5\" >0.122100</td>\n                        <td id=\"T_02dbd88a_1166_11eb_8ce3_38f9d35bbed7row0_col6\" class=\"data row0 col6\" >0.438500</td>\n                        <td id=\"T_02dbd88a_1166_11eb_8ce3_38f9d35bbed7row0_col7\" class=\"data row0 col7\" >0.001000</td>\n                        <td id=\"T_02dbd88a_1166_11eb_8ce3_38f9d35bbed7row0_col8\" class=\"data row0 col8\" >0.000000</td>\n                        <td id=\"T_02dbd88a_1166_11eb_8ce3_38f9d35bbed7row0_col9\" class=\"data row0 col9\" >0.057000</td>\n                        <td id=\"T_02dbd88a_1166_11eb_8ce3_38f9d35bbed7row0_col10\" class=\"data row0 col10\" >0.087500</td>\n                        <td id=\"T_02dbd88a_1166_11eb_8ce3_38f9d35bbed7row0_col11\" class=\"data row0 col11\" >0.000000</td>\n                        <td id=\"T_02dbd88a_1166_11eb_8ce3_38f9d35bbed7row0_col12\" class=\"data row0 col12\" >0.000000</td>\n                        <td id=\"T_02dbd88a_1166_11eb_8ce3_38f9d35bbed7row0_col13\" class=\"data row0 col13\" >0.112600</td>\n                        <td id=\"T_02dbd88a_1166_11eb_8ce3_38f9d35bbed7row0_col14\" class=\"data row0 col14\" >0.230300</td>\n                        <td id=\"T_02dbd88a_1166_11eb_8ce3_38f9d35bbed7row0_col15\" class=\"data row0 col15\" >0.008200</td>\n                        <td id=\"T_02dbd88a_1166_11eb_8ce3_38f9d35bbed7row0_col16\" class=\"data row0 col16\" >77800.000000</td>\n                        <td id=\"T_02dbd88a_1166_11eb_8ce3_38f9d35bbed7row0_col17\" class=\"data row0 col17\" >11812.500000</td>\n            </tr>\n            <tr>\n                        <th id=\"T_02dbd88a_1166_11eb_8ce3_38f9d35bbed7level0_row1\" class=\"row_heading level0 row1\" >University of Phoenix-Arizona</th>\n                        <td id=\"T_02dbd88a_1166_11eb_8ce3_38f9d35bbed7row1_col0\" class=\"data row1 col0\" >nan</td>\n                        <td id=\"T_02dbd88a_1166_11eb_8ce3_38f9d35bbed7row1_col1\" class=\"data row1 col1\" >nan</td>\n                        <td id=\"T_02dbd88a_1166_11eb_8ce3_38f9d35bbed7row1_col2\" class=\"data row1 col2\" >151558.000000</td>\n                        <td id=\"T_02dbd88a_1166_11eb_8ce3_38f9d35bbed7row1_col3\" class=\"data row1 col3\" >0.309800</td>\n                        <td id=\"T_02dbd88a_1166_11eb_8ce3_38f9d35bbed7row1_col4\" class=\"data row1 col4\" >0.155500</td>\n                        <td id=\"T_02dbd88a_1166_11eb_8ce3_38f9d35bbed7row1_col5\" class=\"data row1 col5\" >0.076000</td>\n                        <td id=\"T_02dbd88a_1166_11eb_8ce3_38f9d35bbed7row1_col6\" class=\"data row1 col6\" >0.008200</td>\n                        <td id=\"T_02dbd88a_1166_11eb_8ce3_38f9d35bbed7row1_col7\" class=\"data row1 col7\" >0.004200</td>\n                        <td id=\"T_02dbd88a_1166_11eb_8ce3_38f9d35bbed7row1_col8\" class=\"data row1 col8\" >0.005000</td>\n                        <td id=\"T_02dbd88a_1166_11eb_8ce3_38f9d35bbed7row1_col9\" class=\"data row1 col9\" >0.113100</td>\n                        <td id=\"T_02dbd88a_1166_11eb_8ce3_38f9d35bbed7row1_col10\" class=\"data row1 col10\" >0.013100</td>\n                        <td id=\"T_02dbd88a_1166_11eb_8ce3_38f9d35bbed7row1_col11\" class=\"data row1 col11\" >0.315200</td>\n                        <td id=\"T_02dbd88a_1166_11eb_8ce3_38f9d35bbed7row1_col12\" class=\"data row1 col12\" >0.000000</td>\n                        <td id=\"T_02dbd88a_1166_11eb_8ce3_38f9d35bbed7row1_col13\" class=\"data row1 col13\" >0.600900</td>\n                        <td id=\"T_02dbd88a_1166_11eb_8ce3_38f9d35bbed7row1_col14\" class=\"data row1 col14\" >0.592000</td>\n                        <td id=\"T_02dbd88a_1166_11eb_8ce3_38f9d35bbed7row1_col15\" class=\"data row1 col15\" >nan</td>\n                        <td id=\"T_02dbd88a_1166_11eb_8ce3_38f9d35bbed7row1_col16\" class=\"data row1 col16\" >nan</td>\n                        <td id=\"T_02dbd88a_1166_11eb_8ce3_38f9d35bbed7row1_col17\" class=\"data row1 col17\" >33000.000000</td>\n            </tr>\n            <tr>\n                        <th id=\"T_02dbd88a_1166_11eb_8ce3_38f9d35bbed7level0_row2\" class=\"row_heading level0 row2\" >Mr Leon's School of Hair Design-Moscow</th>\n                        <td id=\"T_02dbd88a_1166_11eb_8ce3_38f9d35bbed7row2_col0\" class=\"data row2 col0\" >nan</td>\n                        <td id=\"T_02dbd88a_1166_11eb_8ce3_38f9d35bbed7row2_col1\" class=\"data row2 col1\" >nan</td>\n                        <td id=\"T_02dbd88a_1166_11eb_8ce3_38f9d35bbed7row2_col2\" class=\"data row2 col2\" >16.000000</td>\n                        <td id=\"T_02dbd88a_1166_11eb_8ce3_38f9d35bbed7row2_col3\" class=\"data row2 col3\" >1.000000</td>\n                        <td id=\"T_02dbd88a_1166_11eb_8ce3_38f9d35bbed7row2_col4\" class=\"data row2 col4\" >0.000000</td>\n                        <td id=\"T_02dbd88a_1166_11eb_8ce3_38f9d35bbed7row2_col5\" class=\"data row2 col5\" >0.000000</td>\n                        <td id=\"T_02dbd88a_1166_11eb_8ce3_38f9d35bbed7row2_col6\" class=\"data row2 col6\" >0.000000</td>\n                        <td id=\"T_02dbd88a_1166_11eb_8ce3_38f9d35bbed7row2_col7\" class=\"data row2 col7\" >0.000000</td>\n                        <td id=\"T_02dbd88a_1166_11eb_8ce3_38f9d35bbed7row2_col8\" class=\"data row2 col8\" >0.000000</td>\n                        <td id=\"T_02dbd88a_1166_11eb_8ce3_38f9d35bbed7row2_col9\" class=\"data row2 col9\" >0.000000</td>\n                        <td id=\"T_02dbd88a_1166_11eb_8ce3_38f9d35bbed7row2_col10\" class=\"data row2 col10\" >0.000000</td>\n                        <td id=\"T_02dbd88a_1166_11eb_8ce3_38f9d35bbed7row2_col11\" class=\"data row2 col11\" >0.000000</td>\n                        <td id=\"T_02dbd88a_1166_11eb_8ce3_38f9d35bbed7row2_col12\" class=\"data row2 col12\" >0.000000</td>\n                        <td id=\"T_02dbd88a_1166_11eb_8ce3_38f9d35bbed7row2_col13\" class=\"data row2 col13\" >0.625000</td>\n                        <td id=\"T_02dbd88a_1166_11eb_8ce3_38f9d35bbed7row2_col14\" class=\"data row2 col14\" >0.625000</td>\n                        <td id=\"T_02dbd88a_1166_11eb_8ce3_38f9d35bbed7row2_col15\" class=\"data row2 col15\" >0.200000</td>\n                        <td id=\"T_02dbd88a_1166_11eb_8ce3_38f9d35bbed7row2_col16\" class=\"data row2 col16\" >nan</td>\n                        <td id=\"T_02dbd88a_1166_11eb_8ce3_38f9d35bbed7row2_col17\" class=\"data row2 col17\" >15710.000000</td>\n            </tr>\n            <tr>\n                        <th id=\"T_02dbd88a_1166_11eb_8ce3_38f9d35bbed7level0_row3\" class=\"row_heading level0 row3\" >Velvatex College of Beauty Culture</th>\n                        <td id=\"T_02dbd88a_1166_11eb_8ce3_38f9d35bbed7row3_col0\" class=\"data row3 col0\" >nan</td>\n                        <td id=\"T_02dbd88a_1166_11eb_8ce3_38f9d35bbed7row3_col1\" class=\"data row3 col1\" >nan</td>\n                        <td id=\"T_02dbd88a_1166_11eb_8ce3_38f9d35bbed7row3_col2\" class=\"data row3 col2\" >25.000000</td>\n                        <td id=\"T_02dbd88a_1166_11eb_8ce3_38f9d35bbed7row3_col3\" class=\"data row3 col3\" >0.000000</td>\n                        <td id=\"T_02dbd88a_1166_11eb_8ce3_38f9d35bbed7row3_col4\" class=\"data row3 col4\" >1.000000</td>\n                        <td id=\"T_02dbd88a_1166_11eb_8ce3_38f9d35bbed7row3_col5\" class=\"data row3 col5\" >0.000000</td>\n                        <td id=\"T_02dbd88a_1166_11eb_8ce3_38f9d35bbed7row3_col6\" class=\"data row3 col6\" >0.000000</td>\n                        <td id=\"T_02dbd88a_1166_11eb_8ce3_38f9d35bbed7row3_col7\" class=\"data row3 col7\" >0.000000</td>\n                        <td id=\"T_02dbd88a_1166_11eb_8ce3_38f9d35bbed7row3_col8\" class=\"data row3 col8\" >0.000000</td>\n                        <td id=\"T_02dbd88a_1166_11eb_8ce3_38f9d35bbed7row3_col9\" class=\"data row3 col9\" >0.000000</td>\n                        <td id=\"T_02dbd88a_1166_11eb_8ce3_38f9d35bbed7row3_col10\" class=\"data row3 col10\" >0.000000</td>\n                        <td id=\"T_02dbd88a_1166_11eb_8ce3_38f9d35bbed7row3_col11\" class=\"data row3 col11\" >0.000000</td>\n                        <td id=\"T_02dbd88a_1166_11eb_8ce3_38f9d35bbed7row3_col12\" class=\"data row3 col12\" >0.200000</td>\n                        <td id=\"T_02dbd88a_1166_11eb_8ce3_38f9d35bbed7row3_col13\" class=\"data row3 col13\" >0.769200</td>\n                        <td id=\"T_02dbd88a_1166_11eb_8ce3_38f9d35bbed7row3_col14\" class=\"data row3 col14\" >0.000000</td>\n                        <td id=\"T_02dbd88a_1166_11eb_8ce3_38f9d35bbed7row3_col15\" class=\"data row3 col15\" >0.520000</td>\n                        <td id=\"T_02dbd88a_1166_11eb_8ce3_38f9d35bbed7row3_col16\" class=\"data row3 col16\" >nan</td>\n                        <td id=\"T_02dbd88a_1166_11eb_8ce3_38f9d35bbed7row3_col17\" class=\"data row3 col17\" >nan</td>\n            </tr>\n            <tr>\n                        <th id=\"T_02dbd88a_1166_11eb_8ce3_38f9d35bbed7level0_row4\" class=\"row_heading level0 row4\" >Thunderbird School of Global Management</th>\n                        <td id=\"T_02dbd88a_1166_11eb_8ce3_38f9d35bbed7row4_col0\" class=\"data row4 col0\" >nan</td>\n                        <td id=\"T_02dbd88a_1166_11eb_8ce3_38f9d35bbed7row4_col1\" class=\"data row4 col1\" >nan</td>\n                        <td id=\"T_02dbd88a_1166_11eb_8ce3_38f9d35bbed7row4_col2\" class=\"data row4 col2\" >1.000000</td>\n                        <td id=\"T_02dbd88a_1166_11eb_8ce3_38f9d35bbed7row4_col3\" class=\"data row4 col3\" >0.000000</td>\n                        <td id=\"T_02dbd88a_1166_11eb_8ce3_38f9d35bbed7row4_col4\" class=\"data row4 col4\" >0.000000</td>\n                        <td id=\"T_02dbd88a_1166_11eb_8ce3_38f9d35bbed7row4_col5\" class=\"data row4 col5\" >1.000000</td>\n                        <td id=\"T_02dbd88a_1166_11eb_8ce3_38f9d35bbed7row4_col6\" class=\"data row4 col6\" >0.000000</td>\n                        <td id=\"T_02dbd88a_1166_11eb_8ce3_38f9d35bbed7row4_col7\" class=\"data row4 col7\" >0.000000</td>\n                        <td id=\"T_02dbd88a_1166_11eb_8ce3_38f9d35bbed7row4_col8\" class=\"data row4 col8\" >0.000000</td>\n                        <td id=\"T_02dbd88a_1166_11eb_8ce3_38f9d35bbed7row4_col9\" class=\"data row4 col9\" >0.000000</td>\n                        <td id=\"T_02dbd88a_1166_11eb_8ce3_38f9d35bbed7row4_col10\" class=\"data row4 col10\" >0.000000</td>\n                        <td id=\"T_02dbd88a_1166_11eb_8ce3_38f9d35bbed7row4_col11\" class=\"data row4 col11\" >0.000000</td>\n                        <td id=\"T_02dbd88a_1166_11eb_8ce3_38f9d35bbed7row4_col12\" class=\"data row4 col12\" >1.000000</td>\n                        <td id=\"T_02dbd88a_1166_11eb_8ce3_38f9d35bbed7row4_col13\" class=\"data row4 col13\" >0.000000</td>\n                        <td id=\"T_02dbd88a_1166_11eb_8ce3_38f9d35bbed7row4_col14\" class=\"data row4 col14\" >0.000000</td>\n                        <td id=\"T_02dbd88a_1166_11eb_8ce3_38f9d35bbed7row4_col15\" class=\"data row4 col15\" >0.000000</td>\n                        <td id=\"T_02dbd88a_1166_11eb_8ce3_38f9d35bbed7row4_col16\" class=\"data row4 col16\" >118900.000000</td>\n                        <td id=\"T_02dbd88a_1166_11eb_8ce3_38f9d35bbed7row4_col17\" class=\"data row4 col17\" >nan</td>\n            </tr>\n    </tbody></table>"
     },
     "metadata": {},
     "execution_count": 12
    }
   ],
   "source": [
    "college_n2.loc[unique_max_cols].head().style.highlight_max()"
   ]
  },
  {
   "cell_type": "code",
   "execution_count": 13,
   "metadata": {},
   "outputs": [
    {
     "output_type": "execute_result",
     "data": {
      "text/plain": [
       "<pandas.io.formats.style.Styler at 0x7fd44a3ae670>"
      ],
      "text/html": "<style  type=\"text/css\" >\n#T_02e90a6e_1166_11eb_8ce3_38f9d35bbed7row0_col16,#T_02e90a6e_1166_11eb_8ce3_38f9d35bbed7row1_col2,#T_02e90a6e_1166_11eb_8ce3_38f9d35bbed7row2_col17,#T_02e90a6e_1166_11eb_8ce3_38f9d35bbed7row3_col2,#T_02e90a6e_1166_11eb_8ce3_38f9d35bbed7row4_col16{\n            background-color:  yellow;\n        }</style><table id=\"T_02e90a6e_1166_11eb_8ce3_38f9d35bbed7\" ><thead>    <tr>        <th class=\"blank level0\" ></th>        <th class=\"col_heading level0 col0\" >SATVRMID</th>        <th class=\"col_heading level0 col1\" >SATMTMID</th>        <th class=\"col_heading level0 col2\" >UGDS</th>        <th class=\"col_heading level0 col3\" >UGDS_WHITE</th>        <th class=\"col_heading level0 col4\" >UGDS_BLACK</th>        <th class=\"col_heading level0 col5\" >UGDS_HISP</th>        <th class=\"col_heading level0 col6\" >UGDS_ASIAN</th>        <th class=\"col_heading level0 col7\" >UGDS_AIAN</th>        <th class=\"col_heading level0 col8\" >UGDS_NHPI</th>        <th class=\"col_heading level0 col9\" >UGDS_2MOR</th>        <th class=\"col_heading level0 col10\" >UGDS_NRA</th>        <th class=\"col_heading level0 col11\" >UGDS_UNKN</th>        <th class=\"col_heading level0 col12\" >PPTUG_EF</th>        <th class=\"col_heading level0 col13\" >PCTPELL</th>        <th class=\"col_heading level0 col14\" >PCTFLOAN</th>        <th class=\"col_heading level0 col15\" >UG25ABV</th>        <th class=\"col_heading level0 col16\" >MD_EARN_WNE_P10</th>        <th class=\"col_heading level0 col17\" >GRAD_DEBT_MDN_SUPP</th>    </tr>    <tr>        <th class=\"index_name level0\" >INSTNM</th>        <th class=\"blank\" ></th>        <th class=\"blank\" ></th>        <th class=\"blank\" ></th>        <th class=\"blank\" ></th>        <th class=\"blank\" ></th>        <th class=\"blank\" ></th>        <th class=\"blank\" ></th>        <th class=\"blank\" ></th>        <th class=\"blank\" ></th>        <th class=\"blank\" ></th>        <th class=\"blank\" ></th>        <th class=\"blank\" ></th>        <th class=\"blank\" ></th>        <th class=\"blank\" ></th>        <th class=\"blank\" ></th>        <th class=\"blank\" ></th>        <th class=\"blank\" ></th>        <th class=\"blank\" ></th>    </tr></thead><tbody>\n                <tr>\n                        <th id=\"T_02e90a6e_1166_11eb_8ce3_38f9d35bbed7level0_row0\" class=\"row_heading level0 row0\" >California Institute of Technology</th>\n                        <td id=\"T_02e90a6e_1166_11eb_8ce3_38f9d35bbed7row0_col0\" class=\"data row0 col0\" >765.000000</td>\n                        <td id=\"T_02e90a6e_1166_11eb_8ce3_38f9d35bbed7row0_col1\" class=\"data row0 col1\" >785.000000</td>\n                        <td id=\"T_02e90a6e_1166_11eb_8ce3_38f9d35bbed7row0_col2\" class=\"data row0 col2\" >983.000000</td>\n                        <td id=\"T_02e90a6e_1166_11eb_8ce3_38f9d35bbed7row0_col3\" class=\"data row0 col3\" >0.278700</td>\n                        <td id=\"T_02e90a6e_1166_11eb_8ce3_38f9d35bbed7row0_col4\" class=\"data row0 col4\" >0.015300</td>\n                        <td id=\"T_02e90a6e_1166_11eb_8ce3_38f9d35bbed7row0_col5\" class=\"data row0 col5\" >0.122100</td>\n                        <td id=\"T_02e90a6e_1166_11eb_8ce3_38f9d35bbed7row0_col6\" class=\"data row0 col6\" >0.438500</td>\n                        <td id=\"T_02e90a6e_1166_11eb_8ce3_38f9d35bbed7row0_col7\" class=\"data row0 col7\" >0.001000</td>\n                        <td id=\"T_02e90a6e_1166_11eb_8ce3_38f9d35bbed7row0_col8\" class=\"data row0 col8\" >0.000000</td>\n                        <td id=\"T_02e90a6e_1166_11eb_8ce3_38f9d35bbed7row0_col9\" class=\"data row0 col9\" >0.057000</td>\n                        <td id=\"T_02e90a6e_1166_11eb_8ce3_38f9d35bbed7row0_col10\" class=\"data row0 col10\" >0.087500</td>\n                        <td id=\"T_02e90a6e_1166_11eb_8ce3_38f9d35bbed7row0_col11\" class=\"data row0 col11\" >0.000000</td>\n                        <td id=\"T_02e90a6e_1166_11eb_8ce3_38f9d35bbed7row0_col12\" class=\"data row0 col12\" >0.000000</td>\n                        <td id=\"T_02e90a6e_1166_11eb_8ce3_38f9d35bbed7row0_col13\" class=\"data row0 col13\" >0.112600</td>\n                        <td id=\"T_02e90a6e_1166_11eb_8ce3_38f9d35bbed7row0_col14\" class=\"data row0 col14\" >0.230300</td>\n                        <td id=\"T_02e90a6e_1166_11eb_8ce3_38f9d35bbed7row0_col15\" class=\"data row0 col15\" >0.008200</td>\n                        <td id=\"T_02e90a6e_1166_11eb_8ce3_38f9d35bbed7row0_col16\" class=\"data row0 col16\" >77800.000000</td>\n                        <td id=\"T_02e90a6e_1166_11eb_8ce3_38f9d35bbed7row0_col17\" class=\"data row0 col17\" >11812.500000</td>\n            </tr>\n            <tr>\n                        <th id=\"T_02e90a6e_1166_11eb_8ce3_38f9d35bbed7level0_row1\" class=\"row_heading level0 row1\" >University of Phoenix-Arizona</th>\n                        <td id=\"T_02e90a6e_1166_11eb_8ce3_38f9d35bbed7row1_col0\" class=\"data row1 col0\" >nan</td>\n                        <td id=\"T_02e90a6e_1166_11eb_8ce3_38f9d35bbed7row1_col1\" class=\"data row1 col1\" >nan</td>\n                        <td id=\"T_02e90a6e_1166_11eb_8ce3_38f9d35bbed7row1_col2\" class=\"data row1 col2\" >151558.000000</td>\n                        <td id=\"T_02e90a6e_1166_11eb_8ce3_38f9d35bbed7row1_col3\" class=\"data row1 col3\" >0.309800</td>\n                        <td id=\"T_02e90a6e_1166_11eb_8ce3_38f9d35bbed7row1_col4\" class=\"data row1 col4\" >0.155500</td>\n                        <td id=\"T_02e90a6e_1166_11eb_8ce3_38f9d35bbed7row1_col5\" class=\"data row1 col5\" >0.076000</td>\n                        <td id=\"T_02e90a6e_1166_11eb_8ce3_38f9d35bbed7row1_col6\" class=\"data row1 col6\" >0.008200</td>\n                        <td id=\"T_02e90a6e_1166_11eb_8ce3_38f9d35bbed7row1_col7\" class=\"data row1 col7\" >0.004200</td>\n                        <td id=\"T_02e90a6e_1166_11eb_8ce3_38f9d35bbed7row1_col8\" class=\"data row1 col8\" >0.005000</td>\n                        <td id=\"T_02e90a6e_1166_11eb_8ce3_38f9d35bbed7row1_col9\" class=\"data row1 col9\" >0.113100</td>\n                        <td id=\"T_02e90a6e_1166_11eb_8ce3_38f9d35bbed7row1_col10\" class=\"data row1 col10\" >0.013100</td>\n                        <td id=\"T_02e90a6e_1166_11eb_8ce3_38f9d35bbed7row1_col11\" class=\"data row1 col11\" >0.315200</td>\n                        <td id=\"T_02e90a6e_1166_11eb_8ce3_38f9d35bbed7row1_col12\" class=\"data row1 col12\" >0.000000</td>\n                        <td id=\"T_02e90a6e_1166_11eb_8ce3_38f9d35bbed7row1_col13\" class=\"data row1 col13\" >0.600900</td>\n                        <td id=\"T_02e90a6e_1166_11eb_8ce3_38f9d35bbed7row1_col14\" class=\"data row1 col14\" >0.592000</td>\n                        <td id=\"T_02e90a6e_1166_11eb_8ce3_38f9d35bbed7row1_col15\" class=\"data row1 col15\" >nan</td>\n                        <td id=\"T_02e90a6e_1166_11eb_8ce3_38f9d35bbed7row1_col16\" class=\"data row1 col16\" >nan</td>\n                        <td id=\"T_02e90a6e_1166_11eb_8ce3_38f9d35bbed7row1_col17\" class=\"data row1 col17\" >33000.000000</td>\n            </tr>\n            <tr>\n                        <th id=\"T_02e90a6e_1166_11eb_8ce3_38f9d35bbed7level0_row2\" class=\"row_heading level0 row2\" >Mr Leon's School of Hair Design-Moscow</th>\n                        <td id=\"T_02e90a6e_1166_11eb_8ce3_38f9d35bbed7row2_col0\" class=\"data row2 col0\" >nan</td>\n                        <td id=\"T_02e90a6e_1166_11eb_8ce3_38f9d35bbed7row2_col1\" class=\"data row2 col1\" >nan</td>\n                        <td id=\"T_02e90a6e_1166_11eb_8ce3_38f9d35bbed7row2_col2\" class=\"data row2 col2\" >16.000000</td>\n                        <td id=\"T_02e90a6e_1166_11eb_8ce3_38f9d35bbed7row2_col3\" class=\"data row2 col3\" >1.000000</td>\n                        <td id=\"T_02e90a6e_1166_11eb_8ce3_38f9d35bbed7row2_col4\" class=\"data row2 col4\" >0.000000</td>\n                        <td id=\"T_02e90a6e_1166_11eb_8ce3_38f9d35bbed7row2_col5\" class=\"data row2 col5\" >0.000000</td>\n                        <td id=\"T_02e90a6e_1166_11eb_8ce3_38f9d35bbed7row2_col6\" class=\"data row2 col6\" >0.000000</td>\n                        <td id=\"T_02e90a6e_1166_11eb_8ce3_38f9d35bbed7row2_col7\" class=\"data row2 col7\" >0.000000</td>\n                        <td id=\"T_02e90a6e_1166_11eb_8ce3_38f9d35bbed7row2_col8\" class=\"data row2 col8\" >0.000000</td>\n                        <td id=\"T_02e90a6e_1166_11eb_8ce3_38f9d35bbed7row2_col9\" class=\"data row2 col9\" >0.000000</td>\n                        <td id=\"T_02e90a6e_1166_11eb_8ce3_38f9d35bbed7row2_col10\" class=\"data row2 col10\" >0.000000</td>\n                        <td id=\"T_02e90a6e_1166_11eb_8ce3_38f9d35bbed7row2_col11\" class=\"data row2 col11\" >0.000000</td>\n                        <td id=\"T_02e90a6e_1166_11eb_8ce3_38f9d35bbed7row2_col12\" class=\"data row2 col12\" >0.000000</td>\n                        <td id=\"T_02e90a6e_1166_11eb_8ce3_38f9d35bbed7row2_col13\" class=\"data row2 col13\" >0.625000</td>\n                        <td id=\"T_02e90a6e_1166_11eb_8ce3_38f9d35bbed7row2_col14\" class=\"data row2 col14\" >0.625000</td>\n                        <td id=\"T_02e90a6e_1166_11eb_8ce3_38f9d35bbed7row2_col15\" class=\"data row2 col15\" >0.200000</td>\n                        <td id=\"T_02e90a6e_1166_11eb_8ce3_38f9d35bbed7row2_col16\" class=\"data row2 col16\" >nan</td>\n                        <td id=\"T_02e90a6e_1166_11eb_8ce3_38f9d35bbed7row2_col17\" class=\"data row2 col17\" >15710.000000</td>\n            </tr>\n            <tr>\n                        <th id=\"T_02e90a6e_1166_11eb_8ce3_38f9d35bbed7level0_row3\" class=\"row_heading level0 row3\" >Velvatex College of Beauty Culture</th>\n                        <td id=\"T_02e90a6e_1166_11eb_8ce3_38f9d35bbed7row3_col0\" class=\"data row3 col0\" >nan</td>\n                        <td id=\"T_02e90a6e_1166_11eb_8ce3_38f9d35bbed7row3_col1\" class=\"data row3 col1\" >nan</td>\n                        <td id=\"T_02e90a6e_1166_11eb_8ce3_38f9d35bbed7row3_col2\" class=\"data row3 col2\" >25.000000</td>\n                        <td id=\"T_02e90a6e_1166_11eb_8ce3_38f9d35bbed7row3_col3\" class=\"data row3 col3\" >0.000000</td>\n                        <td id=\"T_02e90a6e_1166_11eb_8ce3_38f9d35bbed7row3_col4\" class=\"data row3 col4\" >1.000000</td>\n                        <td id=\"T_02e90a6e_1166_11eb_8ce3_38f9d35bbed7row3_col5\" class=\"data row3 col5\" >0.000000</td>\n                        <td id=\"T_02e90a6e_1166_11eb_8ce3_38f9d35bbed7row3_col6\" class=\"data row3 col6\" >0.000000</td>\n                        <td id=\"T_02e90a6e_1166_11eb_8ce3_38f9d35bbed7row3_col7\" class=\"data row3 col7\" >0.000000</td>\n                        <td id=\"T_02e90a6e_1166_11eb_8ce3_38f9d35bbed7row3_col8\" class=\"data row3 col8\" >0.000000</td>\n                        <td id=\"T_02e90a6e_1166_11eb_8ce3_38f9d35bbed7row3_col9\" class=\"data row3 col9\" >0.000000</td>\n                        <td id=\"T_02e90a6e_1166_11eb_8ce3_38f9d35bbed7row3_col10\" class=\"data row3 col10\" >0.000000</td>\n                        <td id=\"T_02e90a6e_1166_11eb_8ce3_38f9d35bbed7row3_col11\" class=\"data row3 col11\" >0.000000</td>\n                        <td id=\"T_02e90a6e_1166_11eb_8ce3_38f9d35bbed7row3_col12\" class=\"data row3 col12\" >0.200000</td>\n                        <td id=\"T_02e90a6e_1166_11eb_8ce3_38f9d35bbed7row3_col13\" class=\"data row3 col13\" >0.769200</td>\n                        <td id=\"T_02e90a6e_1166_11eb_8ce3_38f9d35bbed7row3_col14\" class=\"data row3 col14\" >0.000000</td>\n                        <td id=\"T_02e90a6e_1166_11eb_8ce3_38f9d35bbed7row3_col15\" class=\"data row3 col15\" >0.520000</td>\n                        <td id=\"T_02e90a6e_1166_11eb_8ce3_38f9d35bbed7row3_col16\" class=\"data row3 col16\" >nan</td>\n                        <td id=\"T_02e90a6e_1166_11eb_8ce3_38f9d35bbed7row3_col17\" class=\"data row3 col17\" >nan</td>\n            </tr>\n            <tr>\n                        <th id=\"T_02e90a6e_1166_11eb_8ce3_38f9d35bbed7level0_row4\" class=\"row_heading level0 row4\" >Thunderbird School of Global Management</th>\n                        <td id=\"T_02e90a6e_1166_11eb_8ce3_38f9d35bbed7row4_col0\" class=\"data row4 col0\" >nan</td>\n                        <td id=\"T_02e90a6e_1166_11eb_8ce3_38f9d35bbed7row4_col1\" class=\"data row4 col1\" >nan</td>\n                        <td id=\"T_02e90a6e_1166_11eb_8ce3_38f9d35bbed7row4_col2\" class=\"data row4 col2\" >1.000000</td>\n                        <td id=\"T_02e90a6e_1166_11eb_8ce3_38f9d35bbed7row4_col3\" class=\"data row4 col3\" >0.000000</td>\n                        <td id=\"T_02e90a6e_1166_11eb_8ce3_38f9d35bbed7row4_col4\" class=\"data row4 col4\" >0.000000</td>\n                        <td id=\"T_02e90a6e_1166_11eb_8ce3_38f9d35bbed7row4_col5\" class=\"data row4 col5\" >1.000000</td>\n                        <td id=\"T_02e90a6e_1166_11eb_8ce3_38f9d35bbed7row4_col6\" class=\"data row4 col6\" >0.000000</td>\n                        <td id=\"T_02e90a6e_1166_11eb_8ce3_38f9d35bbed7row4_col7\" class=\"data row4 col7\" >0.000000</td>\n                        <td id=\"T_02e90a6e_1166_11eb_8ce3_38f9d35bbed7row4_col8\" class=\"data row4 col8\" >0.000000</td>\n                        <td id=\"T_02e90a6e_1166_11eb_8ce3_38f9d35bbed7row4_col9\" class=\"data row4 col9\" >0.000000</td>\n                        <td id=\"T_02e90a6e_1166_11eb_8ce3_38f9d35bbed7row4_col10\" class=\"data row4 col10\" >0.000000</td>\n                        <td id=\"T_02e90a6e_1166_11eb_8ce3_38f9d35bbed7row4_col11\" class=\"data row4 col11\" >0.000000</td>\n                        <td id=\"T_02e90a6e_1166_11eb_8ce3_38f9d35bbed7row4_col12\" class=\"data row4 col12\" >1.000000</td>\n                        <td id=\"T_02e90a6e_1166_11eb_8ce3_38f9d35bbed7row4_col13\" class=\"data row4 col13\" >0.000000</td>\n                        <td id=\"T_02e90a6e_1166_11eb_8ce3_38f9d35bbed7row4_col14\" class=\"data row4 col14\" >0.000000</td>\n                        <td id=\"T_02e90a6e_1166_11eb_8ce3_38f9d35bbed7row4_col15\" class=\"data row4 col15\" >0.000000</td>\n                        <td id=\"T_02e90a6e_1166_11eb_8ce3_38f9d35bbed7row4_col16\" class=\"data row4 col16\" >118900.000000</td>\n                        <td id=\"T_02e90a6e_1166_11eb_8ce3_38f9d35bbed7row4_col17\" class=\"data row4 col17\" >nan</td>\n            </tr>\n    </tbody></table>"
     },
     "metadata": {},
     "execution_count": 13
    }
   ],
   "source": [
    "college_n2.loc[unique_max_cols].head().style.highlight_max(axis = 1)"
   ]
  },
  {
   "cell_type": "code",
   "execution_count": 14,
   "metadata": {},
   "outputs": [
    {
     "output_type": "execute_result",
     "data": {
      "text/plain": [
       "(7535, 18)"
      ]
     },
     "metadata": {},
     "execution_count": 14
    }
   ],
   "source": [
    "has_row_max = college_n2.eq(college_n2.max()).any(axis = 1)\n",
    "\n",
    "college_n2.shape"
   ]
  },
  {
   "cell_type": "code",
   "execution_count": 15,
   "metadata": {},
   "outputs": [
    {
     "output_type": "execute_result",
     "data": {
      "text/plain": [
       "401"
      ]
     },
     "metadata": {},
     "execution_count": 15
    }
   ],
   "source": [
    "has_row_max.sum()"
   ]
  },
  {
   "cell_type": "code",
   "execution_count": 16,
   "metadata": {},
   "outputs": [
    {
     "output_type": "execute_result",
     "data": {
      "text/plain": [
       "                                                    SATVRMID  SATMTMID   UGDS  \\\n",
       "INSTNM                                                                          \n",
       "Alabama A & M University                               False     False  False   \n",
       "University of Alabama at Birmingham                    False     False  False   \n",
       "Amridge University                                     False     False  False   \n",
       "University of Alabama in Huntsville                    False     False  False   \n",
       "Alabama State University                               False     False  False   \n",
       "...                                                      ...       ...    ...   \n",
       "SAE Institute of Technology  San Francisco             False     False  False   \n",
       "Rasmussen College - Overland Park                      False     False  False   \n",
       "National Personal Training Institute of Cleveland      False     False  False   \n",
       "Bay Area Medical Academy - San Jose Satellite L...     False     False  False   \n",
       "Excel Learning Center-San Antonio South                False     False  False   \n",
       "\n",
       "                                                    UGDS_WHITE  UGDS_BLACK  \\\n",
       "INSTNM                                                                       \n",
       "Alabama A & M University                                 False       False   \n",
       "University of Alabama at Birmingham                      False       False   \n",
       "Amridge University                                       False       False   \n",
       "University of Alabama in Huntsville                      False       False   \n",
       "Alabama State University                                 False       False   \n",
       "...                                                        ...         ...   \n",
       "SAE Institute of Technology  San Francisco               False       False   \n",
       "Rasmussen College - Overland Park                        False       False   \n",
       "National Personal Training Institute of Cleveland        False       False   \n",
       "Bay Area Medical Academy - San Jose Satellite L...       False       False   \n",
       "Excel Learning Center-San Antonio South                  False       False   \n",
       "\n",
       "                                                    UGDS_HISP  UGDS_ASIAN  \\\n",
       "INSTNM                                                                      \n",
       "Alabama A & M University                                False       False   \n",
       "University of Alabama at Birmingham                     False       False   \n",
       "Amridge University                                      False       False   \n",
       "University of Alabama in Huntsville                     False       False   \n",
       "Alabama State University                                False       False   \n",
       "...                                                       ...         ...   \n",
       "SAE Institute of Technology  San Francisco              False       False   \n",
       "Rasmussen College - Overland Park                       False       False   \n",
       "National Personal Training Institute of Cleveland       False       False   \n",
       "Bay Area Medical Academy - San Jose Satellite L...      False       False   \n",
       "Excel Learning Center-San Antonio South                 False       False   \n",
       "\n",
       "                                                    UGDS_AIAN  UGDS_NHPI  \\\n",
       "INSTNM                                                                     \n",
       "Alabama A & M University                                False      False   \n",
       "University of Alabama at Birmingham                     False      False   \n",
       "Amridge University                                      False      False   \n",
       "University of Alabama in Huntsville                     False      False   \n",
       "Alabama State University                                False      False   \n",
       "...                                                       ...        ...   \n",
       "SAE Institute of Technology  San Francisco              False      False   \n",
       "Rasmussen College - Overland Park                       False      False   \n",
       "National Personal Training Institute of Cleveland       False      False   \n",
       "Bay Area Medical Academy - San Jose Satellite L...      False      False   \n",
       "Excel Learning Center-San Antonio South                 False      False   \n",
       "\n",
       "                                                    UGDS_2MOR  UGDS_NRA  \\\n",
       "INSTNM                                                                    \n",
       "Alabama A & M University                                False     False   \n",
       "University of Alabama at Birmingham                     False     False   \n",
       "Amridge University                                      False     False   \n",
       "University of Alabama in Huntsville                     False     False   \n",
       "Alabama State University                                False     False   \n",
       "...                                                       ...       ...   \n",
       "SAE Institute of Technology  San Francisco              False     False   \n",
       "Rasmussen College - Overland Park                       False     False   \n",
       "National Personal Training Institute of Cleveland       False     False   \n",
       "Bay Area Medical Academy - San Jose Satellite L...      False     False   \n",
       "Excel Learning Center-San Antonio South                 False     False   \n",
       "\n",
       "                                                    UGDS_UNKN  PPTUG_EF  \\\n",
       "INSTNM                                                                    \n",
       "Alabama A & M University                                False     False   \n",
       "University of Alabama at Birmingham                     False     False   \n",
       "Amridge University                                      False     False   \n",
       "University of Alabama in Huntsville                     False     False   \n",
       "Alabama State University                                False     False   \n",
       "...                                                       ...       ...   \n",
       "SAE Institute of Technology  San Francisco              False     False   \n",
       "Rasmussen College - Overland Park                       False     False   \n",
       "National Personal Training Institute of Cleveland       False     False   \n",
       "Bay Area Medical Academy - San Jose Satellite L...      False     False   \n",
       "Excel Learning Center-San Antonio South                 False     False   \n",
       "\n",
       "                                                    PCTPELL  PCTFLOAN  \\\n",
       "INSTNM                                                                  \n",
       "Alabama A & M University                              False     False   \n",
       "University of Alabama at Birmingham                   False     False   \n",
       "Amridge University                                    False     False   \n",
       "University of Alabama in Huntsville                   False     False   \n",
       "Alabama State University                              False     False   \n",
       "...                                                     ...       ...   \n",
       "SAE Institute of Technology  San Francisco            False     False   \n",
       "Rasmussen College - Overland Park                     False     False   \n",
       "National Personal Training Institute of Cleveland     False     False   \n",
       "Bay Area Medical Academy - San Jose Satellite L...    False     False   \n",
       "Excel Learning Center-San Antonio South               False     False   \n",
       "\n",
       "                                                    UG25ABV  MD_EARN_WNE_P10  \\\n",
       "INSTNM                                                                         \n",
       "Alabama A & M University                              False            False   \n",
       "University of Alabama at Birmingham                   False            False   \n",
       "Amridge University                                    False            False   \n",
       "University of Alabama in Huntsville                   False            False   \n",
       "Alabama State University                              False            False   \n",
       "...                                                     ...              ...   \n",
       "SAE Institute of Technology  San Francisco            False            False   \n",
       "Rasmussen College - Overland Park                     False            False   \n",
       "National Personal Training Institute of Cleveland     False            False   \n",
       "Bay Area Medical Academy - San Jose Satellite L...    False            False   \n",
       "Excel Learning Center-San Antonio South               False            False   \n",
       "\n",
       "                                                    GRAD_DEBT_MDN_SUPP  \n",
       "INSTNM                                                                  \n",
       "Alabama A & M University                                         False  \n",
       "University of Alabama at Birmingham                              False  \n",
       "Amridge University                                               False  \n",
       "University of Alabama in Huntsville                              False  \n",
       "Alabama State University                                         False  \n",
       "...                                                                ...  \n",
       "SAE Institute of Technology  San Francisco                       False  \n",
       "Rasmussen College - Overland Park                                False  \n",
       "National Personal Training Institute of Cleveland                False  \n",
       "Bay Area Medical Academy - San Jose Satellite L...               False  \n",
       "Excel Learning Center-San Antonio South                          False  \n",
       "\n",
       "[7535 rows x 18 columns]"
      ],
      "text/html": "<div>\n<style scoped>\n    .dataframe tbody tr th:only-of-type {\n        vertical-align: middle;\n    }\n\n    .dataframe tbody tr th {\n        vertical-align: top;\n    }\n\n    .dataframe thead th {\n        text-align: right;\n    }\n</style>\n<table border=\"1\" class=\"dataframe\">\n  <thead>\n    <tr style=\"text-align: right;\">\n      <th></th>\n      <th>SATVRMID</th>\n      <th>SATMTMID</th>\n      <th>UGDS</th>\n      <th>UGDS_WHITE</th>\n      <th>UGDS_BLACK</th>\n      <th>UGDS_HISP</th>\n      <th>UGDS_ASIAN</th>\n      <th>UGDS_AIAN</th>\n      <th>UGDS_NHPI</th>\n      <th>UGDS_2MOR</th>\n      <th>UGDS_NRA</th>\n      <th>UGDS_UNKN</th>\n      <th>PPTUG_EF</th>\n      <th>PCTPELL</th>\n      <th>PCTFLOAN</th>\n      <th>UG25ABV</th>\n      <th>MD_EARN_WNE_P10</th>\n      <th>GRAD_DEBT_MDN_SUPP</th>\n    </tr>\n    <tr>\n      <th>INSTNM</th>\n      <th></th>\n      <th></th>\n      <th></th>\n      <th></th>\n      <th></th>\n      <th></th>\n      <th></th>\n      <th></th>\n      <th></th>\n      <th></th>\n      <th></th>\n      <th></th>\n      <th></th>\n      <th></th>\n      <th></th>\n      <th></th>\n      <th></th>\n      <th></th>\n    </tr>\n  </thead>\n  <tbody>\n    <tr>\n      <th>Alabama A &amp; M University</th>\n      <td>False</td>\n      <td>False</td>\n      <td>False</td>\n      <td>False</td>\n      <td>False</td>\n      <td>False</td>\n      <td>False</td>\n      <td>False</td>\n      <td>False</td>\n      <td>False</td>\n      <td>False</td>\n      <td>False</td>\n      <td>False</td>\n      <td>False</td>\n      <td>False</td>\n      <td>False</td>\n      <td>False</td>\n      <td>False</td>\n    </tr>\n    <tr>\n      <th>University of Alabama at Birmingham</th>\n      <td>False</td>\n      <td>False</td>\n      <td>False</td>\n      <td>False</td>\n      <td>False</td>\n      <td>False</td>\n      <td>False</td>\n      <td>False</td>\n      <td>False</td>\n      <td>False</td>\n      <td>False</td>\n      <td>False</td>\n      <td>False</td>\n      <td>False</td>\n      <td>False</td>\n      <td>False</td>\n      <td>False</td>\n      <td>False</td>\n    </tr>\n    <tr>\n      <th>Amridge University</th>\n      <td>False</td>\n      <td>False</td>\n      <td>False</td>\n      <td>False</td>\n      <td>False</td>\n      <td>False</td>\n      <td>False</td>\n      <td>False</td>\n      <td>False</td>\n      <td>False</td>\n      <td>False</td>\n      <td>False</td>\n      <td>False</td>\n      <td>False</td>\n      <td>False</td>\n      <td>False</td>\n      <td>False</td>\n      <td>False</td>\n    </tr>\n    <tr>\n      <th>University of Alabama in Huntsville</th>\n      <td>False</td>\n      <td>False</td>\n      <td>False</td>\n      <td>False</td>\n      <td>False</td>\n      <td>False</td>\n      <td>False</td>\n      <td>False</td>\n      <td>False</td>\n      <td>False</td>\n      <td>False</td>\n      <td>False</td>\n      <td>False</td>\n      <td>False</td>\n      <td>False</td>\n      <td>False</td>\n      <td>False</td>\n      <td>False</td>\n    </tr>\n    <tr>\n      <th>Alabama State University</th>\n      <td>False</td>\n      <td>False</td>\n      <td>False</td>\n      <td>False</td>\n      <td>False</td>\n      <td>False</td>\n      <td>False</td>\n      <td>False</td>\n      <td>False</td>\n      <td>False</td>\n      <td>False</td>\n      <td>False</td>\n      <td>False</td>\n      <td>False</td>\n      <td>False</td>\n      <td>False</td>\n      <td>False</td>\n      <td>False</td>\n    </tr>\n    <tr>\n      <th>...</th>\n      <td>...</td>\n      <td>...</td>\n      <td>...</td>\n      <td>...</td>\n      <td>...</td>\n      <td>...</td>\n      <td>...</td>\n      <td>...</td>\n      <td>...</td>\n      <td>...</td>\n      <td>...</td>\n      <td>...</td>\n      <td>...</td>\n      <td>...</td>\n      <td>...</td>\n      <td>...</td>\n      <td>...</td>\n      <td>...</td>\n    </tr>\n    <tr>\n      <th>SAE Institute of Technology  San Francisco</th>\n      <td>False</td>\n      <td>False</td>\n      <td>False</td>\n      <td>False</td>\n      <td>False</td>\n      <td>False</td>\n      <td>False</td>\n      <td>False</td>\n      <td>False</td>\n      <td>False</td>\n      <td>False</td>\n      <td>False</td>\n      <td>False</td>\n      <td>False</td>\n      <td>False</td>\n      <td>False</td>\n      <td>False</td>\n      <td>False</td>\n    </tr>\n    <tr>\n      <th>Rasmussen College - Overland Park</th>\n      <td>False</td>\n      <td>False</td>\n      <td>False</td>\n      <td>False</td>\n      <td>False</td>\n      <td>False</td>\n      <td>False</td>\n      <td>False</td>\n      <td>False</td>\n      <td>False</td>\n      <td>False</td>\n      <td>False</td>\n      <td>False</td>\n      <td>False</td>\n      <td>False</td>\n      <td>False</td>\n      <td>False</td>\n      <td>False</td>\n    </tr>\n    <tr>\n      <th>National Personal Training Institute of Cleveland</th>\n      <td>False</td>\n      <td>False</td>\n      <td>False</td>\n      <td>False</td>\n      <td>False</td>\n      <td>False</td>\n      <td>False</td>\n      <td>False</td>\n      <td>False</td>\n      <td>False</td>\n      <td>False</td>\n      <td>False</td>\n      <td>False</td>\n      <td>False</td>\n      <td>False</td>\n      <td>False</td>\n      <td>False</td>\n      <td>False</td>\n    </tr>\n    <tr>\n      <th>Bay Area Medical Academy - San Jose Satellite Location</th>\n      <td>False</td>\n      <td>False</td>\n      <td>False</td>\n      <td>False</td>\n      <td>False</td>\n      <td>False</td>\n      <td>False</td>\n      <td>False</td>\n      <td>False</td>\n      <td>False</td>\n      <td>False</td>\n      <td>False</td>\n      <td>False</td>\n      <td>False</td>\n      <td>False</td>\n      <td>False</td>\n      <td>False</td>\n      <td>False</td>\n    </tr>\n    <tr>\n      <th>Excel Learning Center-San Antonio South</th>\n      <td>False</td>\n      <td>False</td>\n      <td>False</td>\n      <td>False</td>\n      <td>False</td>\n      <td>False</td>\n      <td>False</td>\n      <td>False</td>\n      <td>False</td>\n      <td>False</td>\n      <td>False</td>\n      <td>False</td>\n      <td>False</td>\n      <td>False</td>\n      <td>False</td>\n      <td>False</td>\n      <td>False</td>\n      <td>False</td>\n    </tr>\n  </tbody>\n</table>\n<p>7535 rows × 18 columns</p>\n</div>"
     },
     "metadata": {},
     "execution_count": 16
    }
   ],
   "source": [
    "college_n2.eq(college_n2.max())"
   ]
  },
  {
   "cell_type": "code",
   "execution_count": 17,
   "metadata": {},
   "outputs": [
    {
     "output_type": "execute_result",
     "data": {
      "text/plain": [
       "                                                    SATVRMID  SATMTMID  UGDS  \\\n",
       "INSTNM                                                                         \n",
       "Alabama A & M University                                   0         0     0   \n",
       "University of Alabama at Birmingham                        0         0     0   \n",
       "Amridge University                                         0         0     0   \n",
       "University of Alabama in Huntsville                        0         0     0   \n",
       "Alabama State University                                   0         0     0   \n",
       "...                                                      ...       ...   ...   \n",
       "SAE Institute of Technology  San Francisco                 1         1     1   \n",
       "Rasmussen College - Overland Park                          1         1     1   \n",
       "National Personal Training Institute of Cleveland          1         1     1   \n",
       "Bay Area Medical Academy - San Jose Satellite L...         1         1     1   \n",
       "Excel Learning Center-San Antonio South                    1         1     1   \n",
       "\n",
       "                                                    UGDS_WHITE  UGDS_BLACK  \\\n",
       "INSTNM                                                                       \n",
       "Alabama A & M University                                     0           0   \n",
       "University of Alabama at Birmingham                          0           0   \n",
       "Amridge University                                           0           0   \n",
       "University of Alabama in Huntsville                          0           0   \n",
       "Alabama State University                                     0           0   \n",
       "...                                                        ...         ...   \n",
       "SAE Institute of Technology  San Francisco                 109          28   \n",
       "Rasmussen College - Overland Park                          109          28   \n",
       "National Personal Training Institute of Cleveland          109          28   \n",
       "Bay Area Medical Academy - San Jose Satellite L...         109          28   \n",
       "Excel Learning Center-San Antonio South                    109          28   \n",
       "\n",
       "                                                    UGDS_HISP  UGDS_ASIAN  \\\n",
       "INSTNM                                                                      \n",
       "Alabama A & M University                                    0           0   \n",
       "University of Alabama at Birmingham                         0           0   \n",
       "Amridge University                                          0           0   \n",
       "University of Alabama in Huntsville                         0           0   \n",
       "Alabama State University                                    0           0   \n",
       "...                                                       ...         ...   \n",
       "SAE Institute of Technology  San Francisco                136           1   \n",
       "Rasmussen College - Overland Park                         136           1   \n",
       "National Personal Training Institute of Cleveland         136           1   \n",
       "Bay Area Medical Academy - San Jose Satellite L...        136           1   \n",
       "Excel Learning Center-San Antonio South                   136           1   \n",
       "\n",
       "                                                    UGDS_AIAN  UGDS_NHPI  \\\n",
       "INSTNM                                                                     \n",
       "Alabama A & M University                                    0          0   \n",
       "University of Alabama at Birmingham                         0          0   \n",
       "Amridge University                                          0          0   \n",
       "University of Alabama in Huntsville                         0          0   \n",
       "Alabama State University                                    0          0   \n",
       "...                                                       ...        ...   \n",
       "SAE Institute of Technology  San Francisco                  2          1   \n",
       "Rasmussen College - Overland Park                           2          1   \n",
       "National Personal Training Institute of Cleveland           2          1   \n",
       "Bay Area Medical Academy - San Jose Satellite L...          2          1   \n",
       "Excel Learning Center-San Antonio South                     2          1   \n",
       "\n",
       "                                                    UGDS_2MOR  UGDS_NRA  \\\n",
       "INSTNM                                                                    \n",
       "Alabama A & M University                                    0         0   \n",
       "University of Alabama at Birmingham                         0         0   \n",
       "Amridge University                                          0         0   \n",
       "University of Alabama in Huntsville                         0         0   \n",
       "Alabama State University                                    0         0   \n",
       "...                                                       ...       ...   \n",
       "SAE Institute of Technology  San Francisco                  1         1   \n",
       "Rasmussen College - Overland Park                           1         1   \n",
       "National Personal Training Institute of Cleveland           1         1   \n",
       "Bay Area Medical Academy - San Jose Satellite L...          1         1   \n",
       "Excel Learning Center-San Antonio South                     1         1   \n",
       "\n",
       "                                                    UGDS_UNKN  PPTUG_EF  \\\n",
       "INSTNM                                                                    \n",
       "Alabama A & M University                                    0         0   \n",
       "University of Alabama at Birmingham                         0         0   \n",
       "Amridge University                                          0         0   \n",
       "University of Alabama in Huntsville                         0         0   \n",
       "Alabama State University                                    0         0   \n",
       "...                                                       ...       ...   \n",
       "SAE Institute of Technology  San Francisco                  1        44   \n",
       "Rasmussen College - Overland Park                           1        44   \n",
       "National Personal Training Institute of Cleveland           1        44   \n",
       "Bay Area Medical Academy - San Jose Satellite L...          1        44   \n",
       "Excel Learning Center-San Antonio South                     1        44   \n",
       "\n",
       "                                                    PCTPELL  PCTFLOAN  \\\n",
       "INSTNM                                                                  \n",
       "Alabama A & M University                                  0         0   \n",
       "University of Alabama at Birmingham                       0         0   \n",
       "Amridge University                                        0         0   \n",
       "University of Alabama in Huntsville                       0         0   \n",
       "Alabama State University                                  0         0   \n",
       "...                                                     ...       ...   \n",
       "SAE Institute of Technology  San Francisco               66        55   \n",
       "Rasmussen College - Overland Park                        66        55   \n",
       "National Personal Training Institute of Cleveland        66        55   \n",
       "Bay Area Medical Academy - San Jose Satellite L...       66        55   \n",
       "Excel Learning Center-San Antonio South                  66        55   \n",
       "\n",
       "                                                    UG25ABV  MD_EARN_WNE_P10  \\\n",
       "INSTNM                                                                         \n",
       "Alabama A & M University                                  0                0   \n",
       "University of Alabama at Birmingham                       0                0   \n",
       "Amridge University                                        0                0   \n",
       "University of Alabama in Huntsville                       0                0   \n",
       "Alabama State University                                  0                0   \n",
       "...                                                     ...              ...   \n",
       "SAE Institute of Technology  San Francisco               12                1   \n",
       "Rasmussen College - Overland Park                        12                1   \n",
       "National Personal Training Institute of Cleveland        12                1   \n",
       "Bay Area Medical Academy - San Jose Satellite L...       12                1   \n",
       "Excel Learning Center-San Antonio South                  12                1   \n",
       "\n",
       "                                                    GRAD_DEBT_MDN_SUPP  \n",
       "INSTNM                                                                  \n",
       "Alabama A & M University                                             0  \n",
       "University of Alabama at Birmingham                                  0  \n",
       "Amridge University                                                   0  \n",
       "University of Alabama in Huntsville                                  0  \n",
       "Alabama State University                                             0  \n",
       "...                                                                ...  \n",
       "SAE Institute of Technology  San Francisco                           2  \n",
       "Rasmussen College - Overland Park                                    2  \n",
       "National Personal Training Institute of Cleveland                    2  \n",
       "Bay Area Medical Academy - San Jose Satellite L...                   2  \n",
       "Excel Learning Center-San Antonio South                              2  \n",
       "\n",
       "[7535 rows x 18 columns]"
      ],
      "text/html": "<div>\n<style scoped>\n    .dataframe tbody tr th:only-of-type {\n        vertical-align: middle;\n    }\n\n    .dataframe tbody tr th {\n        vertical-align: top;\n    }\n\n    .dataframe thead th {\n        text-align: right;\n    }\n</style>\n<table border=\"1\" class=\"dataframe\">\n  <thead>\n    <tr style=\"text-align: right;\">\n      <th></th>\n      <th>SATVRMID</th>\n      <th>SATMTMID</th>\n      <th>UGDS</th>\n      <th>UGDS_WHITE</th>\n      <th>UGDS_BLACK</th>\n      <th>UGDS_HISP</th>\n      <th>UGDS_ASIAN</th>\n      <th>UGDS_AIAN</th>\n      <th>UGDS_NHPI</th>\n      <th>UGDS_2MOR</th>\n      <th>UGDS_NRA</th>\n      <th>UGDS_UNKN</th>\n      <th>PPTUG_EF</th>\n      <th>PCTPELL</th>\n      <th>PCTFLOAN</th>\n      <th>UG25ABV</th>\n      <th>MD_EARN_WNE_P10</th>\n      <th>GRAD_DEBT_MDN_SUPP</th>\n    </tr>\n    <tr>\n      <th>INSTNM</th>\n      <th></th>\n      <th></th>\n      <th></th>\n      <th></th>\n      <th></th>\n      <th></th>\n      <th></th>\n      <th></th>\n      <th></th>\n      <th></th>\n      <th></th>\n      <th></th>\n      <th></th>\n      <th></th>\n      <th></th>\n      <th></th>\n      <th></th>\n      <th></th>\n    </tr>\n  </thead>\n  <tbody>\n    <tr>\n      <th>Alabama A &amp; M University</th>\n      <td>0</td>\n      <td>0</td>\n      <td>0</td>\n      <td>0</td>\n      <td>0</td>\n      <td>0</td>\n      <td>0</td>\n      <td>0</td>\n      <td>0</td>\n      <td>0</td>\n      <td>0</td>\n      <td>0</td>\n      <td>0</td>\n      <td>0</td>\n      <td>0</td>\n      <td>0</td>\n      <td>0</td>\n      <td>0</td>\n    </tr>\n    <tr>\n      <th>University of Alabama at Birmingham</th>\n      <td>0</td>\n      <td>0</td>\n      <td>0</td>\n      <td>0</td>\n      <td>0</td>\n      <td>0</td>\n      <td>0</td>\n      <td>0</td>\n      <td>0</td>\n      <td>0</td>\n      <td>0</td>\n      <td>0</td>\n      <td>0</td>\n      <td>0</td>\n      <td>0</td>\n      <td>0</td>\n      <td>0</td>\n      <td>0</td>\n    </tr>\n    <tr>\n      <th>Amridge University</th>\n      <td>0</td>\n      <td>0</td>\n      <td>0</td>\n      <td>0</td>\n      <td>0</td>\n      <td>0</td>\n      <td>0</td>\n      <td>0</td>\n      <td>0</td>\n      <td>0</td>\n      <td>0</td>\n      <td>0</td>\n      <td>0</td>\n      <td>0</td>\n      <td>0</td>\n      <td>0</td>\n      <td>0</td>\n      <td>0</td>\n    </tr>\n    <tr>\n      <th>University of Alabama in Huntsville</th>\n      <td>0</td>\n      <td>0</td>\n      <td>0</td>\n      <td>0</td>\n      <td>0</td>\n      <td>0</td>\n      <td>0</td>\n      <td>0</td>\n      <td>0</td>\n      <td>0</td>\n      <td>0</td>\n      <td>0</td>\n      <td>0</td>\n      <td>0</td>\n      <td>0</td>\n      <td>0</td>\n      <td>0</td>\n      <td>0</td>\n    </tr>\n    <tr>\n      <th>Alabama State University</th>\n      <td>0</td>\n      <td>0</td>\n      <td>0</td>\n      <td>0</td>\n      <td>0</td>\n      <td>0</td>\n      <td>0</td>\n      <td>0</td>\n      <td>0</td>\n      <td>0</td>\n      <td>0</td>\n      <td>0</td>\n      <td>0</td>\n      <td>0</td>\n      <td>0</td>\n      <td>0</td>\n      <td>0</td>\n      <td>0</td>\n    </tr>\n    <tr>\n      <th>...</th>\n      <td>...</td>\n      <td>...</td>\n      <td>...</td>\n      <td>...</td>\n      <td>...</td>\n      <td>...</td>\n      <td>...</td>\n      <td>...</td>\n      <td>...</td>\n      <td>...</td>\n      <td>...</td>\n      <td>...</td>\n      <td>...</td>\n      <td>...</td>\n      <td>...</td>\n      <td>...</td>\n      <td>...</td>\n      <td>...</td>\n    </tr>\n    <tr>\n      <th>SAE Institute of Technology  San Francisco</th>\n      <td>1</td>\n      <td>1</td>\n      <td>1</td>\n      <td>109</td>\n      <td>28</td>\n      <td>136</td>\n      <td>1</td>\n      <td>2</td>\n      <td>1</td>\n      <td>1</td>\n      <td>1</td>\n      <td>1</td>\n      <td>44</td>\n      <td>66</td>\n      <td>55</td>\n      <td>12</td>\n      <td>1</td>\n      <td>2</td>\n    </tr>\n    <tr>\n      <th>Rasmussen College - Overland Park</th>\n      <td>1</td>\n      <td>1</td>\n      <td>1</td>\n      <td>109</td>\n      <td>28</td>\n      <td>136</td>\n      <td>1</td>\n      <td>2</td>\n      <td>1</td>\n      <td>1</td>\n      <td>1</td>\n      <td>1</td>\n      <td>44</td>\n      <td>66</td>\n      <td>55</td>\n      <td>12</td>\n      <td>1</td>\n      <td>2</td>\n    </tr>\n    <tr>\n      <th>National Personal Training Institute of Cleveland</th>\n      <td>1</td>\n      <td>1</td>\n      <td>1</td>\n      <td>109</td>\n      <td>28</td>\n      <td>136</td>\n      <td>1</td>\n      <td>2</td>\n      <td>1</td>\n      <td>1</td>\n      <td>1</td>\n      <td>1</td>\n      <td>44</td>\n      <td>66</td>\n      <td>55</td>\n      <td>12</td>\n      <td>1</td>\n      <td>2</td>\n    </tr>\n    <tr>\n      <th>Bay Area Medical Academy - San Jose Satellite Location</th>\n      <td>1</td>\n      <td>1</td>\n      <td>1</td>\n      <td>109</td>\n      <td>28</td>\n      <td>136</td>\n      <td>1</td>\n      <td>2</td>\n      <td>1</td>\n      <td>1</td>\n      <td>1</td>\n      <td>1</td>\n      <td>44</td>\n      <td>66</td>\n      <td>55</td>\n      <td>12</td>\n      <td>1</td>\n      <td>2</td>\n    </tr>\n    <tr>\n      <th>Excel Learning Center-San Antonio South</th>\n      <td>1</td>\n      <td>1</td>\n      <td>1</td>\n      <td>109</td>\n      <td>28</td>\n      <td>136</td>\n      <td>1</td>\n      <td>2</td>\n      <td>1</td>\n      <td>1</td>\n      <td>1</td>\n      <td>1</td>\n      <td>44</td>\n      <td>66</td>\n      <td>55</td>\n      <td>12</td>\n      <td>1</td>\n      <td>2</td>\n    </tr>\n  </tbody>\n</table>\n<p>7535 rows × 18 columns</p>\n</div>"
     },
     "metadata": {},
     "execution_count": 17
    }
   ],
   "source": [
    "college_n2.eq(college_n2.max()).cumsum()"
   ]
  },
  {
   "cell_type": "code",
   "execution_count": 18,
   "metadata": {},
   "outputs": [
    {
     "output_type": "execute_result",
     "data": {
      "text/plain": [
       "                                                    SATVRMID  SATMTMID  UGDS  \\\n",
       "INSTNM                                                                         \n",
       "Alabama A & M University                                   0         0     0   \n",
       "University of Alabama at Birmingham                        0         0     0   \n",
       "Amridge University                                         0         0     0   \n",
       "University of Alabama in Huntsville                        0         0     0   \n",
       "Alabama State University                                   0         0     0   \n",
       "...                                                      ...       ...   ...   \n",
       "SAE Institute of Technology  San Francisco              7305      7305   415   \n",
       "Rasmussen College - Overland Park                       7306      7306   416   \n",
       "National Personal Training Institute of Cleveland       7307      7307   417   \n",
       "Bay Area Medical Academy - San Jose Satellite L...      7308      7308   418   \n",
       "Excel Learning Center-San Antonio South                 7309      7309   419   \n",
       "\n",
       "                                                    UGDS_WHITE  UGDS_BLACK  \\\n",
       "INSTNM                                                                       \n",
       "Alabama A & M University                                     0           0   \n",
       "University of Alabama at Birmingham                          0           0   \n",
       "Amridge University                                           0           0   \n",
       "University of Alabama in Huntsville                          0           0   \n",
       "Alabama State University                                     0           0   \n",
       "...                                                        ...         ...   \n",
       "SAE Institute of Technology  San Francisco              379750       73107   \n",
       "Rasmussen College - Overland Park                       379859       73135   \n",
       "National Personal Training Institute of Cleveland       379968       73163   \n",
       "Bay Area Medical Academy - San Jose Satellite L...      380077       73191   \n",
       "Excel Learning Center-San Antonio South                 380186       73219   \n",
       "\n",
       "                                                    UGDS_HISP  UGDS_ASIAN  \\\n",
       "INSTNM                                                                      \n",
       "Alabama A & M University                                    0           0   \n",
       "University of Alabama at Birmingham                         0           0   \n",
       "Amridge University                                          0           0   \n",
       "University of Alabama in Huntsville                         0           0   \n",
       "Alabama State University                                    0           0   \n",
       "...                                                       ...         ...   \n",
       "SAE Institute of Technology  San Francisco             341103         983   \n",
       "Rasmussen College - Overland Park                      341239         984   \n",
       "National Personal Training Institute of Cleveland      341375         985   \n",
       "Bay Area Medical Academy - San Jose Satellite L...     341511         986   \n",
       "Excel Learning Center-San Antonio South                341647         987   \n",
       "\n",
       "                                                    UGDS_AIAN  UGDS_NHPI  \\\n",
       "INSTNM                                                                     \n",
       "Alabama A & M University                                    0          0   \n",
       "University of Alabama at Birmingham                         0          0   \n",
       "Amridge University                                          0          0   \n",
       "University of Alabama in Huntsville                         0          0   \n",
       "Alabama State University                                    0          0   \n",
       "...                                                       ...        ...   \n",
       "SAE Institute of Technology  San Francisco              11382       3316   \n",
       "Rasmussen College - Overland Park                       11384       3317   \n",
       "National Personal Training Institute of Cleveland       11386       3318   \n",
       "Bay Area Medical Academy - San Jose Satellite L...      11388       3319   \n",
       "Excel Learning Center-San Antonio South                 11390       3320   \n",
       "\n",
       "                                                    UGDS_2MOR  UGDS_NRA  \\\n",
       "INSTNM                                                                    \n",
       "Alabama A & M University                                    0         0   \n",
       "University of Alabama at Birmingham                         0         0   \n",
       "Amridge University                                          0         0   \n",
       "University of Alabama in Huntsville                         0         0   \n",
       "Alabama State University                                    0         0   \n",
       "...                                                       ...       ...   \n",
       "SAE Institute of Technology  San Francisco               5056      1076   \n",
       "Rasmussen College - Overland Park                        5057      1077   \n",
       "National Personal Training Institute of Cleveland        5058      1078   \n",
       "Bay Area Medical Academy - San Jose Satellite L...       5059      1079   \n",
       "Excel Learning Center-San Antonio South                  5060      1080   \n",
       "\n",
       "                                                    UGDS_UNKN  PPTUG_EF  \\\n",
       "INSTNM                                                                    \n",
       "Alabama A & M University                                    0         0   \n",
       "University of Alabama at Birmingham                         0         0   \n",
       "Amridge University                                          0         0   \n",
       "University of Alabama in Huntsville                         0         0   \n",
       "Alabama State University                                    0         0   \n",
       "...                                                       ...       ...   \n",
       "SAE Institute of Technology  San Francisco               7276    113649   \n",
       "Rasmussen College - Overland Park                        7277    113693   \n",
       "National Personal Training Institute of Cleveland        7278    113737   \n",
       "Bay Area Medical Academy - San Jose Satellite L...       7279    113781   \n",
       "Excel Learning Center-San Antonio South                  7280    113825   \n",
       "\n",
       "                                                    PCTPELL  PCTFLOAN  \\\n",
       "INSTNM                                                                  \n",
       "Alabama A & M University                                  0         0   \n",
       "University of Alabama at Birmingham                       0         0   \n",
       "Amridge University                                        0         0   \n",
       "University of Alabama in Huntsville                       0         0   \n",
       "Alabama State University                                  0         0   \n",
       "...                                                     ...       ...   \n",
       "SAE Institute of Technology  San Francisco           172944    170273   \n",
       "Rasmussen College - Overland Park                    173010    170328   \n",
       "National Personal Training Institute of Cleveland    173076    170383   \n",
       "Bay Area Medical Academy - San Jose Satellite L...   173142    170438   \n",
       "Excel Learning Center-San Antonio South              173208    170493   \n",
       "\n",
       "                                                    UG25ABV  MD_EARN_WNE_P10  \\\n",
       "INSTNM                                                                         \n",
       "Alabama A & M University                                  0                0   \n",
       "University of Alabama at Birmingham                       0                0   \n",
       "Amridge University                                        0                0   \n",
       "University of Alabama in Huntsville                       0                0   \n",
       "Alabama State University                                  0                0   \n",
       "...                                                     ...              ...   \n",
       "SAE Institute of Technology  San Francisco            36183             3445   \n",
       "Rasmussen College - Overland Park                     36195             3446   \n",
       "National Personal Training Institute of Cleveland     36207             3447   \n",
       "Bay Area Medical Academy - San Jose Satellite L...    36219             3448   \n",
       "Excel Learning Center-San Antonio South               36231             3449   \n",
       "\n",
       "                                                    GRAD_DEBT_MDN_SUPP  \n",
       "INSTNM                                                                  \n",
       "Alabama A & M University                                             0  \n",
       "University of Alabama at Birmingham                                  0  \n",
       "Amridge University                                                   0  \n",
       "University of Alabama in Huntsville                                  0  \n",
       "Alabama State University                                             0  \n",
       "...                                                                ...  \n",
       "SAE Institute of Technology  San Francisco                       10266  \n",
       "Rasmussen College - Overland Park                                10268  \n",
       "National Personal Training Institute of Cleveland                10270  \n",
       "Bay Area Medical Academy - San Jose Satellite L...               10272  \n",
       "Excel Learning Center-San Antonio South                          10274  \n",
       "\n",
       "[7535 rows x 18 columns]"
      ],
      "text/html": "<div>\n<style scoped>\n    .dataframe tbody tr th:only-of-type {\n        vertical-align: middle;\n    }\n\n    .dataframe tbody tr th {\n        vertical-align: top;\n    }\n\n    .dataframe thead th {\n        text-align: right;\n    }\n</style>\n<table border=\"1\" class=\"dataframe\">\n  <thead>\n    <tr style=\"text-align: right;\">\n      <th></th>\n      <th>SATVRMID</th>\n      <th>SATMTMID</th>\n      <th>UGDS</th>\n      <th>UGDS_WHITE</th>\n      <th>UGDS_BLACK</th>\n      <th>UGDS_HISP</th>\n      <th>UGDS_ASIAN</th>\n      <th>UGDS_AIAN</th>\n      <th>UGDS_NHPI</th>\n      <th>UGDS_2MOR</th>\n      <th>UGDS_NRA</th>\n      <th>UGDS_UNKN</th>\n      <th>PPTUG_EF</th>\n      <th>PCTPELL</th>\n      <th>PCTFLOAN</th>\n      <th>UG25ABV</th>\n      <th>MD_EARN_WNE_P10</th>\n      <th>GRAD_DEBT_MDN_SUPP</th>\n    </tr>\n    <tr>\n      <th>INSTNM</th>\n      <th></th>\n      <th></th>\n      <th></th>\n      <th></th>\n      <th></th>\n      <th></th>\n      <th></th>\n      <th></th>\n      <th></th>\n      <th></th>\n      <th></th>\n      <th></th>\n      <th></th>\n      <th></th>\n      <th></th>\n      <th></th>\n      <th></th>\n      <th></th>\n    </tr>\n  </thead>\n  <tbody>\n    <tr>\n      <th>Alabama A &amp; M University</th>\n      <td>0</td>\n      <td>0</td>\n      <td>0</td>\n      <td>0</td>\n      <td>0</td>\n      <td>0</td>\n      <td>0</td>\n      <td>0</td>\n      <td>0</td>\n      <td>0</td>\n      <td>0</td>\n      <td>0</td>\n      <td>0</td>\n      <td>0</td>\n      <td>0</td>\n      <td>0</td>\n      <td>0</td>\n      <td>0</td>\n    </tr>\n    <tr>\n      <th>University of Alabama at Birmingham</th>\n      <td>0</td>\n      <td>0</td>\n      <td>0</td>\n      <td>0</td>\n      <td>0</td>\n      <td>0</td>\n      <td>0</td>\n      <td>0</td>\n      <td>0</td>\n      <td>0</td>\n      <td>0</td>\n      <td>0</td>\n      <td>0</td>\n      <td>0</td>\n      <td>0</td>\n      <td>0</td>\n      <td>0</td>\n      <td>0</td>\n    </tr>\n    <tr>\n      <th>Amridge University</th>\n      <td>0</td>\n      <td>0</td>\n      <td>0</td>\n      <td>0</td>\n      <td>0</td>\n      <td>0</td>\n      <td>0</td>\n      <td>0</td>\n      <td>0</td>\n      <td>0</td>\n      <td>0</td>\n      <td>0</td>\n      <td>0</td>\n      <td>0</td>\n      <td>0</td>\n      <td>0</td>\n      <td>0</td>\n      <td>0</td>\n    </tr>\n    <tr>\n      <th>University of Alabama in Huntsville</th>\n      <td>0</td>\n      <td>0</td>\n      <td>0</td>\n      <td>0</td>\n      <td>0</td>\n      <td>0</td>\n      <td>0</td>\n      <td>0</td>\n      <td>0</td>\n      <td>0</td>\n      <td>0</td>\n      <td>0</td>\n      <td>0</td>\n      <td>0</td>\n      <td>0</td>\n      <td>0</td>\n      <td>0</td>\n      <td>0</td>\n    </tr>\n    <tr>\n      <th>Alabama State University</th>\n      <td>0</td>\n      <td>0</td>\n      <td>0</td>\n      <td>0</td>\n      <td>0</td>\n      <td>0</td>\n      <td>0</td>\n      <td>0</td>\n      <td>0</td>\n      <td>0</td>\n      <td>0</td>\n      <td>0</td>\n      <td>0</td>\n      <td>0</td>\n      <td>0</td>\n      <td>0</td>\n      <td>0</td>\n      <td>0</td>\n    </tr>\n    <tr>\n      <th>...</th>\n      <td>...</td>\n      <td>...</td>\n      <td>...</td>\n      <td>...</td>\n      <td>...</td>\n      <td>...</td>\n      <td>...</td>\n      <td>...</td>\n      <td>...</td>\n      <td>...</td>\n      <td>...</td>\n      <td>...</td>\n      <td>...</td>\n      <td>...</td>\n      <td>...</td>\n      <td>...</td>\n      <td>...</td>\n      <td>...</td>\n    </tr>\n    <tr>\n      <th>SAE Institute of Technology  San Francisco</th>\n      <td>7305</td>\n      <td>7305</td>\n      <td>415</td>\n      <td>379750</td>\n      <td>73107</td>\n      <td>341103</td>\n      <td>983</td>\n      <td>11382</td>\n      <td>3316</td>\n      <td>5056</td>\n      <td>1076</td>\n      <td>7276</td>\n      <td>113649</td>\n      <td>172944</td>\n      <td>170273</td>\n      <td>36183</td>\n      <td>3445</td>\n      <td>10266</td>\n    </tr>\n    <tr>\n      <th>Rasmussen College - Overland Park</th>\n      <td>7306</td>\n      <td>7306</td>\n      <td>416</td>\n      <td>379859</td>\n      <td>73135</td>\n      <td>341239</td>\n      <td>984</td>\n      <td>11384</td>\n      <td>3317</td>\n      <td>5057</td>\n      <td>1077</td>\n      <td>7277</td>\n      <td>113693</td>\n      <td>173010</td>\n      <td>170328</td>\n      <td>36195</td>\n      <td>3446</td>\n      <td>10268</td>\n    </tr>\n    <tr>\n      <th>National Personal Training Institute of Cleveland</th>\n      <td>7307</td>\n      <td>7307</td>\n      <td>417</td>\n      <td>379968</td>\n      <td>73163</td>\n      <td>341375</td>\n      <td>985</td>\n      <td>11386</td>\n      <td>3318</td>\n      <td>5058</td>\n      <td>1078</td>\n      <td>7278</td>\n      <td>113737</td>\n      <td>173076</td>\n      <td>170383</td>\n      <td>36207</td>\n      <td>3447</td>\n      <td>10270</td>\n    </tr>\n    <tr>\n      <th>Bay Area Medical Academy - San Jose Satellite Location</th>\n      <td>7308</td>\n      <td>7308</td>\n      <td>418</td>\n      <td>380077</td>\n      <td>73191</td>\n      <td>341511</td>\n      <td>986</td>\n      <td>11388</td>\n      <td>3319</td>\n      <td>5059</td>\n      <td>1079</td>\n      <td>7279</td>\n      <td>113781</td>\n      <td>173142</td>\n      <td>170438</td>\n      <td>36219</td>\n      <td>3448</td>\n      <td>10272</td>\n    </tr>\n    <tr>\n      <th>Excel Learning Center-San Antonio South</th>\n      <td>7309</td>\n      <td>7309</td>\n      <td>419</td>\n      <td>380186</td>\n      <td>73219</td>\n      <td>341647</td>\n      <td>987</td>\n      <td>11390</td>\n      <td>3320</td>\n      <td>5060</td>\n      <td>1080</td>\n      <td>7280</td>\n      <td>113825</td>\n      <td>173208</td>\n      <td>170493</td>\n      <td>36231</td>\n      <td>3449</td>\n      <td>10274</td>\n    </tr>\n  </tbody>\n</table>\n<p>7535 rows × 18 columns</p>\n</div>"
     },
     "metadata": {},
     "execution_count": 18
    }
   ],
   "source": [
    "college_n2.eq(college_n2.max()).cumsum().cumsum()"
   ]
  },
  {
   "cell_type": "code",
   "execution_count": 19,
   "metadata": {},
   "outputs": [
    {
     "output_type": "execute_result",
     "data": {
      "text/plain": [
       "16"
      ]
     },
     "metadata": {},
     "execution_count": 19
    }
   ],
   "source": [
    "has_row_max2 = college_n2.eq(college_n2.max()).cumsum().cumsum().eq(1).any(axis = 1)\n",
    "\n",
    "has_row_max2.sum()"
   ]
  },
  {
   "cell_type": "code",
   "execution_count": 20,
   "metadata": {},
   "outputs": [
    {
     "output_type": "execute_result",
     "data": {
      "text/plain": [
       "Index(['Thunderbird School of Global Management',\n",
       "       'Southwest University of Visual Arts-Tucson', 'ABC Beauty College Inc',\n",
       "       'Velvatex College of Beauty Culture',\n",
       "       'California Institute of Technology',\n",
       "       'Le Cordon Bleu College of Culinary Arts-San Francisco',\n",
       "       'MTI Business College Inc', 'Dongguk University-Los Angeles',\n",
       "       'Mr Leon's School of Hair Design-Moscow',\n",
       "       'Haskell Indian Nations University', 'LIU Brentwood',\n",
       "       'Medical College of Wisconsin', 'Palau Community College',\n",
       "       'California University of Management and Sciences',\n",
       "       'Cosmopolitan Beauty and Tech School', 'University of Phoenix-Arizona'],\n",
       "      dtype='object', name='INSTNM')"
      ]
     },
     "metadata": {},
     "execution_count": 20
    }
   ],
   "source": [
    "idxmax_cols = has_row_max2[has_row_max2].index\n",
    "idxmax_cols"
   ]
  },
  {
   "cell_type": "code",
   "execution_count": 21,
   "metadata": {},
   "outputs": [
    {
     "output_type": "execute_result",
     "data": {
      "text/plain": [
       "True"
      ]
     },
     "metadata": {},
     "execution_count": 21
    }
   ],
   "source": [
    "set(college_n2.idxmax().unique()) == set(idxmax_cols)"
   ]
  },
  {
   "cell_type": "code",
   "execution_count": 22,
   "metadata": {},
   "outputs": [
    {
     "output_type": "execute_result",
     "data": {
      "text/plain": [
       "                                     UGDS_WHITE  UGDS_BLACK  UGDS_HISP  \\\n",
       "INSTNM                                                                   \n",
       "Alabama A & M University                 0.0333      0.9353     0.0055   \n",
       "University of Alabama at Birmingham      0.5922      0.2600     0.0283   \n",
       "Amridge University                       0.2990      0.4192     0.0069   \n",
       "University of Alabama in Huntsville      0.6988      0.1255     0.0382   \n",
       "Alabama State University                 0.0158      0.9208     0.0121   \n",
       "\n",
       "                                     UGDS_ASIAN  UGDS_AIAN  UGDS_NHPI  \\\n",
       "INSTNM                                                                  \n",
       "Alabama A & M University                 0.0019     0.0024     0.0019   \n",
       "University of Alabama at Birmingham      0.0518     0.0022     0.0007   \n",
       "Amridge University                       0.0034     0.0000     0.0000   \n",
       "University of Alabama in Huntsville      0.0376     0.0143     0.0002   \n",
       "Alabama State University                 0.0019     0.0010     0.0006   \n",
       "\n",
       "                                     UGDS_2MOR  UGDS_NRA  UGDS_UNKN  \n",
       "INSTNM                                                               \n",
       "Alabama A & M University                0.0000    0.0059     0.0138  \n",
       "University of Alabama at Birmingham     0.0368    0.0179     0.0100  \n",
       "Amridge University                      0.0000    0.0000     0.2715  \n",
       "University of Alabama in Huntsville     0.0172    0.0332     0.0350  \n",
       "Alabama State University                0.0098    0.0243     0.0137  "
      ],
      "text/html": "<div>\n<style scoped>\n    .dataframe tbody tr th:only-of-type {\n        vertical-align: middle;\n    }\n\n    .dataframe tbody tr th {\n        vertical-align: top;\n    }\n\n    .dataframe thead th {\n        text-align: right;\n    }\n</style>\n<table border=\"1\" class=\"dataframe\">\n  <thead>\n    <tr style=\"text-align: right;\">\n      <th></th>\n      <th>UGDS_WHITE</th>\n      <th>UGDS_BLACK</th>\n      <th>UGDS_HISP</th>\n      <th>UGDS_ASIAN</th>\n      <th>UGDS_AIAN</th>\n      <th>UGDS_NHPI</th>\n      <th>UGDS_2MOR</th>\n      <th>UGDS_NRA</th>\n      <th>UGDS_UNKN</th>\n    </tr>\n    <tr>\n      <th>INSTNM</th>\n      <th></th>\n      <th></th>\n      <th></th>\n      <th></th>\n      <th></th>\n      <th></th>\n      <th></th>\n      <th></th>\n      <th></th>\n    </tr>\n  </thead>\n  <tbody>\n    <tr>\n      <th>Alabama A &amp; M University</th>\n      <td>0.0333</td>\n      <td>0.9353</td>\n      <td>0.0055</td>\n      <td>0.0019</td>\n      <td>0.0024</td>\n      <td>0.0019</td>\n      <td>0.0000</td>\n      <td>0.0059</td>\n      <td>0.0138</td>\n    </tr>\n    <tr>\n      <th>University of Alabama at Birmingham</th>\n      <td>0.5922</td>\n      <td>0.2600</td>\n      <td>0.0283</td>\n      <td>0.0518</td>\n      <td>0.0022</td>\n      <td>0.0007</td>\n      <td>0.0368</td>\n      <td>0.0179</td>\n      <td>0.0100</td>\n    </tr>\n    <tr>\n      <th>Amridge University</th>\n      <td>0.2990</td>\n      <td>0.4192</td>\n      <td>0.0069</td>\n      <td>0.0034</td>\n      <td>0.0000</td>\n      <td>0.0000</td>\n      <td>0.0000</td>\n      <td>0.0000</td>\n      <td>0.2715</td>\n    </tr>\n    <tr>\n      <th>University of Alabama in Huntsville</th>\n      <td>0.6988</td>\n      <td>0.1255</td>\n      <td>0.0382</td>\n      <td>0.0376</td>\n      <td>0.0143</td>\n      <td>0.0002</td>\n      <td>0.0172</td>\n      <td>0.0332</td>\n      <td>0.0350</td>\n    </tr>\n    <tr>\n      <th>Alabama State University</th>\n      <td>0.0158</td>\n      <td>0.9208</td>\n      <td>0.0121</td>\n      <td>0.0019</td>\n      <td>0.0010</td>\n      <td>0.0006</td>\n      <td>0.0098</td>\n      <td>0.0243</td>\n      <td>0.0137</td>\n    </tr>\n  </tbody>\n</table>\n</div>"
     },
     "metadata": {},
     "execution_count": 22
    }
   ],
   "source": [
    "college_ugds = college.filter(like = \"UGDS_\")\n",
    "college_ugds.head()"
   ]
  },
  {
   "cell_type": "code",
   "execution_count": 23,
   "metadata": {},
   "outputs": [
    {
     "output_type": "execute_result",
     "data": {
      "text/plain": [
       "INSTNM\n",
       "Alabama A & M University                                  UGDS_BLACK\n",
       "University of Alabama at Birmingham                       UGDS_WHITE\n",
       "Amridge University                                        UGDS_BLACK\n",
       "University of Alabama in Huntsville                       UGDS_WHITE\n",
       "Alabama State University                                  UGDS_BLACK\n",
       "                                                             ...    \n",
       "SAE Institute of Technology  San Francisco                       NaN\n",
       "Rasmussen College - Overland Park                                NaN\n",
       "National Personal Training Institute of Cleveland                NaN\n",
       "Bay Area Medical Academy - San Jose Satellite Location           NaN\n",
       "Excel Learning Center-San Antonio South                          NaN\n",
       "Length: 7535, dtype: object"
      ]
     },
     "metadata": {},
     "execution_count": 23
    }
   ],
   "source": [
    "highest_percentage_race = college_ugds.idxmax(axis = 1)\n",
    "highest_percentage_race"
   ]
  },
  {
   "cell_type": "code",
   "execution_count": 24,
   "metadata": {},
   "outputs": [
    {
     "output_type": "execute_result",
     "data": {
      "text/plain": [
       "UGDS_WHITE    4608\n",
       "UGDS_BLACK    1042\n",
       "UGDS_HISP      890\n",
       "UGDS_UNKN      161\n",
       "UGDS_ASIAN      83\n",
       "UGDS_AIAN       42\n",
       "UGDS_NRA        28\n",
       "UGDS_NHPI       12\n",
       "UGDS_2MOR        8\n",
       "dtype: int64"
      ]
     },
     "metadata": {},
     "execution_count": 24
    }
   ],
   "source": [
    "highest_percentage_race.value_counts()"
   ]
  }
 ]
}
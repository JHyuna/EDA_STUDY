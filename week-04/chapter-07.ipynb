{
 "metadata": {
  "language_info": {
   "codemirror_mode": {
    "name": "ipython",
    "version": 3
   },
   "file_extension": ".py",
   "mimetype": "text/x-python",
   "name": "python",
   "nbconvert_exporter": "python",
   "pygments_lexer": "ipython3",
   "version": "3.8.2-final"
  },
  "orig_nbformat": 2,
  "kernelspec": {
   "name": "Python 3.8.2 64-bit ('dataStudy': conda)",
   "display_name": "Python 3.8.2 64-bit ('dataStudy': conda)",
   "metadata": {
    "interpreter": {
     "hash": "a22da94b6d0eb1bb9e13ff23c6dec5d5d0682dd7591db237e737d29eb0bbf2ae"
    }
   }
  }
 },
 "nbformat": 4,
 "nbformat_minor": 2,
 "cells": [
  {
   "source": [
    "# 07. 종합을 위한 그룹화, 필터링 그리고 변환\n",
    "\n"
   ],
   "cell_type": "markdown",
   "metadata": {}
  },
  {
   "cell_type": "code",
   "execution_count": 1,
   "metadata": {},
   "outputs": [
    {
     "output_type": "execute_result",
     "data": {
      "text/plain": [
       "   MONTH  DAY  WEEKDAY AIRLINE ORG_AIR DEST_AIR  SCHED_DEP  DEP_DELAY  \\\n",
       "0      1    1        4      WN     LAX      SLC       1625       58.0   \n",
       "1      1    1        4      UA     DEN      IAD        823        7.0   \n",
       "2      1    1        4      MQ     DFW      VPS       1305       36.0   \n",
       "3      1    1        4      AA     DFW      DCA       1555        7.0   \n",
       "4      1    1        4      WN     LAX      MCI       1720       48.0   \n",
       "\n",
       "   AIR_TIME  DIST  SCHED_ARR  ARR_DELAY  DIVERTED  CANCELLED  \n",
       "0      94.0   590       1905       65.0         0          0  \n",
       "1     154.0  1452       1333      -13.0         0          0  \n",
       "2      85.0   641       1453       35.0         0          0  \n",
       "3     126.0  1192       1935       -7.0         0          0  \n",
       "4     166.0  1363       2225       39.0         0          0  "
      ],
      "text/html": "<div>\n<style scoped>\n    .dataframe tbody tr th:only-of-type {\n        vertical-align: middle;\n    }\n\n    .dataframe tbody tr th {\n        vertical-align: top;\n    }\n\n    .dataframe thead th {\n        text-align: right;\n    }\n</style>\n<table border=\"1\" class=\"dataframe\">\n  <thead>\n    <tr style=\"text-align: right;\">\n      <th></th>\n      <th>MONTH</th>\n      <th>DAY</th>\n      <th>WEEKDAY</th>\n      <th>AIRLINE</th>\n      <th>ORG_AIR</th>\n      <th>DEST_AIR</th>\n      <th>SCHED_DEP</th>\n      <th>DEP_DELAY</th>\n      <th>AIR_TIME</th>\n      <th>DIST</th>\n      <th>SCHED_ARR</th>\n      <th>ARR_DELAY</th>\n      <th>DIVERTED</th>\n      <th>CANCELLED</th>\n    </tr>\n  </thead>\n  <tbody>\n    <tr>\n      <th>0</th>\n      <td>1</td>\n      <td>1</td>\n      <td>4</td>\n      <td>WN</td>\n      <td>LAX</td>\n      <td>SLC</td>\n      <td>1625</td>\n      <td>58.0</td>\n      <td>94.0</td>\n      <td>590</td>\n      <td>1905</td>\n      <td>65.0</td>\n      <td>0</td>\n      <td>0</td>\n    </tr>\n    <tr>\n      <th>1</th>\n      <td>1</td>\n      <td>1</td>\n      <td>4</td>\n      <td>UA</td>\n      <td>DEN</td>\n      <td>IAD</td>\n      <td>823</td>\n      <td>7.0</td>\n      <td>154.0</td>\n      <td>1452</td>\n      <td>1333</td>\n      <td>-13.0</td>\n      <td>0</td>\n      <td>0</td>\n    </tr>\n    <tr>\n      <th>2</th>\n      <td>1</td>\n      <td>1</td>\n      <td>4</td>\n      <td>MQ</td>\n      <td>DFW</td>\n      <td>VPS</td>\n      <td>1305</td>\n      <td>36.0</td>\n      <td>85.0</td>\n      <td>641</td>\n      <td>1453</td>\n      <td>35.0</td>\n      <td>0</td>\n      <td>0</td>\n    </tr>\n    <tr>\n      <th>3</th>\n      <td>1</td>\n      <td>1</td>\n      <td>4</td>\n      <td>AA</td>\n      <td>DFW</td>\n      <td>DCA</td>\n      <td>1555</td>\n      <td>7.0</td>\n      <td>126.0</td>\n      <td>1192</td>\n      <td>1935</td>\n      <td>-7.0</td>\n      <td>0</td>\n      <td>0</td>\n    </tr>\n    <tr>\n      <th>4</th>\n      <td>1</td>\n      <td>1</td>\n      <td>4</td>\n      <td>WN</td>\n      <td>LAX</td>\n      <td>MCI</td>\n      <td>1720</td>\n      <td>48.0</td>\n      <td>166.0</td>\n      <td>1363</td>\n      <td>2225</td>\n      <td>39.0</td>\n      <td>0</td>\n      <td>0</td>\n    </tr>\n  </tbody>\n</table>\n</div>"
     },
     "metadata": {},
     "execution_count": 1
    }
   ],
   "source": [
    "import pandas as pd\n",
    "\n",
    "flights = pd.read_csv(\"../data/flights.csv\")\n",
    "flights.head()"
   ]
  },
  {
   "cell_type": "code",
   "execution_count": 2,
   "metadata": {},
   "outputs": [
    {
     "output_type": "execute_result",
     "data": {
      "text/plain": [
       "         ARR_DELAY\n",
       "AIRLINE           \n",
       "AA        5.542661\n",
       "AS       -0.833333\n",
       "B6        8.692593\n",
       "DL        0.339691\n",
       "EV        7.034580"
      ],
      "text/html": "<div>\n<style scoped>\n    .dataframe tbody tr th:only-of-type {\n        vertical-align: middle;\n    }\n\n    .dataframe tbody tr th {\n        vertical-align: top;\n    }\n\n    .dataframe thead th {\n        text-align: right;\n    }\n</style>\n<table border=\"1\" class=\"dataframe\">\n  <thead>\n    <tr style=\"text-align: right;\">\n      <th></th>\n      <th>ARR_DELAY</th>\n    </tr>\n    <tr>\n      <th>AIRLINE</th>\n      <th></th>\n    </tr>\n  </thead>\n  <tbody>\n    <tr>\n      <th>AA</th>\n      <td>5.542661</td>\n    </tr>\n    <tr>\n      <th>AS</th>\n      <td>-0.833333</td>\n    </tr>\n    <tr>\n      <th>B6</th>\n      <td>8.692593</td>\n    </tr>\n    <tr>\n      <th>DL</th>\n      <td>0.339691</td>\n    </tr>\n    <tr>\n      <th>EV</th>\n      <td>7.034580</td>\n    </tr>\n  </tbody>\n</table>\n</div>"
     },
     "metadata": {},
     "execution_count": 2
    }
   ],
   "source": [
    "flights.groupby(\"AIRLINE\").agg({\"ARR_DELAY\": \"mean\"}).head()"
   ]
  },
  {
   "cell_type": "code",
   "execution_count": 3,
   "metadata": {},
   "outputs": [
    {
     "output_type": "execute_result",
     "data": {
      "text/plain": [
       "AIRLINE\n",
       "AA    5.542661\n",
       "AS   -0.833333\n",
       "B6    8.692593\n",
       "DL    0.339691\n",
       "EV    7.034580\n",
       "Name: ARR_DELAY, dtype: float64"
      ]
     },
     "metadata": {},
     "execution_count": 3
    }
   ],
   "source": [
    "flights.groupby(\"AIRLINE\")[\"ARR_DELAY\"].agg(\"mean\").head()"
   ]
  },
  {
   "cell_type": "code",
   "execution_count": 4,
   "metadata": {},
   "outputs": [
    {
     "output_type": "execute_result",
     "data": {
      "text/plain": [
       "AIRLINE\n",
       "AA    5.542661\n",
       "AS   -0.833333\n",
       "B6    8.692593\n",
       "DL    0.339691\n",
       "EV    7.034580\n",
       "Name: ARR_DELAY, dtype: float64"
      ]
     },
     "metadata": {},
     "execution_count": 4
    }
   ],
   "source": [
    "flights.groupby(\"AIRLINE\")[\"ARR_DELAY\"].mean().head()"
   ]
  },
  {
   "cell_type": "code",
   "execution_count": 5,
   "metadata": {},
   "outputs": [
    {
     "output_type": "execute_result",
     "data": {
      "text/plain": [
       "AIRLINE  WEEKDAY\n",
       "AA       1          41\n",
       "         2           9\n",
       "         3          16\n",
       "         4          20\n",
       "         5          18\n",
       "Name: CANCELLED, dtype: int64"
      ]
     },
     "metadata": {},
     "execution_count": 5
    }
   ],
   "source": [
    "flights.groupby([\"AIRLINE\", \"WEEKDAY\"])[\"CANCELLED\"].agg(\"sum\").head()"
   ]
  },
  {
   "cell_type": "code",
   "execution_count": 6,
   "metadata": {},
   "outputs": [
    {
     "output_type": "execute_result",
     "data": {
      "text/plain": [
       "                 CANCELLED  DIVERTED\n",
       "AIRLINE WEEKDAY                     \n",
       "AA      1               41         6\n",
       "        2                9         2\n",
       "        3               16         2\n",
       "        4               20         5\n",
       "        5               18         1"
      ],
      "text/html": "<div>\n<style scoped>\n    .dataframe tbody tr th:only-of-type {\n        vertical-align: middle;\n    }\n\n    .dataframe tbody tr th {\n        vertical-align: top;\n    }\n\n    .dataframe thead th {\n        text-align: right;\n    }\n</style>\n<table border=\"1\" class=\"dataframe\">\n  <thead>\n    <tr style=\"text-align: right;\">\n      <th></th>\n      <th></th>\n      <th>CANCELLED</th>\n      <th>DIVERTED</th>\n    </tr>\n    <tr>\n      <th>AIRLINE</th>\n      <th>WEEKDAY</th>\n      <th></th>\n      <th></th>\n    </tr>\n  </thead>\n  <tbody>\n    <tr>\n      <th rowspan=\"5\" valign=\"top\">AA</th>\n      <th>1</th>\n      <td>41</td>\n      <td>6</td>\n    </tr>\n    <tr>\n      <th>2</th>\n      <td>9</td>\n      <td>2</td>\n    </tr>\n    <tr>\n      <th>3</th>\n      <td>16</td>\n      <td>2</td>\n    </tr>\n    <tr>\n      <th>4</th>\n      <td>20</td>\n      <td>5</td>\n    </tr>\n    <tr>\n      <th>5</th>\n      <td>18</td>\n      <td>1</td>\n    </tr>\n  </tbody>\n</table>\n</div>"
     },
     "metadata": {},
     "execution_count": 6
    }
   ],
   "source": [
    "flights.groupby([\"AIRLINE\", \"WEEKDAY\"])[\"CANCELLED\",\"DIVERTED\"].agg(\"sum\").head()"
   ]
  },
  {
   "cell_type": "code",
   "execution_count": 7,
   "metadata": {},
   "outputs": [
    {
     "output_type": "execute_result",
     "data": {
      "text/plain": [
       "                CANCELLED                     DIVERTED                    \n",
       "                      sum      mean       std      sum      mean       std\n",
       "AIRLINE WEEKDAY                                                           \n",
       "AA      1              41  0.032106  0.176352        6  0.004699  0.068411\n",
       "        2               9  0.007341  0.085399        2  0.001631  0.040373\n",
       "        3              16  0.011949  0.108698        2  0.001494  0.038633\n",
       "        4              20  0.015004  0.121613        5  0.003751  0.061153\n",
       "        5              18  0.014151  0.118160        1  0.000786  0.028039"
      ],
      "text/html": "<div>\n<style scoped>\n    .dataframe tbody tr th:only-of-type {\n        vertical-align: middle;\n    }\n\n    .dataframe tbody tr th {\n        vertical-align: top;\n    }\n\n    .dataframe thead tr th {\n        text-align: left;\n    }\n\n    .dataframe thead tr:last-of-type th {\n        text-align: right;\n    }\n</style>\n<table border=\"1\" class=\"dataframe\">\n  <thead>\n    <tr>\n      <th></th>\n      <th></th>\n      <th colspan=\"3\" halign=\"left\">CANCELLED</th>\n      <th colspan=\"3\" halign=\"left\">DIVERTED</th>\n    </tr>\n    <tr>\n      <th></th>\n      <th></th>\n      <th>sum</th>\n      <th>mean</th>\n      <th>std</th>\n      <th>sum</th>\n      <th>mean</th>\n      <th>std</th>\n    </tr>\n    <tr>\n      <th>AIRLINE</th>\n      <th>WEEKDAY</th>\n      <th></th>\n      <th></th>\n      <th></th>\n      <th></th>\n      <th></th>\n      <th></th>\n    </tr>\n  </thead>\n  <tbody>\n    <tr>\n      <th rowspan=\"5\" valign=\"top\">AA</th>\n      <th>1</th>\n      <td>41</td>\n      <td>0.032106</td>\n      <td>0.176352</td>\n      <td>6</td>\n      <td>0.004699</td>\n      <td>0.068411</td>\n    </tr>\n    <tr>\n      <th>2</th>\n      <td>9</td>\n      <td>0.007341</td>\n      <td>0.085399</td>\n      <td>2</td>\n      <td>0.001631</td>\n      <td>0.040373</td>\n    </tr>\n    <tr>\n      <th>3</th>\n      <td>16</td>\n      <td>0.011949</td>\n      <td>0.108698</td>\n      <td>2</td>\n      <td>0.001494</td>\n      <td>0.038633</td>\n    </tr>\n    <tr>\n      <th>4</th>\n      <td>20</td>\n      <td>0.015004</td>\n      <td>0.121613</td>\n      <td>5</td>\n      <td>0.003751</td>\n      <td>0.061153</td>\n    </tr>\n    <tr>\n      <th>5</th>\n      <td>18</td>\n      <td>0.014151</td>\n      <td>0.118160</td>\n      <td>1</td>\n      <td>0.000786</td>\n      <td>0.028039</td>\n    </tr>\n  </tbody>\n</table>\n</div>"
     },
     "metadata": {},
     "execution_count": 7
    }
   ],
   "source": [
    "flights.groupby([\"AIRLINE\", \"WEEKDAY\"])[\"CANCELLED\",\"DIVERTED\"].agg([\"sum\", \"mean\",\"std\"]).head()"
   ]
  },
  {
   "cell_type": "code",
   "execution_count": 8,
   "metadata": {},
   "outputs": [
    {
     "output_type": "execute_result",
     "data": {
      "text/plain": [
       "                CANCELLED                     DIVERTED\n",
       "                      sum      mean       std      sum\n",
       "AIRLINE WEEKDAY                                       \n",
       "AA      1              41  0.032106  0.176352        6\n",
       "        2               9  0.007341  0.085399        2\n",
       "        3              16  0.011949  0.108698        2\n",
       "        4              20  0.015004  0.121613        5\n",
       "        5              18  0.014151  0.118160        1"
      ],
      "text/html": "<div>\n<style scoped>\n    .dataframe tbody tr th:only-of-type {\n        vertical-align: middle;\n    }\n\n    .dataframe tbody tr th {\n        vertical-align: top;\n    }\n\n    .dataframe thead tr th {\n        text-align: left;\n    }\n\n    .dataframe thead tr:last-of-type th {\n        text-align: right;\n    }\n</style>\n<table border=\"1\" class=\"dataframe\">\n  <thead>\n    <tr>\n      <th></th>\n      <th></th>\n      <th colspan=\"3\" halign=\"left\">CANCELLED</th>\n      <th>DIVERTED</th>\n    </tr>\n    <tr>\n      <th></th>\n      <th></th>\n      <th>sum</th>\n      <th>mean</th>\n      <th>std</th>\n      <th>sum</th>\n    </tr>\n    <tr>\n      <th>AIRLINE</th>\n      <th>WEEKDAY</th>\n      <th></th>\n      <th></th>\n      <th></th>\n      <th></th>\n    </tr>\n  </thead>\n  <tbody>\n    <tr>\n      <th rowspan=\"5\" valign=\"top\">AA</th>\n      <th>1</th>\n      <td>41</td>\n      <td>0.032106</td>\n      <td>0.176352</td>\n      <td>6</td>\n    </tr>\n    <tr>\n      <th>2</th>\n      <td>9</td>\n      <td>0.007341</td>\n      <td>0.085399</td>\n      <td>2</td>\n    </tr>\n    <tr>\n      <th>3</th>\n      <td>16</td>\n      <td>0.011949</td>\n      <td>0.108698</td>\n      <td>2</td>\n    </tr>\n    <tr>\n      <th>4</th>\n      <td>20</td>\n      <td>0.015004</td>\n      <td>0.121613</td>\n      <td>5</td>\n    </tr>\n    <tr>\n      <th>5</th>\n      <td>18</td>\n      <td>0.014151</td>\n      <td>0.118160</td>\n      <td>1</td>\n    </tr>\n  </tbody>\n</table>\n</div>"
     },
     "metadata": {},
     "execution_count": 8
    }
   ],
   "source": [
    "flights.groupby([\"AIRLINE\", \"WEEKDAY\"])[\"CANCELLED\",\"DIVERTED\"].agg({\"CANCELLED\": [\"sum\", \"mean\",\"std\"], \"DIVERTED\": [\"sum\"]}).head()"
   ]
  },
  {
   "cell_type": "code",
   "execution_count": 9,
   "metadata": {},
   "outputs": [
    {
     "output_type": "execute_result",
     "data": {
      "text/plain": [
       "                    DIST              ARR_DELAY       \n",
       "                     sum         mean       min    max\n",
       "AIRLINE WEEKDAY                                       \n",
       "AA      1        1455386  1139.691464     -60.0  551.0\n",
       "        2        1358256  1107.876020     -52.0  725.0\n",
       "        3        1496665  1117.748320     -45.0  473.0\n",
       "        4        1452394  1089.567892     -46.0  349.0\n",
       "        5        1427749  1122.444182     -41.0  732.0\n",
       "...                  ...          ...       ...    ...\n",
       "WN      3         997213   782.127843     -38.0  262.0\n",
       "        4        1024854   810.802215     -52.0  284.0\n",
       "        5         981036   816.849292     -44.0  244.0\n",
       "        6         823946   834.798379     -41.0  290.0\n",
       "        7         945679   819.479203     -45.0  261.0\n",
       "\n",
       "[98 rows x 4 columns]"
      ],
      "text/html": "<div>\n<style scoped>\n    .dataframe tbody tr th:only-of-type {\n        vertical-align: middle;\n    }\n\n    .dataframe tbody tr th {\n        vertical-align: top;\n    }\n\n    .dataframe thead tr th {\n        text-align: left;\n    }\n\n    .dataframe thead tr:last-of-type th {\n        text-align: right;\n    }\n</style>\n<table border=\"1\" class=\"dataframe\">\n  <thead>\n    <tr>\n      <th></th>\n      <th></th>\n      <th colspan=\"2\" halign=\"left\">DIST</th>\n      <th colspan=\"2\" halign=\"left\">ARR_DELAY</th>\n    </tr>\n    <tr>\n      <th></th>\n      <th></th>\n      <th>sum</th>\n      <th>mean</th>\n      <th>min</th>\n      <th>max</th>\n    </tr>\n    <tr>\n      <th>AIRLINE</th>\n      <th>WEEKDAY</th>\n      <th></th>\n      <th></th>\n      <th></th>\n      <th></th>\n    </tr>\n  </thead>\n  <tbody>\n    <tr>\n      <th rowspan=\"5\" valign=\"top\">AA</th>\n      <th>1</th>\n      <td>1455386</td>\n      <td>1139.691464</td>\n      <td>-60.0</td>\n      <td>551.0</td>\n    </tr>\n    <tr>\n      <th>2</th>\n      <td>1358256</td>\n      <td>1107.876020</td>\n      <td>-52.0</td>\n      <td>725.0</td>\n    </tr>\n    <tr>\n      <th>3</th>\n      <td>1496665</td>\n      <td>1117.748320</td>\n      <td>-45.0</td>\n      <td>473.0</td>\n    </tr>\n    <tr>\n      <th>4</th>\n      <td>1452394</td>\n      <td>1089.567892</td>\n      <td>-46.0</td>\n      <td>349.0</td>\n    </tr>\n    <tr>\n      <th>5</th>\n      <td>1427749</td>\n      <td>1122.444182</td>\n      <td>-41.0</td>\n      <td>732.0</td>\n    </tr>\n    <tr>\n      <th>...</th>\n      <th>...</th>\n      <td>...</td>\n      <td>...</td>\n      <td>...</td>\n      <td>...</td>\n    </tr>\n    <tr>\n      <th rowspan=\"5\" valign=\"top\">WN</th>\n      <th>3</th>\n      <td>997213</td>\n      <td>782.127843</td>\n      <td>-38.0</td>\n      <td>262.0</td>\n    </tr>\n    <tr>\n      <th>4</th>\n      <td>1024854</td>\n      <td>810.802215</td>\n      <td>-52.0</td>\n      <td>284.0</td>\n    </tr>\n    <tr>\n      <th>5</th>\n      <td>981036</td>\n      <td>816.849292</td>\n      <td>-44.0</td>\n      <td>244.0</td>\n    </tr>\n    <tr>\n      <th>6</th>\n      <td>823946</td>\n      <td>834.798379</td>\n      <td>-41.0</td>\n      <td>290.0</td>\n    </tr>\n    <tr>\n      <th>7</th>\n      <td>945679</td>\n      <td>819.479203</td>\n      <td>-45.0</td>\n      <td>261.0</td>\n    </tr>\n  </tbody>\n</table>\n<p>98 rows × 4 columns</p>\n</div>"
     },
     "metadata": {},
     "execution_count": 9
    }
   ],
   "source": [
    "airline_info = flights.groupby([\"AIRLINE\", \"WEEKDAY\"]).agg({\"DIST\": [\"sum\", \"mean\"], \"ARR_DELAY\": [\"min\", \"max\"]})\n",
    "airline_info"
   ]
  },
  {
   "cell_type": "code",
   "execution_count": 10,
   "metadata": {},
   "outputs": [
    {
     "output_type": "execute_result",
     "data": {
      "text/plain": [
       "Index(['DIST', 'DIST', 'ARR_DELAY', 'ARR_DELAY'], dtype='object')"
      ]
     },
     "metadata": {},
     "execution_count": 10
    }
   ],
   "source": [
    "level0 = airline_info.columns.get_level_values(0)\n",
    "level0"
   ]
  },
  {
   "cell_type": "code",
   "execution_count": 11,
   "metadata": {},
   "outputs": [
    {
     "output_type": "execute_result",
     "data": {
      "text/plain": [
       "Index(['sum', 'mean', 'min', 'max'], dtype='object')"
      ]
     },
     "metadata": {},
     "execution_count": 11
    }
   ],
   "source": [
    "level1 = airline_info.columns.get_level_values(1)\n",
    "\n",
    "level1"
   ]
  },
  {
   "cell_type": "code",
   "execution_count": 12,
   "metadata": {},
   "outputs": [
    {
     "output_type": "execute_result",
     "data": {
      "text/plain": [
       "                 DIST_sum    DIST_mean  ARR_DELAY_min  ARR_DELAY_max\n",
       "AIRLINE WEEKDAY                                                     \n",
       "AA      1         1455386  1139.691464          -60.0          551.0\n",
       "        2         1358256  1107.876020          -52.0          725.0\n",
       "        3         1496665  1117.748320          -45.0          473.0\n",
       "        4         1452394  1089.567892          -46.0          349.0\n",
       "        5         1427749  1122.444182          -41.0          732.0\n",
       "...                   ...          ...            ...            ...\n",
       "WN      3          997213   782.127843          -38.0          262.0\n",
       "        4         1024854   810.802215          -52.0          284.0\n",
       "        5          981036   816.849292          -44.0          244.0\n",
       "        6          823946   834.798379          -41.0          290.0\n",
       "        7          945679   819.479203          -45.0          261.0\n",
       "\n",
       "[98 rows x 4 columns]"
      ],
      "text/html": "<div>\n<style scoped>\n    .dataframe tbody tr th:only-of-type {\n        vertical-align: middle;\n    }\n\n    .dataframe tbody tr th {\n        vertical-align: top;\n    }\n\n    .dataframe thead th {\n        text-align: right;\n    }\n</style>\n<table border=\"1\" class=\"dataframe\">\n  <thead>\n    <tr style=\"text-align: right;\">\n      <th></th>\n      <th></th>\n      <th>DIST_sum</th>\n      <th>DIST_mean</th>\n      <th>ARR_DELAY_min</th>\n      <th>ARR_DELAY_max</th>\n    </tr>\n    <tr>\n      <th>AIRLINE</th>\n      <th>WEEKDAY</th>\n      <th></th>\n      <th></th>\n      <th></th>\n      <th></th>\n    </tr>\n  </thead>\n  <tbody>\n    <tr>\n      <th rowspan=\"5\" valign=\"top\">AA</th>\n      <th>1</th>\n      <td>1455386</td>\n      <td>1139.691464</td>\n      <td>-60.0</td>\n      <td>551.0</td>\n    </tr>\n    <tr>\n      <th>2</th>\n      <td>1358256</td>\n      <td>1107.876020</td>\n      <td>-52.0</td>\n      <td>725.0</td>\n    </tr>\n    <tr>\n      <th>3</th>\n      <td>1496665</td>\n      <td>1117.748320</td>\n      <td>-45.0</td>\n      <td>473.0</td>\n    </tr>\n    <tr>\n      <th>4</th>\n      <td>1452394</td>\n      <td>1089.567892</td>\n      <td>-46.0</td>\n      <td>349.0</td>\n    </tr>\n    <tr>\n      <th>5</th>\n      <td>1427749</td>\n      <td>1122.444182</td>\n      <td>-41.0</td>\n      <td>732.0</td>\n    </tr>\n    <tr>\n      <th>...</th>\n      <th>...</th>\n      <td>...</td>\n      <td>...</td>\n      <td>...</td>\n      <td>...</td>\n    </tr>\n    <tr>\n      <th rowspan=\"5\" valign=\"top\">WN</th>\n      <th>3</th>\n      <td>997213</td>\n      <td>782.127843</td>\n      <td>-38.0</td>\n      <td>262.0</td>\n    </tr>\n    <tr>\n      <th>4</th>\n      <td>1024854</td>\n      <td>810.802215</td>\n      <td>-52.0</td>\n      <td>284.0</td>\n    </tr>\n    <tr>\n      <th>5</th>\n      <td>981036</td>\n      <td>816.849292</td>\n      <td>-44.0</td>\n      <td>244.0</td>\n    </tr>\n    <tr>\n      <th>6</th>\n      <td>823946</td>\n      <td>834.798379</td>\n      <td>-41.0</td>\n      <td>290.0</td>\n    </tr>\n    <tr>\n      <th>7</th>\n      <td>945679</td>\n      <td>819.479203</td>\n      <td>-45.0</td>\n      <td>261.0</td>\n    </tr>\n  </tbody>\n</table>\n<p>98 rows × 4 columns</p>\n</div>"
     },
     "metadata": {},
     "execution_count": 12
    }
   ],
   "source": [
    "airline_info.columns = level0 + \"_\" + level1\n",
    "airline_info"
   ]
  },
  {
   "cell_type": "code",
   "execution_count": 13,
   "metadata": {},
   "outputs": [
    {
     "output_type": "execute_result",
     "data": {
      "text/plain": [
       "   AIRLINE  WEEKDAY  DIST_sum    DIST_mean  ARR_DELAY_min  ARR_DELAY_max\n",
       "0       AA        1   1455386  1139.691464          -60.0          551.0\n",
       "1       AA        2   1358256  1107.876020          -52.0          725.0\n",
       "2       AA        3   1496665  1117.748320          -45.0          473.0\n",
       "3       AA        4   1452394  1089.567892          -46.0          349.0\n",
       "4       AA        5   1427749  1122.444182          -41.0          732.0\n",
       "..     ...      ...       ...          ...            ...            ...\n",
       "93      WN        3    997213   782.127843          -38.0          262.0\n",
       "94      WN        4   1024854   810.802215          -52.0          284.0\n",
       "95      WN        5    981036   816.849292          -44.0          244.0\n",
       "96      WN        6    823946   834.798379          -41.0          290.0\n",
       "97      WN        7    945679   819.479203          -45.0          261.0\n",
       "\n",
       "[98 rows x 6 columns]"
      ],
      "text/html": "<div>\n<style scoped>\n    .dataframe tbody tr th:only-of-type {\n        vertical-align: middle;\n    }\n\n    .dataframe tbody tr th {\n        vertical-align: top;\n    }\n\n    .dataframe thead th {\n        text-align: right;\n    }\n</style>\n<table border=\"1\" class=\"dataframe\">\n  <thead>\n    <tr style=\"text-align: right;\">\n      <th></th>\n      <th>AIRLINE</th>\n      <th>WEEKDAY</th>\n      <th>DIST_sum</th>\n      <th>DIST_mean</th>\n      <th>ARR_DELAY_min</th>\n      <th>ARR_DELAY_max</th>\n    </tr>\n  </thead>\n  <tbody>\n    <tr>\n      <th>0</th>\n      <td>AA</td>\n      <td>1</td>\n      <td>1455386</td>\n      <td>1139.691464</td>\n      <td>-60.0</td>\n      <td>551.0</td>\n    </tr>\n    <tr>\n      <th>1</th>\n      <td>AA</td>\n      <td>2</td>\n      <td>1358256</td>\n      <td>1107.876020</td>\n      <td>-52.0</td>\n      <td>725.0</td>\n    </tr>\n    <tr>\n      <th>2</th>\n      <td>AA</td>\n      <td>3</td>\n      <td>1496665</td>\n      <td>1117.748320</td>\n      <td>-45.0</td>\n      <td>473.0</td>\n    </tr>\n    <tr>\n      <th>3</th>\n      <td>AA</td>\n      <td>4</td>\n      <td>1452394</td>\n      <td>1089.567892</td>\n      <td>-46.0</td>\n      <td>349.0</td>\n    </tr>\n    <tr>\n      <th>4</th>\n      <td>AA</td>\n      <td>5</td>\n      <td>1427749</td>\n      <td>1122.444182</td>\n      <td>-41.0</td>\n      <td>732.0</td>\n    </tr>\n    <tr>\n      <th>...</th>\n      <td>...</td>\n      <td>...</td>\n      <td>...</td>\n      <td>...</td>\n      <td>...</td>\n      <td>...</td>\n    </tr>\n    <tr>\n      <th>93</th>\n      <td>WN</td>\n      <td>3</td>\n      <td>997213</td>\n      <td>782.127843</td>\n      <td>-38.0</td>\n      <td>262.0</td>\n    </tr>\n    <tr>\n      <th>94</th>\n      <td>WN</td>\n      <td>4</td>\n      <td>1024854</td>\n      <td>810.802215</td>\n      <td>-52.0</td>\n      <td>284.0</td>\n    </tr>\n    <tr>\n      <th>95</th>\n      <td>WN</td>\n      <td>5</td>\n      <td>981036</td>\n      <td>816.849292</td>\n      <td>-44.0</td>\n      <td>244.0</td>\n    </tr>\n    <tr>\n      <th>96</th>\n      <td>WN</td>\n      <td>6</td>\n      <td>823946</td>\n      <td>834.798379</td>\n      <td>-41.0</td>\n      <td>290.0</td>\n    </tr>\n    <tr>\n      <th>97</th>\n      <td>WN</td>\n      <td>7</td>\n      <td>945679</td>\n      <td>819.479203</td>\n      <td>-45.0</td>\n      <td>261.0</td>\n    </tr>\n  </tbody>\n</table>\n<p>98 rows × 6 columns</p>\n</div>"
     },
     "metadata": {},
     "execution_count": 13
    }
   ],
   "source": [
    "airline_info.reset_index()"
   ]
  },
  {
   "cell_type": "code",
   "execution_count": 14,
   "metadata": {},
   "outputs": [
    {
     "output_type": "execute_result",
     "data": {
      "text/plain": [
       "          mean      std\n",
       "STABBR                 \n",
       "AK      2493.0   4052.0\n",
       "AL      2790.0   4658.0\n",
       "AR      1644.0   3143.0\n",
       "AS      1276.0      NaN\n",
       "AZ      4130.0  14894.0"
      ],
      "text/html": "<div>\n<style scoped>\n    .dataframe tbody tr th:only-of-type {\n        vertical-align: middle;\n    }\n\n    .dataframe tbody tr th {\n        vertical-align: top;\n    }\n\n    .dataframe thead th {\n        text-align: right;\n    }\n</style>\n<table border=\"1\" class=\"dataframe\">\n  <thead>\n    <tr style=\"text-align: right;\">\n      <th></th>\n      <th>mean</th>\n      <th>std</th>\n    </tr>\n    <tr>\n      <th>STABBR</th>\n      <th></th>\n      <th></th>\n    </tr>\n  </thead>\n  <tbody>\n    <tr>\n      <th>AK</th>\n      <td>2493.0</td>\n      <td>4052.0</td>\n    </tr>\n    <tr>\n      <th>AL</th>\n      <td>2790.0</td>\n      <td>4658.0</td>\n    </tr>\n    <tr>\n      <th>AR</th>\n      <td>1644.0</td>\n      <td>3143.0</td>\n    </tr>\n    <tr>\n      <th>AS</th>\n      <td>1276.0</td>\n      <td>NaN</td>\n    </tr>\n    <tr>\n      <th>AZ</th>\n      <td>4130.0</td>\n      <td>14894.0</td>\n    </tr>\n  </tbody>\n</table>\n</div>"
     },
     "metadata": {},
     "execution_count": 14
    }
   ],
   "source": [
    "college = pd.read_csv(\"../data/college.csv\")\n",
    "college.groupby(\"STABBR\")[\"UGDS\"].agg([\"mean\", \"std\"]).round(0).head()"
   ]
  },
  {
   "cell_type": "code",
   "execution_count": 15,
   "metadata": {},
   "outputs": [],
   "source": [
    "def max_deviation(s):\n",
    "    std_score = (s - s.mean()) / s.std()\n",
    "    return std_score.abs().max()"
   ]
  },
  {
   "cell_type": "code",
   "execution_count": 16,
   "metadata": {},
   "outputs": [
    {
     "output_type": "execute_result",
     "data": {
      "text/plain": [
       "STABBR\n",
       "AK     3.0\n",
       "AL     6.0\n",
       "AR     6.0\n",
       "AS     NaN\n",
       "AZ    10.0\n",
       "Name: UGDS, dtype: float64"
      ]
     },
     "metadata": {},
     "execution_count": 16
    }
   ],
   "source": [
    "college.groupby(\"STABBR\")[\"UGDS\"].agg(max_deviation).round(0).head()"
   ]
  },
  {
   "cell_type": "code",
   "execution_count": 17,
   "metadata": {},
   "outputs": [
    {
     "output_type": "execute_result",
     "data": {
      "text/plain": [
       "        UGDS  SATVRMID\n",
       "STABBR                \n",
       "AK       3.0       NaN\n",
       "AL       6.0       2.0\n",
       "AR       6.0       2.0\n",
       "AS       NaN       NaN\n",
       "AZ      10.0       2.0"
      ],
      "text/html": "<div>\n<style scoped>\n    .dataframe tbody tr th:only-of-type {\n        vertical-align: middle;\n    }\n\n    .dataframe tbody tr th {\n        vertical-align: top;\n    }\n\n    .dataframe thead th {\n        text-align: right;\n    }\n</style>\n<table border=\"1\" class=\"dataframe\">\n  <thead>\n    <tr style=\"text-align: right;\">\n      <th></th>\n      <th>UGDS</th>\n      <th>SATVRMID</th>\n    </tr>\n    <tr>\n      <th>STABBR</th>\n      <th></th>\n      <th></th>\n    </tr>\n  </thead>\n  <tbody>\n    <tr>\n      <th>AK</th>\n      <td>3.0</td>\n      <td>NaN</td>\n    </tr>\n    <tr>\n      <th>AL</th>\n      <td>6.0</td>\n      <td>2.0</td>\n    </tr>\n    <tr>\n      <th>AR</th>\n      <td>6.0</td>\n      <td>2.0</td>\n    </tr>\n    <tr>\n      <th>AS</th>\n      <td>NaN</td>\n      <td>NaN</td>\n    </tr>\n    <tr>\n      <th>AZ</th>\n      <td>10.0</td>\n      <td>2.0</td>\n    </tr>\n  </tbody>\n</table>\n</div>"
     },
     "metadata": {},
     "execution_count": 17
    }
   ],
   "source": [
    "college.groupby(\"STABBR\")[\"UGDS\", \"SATVRMID\"].agg(max_deviation).round(0).head()"
   ]
  },
  {
   "cell_type": "code",
   "execution_count": 18,
   "metadata": {},
   "outputs": [
    {
     "output_type": "execute_result",
     "data": {
      "text/plain": [
       "        max_deviation    mean\n",
       "STABBR                       \n",
       "AK                3.0  2493.0\n",
       "AL                6.0  2790.0\n",
       "AR                6.0  1644.0\n",
       "AS                NaN  1276.0\n",
       "AZ               10.0  4130.0"
      ],
      "text/html": "<div>\n<style scoped>\n    .dataframe tbody tr th:only-of-type {\n        vertical-align: middle;\n    }\n\n    .dataframe tbody tr th {\n        vertical-align: top;\n    }\n\n    .dataframe thead th {\n        text-align: right;\n    }\n</style>\n<table border=\"1\" class=\"dataframe\">\n  <thead>\n    <tr style=\"text-align: right;\">\n      <th></th>\n      <th>max_deviation</th>\n      <th>mean</th>\n    </tr>\n    <tr>\n      <th>STABBR</th>\n      <th></th>\n      <th></th>\n    </tr>\n  </thead>\n  <tbody>\n    <tr>\n      <th>AK</th>\n      <td>3.0</td>\n      <td>2493.0</td>\n    </tr>\n    <tr>\n      <th>AL</th>\n      <td>6.0</td>\n      <td>2790.0</td>\n    </tr>\n    <tr>\n      <th>AR</th>\n      <td>6.0</td>\n      <td>1644.0</td>\n    </tr>\n    <tr>\n      <th>AS</th>\n      <td>NaN</td>\n      <td>1276.0</td>\n    </tr>\n    <tr>\n      <th>AZ</th>\n      <td>10.0</td>\n      <td>4130.0</td>\n    </tr>\n  </tbody>\n</table>\n</div>"
     },
     "metadata": {},
     "execution_count": 18
    }
   ],
   "source": [
    "college.groupby(\"STABBR\")[\"UGDS\"].agg([max_deviation, \"mean\"]).round(0).head()"
   ]
  },
  {
   "cell_type": "code",
   "execution_count": 19,
   "metadata": {},
   "outputs": [
    {
     "output_type": "execute_result",
     "data": {
      "text/plain": [
       "'max_deviation'"
      ]
     },
     "metadata": {},
     "execution_count": 19
    }
   ],
   "source": [
    "max_deviation.__name__"
   ]
  },
  {
   "cell_type": "code",
   "execution_count": 20,
   "metadata": {},
   "outputs": [
    {
     "output_type": "execute_result",
     "data": {
      "text/plain": [
       "        MAX Deviation    mean\n",
       "STABBR                       \n",
       "AK                3.0  2493.0\n",
       "AL                6.0  2790.0\n",
       "AR                6.0  1644.0\n",
       "AS                NaN  1276.0\n",
       "AZ               10.0  4130.0"
      ],
      "text/html": "<div>\n<style scoped>\n    .dataframe tbody tr th:only-of-type {\n        vertical-align: middle;\n    }\n\n    .dataframe tbody tr th {\n        vertical-align: top;\n    }\n\n    .dataframe thead th {\n        text-align: right;\n    }\n</style>\n<table border=\"1\" class=\"dataframe\">\n  <thead>\n    <tr style=\"text-align: right;\">\n      <th></th>\n      <th>MAX Deviation</th>\n      <th>mean</th>\n    </tr>\n    <tr>\n      <th>STABBR</th>\n      <th></th>\n      <th></th>\n    </tr>\n  </thead>\n  <tbody>\n    <tr>\n      <th>AK</th>\n      <td>3.0</td>\n      <td>2493.0</td>\n    </tr>\n    <tr>\n      <th>AL</th>\n      <td>6.0</td>\n      <td>2790.0</td>\n    </tr>\n    <tr>\n      <th>AR</th>\n      <td>6.0</td>\n      <td>1644.0</td>\n    </tr>\n    <tr>\n      <th>AS</th>\n      <td>NaN</td>\n      <td>1276.0</td>\n    </tr>\n    <tr>\n      <th>AZ</th>\n      <td>10.0</td>\n      <td>4130.0</td>\n    </tr>\n  </tbody>\n</table>\n</div>"
     },
     "metadata": {},
     "execution_count": 20
    }
   ],
   "source": [
    "max_deviation.__name__ = \"MAX Deviation\"\n",
    "college.groupby(\"STABBR\")[\"UGDS\"].agg([max_deviation, \"mean\"]).round(0).head()"
   ]
  },
  {
   "cell_type": "code",
   "execution_count": 21,
   "metadata": {},
   "outputs": [
    {
     "output_type": "execute_result",
     "data": {
      "text/plain": [
       "<Signature (func=None, *args, engine=None, engine_kwargs=None, **kwargs)>"
      ]
     },
     "metadata": {},
     "execution_count": 21
    }
   ],
   "source": [
    "import inspect\n",
    "grouped = college.groupby([\"STABBR\", \"RELAFFIL\"])\n",
    "\n",
    "inspect.signature(grouped.agg)"
   ]
  },
  {
   "cell_type": "code",
   "execution_count": 22,
   "metadata": {},
   "outputs": [
    {
     "output_type": "execute_result",
     "data": {
      "text/plain": [
       "STABBR  RELAFFIL\n",
       "AK      0           0.142857\n",
       "        1           0.000000\n",
       "AL      0           0.236111\n",
       "        1           0.333333\n",
       "AR      0           0.279412\n",
       "Name: UGDS, dtype: float64"
      ]
     },
     "metadata": {},
     "execution_count": 22
    }
   ],
   "source": [
    "def pct_between_1_3k(s):\n",
    "    return s.between(1000, 3000).mean()\n",
    "\n",
    "grouped[\"UGDS\"].agg(pct_between_1_3k).head()"
   ]
  },
  {
   "cell_type": "code",
   "execution_count": 23,
   "metadata": {},
   "outputs": [
    {
     "output_type": "execute_result",
     "data": {
      "text/plain": [
       "STABBR  RELAFFIL\n",
       "AK      0           0.571429\n",
       "        1           0.000000\n",
       "AL      0           0.541667\n",
       "        1           0.375000\n",
       "AR      0           0.411765\n",
       "Name: UGDS, dtype: float64"
      ]
     },
     "metadata": {},
     "execution_count": 23
    }
   ],
   "source": [
    "def pct_between(s, low, high):\n",
    "    return s.between(low, high).mean()\n",
    "\n",
    "grouped[\"UGDS\"].agg(pct_between, 1000, 30000).head()"
   ]
  },
  {
   "cell_type": "code",
   "execution_count": 24,
   "metadata": {},
   "outputs": [
    {
     "output_type": "execute_result",
     "data": {
      "text/plain": [
       "pandas.core.groupby.generic.DataFrameGroupBy"
      ]
     },
     "metadata": {},
     "execution_count": 24
    }
   ],
   "source": [
    "grouped = college.groupby([\"STABBR\", \"RELAFFIL\"])\n",
    "type(grouped)"
   ]
  },
  {
   "cell_type": "code",
   "execution_count": 25,
   "metadata": {},
   "outputs": [
    {
     "output_type": "stream",
     "name": "stdout",
     "text": [
      "['CITY', 'CURROPER', 'DISTANCEONLY', 'GRAD_DEBT_MDN_SUPP', 'HBCU', 'INSTNM', 'MD_EARN_WNE_P10', 'MENONLY', 'PCTFLOAN', 'PCTPELL', 'PPTUG_EF', 'RELAFFIL', 'SATMTMID', 'SATVRMID', 'STABBR', 'UG25ABV', 'UGDS', 'UGDS_2MOR', 'UGDS_AIAN', 'UGDS_ASIAN', 'UGDS_BLACK', 'UGDS_HISP', 'UGDS_NHPI', 'UGDS_NRA', 'UGDS_UNKN', 'UGDS_WHITE', 'WOMENONLY', '__annotations__', '__class__', '__class_getitem__', '__delattr__', '__dict__', '__dir__', '__doc__', '__eq__', '__format__', '__ge__', '__getattr__', '__getattribute__', '__getitem__', '__gt__', '__hash__', '__init__', '__init_subclass__', '__iter__', '__le__', '__len__', '__lt__', '__module__', '__ne__', '__new__', '__orig_bases__', '__parameters__', '__reduce__', '__reduce_ex__', '__repr__', '__setattr__', '__sizeof__', '__slots__', '__str__', '__subclasshook__', '__weakref__', '_accessors', '_agg_examples_doc', '_agg_general', '_aggregate', '_aggregate_frame', '_aggregate_item_by_item', '_aggregate_multiple_funcs', '_apply_allowlist', '_apply_filter', '_apply_to_column_groupbys', '_assure_grouper', '_bool_agg', '_builtin_table', '_choose_path', '_concat_objects', '_constructor', '_cumcount_array', '_cython_agg_blocks', '_cython_agg_general', '_cython_table', '_cython_transform', '_define_paths', '_deprecations', '_dir_additions', '_dir_deletions', '_fill', '_get_cython_func', '_get_cythonized_result', '_get_data_to_aggregate', '_get_index', '_get_indices', '_gotitem', '_group_selection', '_insert_inaxis_grouper_inplace', '_internal_names', '_internal_names_set', '_is_builtin_func', '_is_protocol', '_iterate_column_groupbys', '_iterate_slices', '_make_wrapper', '_obj_1d_constructor', '_obj_with_exclusions', '_python_agg_general', '_python_apply_general', '_reindex_output', '_reset_cache', '_reset_group_selection', '_selected_obj', '_selection', '_selection_list', '_selection_name', '_set_group_selection', '_set_result_index_ordered', '_transform_fast', '_transform_general', '_transform_item_by_item', '_transform_should_cast', '_try_aggregate_string_function', '_wrap_agged_blocks', '_wrap_aggregated_output', '_wrap_applied_output', '_wrap_frame_output', '_wrap_transformed_output', 'agg', 'aggregate', 'all', 'any', 'apply', 'backfill', 'bfill', 'boxplot', 'corr', 'corrwith', 'count', 'cov', 'cumcount', 'cummax', 'cummin', 'cumprod', 'cumsum', 'describe', 'diff', 'dtypes', 'expanding', 'ffill', 'fillna', 'filter', 'first', 'get_group', 'groups', 'head', 'hist', 'idxmax', 'idxmin', 'indices', 'last', 'mad', 'max', 'mean', 'median', 'min', 'ndim', 'ngroup', 'ngroups', 'nth', 'nunique', 'ohlc', 'pad', 'pct_change', 'pipe', 'plot', 'prod', 'quantile', 'rank', 'resample', 'rolling', 'sample', 'sem', 'shift', 'size', 'skew', 'std', 'sum', 'tail', 'take', 'transform', 'tshift', 'var']\n"
     ]
    }
   ],
   "source": [
    "print([attr for attr in dir(grouped)])"
   ]
  },
  {
   "cell_type": "code",
   "execution_count": 26,
   "metadata": {},
   "outputs": [
    {
     "output_type": "execute_result",
     "data": {
      "text/plain": [
       "112"
      ]
     },
     "metadata": {},
     "execution_count": 26
    }
   ],
   "source": [
    "grouped.ngroups"
   ]
  },
  {
   "cell_type": "code",
   "execution_count": 27,
   "metadata": {},
   "outputs": [
    {
     "output_type": "execute_result",
     "data": {
      "text/plain": [
       "[('AK', 0), ('AK', 1), ('AL', 0), ('AL', 1), ('AR', 0), ('AR', 1)]"
      ]
     },
     "metadata": {},
     "execution_count": 27
    }
   ],
   "source": [
    "groups = list(grouped.groups.keys())\n",
    "groups[:6]"
   ]
  },
  {
   "cell_type": "code",
   "execution_count": 28,
   "metadata": {},
   "outputs": [
    {
     "output_type": "execute_result",
     "data": {
      "text/plain": [
       "                                    INSTNM           CITY STABBR  HBCU  \\\n",
       "712         The Baptist College of Florida     Graceville     FL   0.0   \n",
       "713                       Barry University          Miami     FL   0.0   \n",
       "714  Gooding Institute of Nurse Anesthesia    Panama City     FL   0.0   \n",
       "715             Bethune-Cookman University  Daytona Beach     FL   1.0   \n",
       "724             Johnson University Florida      Kissimmee     FL   0.0   \n",
       "\n",
       "     MENONLY  WOMENONLY  RELAFFIL  SATVRMID  SATMTMID  DISTANCEONLY  ...  \\\n",
       "712      0.0        0.0         1     545.0     465.0           0.0  ...   \n",
       "713      0.0        0.0         1     470.0     462.0           0.0  ...   \n",
       "714      0.0        0.0         1       NaN       NaN           0.0  ...   \n",
       "715      0.0        0.0         1     405.0     395.0           0.0  ...   \n",
       "724      0.0        0.0         1     480.0     470.0           0.0  ...   \n",
       "\n",
       "     UGDS_2MOR  UGDS_NRA  UGDS_UNKN  PPTUG_EF  CURROPER  PCTPELL  PCTFLOAN  \\\n",
       "712     0.0308    0.0000     0.0507    0.2291         1   0.5878    0.5602   \n",
       "713     0.0164    0.0741     0.0841    0.1518         1   0.5045    0.6733   \n",
       "714        NaN       NaN        NaN       NaN         0      NaN       NaN   \n",
       "715     0.0198    0.0205     0.0190    0.0523         1   0.7758    0.8867   \n",
       "724     0.0045    0.0045     0.0136    0.1636         1   0.6689    0.7384   \n",
       "\n",
       "     UG25ABV  MD_EARN_WNE_P10  GRAD_DEBT_MDN_SUPP  \n",
       "712   0.3531            30800               20052  \n",
       "713   0.4361            44100               28250  \n",
       "714      NaN              NaN   PrivacySuppressed  \n",
       "715   0.0647            29400               36250  \n",
       "724   0.2185            26300               20199  \n",
       "\n",
       "[5 rows x 27 columns]"
      ],
      "text/html": "<div>\n<style scoped>\n    .dataframe tbody tr th:only-of-type {\n        vertical-align: middle;\n    }\n\n    .dataframe tbody tr th {\n        vertical-align: top;\n    }\n\n    .dataframe thead th {\n        text-align: right;\n    }\n</style>\n<table border=\"1\" class=\"dataframe\">\n  <thead>\n    <tr style=\"text-align: right;\">\n      <th></th>\n      <th>INSTNM</th>\n      <th>CITY</th>\n      <th>STABBR</th>\n      <th>HBCU</th>\n      <th>MENONLY</th>\n      <th>WOMENONLY</th>\n      <th>RELAFFIL</th>\n      <th>SATVRMID</th>\n      <th>SATMTMID</th>\n      <th>DISTANCEONLY</th>\n      <th>...</th>\n      <th>UGDS_2MOR</th>\n      <th>UGDS_NRA</th>\n      <th>UGDS_UNKN</th>\n      <th>PPTUG_EF</th>\n      <th>CURROPER</th>\n      <th>PCTPELL</th>\n      <th>PCTFLOAN</th>\n      <th>UG25ABV</th>\n      <th>MD_EARN_WNE_P10</th>\n      <th>GRAD_DEBT_MDN_SUPP</th>\n    </tr>\n  </thead>\n  <tbody>\n    <tr>\n      <th>712</th>\n      <td>The Baptist College of Florida</td>\n      <td>Graceville</td>\n      <td>FL</td>\n      <td>0.0</td>\n      <td>0.0</td>\n      <td>0.0</td>\n      <td>1</td>\n      <td>545.0</td>\n      <td>465.0</td>\n      <td>0.0</td>\n      <td>...</td>\n      <td>0.0308</td>\n      <td>0.0000</td>\n      <td>0.0507</td>\n      <td>0.2291</td>\n      <td>1</td>\n      <td>0.5878</td>\n      <td>0.5602</td>\n      <td>0.3531</td>\n      <td>30800</td>\n      <td>20052</td>\n    </tr>\n    <tr>\n      <th>713</th>\n      <td>Barry University</td>\n      <td>Miami</td>\n      <td>FL</td>\n      <td>0.0</td>\n      <td>0.0</td>\n      <td>0.0</td>\n      <td>1</td>\n      <td>470.0</td>\n      <td>462.0</td>\n      <td>0.0</td>\n      <td>...</td>\n      <td>0.0164</td>\n      <td>0.0741</td>\n      <td>0.0841</td>\n      <td>0.1518</td>\n      <td>1</td>\n      <td>0.5045</td>\n      <td>0.6733</td>\n      <td>0.4361</td>\n      <td>44100</td>\n      <td>28250</td>\n    </tr>\n    <tr>\n      <th>714</th>\n      <td>Gooding Institute of Nurse Anesthesia</td>\n      <td>Panama City</td>\n      <td>FL</td>\n      <td>0.0</td>\n      <td>0.0</td>\n      <td>0.0</td>\n      <td>1</td>\n      <td>NaN</td>\n      <td>NaN</td>\n      <td>0.0</td>\n      <td>...</td>\n      <td>NaN</td>\n      <td>NaN</td>\n      <td>NaN</td>\n      <td>NaN</td>\n      <td>0</td>\n      <td>NaN</td>\n      <td>NaN</td>\n      <td>NaN</td>\n      <td>NaN</td>\n      <td>PrivacySuppressed</td>\n    </tr>\n    <tr>\n      <th>715</th>\n      <td>Bethune-Cookman University</td>\n      <td>Daytona Beach</td>\n      <td>FL</td>\n      <td>1.0</td>\n      <td>0.0</td>\n      <td>0.0</td>\n      <td>1</td>\n      <td>405.0</td>\n      <td>395.0</td>\n      <td>0.0</td>\n      <td>...</td>\n      <td>0.0198</td>\n      <td>0.0205</td>\n      <td>0.0190</td>\n      <td>0.0523</td>\n      <td>1</td>\n      <td>0.7758</td>\n      <td>0.8867</td>\n      <td>0.0647</td>\n      <td>29400</td>\n      <td>36250</td>\n    </tr>\n    <tr>\n      <th>724</th>\n      <td>Johnson University Florida</td>\n      <td>Kissimmee</td>\n      <td>FL</td>\n      <td>0.0</td>\n      <td>0.0</td>\n      <td>0.0</td>\n      <td>1</td>\n      <td>480.0</td>\n      <td>470.0</td>\n      <td>0.0</td>\n      <td>...</td>\n      <td>0.0045</td>\n      <td>0.0045</td>\n      <td>0.0136</td>\n      <td>0.1636</td>\n      <td>1</td>\n      <td>0.6689</td>\n      <td>0.7384</td>\n      <td>0.2185</td>\n      <td>26300</td>\n      <td>20199</td>\n    </tr>\n  </tbody>\n</table>\n<p>5 rows × 27 columns</p>\n</div>"
     },
     "metadata": {},
     "execution_count": 28
    }
   ],
   "source": [
    "grouped.get_group((\"FL\", 1)).head()"
   ]
  },
  {
   "cell_type": "code",
   "execution_count": 29,
   "metadata": {},
   "outputs": [
    {
     "output_type": "stream",
     "name": "stdout",
     "text": [
      "('AK', 0)\n('AK', 1)\n('AL', 0)\n('AL', 1)\n('AR', 0)\n('AR', 1)\n('AS', 0)\n('AZ', 0)\n('AZ', 1)\n('CA', 0)\n('CA', 1)\n('CO', 0)\n('CO', 1)\n('CT', 0)\n('CT', 1)\n('DC', 0)\n('DC', 1)\n('DE', 0)\n('DE', 1)\n('FL', 0)\n('FL', 1)\n('FM', 0)\n('GA', 0)\n('GA', 1)\n('GU', 0)\n('GU', 1)\n('HI', 0)\n('HI', 1)\n('IA', 0)\n('IA', 1)\n('ID', 0)\n('ID', 1)\n('IL', 0)\n('IL', 1)\n('IN', 0)\n('IN', 1)\n('KS', 0)\n('KS', 1)\n('KY', 0)\n('KY', 1)\n('LA', 0)\n('LA', 1)\n('MA', 0)\n('MA', 1)\n('MD', 0)\n('MD', 1)\n('ME', 0)\n('ME', 1)\n('MH', 0)\n('MI', 0)\n('MI', 1)\n('MN', 0)\n('MN', 1)\n('MO', 0)\n('MO', 1)\n('MP', 0)\n('MS', 0)\n('MS', 1)\n('MT', 0)\n('MT', 1)\n('NC', 0)\n('NC', 1)\n('ND', 0)\n('ND', 1)\n('NE', 0)\n('NE', 1)\n('NH', 0)\n('NH', 1)\n('NJ', 0)\n('NJ', 1)\n('NM', 0)\n('NM', 1)\n('NV', 0)\n('NV', 1)\n('NY', 0)\n('NY', 1)\n('OH', 0)\n('OH', 1)\n('OK', 0)\n('OK', 1)\n('OR', 0)\n('OR', 1)\n('PA', 0)\n('PA', 1)\n('PR', 0)\n('PR', 1)\n('PW', 0)\n('RI', 0)\n('RI', 1)\n('SC', 0)\n('SC', 1)\n('SD', 0)\n('SD', 1)\n('TN', 0)\n('TN', 1)\n('TX', 0)\n('TX', 1)\n('UT', 0)\n('UT', 1)\n('VA', 0)\n('VA', 1)\n('VI', 0)\n('VI', 1)\n('VT', 0)\n('VT', 1)\n('WA', 0)\n('WA', 1)\n('WI', 0)\n('WI', 1)\n('WV', 0)\n('WV', 1)\n('WY', 0)\n"
     ]
    }
   ],
   "source": [
    "from IPython.display import display\n",
    "for name, group in grouped:\n",
    "    print(name)\n",
    "    # display(group.head(3))"
   ]
  },
  {
   "cell_type": "code",
   "execution_count": 30,
   "metadata": {},
   "outputs": [
    {
     "output_type": "execute_result",
     "data": {
      "text/plain": [
       "                                 INSTNM        CITY STABBR  HBCU  MENONLY  \\\n",
       "0              Alabama A & M University      Normal     AL   1.0      0.0   \n",
       "1   University of Alabama at Birmingham  Birmingham     AL   0.0      0.0   \n",
       "2                    Amridge University  Montgomery     AL   0.0      0.0   \n",
       "10          Birmingham Southern College  Birmingham     AL   0.0      0.0   \n",
       "43           Prince Institute-Southeast    Elmhurst     IL   0.0      0.0   \n",
       "60       University of Alaska Anchorage   Anchorage     AK   0.0      0.0   \n",
       "61                 Alaska Bible College      Palmer     AK   0.0      0.0   \n",
       "62       University of Alaska Fairbanks   Fairbanks     AK   0.0      0.0   \n",
       "64            Alaska Pacific University   Anchorage     AK   0.0      0.0   \n",
       "68              Everest College-Phoenix     Phoenix     AZ   0.0      0.0   \n",
       "\n",
       "    WOMENONLY  RELAFFIL  SATVRMID  SATMTMID  DISTANCEONLY  ...  UGDS_2MOR  \\\n",
       "0         0.0         0     424.0     420.0           0.0  ...     0.0000   \n",
       "1         0.0         0     570.0     565.0           0.0  ...     0.0368   \n",
       "2         0.0         1       NaN       NaN           1.0  ...     0.0000   \n",
       "10        0.0         1     560.0     560.0           0.0  ...     0.0051   \n",
       "43        0.0         0       NaN       NaN           0.0  ...     0.0000   \n",
       "60        0.0         0       NaN       NaN           0.0  ...     0.0980   \n",
       "61        0.0         1       NaN       NaN           0.0  ...     0.0370   \n",
       "62        0.0         0       NaN       NaN           0.0  ...     0.0401   \n",
       "64        0.0         1     555.0     503.0           0.0  ...     0.0945   \n",
       "68        0.0         1       NaN       NaN           0.0  ...     0.0373   \n",
       "\n",
       "    UGDS_NRA  UGDS_UNKN  PPTUG_EF  CURROPER  PCTPELL  PCTFLOAN  UG25ABV  \\\n",
       "0     0.0059     0.0138    0.0656         1   0.7356    0.8284   0.1049   \n",
       "1     0.0179     0.0100    0.2607         1   0.3460    0.5214   0.2422   \n",
       "2     0.0000     0.2715    0.4536         1   0.6801    0.7795   0.8540   \n",
       "10    0.0000     0.0051    0.0017         1   0.1920    0.4809   0.0152   \n",
       "43    0.0000     0.0000    0.0000         1   0.7857    0.9375   0.6569   \n",
       "60    0.0181     0.0457    0.4539         1   0.2385    0.2647   0.4386   \n",
       "61    0.0000     0.0000    0.1481         1   0.3571    0.2857   0.4286   \n",
       "62    0.0110     0.3060    0.3887         1   0.2263    0.2550   0.4519   \n",
       "64    0.0000     0.0873    0.3745         1   0.3152    0.5297   0.4910   \n",
       "68    0.0000     0.1026    0.4749         0   0.8291    0.7151   0.6700   \n",
       "\n",
       "      MD_EARN_WNE_P10  GRAD_DEBT_MDN_SUPP  \n",
       "0               30300               33888  \n",
       "1               39700             21941.5  \n",
       "2               40100               23370  \n",
       "10              44200               27000  \n",
       "43  PrivacySuppressed               20992  \n",
       "60              42500             19449.5  \n",
       "61                NaN   PrivacySuppressed  \n",
       "62              36200               19355  \n",
       "64              47000               23250  \n",
       "68              28600                9500  \n",
       "\n",
       "[10 rows x 27 columns]"
      ],
      "text/html": "<div>\n<style scoped>\n    .dataframe tbody tr th:only-of-type {\n        vertical-align: middle;\n    }\n\n    .dataframe tbody tr th {\n        vertical-align: top;\n    }\n\n    .dataframe thead th {\n        text-align: right;\n    }\n</style>\n<table border=\"1\" class=\"dataframe\">\n  <thead>\n    <tr style=\"text-align: right;\">\n      <th></th>\n      <th>INSTNM</th>\n      <th>CITY</th>\n      <th>STABBR</th>\n      <th>HBCU</th>\n      <th>MENONLY</th>\n      <th>WOMENONLY</th>\n      <th>RELAFFIL</th>\n      <th>SATVRMID</th>\n      <th>SATMTMID</th>\n      <th>DISTANCEONLY</th>\n      <th>...</th>\n      <th>UGDS_2MOR</th>\n      <th>UGDS_NRA</th>\n      <th>UGDS_UNKN</th>\n      <th>PPTUG_EF</th>\n      <th>CURROPER</th>\n      <th>PCTPELL</th>\n      <th>PCTFLOAN</th>\n      <th>UG25ABV</th>\n      <th>MD_EARN_WNE_P10</th>\n      <th>GRAD_DEBT_MDN_SUPP</th>\n    </tr>\n  </thead>\n  <tbody>\n    <tr>\n      <th>0</th>\n      <td>Alabama A &amp; M University</td>\n      <td>Normal</td>\n      <td>AL</td>\n      <td>1.0</td>\n      <td>0.0</td>\n      <td>0.0</td>\n      <td>0</td>\n      <td>424.0</td>\n      <td>420.0</td>\n      <td>0.0</td>\n      <td>...</td>\n      <td>0.0000</td>\n      <td>0.0059</td>\n      <td>0.0138</td>\n      <td>0.0656</td>\n      <td>1</td>\n      <td>0.7356</td>\n      <td>0.8284</td>\n      <td>0.1049</td>\n      <td>30300</td>\n      <td>33888</td>\n    </tr>\n    <tr>\n      <th>1</th>\n      <td>University of Alabama at Birmingham</td>\n      <td>Birmingham</td>\n      <td>AL</td>\n      <td>0.0</td>\n      <td>0.0</td>\n      <td>0.0</td>\n      <td>0</td>\n      <td>570.0</td>\n      <td>565.0</td>\n      <td>0.0</td>\n      <td>...</td>\n      <td>0.0368</td>\n      <td>0.0179</td>\n      <td>0.0100</td>\n      <td>0.2607</td>\n      <td>1</td>\n      <td>0.3460</td>\n      <td>0.5214</td>\n      <td>0.2422</td>\n      <td>39700</td>\n      <td>21941.5</td>\n    </tr>\n    <tr>\n      <th>2</th>\n      <td>Amridge University</td>\n      <td>Montgomery</td>\n      <td>AL</td>\n      <td>0.0</td>\n      <td>0.0</td>\n      <td>0.0</td>\n      <td>1</td>\n      <td>NaN</td>\n      <td>NaN</td>\n      <td>1.0</td>\n      <td>...</td>\n      <td>0.0000</td>\n      <td>0.0000</td>\n      <td>0.2715</td>\n      <td>0.4536</td>\n      <td>1</td>\n      <td>0.6801</td>\n      <td>0.7795</td>\n      <td>0.8540</td>\n      <td>40100</td>\n      <td>23370</td>\n    </tr>\n    <tr>\n      <th>10</th>\n      <td>Birmingham Southern College</td>\n      <td>Birmingham</td>\n      <td>AL</td>\n      <td>0.0</td>\n      <td>0.0</td>\n      <td>0.0</td>\n      <td>1</td>\n      <td>560.0</td>\n      <td>560.0</td>\n      <td>0.0</td>\n      <td>...</td>\n      <td>0.0051</td>\n      <td>0.0000</td>\n      <td>0.0051</td>\n      <td>0.0017</td>\n      <td>1</td>\n      <td>0.1920</td>\n      <td>0.4809</td>\n      <td>0.0152</td>\n      <td>44200</td>\n      <td>27000</td>\n    </tr>\n    <tr>\n      <th>43</th>\n      <td>Prince Institute-Southeast</td>\n      <td>Elmhurst</td>\n      <td>IL</td>\n      <td>0.0</td>\n      <td>0.0</td>\n      <td>0.0</td>\n      <td>0</td>\n      <td>NaN</td>\n      <td>NaN</td>\n      <td>0.0</td>\n      <td>...</td>\n      <td>0.0000</td>\n      <td>0.0000</td>\n      <td>0.0000</td>\n      <td>0.0000</td>\n      <td>1</td>\n      <td>0.7857</td>\n      <td>0.9375</td>\n      <td>0.6569</td>\n      <td>PrivacySuppressed</td>\n      <td>20992</td>\n    </tr>\n    <tr>\n      <th>60</th>\n      <td>University of Alaska Anchorage</td>\n      <td>Anchorage</td>\n      <td>AK</td>\n      <td>0.0</td>\n      <td>0.0</td>\n      <td>0.0</td>\n      <td>0</td>\n      <td>NaN</td>\n      <td>NaN</td>\n      <td>0.0</td>\n      <td>...</td>\n      <td>0.0980</td>\n      <td>0.0181</td>\n      <td>0.0457</td>\n      <td>0.4539</td>\n      <td>1</td>\n      <td>0.2385</td>\n      <td>0.2647</td>\n      <td>0.4386</td>\n      <td>42500</td>\n      <td>19449.5</td>\n    </tr>\n    <tr>\n      <th>61</th>\n      <td>Alaska Bible College</td>\n      <td>Palmer</td>\n      <td>AK</td>\n      <td>0.0</td>\n      <td>0.0</td>\n      <td>0.0</td>\n      <td>1</td>\n      <td>NaN</td>\n      <td>NaN</td>\n      <td>0.0</td>\n      <td>...</td>\n      <td>0.0370</td>\n      <td>0.0000</td>\n      <td>0.0000</td>\n      <td>0.1481</td>\n      <td>1</td>\n      <td>0.3571</td>\n      <td>0.2857</td>\n      <td>0.4286</td>\n      <td>NaN</td>\n      <td>PrivacySuppressed</td>\n    </tr>\n    <tr>\n      <th>62</th>\n      <td>University of Alaska Fairbanks</td>\n      <td>Fairbanks</td>\n      <td>AK</td>\n      <td>0.0</td>\n      <td>0.0</td>\n      <td>0.0</td>\n      <td>0</td>\n      <td>NaN</td>\n      <td>NaN</td>\n      <td>0.0</td>\n      <td>...</td>\n      <td>0.0401</td>\n      <td>0.0110</td>\n      <td>0.3060</td>\n      <td>0.3887</td>\n      <td>1</td>\n      <td>0.2263</td>\n      <td>0.2550</td>\n      <td>0.4519</td>\n      <td>36200</td>\n      <td>19355</td>\n    </tr>\n    <tr>\n      <th>64</th>\n      <td>Alaska Pacific University</td>\n      <td>Anchorage</td>\n      <td>AK</td>\n      <td>0.0</td>\n      <td>0.0</td>\n      <td>0.0</td>\n      <td>1</td>\n      <td>555.0</td>\n      <td>503.0</td>\n      <td>0.0</td>\n      <td>...</td>\n      <td>0.0945</td>\n      <td>0.0000</td>\n      <td>0.0873</td>\n      <td>0.3745</td>\n      <td>1</td>\n      <td>0.3152</td>\n      <td>0.5297</td>\n      <td>0.4910</td>\n      <td>47000</td>\n      <td>23250</td>\n    </tr>\n    <tr>\n      <th>68</th>\n      <td>Everest College-Phoenix</td>\n      <td>Phoenix</td>\n      <td>AZ</td>\n      <td>0.0</td>\n      <td>0.0</td>\n      <td>0.0</td>\n      <td>1</td>\n      <td>NaN</td>\n      <td>NaN</td>\n      <td>0.0</td>\n      <td>...</td>\n      <td>0.0373</td>\n      <td>0.0000</td>\n      <td>0.1026</td>\n      <td>0.4749</td>\n      <td>0</td>\n      <td>0.8291</td>\n      <td>0.7151</td>\n      <td>0.6700</td>\n      <td>28600</td>\n      <td>9500</td>\n    </tr>\n  </tbody>\n</table>\n<p>10 rows × 27 columns</p>\n</div>"
     },
     "metadata": {},
     "execution_count": 30
    }
   ],
   "source": [
    "grouped.head(2).head(10)"
   ]
  },
  {
   "cell_type": "code",
   "execution_count": 31,
   "metadata": {},
   "outputs": [
    {
     "output_type": "execute_result",
     "data": {
      "text/plain": [
       "                                                  INSTNM        CITY  HBCU  \\\n",
       "STABBR RELAFFIL                                                              \n",
       "AK     0                  University of Alaska Fairbanks   Fairbanks   0.0   \n",
       "       0                               Ilisagvik College      Barrow   0.0   \n",
       "       1                       Alaska Pacific University   Anchorage   0.0   \n",
       "       1                        Alaska Christian College    Soldotna   0.0   \n",
       "AL     0             University of Alabama at Birmingham  Birmingham   0.0   \n",
       "       0         Alabama College of Osteopathic Medicine      Dothan   0.0   \n",
       "       1                     Birmingham Southern College  Birmingham   0.0   \n",
       "       1            Strayer University-Huntsville Campus  Huntsville   NaN   \n",
       "\n",
       "                 MENONLY  WOMENONLY  SATVRMID  SATMTMID  DISTANCEONLY  \\\n",
       "STABBR RELAFFIL                                                         \n",
       "AK     0             0.0        0.0       NaN       NaN           0.0   \n",
       "       0             0.0        0.0       NaN       NaN           0.0   \n",
       "       1             0.0        0.0     555.0     503.0           0.0   \n",
       "       1             0.0        0.0       NaN       NaN           0.0   \n",
       "AL     0             0.0        0.0     570.0     565.0           0.0   \n",
       "       0             0.0        0.0       NaN       NaN           0.0   \n",
       "       1             0.0        0.0     560.0     560.0           0.0   \n",
       "       1             NaN        NaN       NaN       NaN           NaN   \n",
       "\n",
       "                    UGDS  UGDS_WHITE  ...  UGDS_2MOR  UGDS_NRA  UGDS_UNKN  \\\n",
       "STABBR RELAFFIL                       ...                                   \n",
       "AK     0          5536.0      0.4259  ...     0.0401    0.0110     0.3060   \n",
       "       0           109.0      0.1376  ...     0.0000    0.0183     0.0000   \n",
       "       1           275.0      0.5309  ...     0.0945    0.0000     0.0873   \n",
       "       1            68.0      0.0588  ...     0.0147    0.0000     0.1324   \n",
       "AL     0         11383.0      0.5922  ...     0.0368    0.0179     0.0100   \n",
       "       0             NaN         NaN  ...        NaN       NaN        NaN   \n",
       "       1          1180.0      0.7983  ...     0.0051    0.0000     0.0051   \n",
       "       1             NaN         NaN  ...        NaN       NaN        NaN   \n",
       "\n",
       "                 PPTUG_EF  CURROPER  PCTPELL  PCTFLOAN  UG25ABV  \\\n",
       "STABBR RELAFFIL                                                   \n",
       "AK     0           0.3887         1   0.2263    0.2550   0.4519   \n",
       "       0           0.6239         1   0.1323    0.0000   0.6498   \n",
       "       1           0.3745         1   0.3152    0.5297   0.4910   \n",
       "       1           0.0735         1   0.8868    0.6792   0.2264   \n",
       "AL     0           0.2607         1   0.3460    0.5214   0.2422   \n",
       "       0              NaN         1      NaN       NaN      NaN   \n",
       "       1           0.0017         1   0.1920    0.4809   0.0152   \n",
       "       1              NaN         1      NaN       NaN      NaN   \n",
       "\n",
       "                 MD_EARN_WNE_P10  GRAD_DEBT_MDN_SUPP  \n",
       "STABBR RELAFFIL                                       \n",
       "AK     0                   36200               19355  \n",
       "       0                   24900   PrivacySuppressed  \n",
       "       1                   47000               23250  \n",
       "       1                     NaN   PrivacySuppressed  \n",
       "AL     0                   39700             21941.5  \n",
       "       0                     NaN   PrivacySuppressed  \n",
       "       1                   44200               27000  \n",
       "       1                   49200             36173.5  \n",
       "\n",
       "[8 rows x 25 columns]"
      ],
      "text/html": "<div>\n<style scoped>\n    .dataframe tbody tr th:only-of-type {\n        vertical-align: middle;\n    }\n\n    .dataframe tbody tr th {\n        vertical-align: top;\n    }\n\n    .dataframe thead th {\n        text-align: right;\n    }\n</style>\n<table border=\"1\" class=\"dataframe\">\n  <thead>\n    <tr style=\"text-align: right;\">\n      <th></th>\n      <th></th>\n      <th>INSTNM</th>\n      <th>CITY</th>\n      <th>HBCU</th>\n      <th>MENONLY</th>\n      <th>WOMENONLY</th>\n      <th>SATVRMID</th>\n      <th>SATMTMID</th>\n      <th>DISTANCEONLY</th>\n      <th>UGDS</th>\n      <th>UGDS_WHITE</th>\n      <th>...</th>\n      <th>UGDS_2MOR</th>\n      <th>UGDS_NRA</th>\n      <th>UGDS_UNKN</th>\n      <th>PPTUG_EF</th>\n      <th>CURROPER</th>\n      <th>PCTPELL</th>\n      <th>PCTFLOAN</th>\n      <th>UG25ABV</th>\n      <th>MD_EARN_WNE_P10</th>\n      <th>GRAD_DEBT_MDN_SUPP</th>\n    </tr>\n    <tr>\n      <th>STABBR</th>\n      <th>RELAFFIL</th>\n      <th></th>\n      <th></th>\n      <th></th>\n      <th></th>\n      <th></th>\n      <th></th>\n      <th></th>\n      <th></th>\n      <th></th>\n      <th></th>\n      <th></th>\n      <th></th>\n      <th></th>\n      <th></th>\n      <th></th>\n      <th></th>\n      <th></th>\n      <th></th>\n      <th></th>\n      <th></th>\n      <th></th>\n    </tr>\n  </thead>\n  <tbody>\n    <tr>\n      <th rowspan=\"4\" valign=\"top\">AK</th>\n      <th>0</th>\n      <td>University of Alaska Fairbanks</td>\n      <td>Fairbanks</td>\n      <td>0.0</td>\n      <td>0.0</td>\n      <td>0.0</td>\n      <td>NaN</td>\n      <td>NaN</td>\n      <td>0.0</td>\n      <td>5536.0</td>\n      <td>0.4259</td>\n      <td>...</td>\n      <td>0.0401</td>\n      <td>0.0110</td>\n      <td>0.3060</td>\n      <td>0.3887</td>\n      <td>1</td>\n      <td>0.2263</td>\n      <td>0.2550</td>\n      <td>0.4519</td>\n      <td>36200</td>\n      <td>19355</td>\n    </tr>\n    <tr>\n      <th>0</th>\n      <td>Ilisagvik College</td>\n      <td>Barrow</td>\n      <td>0.0</td>\n      <td>0.0</td>\n      <td>0.0</td>\n      <td>NaN</td>\n      <td>NaN</td>\n      <td>0.0</td>\n      <td>109.0</td>\n      <td>0.1376</td>\n      <td>...</td>\n      <td>0.0000</td>\n      <td>0.0183</td>\n      <td>0.0000</td>\n      <td>0.6239</td>\n      <td>1</td>\n      <td>0.1323</td>\n      <td>0.0000</td>\n      <td>0.6498</td>\n      <td>24900</td>\n      <td>PrivacySuppressed</td>\n    </tr>\n    <tr>\n      <th>1</th>\n      <td>Alaska Pacific University</td>\n      <td>Anchorage</td>\n      <td>0.0</td>\n      <td>0.0</td>\n      <td>0.0</td>\n      <td>555.0</td>\n      <td>503.0</td>\n      <td>0.0</td>\n      <td>275.0</td>\n      <td>0.5309</td>\n      <td>...</td>\n      <td>0.0945</td>\n      <td>0.0000</td>\n      <td>0.0873</td>\n      <td>0.3745</td>\n      <td>1</td>\n      <td>0.3152</td>\n      <td>0.5297</td>\n      <td>0.4910</td>\n      <td>47000</td>\n      <td>23250</td>\n    </tr>\n    <tr>\n      <th>1</th>\n      <td>Alaska Christian College</td>\n      <td>Soldotna</td>\n      <td>0.0</td>\n      <td>0.0</td>\n      <td>0.0</td>\n      <td>NaN</td>\n      <td>NaN</td>\n      <td>0.0</td>\n      <td>68.0</td>\n      <td>0.0588</td>\n      <td>...</td>\n      <td>0.0147</td>\n      <td>0.0000</td>\n      <td>0.1324</td>\n      <td>0.0735</td>\n      <td>1</td>\n      <td>0.8868</td>\n      <td>0.6792</td>\n      <td>0.2264</td>\n      <td>NaN</td>\n      <td>PrivacySuppressed</td>\n    </tr>\n    <tr>\n      <th rowspan=\"4\" valign=\"top\">AL</th>\n      <th>0</th>\n      <td>University of Alabama at Birmingham</td>\n      <td>Birmingham</td>\n      <td>0.0</td>\n      <td>0.0</td>\n      <td>0.0</td>\n      <td>570.0</td>\n      <td>565.0</td>\n      <td>0.0</td>\n      <td>11383.0</td>\n      <td>0.5922</td>\n      <td>...</td>\n      <td>0.0368</td>\n      <td>0.0179</td>\n      <td>0.0100</td>\n      <td>0.2607</td>\n      <td>1</td>\n      <td>0.3460</td>\n      <td>0.5214</td>\n      <td>0.2422</td>\n      <td>39700</td>\n      <td>21941.5</td>\n    </tr>\n    <tr>\n      <th>0</th>\n      <td>Alabama College of Osteopathic Medicine</td>\n      <td>Dothan</td>\n      <td>0.0</td>\n      <td>0.0</td>\n      <td>0.0</td>\n      <td>NaN</td>\n      <td>NaN</td>\n      <td>0.0</td>\n      <td>NaN</td>\n      <td>NaN</td>\n      <td>...</td>\n      <td>NaN</td>\n      <td>NaN</td>\n      <td>NaN</td>\n      <td>NaN</td>\n      <td>1</td>\n      <td>NaN</td>\n      <td>NaN</td>\n      <td>NaN</td>\n      <td>NaN</td>\n      <td>PrivacySuppressed</td>\n    </tr>\n    <tr>\n      <th>1</th>\n      <td>Birmingham Southern College</td>\n      <td>Birmingham</td>\n      <td>0.0</td>\n      <td>0.0</td>\n      <td>0.0</td>\n      <td>560.0</td>\n      <td>560.0</td>\n      <td>0.0</td>\n      <td>1180.0</td>\n      <td>0.7983</td>\n      <td>...</td>\n      <td>0.0051</td>\n      <td>0.0000</td>\n      <td>0.0051</td>\n      <td>0.0017</td>\n      <td>1</td>\n      <td>0.1920</td>\n      <td>0.4809</td>\n      <td>0.0152</td>\n      <td>44200</td>\n      <td>27000</td>\n    </tr>\n    <tr>\n      <th>1</th>\n      <td>Strayer University-Huntsville Campus</td>\n      <td>Huntsville</td>\n      <td>NaN</td>\n      <td>NaN</td>\n      <td>NaN</td>\n      <td>NaN</td>\n      <td>NaN</td>\n      <td>NaN</td>\n      <td>NaN</td>\n      <td>NaN</td>\n      <td>...</td>\n      <td>NaN</td>\n      <td>NaN</td>\n      <td>NaN</td>\n      <td>NaN</td>\n      <td>1</td>\n      <td>NaN</td>\n      <td>NaN</td>\n      <td>NaN</td>\n      <td>49200</td>\n      <td>36173.5</td>\n    </tr>\n  </tbody>\n</table>\n<p>8 rows × 25 columns</p>\n</div>"
     },
     "metadata": {},
     "execution_count": 31
    }
   ],
   "source": [
    "grouped.nth([1, -1]).head(8)"
   ]
  },
  {
   "cell_type": "code",
   "execution_count": 32,
   "metadata": {},
   "outputs": [
    {
     "output_type": "execute_result",
     "data": {
      "text/plain": [
       "59"
      ]
     },
     "metadata": {},
     "execution_count": 32
    }
   ],
   "source": [
    "college = pd.read_csv(\"../data/college.csv\", index_col = \"INSTNM\")\n",
    "grouped = college.groupby(\"STABBR\")\n",
    "grouped.ngroups"
   ]
  },
  {
   "cell_type": "code",
   "execution_count": 33,
   "metadata": {},
   "outputs": [
    {
     "output_type": "execute_result",
     "data": {
      "text/plain": [
       "59"
      ]
     },
     "metadata": {},
     "execution_count": 33
    }
   ],
   "source": [
    "college[\"STABBR\"].nunique()"
   ]
  },
  {
   "cell_type": "code",
   "execution_count": 34,
   "metadata": {},
   "outputs": [
    {
     "output_type": "execute_result",
     "data": {
      "text/plain": [
       "                                             CITY STABBR  HBCU  MENONLY  \\\n",
       "INSTNM                                                                    \n",
       "Everest College-Phoenix                   Phoenix     AZ   0.0      0.0   \n",
       "Collins College                           Phoenix     AZ   0.0      0.0   \n",
       "Empire Beauty School-Paradise Valley      Phoenix     AZ   0.0      0.0   \n",
       "Empire Beauty School-Tucson                Tucson     AZ   0.0      0.0   \n",
       "Thunderbird School of Global Management  Glendale     AZ   0.0      0.0   \n",
       "\n",
       "                                         WOMENONLY  RELAFFIL  SATVRMID  \\\n",
       "INSTNM                                                                   \n",
       "Everest College-Phoenix                        0.0         1       NaN   \n",
       "Collins College                                0.0         0       NaN   \n",
       "Empire Beauty School-Paradise Valley           0.0         1       NaN   \n",
       "Empire Beauty School-Tucson                    0.0         0       NaN   \n",
       "Thunderbird School of Global Management        0.0         0       NaN   \n",
       "\n",
       "                                         SATMTMID  DISTANCEONLY    UGDS  ...  \\\n",
       "INSTNM                                                                   ...   \n",
       "Everest College-Phoenix                       NaN           0.0  4102.0  ...   \n",
       "Collins College                               NaN           0.0    83.0  ...   \n",
       "Empire Beauty School-Paradise Valley          NaN           0.0    25.0  ...   \n",
       "Empire Beauty School-Tucson                   NaN           0.0   126.0  ...   \n",
       "Thunderbird School of Global Management       NaN           0.0     1.0  ...   \n",
       "\n",
       "                                         UGDS_2MOR  UGDS_NRA  UGDS_UNKN  \\\n",
       "INSTNM                                                                    \n",
       "Everest College-Phoenix                     0.0373       0.0     0.1026   \n",
       "Collins College                             0.0241       0.0     0.3855   \n",
       "Empire Beauty School-Paradise Valley        0.0400       0.0     0.0000   \n",
       "Empire Beauty School-Tucson                 0.0000       0.0     0.0079   \n",
       "Thunderbird School of Global Management     0.0000       0.0     0.0000   \n",
       "\n",
       "                                         PPTUG_EF  CURROPER  PCTPELL  \\\n",
       "INSTNM                                                                 \n",
       "Everest College-Phoenix                    0.4749         0   0.8291   \n",
       "Collins College                            0.3373         0   0.7205   \n",
       "Empire Beauty School-Paradise Valley       0.1600         0   0.6349   \n",
       "Empire Beauty School-Tucson                0.2222         1   0.7962   \n",
       "Thunderbird School of Global Management    1.0000         0   0.0000   \n",
       "\n",
       "                                         PCTFLOAN  UG25ABV  MD_EARN_WNE_P10  \\\n",
       "INSTNM                                                                        \n",
       "Everest College-Phoenix                    0.7151   0.6700            28600   \n",
       "Collins College                            0.8228   0.4764            25700   \n",
       "Empire Beauty School-Paradise Valley       0.5873   0.4651            17800   \n",
       "Empire Beauty School-Tucson                0.6615   0.4229            18200   \n",
       "Thunderbird School of Global Management    0.0000   0.0000           118900   \n",
       "\n",
       "                                         GRAD_DEBT_MDN_SUPP  \n",
       "INSTNM                                                       \n",
       "Everest College-Phoenix                                9500  \n",
       "Collins College                                       47000  \n",
       "Empire Beauty School-Paradise Valley                   9588  \n",
       "Empire Beauty School-Tucson                            9833  \n",
       "Thunderbird School of Global Management   PrivacySuppressed  \n",
       "\n",
       "[5 rows x 26 columns]"
      ],
      "text/html": "<div>\n<style scoped>\n    .dataframe tbody tr th:only-of-type {\n        vertical-align: middle;\n    }\n\n    .dataframe tbody tr th {\n        vertical-align: top;\n    }\n\n    .dataframe thead th {\n        text-align: right;\n    }\n</style>\n<table border=\"1\" class=\"dataframe\">\n  <thead>\n    <tr style=\"text-align: right;\">\n      <th></th>\n      <th>CITY</th>\n      <th>STABBR</th>\n      <th>HBCU</th>\n      <th>MENONLY</th>\n      <th>WOMENONLY</th>\n      <th>RELAFFIL</th>\n      <th>SATVRMID</th>\n      <th>SATMTMID</th>\n      <th>DISTANCEONLY</th>\n      <th>UGDS</th>\n      <th>...</th>\n      <th>UGDS_2MOR</th>\n      <th>UGDS_NRA</th>\n      <th>UGDS_UNKN</th>\n      <th>PPTUG_EF</th>\n      <th>CURROPER</th>\n      <th>PCTPELL</th>\n      <th>PCTFLOAN</th>\n      <th>UG25ABV</th>\n      <th>MD_EARN_WNE_P10</th>\n      <th>GRAD_DEBT_MDN_SUPP</th>\n    </tr>\n    <tr>\n      <th>INSTNM</th>\n      <th></th>\n      <th></th>\n      <th></th>\n      <th></th>\n      <th></th>\n      <th></th>\n      <th></th>\n      <th></th>\n      <th></th>\n      <th></th>\n      <th></th>\n      <th></th>\n      <th></th>\n      <th></th>\n      <th></th>\n      <th></th>\n      <th></th>\n      <th></th>\n      <th></th>\n      <th></th>\n      <th></th>\n    </tr>\n  </thead>\n  <tbody>\n    <tr>\n      <th>Everest College-Phoenix</th>\n      <td>Phoenix</td>\n      <td>AZ</td>\n      <td>0.0</td>\n      <td>0.0</td>\n      <td>0.0</td>\n      <td>1</td>\n      <td>NaN</td>\n      <td>NaN</td>\n      <td>0.0</td>\n      <td>4102.0</td>\n      <td>...</td>\n      <td>0.0373</td>\n      <td>0.0</td>\n      <td>0.1026</td>\n      <td>0.4749</td>\n      <td>0</td>\n      <td>0.8291</td>\n      <td>0.7151</td>\n      <td>0.6700</td>\n      <td>28600</td>\n      <td>9500</td>\n    </tr>\n    <tr>\n      <th>Collins College</th>\n      <td>Phoenix</td>\n      <td>AZ</td>\n      <td>0.0</td>\n      <td>0.0</td>\n      <td>0.0</td>\n      <td>0</td>\n      <td>NaN</td>\n      <td>NaN</td>\n      <td>0.0</td>\n      <td>83.0</td>\n      <td>...</td>\n      <td>0.0241</td>\n      <td>0.0</td>\n      <td>0.3855</td>\n      <td>0.3373</td>\n      <td>0</td>\n      <td>0.7205</td>\n      <td>0.8228</td>\n      <td>0.4764</td>\n      <td>25700</td>\n      <td>47000</td>\n    </tr>\n    <tr>\n      <th>Empire Beauty School-Paradise Valley</th>\n      <td>Phoenix</td>\n      <td>AZ</td>\n      <td>0.0</td>\n      <td>0.0</td>\n      <td>0.0</td>\n      <td>1</td>\n      <td>NaN</td>\n      <td>NaN</td>\n      <td>0.0</td>\n      <td>25.0</td>\n      <td>...</td>\n      <td>0.0400</td>\n      <td>0.0</td>\n      <td>0.0000</td>\n      <td>0.1600</td>\n      <td>0</td>\n      <td>0.6349</td>\n      <td>0.5873</td>\n      <td>0.4651</td>\n      <td>17800</td>\n      <td>9588</td>\n    </tr>\n    <tr>\n      <th>Empire Beauty School-Tucson</th>\n      <td>Tucson</td>\n      <td>AZ</td>\n      <td>0.0</td>\n      <td>0.0</td>\n      <td>0.0</td>\n      <td>0</td>\n      <td>NaN</td>\n      <td>NaN</td>\n      <td>0.0</td>\n      <td>126.0</td>\n      <td>...</td>\n      <td>0.0000</td>\n      <td>0.0</td>\n      <td>0.0079</td>\n      <td>0.2222</td>\n      <td>1</td>\n      <td>0.7962</td>\n      <td>0.6615</td>\n      <td>0.4229</td>\n      <td>18200</td>\n      <td>9833</td>\n    </tr>\n    <tr>\n      <th>Thunderbird School of Global Management</th>\n      <td>Glendale</td>\n      <td>AZ</td>\n      <td>0.0</td>\n      <td>0.0</td>\n      <td>0.0</td>\n      <td>0</td>\n      <td>NaN</td>\n      <td>NaN</td>\n      <td>0.0</td>\n      <td>1.0</td>\n      <td>...</td>\n      <td>0.0000</td>\n      <td>0.0</td>\n      <td>0.0000</td>\n      <td>1.0000</td>\n      <td>0</td>\n      <td>0.0000</td>\n      <td>0.0000</td>\n      <td>0.0000</td>\n      <td>118900</td>\n      <td>PrivacySuppressed</td>\n    </tr>\n  </tbody>\n</table>\n<p>5 rows × 26 columns</p>\n</div>"
     },
     "metadata": {},
     "execution_count": 34
    }
   ],
   "source": [
    "def check_minority(df, threshold):\n",
    "    minority_pct = 1 - df[\"UGDS_WHITE\"]\n",
    "    total_minority = (df[\"UGDS\"] * minority_pct).sum()\n",
    "    total_ugds = df[\"UGDS\"].sum()\n",
    "    total_minority_pct = total_minority / total_ugds\n",
    "    return total_minority_pct > threshold\n",
    "\n",
    "college_filtered = grouped.filter(check_minority, threshold = .5)\n",
    "college_filtered.head()"
   ]
  },
  {
   "cell_type": "code",
   "execution_count": 35,
   "metadata": {},
   "outputs": [
    {
     "output_type": "execute_result",
     "data": {
      "text/plain": [
       "(7535, 26)"
      ]
     },
     "metadata": {},
     "execution_count": 35
    }
   ],
   "source": [
    "college.shape"
   ]
  },
  {
   "cell_type": "code",
   "execution_count": 36,
   "metadata": {},
   "outputs": [
    {
     "output_type": "execute_result",
     "data": {
      "text/plain": [
       "(3028, 26)"
      ]
     },
     "metadata": {},
     "execution_count": 36
    }
   ],
   "source": [
    "college_filtered.shape"
   ]
  },
  {
   "cell_type": "code",
   "execution_count": 37,
   "metadata": {},
   "outputs": [
    {
     "output_type": "execute_result",
     "data": {
      "text/plain": [
       "20"
      ]
     },
     "metadata": {},
     "execution_count": 37
    }
   ],
   "source": [
    "college_filtered[\"STABBR\"].nunique()"
   ]
  },
  {
   "cell_type": "code",
   "execution_count": 38,
   "metadata": {},
   "outputs": [
    {
     "output_type": "execute_result",
     "data": {
      "text/plain": [
       "  Name Month    Week  Weight\n",
       "0  Bob   Jan  Week 1     291\n",
       "1  Amy   Jan  Week 1     197\n",
       "2  Bob   Jan  Week 2     288\n",
       "3  Amy   Jan  Week 2     189\n",
       "4  Bob   Jan  Week 3     283\n",
       "5  Amy   Jan  Week 3     189\n",
       "6  Bob   Jan  Week 4     283\n",
       "7  Amy   Jan  Week 4     190"
      ],
      "text/html": "<div>\n<style scoped>\n    .dataframe tbody tr th:only-of-type {\n        vertical-align: middle;\n    }\n\n    .dataframe tbody tr th {\n        vertical-align: top;\n    }\n\n    .dataframe thead th {\n        text-align: right;\n    }\n</style>\n<table border=\"1\" class=\"dataframe\">\n  <thead>\n    <tr style=\"text-align: right;\">\n      <th></th>\n      <th>Name</th>\n      <th>Month</th>\n      <th>Week</th>\n      <th>Weight</th>\n    </tr>\n  </thead>\n  <tbody>\n    <tr>\n      <th>0</th>\n      <td>Bob</td>\n      <td>Jan</td>\n      <td>Week 1</td>\n      <td>291</td>\n    </tr>\n    <tr>\n      <th>1</th>\n      <td>Amy</td>\n      <td>Jan</td>\n      <td>Week 1</td>\n      <td>197</td>\n    </tr>\n    <tr>\n      <th>2</th>\n      <td>Bob</td>\n      <td>Jan</td>\n      <td>Week 2</td>\n      <td>288</td>\n    </tr>\n    <tr>\n      <th>3</th>\n      <td>Amy</td>\n      <td>Jan</td>\n      <td>Week 2</td>\n      <td>189</td>\n    </tr>\n    <tr>\n      <th>4</th>\n      <td>Bob</td>\n      <td>Jan</td>\n      <td>Week 3</td>\n      <td>283</td>\n    </tr>\n    <tr>\n      <th>5</th>\n      <td>Amy</td>\n      <td>Jan</td>\n      <td>Week 3</td>\n      <td>189</td>\n    </tr>\n    <tr>\n      <th>6</th>\n      <td>Bob</td>\n      <td>Jan</td>\n      <td>Week 4</td>\n      <td>283</td>\n    </tr>\n    <tr>\n      <th>7</th>\n      <td>Amy</td>\n      <td>Jan</td>\n      <td>Week 4</td>\n      <td>190</td>\n    </tr>\n  </tbody>\n</table>\n</div>"
     },
     "metadata": {},
     "execution_count": 38
    }
   ],
   "source": [
    "weight_loss = pd.read_csv(\"../data/weight_loss.csv\")\n",
    "weight_loss.query(\"Month == 'Jan'\")"
   ]
  },
  {
   "cell_type": "code",
   "execution_count": 39,
   "metadata": {},
   "outputs": [
    {
     "output_type": "execute_result",
     "data": {
      "text/plain": [
       "  Name Month    Week  Weight\n",
       "0  Bob   Jan  Week 1     291\n",
       "2  Bob   Jan  Week 2     288\n",
       "4  Bob   Jan  Week 3     283\n",
       "6  Bob   Jan  Week 4     283"
      ],
      "text/html": "<div>\n<style scoped>\n    .dataframe tbody tr th:only-of-type {\n        vertical-align: middle;\n    }\n\n    .dataframe tbody tr th {\n        vertical-align: top;\n    }\n\n    .dataframe thead th {\n        text-align: right;\n    }\n</style>\n<table border=\"1\" class=\"dataframe\">\n  <thead>\n    <tr style=\"text-align: right;\">\n      <th></th>\n      <th>Name</th>\n      <th>Month</th>\n      <th>Week</th>\n      <th>Weight</th>\n    </tr>\n  </thead>\n  <tbody>\n    <tr>\n      <th>0</th>\n      <td>Bob</td>\n      <td>Jan</td>\n      <td>Week 1</td>\n      <td>291</td>\n    </tr>\n    <tr>\n      <th>2</th>\n      <td>Bob</td>\n      <td>Jan</td>\n      <td>Week 2</td>\n      <td>288</td>\n    </tr>\n    <tr>\n      <th>4</th>\n      <td>Bob</td>\n      <td>Jan</td>\n      <td>Week 3</td>\n      <td>283</td>\n    </tr>\n    <tr>\n      <th>6</th>\n      <td>Bob</td>\n      <td>Jan</td>\n      <td>Week 4</td>\n      <td>283</td>\n    </tr>\n  </tbody>\n</table>\n</div>"
     },
     "metadata": {},
     "execution_count": 39
    }
   ],
   "source": [
    "def find_perc_loss(s):\n",
    "    return (s - s.iloc[0]) / s.iloc[0]\n",
    "\n",
    "bob_jan = weight_loss.query(\"Name == 'Bob' and Month == 'Jan'\")\n",
    "bob_jan"
   ]
  },
  {
   "cell_type": "code",
   "execution_count": 40,
   "metadata": {},
   "outputs": [
    {
     "output_type": "execute_result",
     "data": {
      "text/plain": [
       "0    0.000000\n",
       "2   -0.010309\n",
       "4   -0.027491\n",
       "6   -0.027491\n",
       "Name: Weight, dtype: float64"
      ]
     },
     "metadata": {},
     "execution_count": 40
    }
   ],
   "source": [
    "find_perc_loss(bob_jan[\"Weight\"])"
   ]
  },
  {
   "cell_type": "code",
   "execution_count": 41,
   "metadata": {},
   "outputs": [
    {
     "output_type": "execute_result",
     "data": {
      "text/plain": [
       "0     0.000000\n",
       "1     0.000000\n",
       "2    -0.010309\n",
       "3    -0.040609\n",
       "4    -0.027491\n",
       "5    -0.040609\n",
       "6    -0.027491\n",
       "7    -0.035533\n",
       "8     0.000000\n",
       "9     0.000000\n",
       "10   -0.028269\n",
       "11   -0.031579\n",
       "12   -0.053004\n",
       "13   -0.068421\n",
       "14   -0.053004\n",
       "15   -0.089474\n",
       "16    0.000000\n",
       "17    0.000000\n",
       "18    0.011194\n",
       "19    0.000000\n",
       "20   -0.011194\n",
       "21   -0.017341\n",
       "22   -0.026119\n",
       "23   -0.017341\n",
       "24    0.000000\n",
       "25    0.000000\n",
       "26   -0.011494\n",
       "27   -0.035294\n",
       "28   -0.030651\n",
       "29   -0.035294\n",
       "30   -0.042146\n",
       "31   -0.052941\n",
       "Name: Weight, dtype: float64"
      ]
     },
     "metadata": {},
     "execution_count": 41
    }
   ],
   "source": [
    "pcnt_loss = weight_loss.groupby([\"Name\", \"Month\"])[\"Weight\"].transform(find_perc_loss)\n",
    "pcnt_loss"
   ]
  },
  {
   "cell_type": "code",
   "execution_count": 42,
   "metadata": {},
   "outputs": [
    {
     "output_type": "execute_result",
     "data": {
      "text/plain": [
       "   Name Month    Week  Weight  Perc Weight Loss\n",
       "0   Bob   Jan  Week 1     291             0.000\n",
       "2   Bob   Jan  Week 2     288            -0.010\n",
       "4   Bob   Jan  Week 3     283            -0.027\n",
       "6   Bob   Jan  Week 4     283            -0.027\n",
       "8   Bob   Feb  Week 1     283             0.000\n",
       "10  Bob   Feb  Week 2     275            -0.028\n",
       "12  Bob   Feb  Week 3     268            -0.053\n",
       "14  Bob   Feb  Week 4     268            -0.053"
      ],
      "text/html": "<div>\n<style scoped>\n    .dataframe tbody tr th:only-of-type {\n        vertical-align: middle;\n    }\n\n    .dataframe tbody tr th {\n        vertical-align: top;\n    }\n\n    .dataframe thead th {\n        text-align: right;\n    }\n</style>\n<table border=\"1\" class=\"dataframe\">\n  <thead>\n    <tr style=\"text-align: right;\">\n      <th></th>\n      <th>Name</th>\n      <th>Month</th>\n      <th>Week</th>\n      <th>Weight</th>\n      <th>Perc Weight Loss</th>\n    </tr>\n  </thead>\n  <tbody>\n    <tr>\n      <th>0</th>\n      <td>Bob</td>\n      <td>Jan</td>\n      <td>Week 1</td>\n      <td>291</td>\n      <td>0.000</td>\n    </tr>\n    <tr>\n      <th>2</th>\n      <td>Bob</td>\n      <td>Jan</td>\n      <td>Week 2</td>\n      <td>288</td>\n      <td>-0.010</td>\n    </tr>\n    <tr>\n      <th>4</th>\n      <td>Bob</td>\n      <td>Jan</td>\n      <td>Week 3</td>\n      <td>283</td>\n      <td>-0.027</td>\n    </tr>\n    <tr>\n      <th>6</th>\n      <td>Bob</td>\n      <td>Jan</td>\n      <td>Week 4</td>\n      <td>283</td>\n      <td>-0.027</td>\n    </tr>\n    <tr>\n      <th>8</th>\n      <td>Bob</td>\n      <td>Feb</td>\n      <td>Week 1</td>\n      <td>283</td>\n      <td>0.000</td>\n    </tr>\n    <tr>\n      <th>10</th>\n      <td>Bob</td>\n      <td>Feb</td>\n      <td>Week 2</td>\n      <td>275</td>\n      <td>-0.028</td>\n    </tr>\n    <tr>\n      <th>12</th>\n      <td>Bob</td>\n      <td>Feb</td>\n      <td>Week 3</td>\n      <td>268</td>\n      <td>-0.053</td>\n    </tr>\n    <tr>\n      <th>14</th>\n      <td>Bob</td>\n      <td>Feb</td>\n      <td>Week 4</td>\n      <td>268</td>\n      <td>-0.053</td>\n    </tr>\n  </tbody>\n</table>\n</div>"
     },
     "metadata": {},
     "execution_count": 42
    }
   ],
   "source": [
    "weight_loss[\"Perc Weight Loss\"] = pcnt_loss.round(3)\n",
    "weight_loss.query(\"Name == 'Bob' and Month in ['Jan', 'Feb']\")"
   ]
  },
  {
   "cell_type": "code",
   "execution_count": 43,
   "metadata": {},
   "outputs": [
    {
     "output_type": "execute_result",
     "data": {
      "text/plain": [
       "   Name Month    Week  Weight  Perc Weight Loss\n",
       "6   Bob   Jan  Week 4     283            -0.027\n",
       "7   Amy   Jan  Week 4     190            -0.036\n",
       "14  Bob   Feb  Week 4     268            -0.053\n",
       "15  Amy   Feb  Week 4     173            -0.089\n",
       "22  Bob   Mar  Week 4     261            -0.026\n",
       "23  Amy   Mar  Week 4     170            -0.017\n",
       "30  Bob   Apr  Week 4     250            -0.042\n",
       "31  Amy   Apr  Week 4     161            -0.053"
      ],
      "text/html": "<div>\n<style scoped>\n    .dataframe tbody tr th:only-of-type {\n        vertical-align: middle;\n    }\n\n    .dataframe tbody tr th {\n        vertical-align: top;\n    }\n\n    .dataframe thead th {\n        text-align: right;\n    }\n</style>\n<table border=\"1\" class=\"dataframe\">\n  <thead>\n    <tr style=\"text-align: right;\">\n      <th></th>\n      <th>Name</th>\n      <th>Month</th>\n      <th>Week</th>\n      <th>Weight</th>\n      <th>Perc Weight Loss</th>\n    </tr>\n  </thead>\n  <tbody>\n    <tr>\n      <th>6</th>\n      <td>Bob</td>\n      <td>Jan</td>\n      <td>Week 4</td>\n      <td>283</td>\n      <td>-0.027</td>\n    </tr>\n    <tr>\n      <th>7</th>\n      <td>Amy</td>\n      <td>Jan</td>\n      <td>Week 4</td>\n      <td>190</td>\n      <td>-0.036</td>\n    </tr>\n    <tr>\n      <th>14</th>\n      <td>Bob</td>\n      <td>Feb</td>\n      <td>Week 4</td>\n      <td>268</td>\n      <td>-0.053</td>\n    </tr>\n    <tr>\n      <th>15</th>\n      <td>Amy</td>\n      <td>Feb</td>\n      <td>Week 4</td>\n      <td>173</td>\n      <td>-0.089</td>\n    </tr>\n    <tr>\n      <th>22</th>\n      <td>Bob</td>\n      <td>Mar</td>\n      <td>Week 4</td>\n      <td>261</td>\n      <td>-0.026</td>\n    </tr>\n    <tr>\n      <th>23</th>\n      <td>Amy</td>\n      <td>Mar</td>\n      <td>Week 4</td>\n      <td>170</td>\n      <td>-0.017</td>\n    </tr>\n    <tr>\n      <th>30</th>\n      <td>Bob</td>\n      <td>Apr</td>\n      <td>Week 4</td>\n      <td>250</td>\n      <td>-0.042</td>\n    </tr>\n    <tr>\n      <th>31</th>\n      <td>Amy</td>\n      <td>Apr</td>\n      <td>Week 4</td>\n      <td>161</td>\n      <td>-0.053</td>\n    </tr>\n  </tbody>\n</table>\n</div>"
     },
     "metadata": {},
     "execution_count": 43
    }
   ],
   "source": [
    "week4 = weight_loss.query(\"Week == 'Week 4'\")\n",
    "week4"
   ]
  },
  {
   "cell_type": "code",
   "execution_count": 44,
   "metadata": {},
   "outputs": [
    {
     "output_type": "execute_result",
     "data": {
      "text/plain": [
       "Name     Amy    Bob\n",
       "Month              \n",
       "Apr   -0.053 -0.042\n",
       "Feb   -0.089 -0.053\n",
       "Jan   -0.036 -0.027\n",
       "Mar   -0.017 -0.026"
      ],
      "text/html": "<div>\n<style scoped>\n    .dataframe tbody tr th:only-of-type {\n        vertical-align: middle;\n    }\n\n    .dataframe tbody tr th {\n        vertical-align: top;\n    }\n\n    .dataframe thead th {\n        text-align: right;\n    }\n</style>\n<table border=\"1\" class=\"dataframe\">\n  <thead>\n    <tr style=\"text-align: right;\">\n      <th>Name</th>\n      <th>Amy</th>\n      <th>Bob</th>\n    </tr>\n    <tr>\n      <th>Month</th>\n      <th></th>\n      <th></th>\n    </tr>\n  </thead>\n  <tbody>\n    <tr>\n      <th>Apr</th>\n      <td>-0.053</td>\n      <td>-0.042</td>\n    </tr>\n    <tr>\n      <th>Feb</th>\n      <td>-0.089</td>\n      <td>-0.053</td>\n    </tr>\n    <tr>\n      <th>Jan</th>\n      <td>-0.036</td>\n      <td>-0.027</td>\n    </tr>\n    <tr>\n      <th>Mar</th>\n      <td>-0.017</td>\n      <td>-0.026</td>\n    </tr>\n  </tbody>\n</table>\n</div>"
     },
     "metadata": {},
     "execution_count": 44
    }
   ],
   "source": [
    "winner = week4.pivot(index = \"Month\", columns = \"Name\", values = \"Perc Weight Loss\")\n",
    "winner"
   ]
  },
  {
   "cell_type": "code",
   "execution_count": 45,
   "metadata": {},
   "outputs": [
    {
     "output_type": "execute_result",
     "data": {
      "text/plain": [
       "<pandas.io.formats.style.Styler at 0x7f9e16f63f70>"
      ],
      "text/html": "<style  type=\"text/css\" >\n#T_61d10fcc_117f_11eb_b076_38f9d35bbed7row0_col0,#T_61d10fcc_117f_11eb_b076_38f9d35bbed7row1_col0,#T_61d10fcc_117f_11eb_b076_38f9d35bbed7row2_col0,#T_61d10fcc_117f_11eb_b076_38f9d35bbed7row3_col1{\n            background-color:  yellow;\n        }</style><table id=\"T_61d10fcc_117f_11eb_b076_38f9d35bbed7\" ><thead>    <tr>        <th class=\"index_name level0\" >Name</th>        <th class=\"col_heading level0 col0\" >Amy</th>        <th class=\"col_heading level0 col1\" >Bob</th>        <th class=\"col_heading level0 col2\" >Winner</th>    </tr>    <tr>        <th class=\"index_name level0\" >Month</th>        <th class=\"blank\" ></th>        <th class=\"blank\" ></th>        <th class=\"blank\" ></th>    </tr></thead><tbody>\n                <tr>\n                        <th id=\"T_61d10fcc_117f_11eb_b076_38f9d35bbed7level0_row0\" class=\"row_heading level0 row0\" >Apr</th>\n                        <td id=\"T_61d10fcc_117f_11eb_b076_38f9d35bbed7row0_col0\" class=\"data row0 col0\" >-0.053000</td>\n                        <td id=\"T_61d10fcc_117f_11eb_b076_38f9d35bbed7row0_col1\" class=\"data row0 col1\" >-0.042000</td>\n                        <td id=\"T_61d10fcc_117f_11eb_b076_38f9d35bbed7row0_col2\" class=\"data row0 col2\" >Amy</td>\n            </tr>\n            <tr>\n                        <th id=\"T_61d10fcc_117f_11eb_b076_38f9d35bbed7level0_row1\" class=\"row_heading level0 row1\" >Feb</th>\n                        <td id=\"T_61d10fcc_117f_11eb_b076_38f9d35bbed7row1_col0\" class=\"data row1 col0\" >-0.089000</td>\n                        <td id=\"T_61d10fcc_117f_11eb_b076_38f9d35bbed7row1_col1\" class=\"data row1 col1\" >-0.053000</td>\n                        <td id=\"T_61d10fcc_117f_11eb_b076_38f9d35bbed7row1_col2\" class=\"data row1 col2\" >Amy</td>\n            </tr>\n            <tr>\n                        <th id=\"T_61d10fcc_117f_11eb_b076_38f9d35bbed7level0_row2\" class=\"row_heading level0 row2\" >Jan</th>\n                        <td id=\"T_61d10fcc_117f_11eb_b076_38f9d35bbed7row2_col0\" class=\"data row2 col0\" >-0.036000</td>\n                        <td id=\"T_61d10fcc_117f_11eb_b076_38f9d35bbed7row2_col1\" class=\"data row2 col1\" >-0.027000</td>\n                        <td id=\"T_61d10fcc_117f_11eb_b076_38f9d35bbed7row2_col2\" class=\"data row2 col2\" >Amy</td>\n            </tr>\n            <tr>\n                        <th id=\"T_61d10fcc_117f_11eb_b076_38f9d35bbed7level0_row3\" class=\"row_heading level0 row3\" >Mar</th>\n                        <td id=\"T_61d10fcc_117f_11eb_b076_38f9d35bbed7row3_col0\" class=\"data row3 col0\" >-0.017000</td>\n                        <td id=\"T_61d10fcc_117f_11eb_b076_38f9d35bbed7row3_col1\" class=\"data row3 col1\" >-0.026000</td>\n                        <td id=\"T_61d10fcc_117f_11eb_b076_38f9d35bbed7row3_col2\" class=\"data row3 col2\" >Bob</td>\n            </tr>\n    </tbody></table>"
     },
     "metadata": {},
     "execution_count": 45
    }
   ],
   "source": [
    "import numpy as np\n",
    "\n",
    "winner[\"Winner\"] = np.where(winner[\"Amy\"] < winner[\"Bob\"], \"Amy\", \"Bob\")\n",
    "winner.style.highlight_min(axis = 1)"
   ]
  },
  {
   "cell_type": "code",
   "execution_count": 46,
   "metadata": {},
   "outputs": [
    {
     "output_type": "execute_result",
     "data": {
      "text/plain": [
       "Amy    3\n",
       "Bob    1\n",
       "Name: Winner, dtype: int64"
      ]
     },
     "metadata": {},
     "execution_count": 46
    }
   ],
   "source": [
    "winner.Winner.value_counts()"
   ]
  },
  {
   "cell_type": "code",
   "execution_count": 47,
   "metadata": {},
   "outputs": [
    {
     "output_type": "execute_result",
     "data": {
      "text/plain": [
       "(7535, 27)"
      ]
     },
     "metadata": {},
     "execution_count": 47
    }
   ],
   "source": [
    "college = pd.read_csv(\"../data/college.csv\")\n",
    "subset = [\"UGDS\", \"SATMTMID\", \"SATVRMID\"]\n",
    "college2 = college.dropna(subset = subset)\n",
    "college.shape"
   ]
  },
  {
   "cell_type": "code",
   "execution_count": 48,
   "metadata": {},
   "outputs": [
    {
     "output_type": "execute_result",
     "data": {
      "text/plain": [
       "(1184, 27)"
      ]
     },
     "metadata": {},
     "execution_count": 48
    }
   ],
   "source": [
    "college2.shape"
   ]
  },
  {
   "cell_type": "code",
   "execution_count": 49,
   "metadata": {},
   "outputs": [
    {
     "output_type": "execute_result",
     "data": {
      "text/plain": [
       "STABBR\n",
       "AK    503\n",
       "AL    536\n",
       "AR    529\n",
       "AZ    569\n",
       "CA    564\n",
       "dtype: int64"
      ]
     },
     "metadata": {},
     "execution_count": 49
    }
   ],
   "source": [
    "def weighted_math_average(df):\n",
    "    weighted_math = df[\"UGDS\"] * df[\"SATMTMID\"]\n",
    "    return int(weighted_math.sum() / df[\"UGDS\"].sum())\n",
    "\n",
    "college2.groupby(\"STABBR\").apply(weighted_math_average).head()"
   ]
  },
  {
   "cell_type": "code",
   "execution_count": 50,
   "metadata": {},
   "outputs": [
    {
     "output_type": "execute_result",
     "data": {
      "text/plain": [
       "                   SATMTMID  SATVRMID  count\n",
       "STABBR                                      \n",
       "AL     Arithmetic       504       508     21\n",
       "       Weighted         536       533     21\n",
       "       Geometric        500       505     21\n",
       "       Harmonic         497       502     21\n",
       "AR     Arithmetic       515       491     16\n",
       "       Weighted         529       504     16\n",
       "       Geometric        514       489     16\n",
       "       Harmonic         513       487     16\n",
       "AZ     Arithmetic       536       538      6\n",
       "       Weighted         569       557      6"
      ],
      "text/html": "<div>\n<style scoped>\n    .dataframe tbody tr th:only-of-type {\n        vertical-align: middle;\n    }\n\n    .dataframe tbody tr th {\n        vertical-align: top;\n    }\n\n    .dataframe thead th {\n        text-align: right;\n    }\n</style>\n<table border=\"1\" class=\"dataframe\">\n  <thead>\n    <tr style=\"text-align: right;\">\n      <th></th>\n      <th></th>\n      <th>SATMTMID</th>\n      <th>SATVRMID</th>\n      <th>count</th>\n    </tr>\n    <tr>\n      <th>STABBR</th>\n      <th></th>\n      <th></th>\n      <th></th>\n      <th></th>\n    </tr>\n  </thead>\n  <tbody>\n    <tr>\n      <th rowspan=\"4\" valign=\"top\">AL</th>\n      <th>Arithmetic</th>\n      <td>504</td>\n      <td>508</td>\n      <td>21</td>\n    </tr>\n    <tr>\n      <th>Weighted</th>\n      <td>536</td>\n      <td>533</td>\n      <td>21</td>\n    </tr>\n    <tr>\n      <th>Geometric</th>\n      <td>500</td>\n      <td>505</td>\n      <td>21</td>\n    </tr>\n    <tr>\n      <th>Harmonic</th>\n      <td>497</td>\n      <td>502</td>\n      <td>21</td>\n    </tr>\n    <tr>\n      <th rowspan=\"4\" valign=\"top\">AR</th>\n      <th>Arithmetic</th>\n      <td>515</td>\n      <td>491</td>\n      <td>16</td>\n    </tr>\n    <tr>\n      <th>Weighted</th>\n      <td>529</td>\n      <td>504</td>\n      <td>16</td>\n    </tr>\n    <tr>\n      <th>Geometric</th>\n      <td>514</td>\n      <td>489</td>\n      <td>16</td>\n    </tr>\n    <tr>\n      <th>Harmonic</th>\n      <td>513</td>\n      <td>487</td>\n      <td>16</td>\n    </tr>\n    <tr>\n      <th rowspan=\"2\" valign=\"top\">AZ</th>\n      <th>Arithmetic</th>\n      <td>536</td>\n      <td>538</td>\n      <td>6</td>\n    </tr>\n    <tr>\n      <th>Weighted</th>\n      <td>569</td>\n      <td>557</td>\n      <td>6</td>\n    </tr>\n  </tbody>\n</table>\n</div>"
     },
     "metadata": {},
     "execution_count": 50
    }
   ],
   "source": [
    "from scipy.stats import gmean, hmean\n",
    "def calculate_means(df):\n",
    "    df_means = pd.DataFrame(index=['Arithmetic', 'Weighted', 'Geometric', 'Harmonic'])\n",
    "    cols = ['SATMTMID', 'SATVRMID']\n",
    "    for col in cols:\n",
    "        arithmetic = df[col].mean()\n",
    "        weighted = np.average(df[col], weights=df['UGDS'])\n",
    "        geometric = gmean(df[col])\n",
    "        harmonic = hmean(df[col])\n",
    "        df_means[col] = [arithmetic, weighted, geometric, harmonic]\n",
    "        \n",
    "    df_means['count'] = len(df)\n",
    "    return df_means.astype(int)\n",
    "\n",
    "college2.groupby('STABBR').filter(lambda x: len(x) != 1).groupby('STABBR').apply(calculate_means).head(10)"
   ]
  },
  {
   "cell_type": "code",
   "execution_count": 51,
   "metadata": {},
   "outputs": [
    {
     "output_type": "execute_result",
     "data": {
      "text/plain": [
       "   MONTH  DAY  WEEKDAY AIRLINE ORG_AIR DEST_AIR  SCHED_DEP  DEP_DELAY  \\\n",
       "0      1    1        4      WN     LAX      SLC       1625       58.0   \n",
       "1      1    1        4      UA     DEN      IAD        823        7.0   \n",
       "2      1    1        4      MQ     DFW      VPS       1305       36.0   \n",
       "3      1    1        4      AA     DFW      DCA       1555        7.0   \n",
       "4      1    1        4      WN     LAX      MCI       1720       48.0   \n",
       "\n",
       "   AIR_TIME  DIST  SCHED_ARR  ARR_DELAY  DIVERTED  CANCELLED  \n",
       "0      94.0   590       1905       65.0         0          0  \n",
       "1     154.0  1452       1333      -13.0         0          0  \n",
       "2      85.0   641       1453       35.0         0          0  \n",
       "3     126.0  1192       1935       -7.0         0          0  \n",
       "4     166.0  1363       2225       39.0         0          0  "
      ],
      "text/html": "<div>\n<style scoped>\n    .dataframe tbody tr th:only-of-type {\n        vertical-align: middle;\n    }\n\n    .dataframe tbody tr th {\n        vertical-align: top;\n    }\n\n    .dataframe thead th {\n        text-align: right;\n    }\n</style>\n<table border=\"1\" class=\"dataframe\">\n  <thead>\n    <tr style=\"text-align: right;\">\n      <th></th>\n      <th>MONTH</th>\n      <th>DAY</th>\n      <th>WEEKDAY</th>\n      <th>AIRLINE</th>\n      <th>ORG_AIR</th>\n      <th>DEST_AIR</th>\n      <th>SCHED_DEP</th>\n      <th>DEP_DELAY</th>\n      <th>AIR_TIME</th>\n      <th>DIST</th>\n      <th>SCHED_ARR</th>\n      <th>ARR_DELAY</th>\n      <th>DIVERTED</th>\n      <th>CANCELLED</th>\n    </tr>\n  </thead>\n  <tbody>\n    <tr>\n      <th>0</th>\n      <td>1</td>\n      <td>1</td>\n      <td>4</td>\n      <td>WN</td>\n      <td>LAX</td>\n      <td>SLC</td>\n      <td>1625</td>\n      <td>58.0</td>\n      <td>94.0</td>\n      <td>590</td>\n      <td>1905</td>\n      <td>65.0</td>\n      <td>0</td>\n      <td>0</td>\n    </tr>\n    <tr>\n      <th>1</th>\n      <td>1</td>\n      <td>1</td>\n      <td>4</td>\n      <td>UA</td>\n      <td>DEN</td>\n      <td>IAD</td>\n      <td>823</td>\n      <td>7.0</td>\n      <td>154.0</td>\n      <td>1452</td>\n      <td>1333</td>\n      <td>-13.0</td>\n      <td>0</td>\n      <td>0</td>\n    </tr>\n    <tr>\n      <th>2</th>\n      <td>1</td>\n      <td>1</td>\n      <td>4</td>\n      <td>MQ</td>\n      <td>DFW</td>\n      <td>VPS</td>\n      <td>1305</td>\n      <td>36.0</td>\n      <td>85.0</td>\n      <td>641</td>\n      <td>1453</td>\n      <td>35.0</td>\n      <td>0</td>\n      <td>0</td>\n    </tr>\n    <tr>\n      <th>3</th>\n      <td>1</td>\n      <td>1</td>\n      <td>4</td>\n      <td>AA</td>\n      <td>DFW</td>\n      <td>DCA</td>\n      <td>1555</td>\n      <td>7.0</td>\n      <td>126.0</td>\n      <td>1192</td>\n      <td>1935</td>\n      <td>-7.0</td>\n      <td>0</td>\n      <td>0</td>\n    </tr>\n    <tr>\n      <th>4</th>\n      <td>1</td>\n      <td>1</td>\n      <td>4</td>\n      <td>WN</td>\n      <td>LAX</td>\n      <td>MCI</td>\n      <td>1720</td>\n      <td>48.0</td>\n      <td>166.0</td>\n      <td>1363</td>\n      <td>2225</td>\n      <td>39.0</td>\n      <td>0</td>\n      <td>0</td>\n    </tr>\n  </tbody>\n</table>\n</div>"
     },
     "metadata": {},
     "execution_count": 51
    }
   ],
   "source": [
    "flights.head()"
   ]
  },
  {
   "cell_type": "code",
   "execution_count": 52,
   "metadata": {},
   "outputs": [
    {
     "output_type": "execute_result",
     "data": {
      "text/plain": [
       "0     (500.0, 1000.0]\n",
       "1    (1000.0, 2000.0]\n",
       "2     (500.0, 1000.0]\n",
       "3    (1000.0, 2000.0]\n",
       "4    (1000.0, 2000.0]\n",
       "Name: DIST, dtype: category\n",
       "Categories (5, interval[float64]): [(-inf, 200.0] < (200.0, 500.0] < (500.0, 1000.0] < (1000.0, 2000.0] < (2000.0, inf]]"
      ]
     },
     "metadata": {},
     "execution_count": 52
    }
   ],
   "source": [
    "bins = [-np.inf, 200, 500, 1000, 2000, np.inf]\n",
    "cuts = pd.cut(flights['DIST'], bins=bins)\n",
    "cuts.head()"
   ]
  },
  {
   "cell_type": "code",
   "execution_count": 53,
   "metadata": {},
   "outputs": [
    {
     "output_type": "execute_result",
     "data": {
      "text/plain": [
       "(500.0, 1000.0]     20659\n",
       "(200.0, 500.0]      15874\n",
       "(1000.0, 2000.0]    14186\n",
       "(2000.0, inf]        4054\n",
       "(-inf, 200.0]        3719\n",
       "Name: DIST, dtype: int64"
      ]
     },
     "metadata": {},
     "execution_count": 53
    }
   ],
   "source": [
    "cuts.value_counts()"
   ]
  },
  {
   "cell_type": "code",
   "execution_count": 54,
   "metadata": {},
   "outputs": [
    {
     "output_type": "execute_result",
     "data": {
      "text/plain": [
       "DIST            AIRLINE\n",
       "(-inf, 200.0]   OO         0.326\n",
       "                EV         0.289\n",
       "                MQ         0.211\n",
       "                DL         0.086\n",
       "                AA         0.052\n",
       "                UA         0.027\n",
       "                WN         0.009\n",
       "(200.0, 500.0]  WN         0.194\n",
       "                DL         0.189\n",
       "                OO         0.159\n",
       "                EV         0.156\n",
       "                MQ         0.100\n",
       "                AA         0.071\n",
       "                UA         0.062\n",
       "                VX         0.028\n",
       "Name: AIRLINE, dtype: float64"
      ]
     },
     "metadata": {},
     "execution_count": 54
    }
   ],
   "source": [
    "flights.groupby(cuts)['AIRLINE'].value_counts(normalize=True).round(3).head(15)"
   ]
  },
  {
   "cell_type": "code",
   "execution_count": 55,
   "metadata": {},
   "outputs": [
    {
     "output_type": "execute_result",
     "data": {
      "text/plain": [
       "DIST                  \n",
       "(-inf, 200.0]     0.25    0.43\n",
       "                  0.50    0.50\n",
       "                  0.75    0.57\n",
       "(200.0, 500.0]    0.25    0.77\n",
       "                  0.50    0.92\n",
       "                  0.75    1.05\n",
       "(500.0, 1000.0]   0.25    1.43\n",
       "                  0.50    1.65\n",
       "                  0.75    1.92\n",
       "(1000.0, 2000.0]  0.25    2.50\n",
       "                  0.50    2.93\n",
       "                  0.75    3.40\n",
       "(2000.0, inf]     0.25    4.30\n",
       "                  0.50    4.70\n",
       "                  0.75    5.03\n",
       "Name: AIR_TIME, dtype: float64"
      ]
     },
     "metadata": {},
     "execution_count": 55
    }
   ],
   "source": [
    "flights.groupby(cuts)['AIR_TIME'].quantile(q=[.25, .5, .75]).div(60).round(2)\n"
   ]
  },
  {
   "cell_type": "code",
   "execution_count": 56,
   "metadata": {},
   "outputs": [
    {
     "output_type": "execute_result",
     "data": {
      "text/plain": [
       "<pandas.io.formats.style.Styler at 0x7f9e17edcc70>"
      ],
      "text/html": "<style  type=\"text/css\" >\n#T_62afac00_117f_11eb_b076_38f9d35bbed7row0_col9,#T_62afac00_117f_11eb_b076_38f9d35bbed7row1_col13,#T_62afac00_117f_11eb_b076_38f9d35bbed7row2_col3,#T_62afac00_117f_11eb_b076_38f9d35bbed7row3_col0,#T_62afac00_117f_11eb_b076_38f9d35bbed7row4_col10{\n            background-color:  yellow;\n        }</style><table id=\"T_62afac00_117f_11eb_b076_38f9d35bbed7\" ><thead>    <tr>        <th class=\"index_name level0\" >AIRLINE</th>        <th class=\"col_heading level0 col0\" >AA</th>        <th class=\"col_heading level0 col1\" >AS</th>        <th class=\"col_heading level0 col2\" >B6</th>        <th class=\"col_heading level0 col3\" >DL</th>        <th class=\"col_heading level0 col4\" >EV</th>        <th class=\"col_heading level0 col5\" >F9</th>        <th class=\"col_heading level0 col6\" >HA</th>        <th class=\"col_heading level0 col7\" >MQ</th>        <th class=\"col_heading level0 col8\" >NK</th>        <th class=\"col_heading level0 col9\" >OO</th>        <th class=\"col_heading level0 col10\" >UA</th>        <th class=\"col_heading level0 col11\" >US</th>        <th class=\"col_heading level0 col12\" >VX</th>        <th class=\"col_heading level0 col13\" >WN</th>    </tr>    <tr>        <th class=\"index_name level0\" >DIST</th>        <th class=\"blank\" ></th>        <th class=\"blank\" ></th>        <th class=\"blank\" ></th>        <th class=\"blank\" ></th>        <th class=\"blank\" ></th>        <th class=\"blank\" ></th>        <th class=\"blank\" ></th>        <th class=\"blank\" ></th>        <th class=\"blank\" ></th>        <th class=\"blank\" ></th>        <th class=\"blank\" ></th>        <th class=\"blank\" ></th>        <th class=\"blank\" ></th>        <th class=\"blank\" ></th>    </tr></thead><tbody>\n                <tr>\n                        <th id=\"T_62afac00_117f_11eb_b076_38f9d35bbed7level0_row0\" class=\"row_heading level0 row0\" >Under an Hour</th>\n                        <td id=\"T_62afac00_117f_11eb_b076_38f9d35bbed7row0_col0\" class=\"data row0 col0\" >0.052000</td>\n                        <td id=\"T_62afac00_117f_11eb_b076_38f9d35bbed7row0_col1\" class=\"data row0 col1\" >nan</td>\n                        <td id=\"T_62afac00_117f_11eb_b076_38f9d35bbed7row0_col2\" class=\"data row0 col2\" >nan</td>\n                        <td id=\"T_62afac00_117f_11eb_b076_38f9d35bbed7row0_col3\" class=\"data row0 col3\" >0.086000</td>\n                        <td id=\"T_62afac00_117f_11eb_b076_38f9d35bbed7row0_col4\" class=\"data row0 col4\" >0.289000</td>\n                        <td id=\"T_62afac00_117f_11eb_b076_38f9d35bbed7row0_col5\" class=\"data row0 col5\" >nan</td>\n                        <td id=\"T_62afac00_117f_11eb_b076_38f9d35bbed7row0_col6\" class=\"data row0 col6\" >nan</td>\n                        <td id=\"T_62afac00_117f_11eb_b076_38f9d35bbed7row0_col7\" class=\"data row0 col7\" >0.211000</td>\n                        <td id=\"T_62afac00_117f_11eb_b076_38f9d35bbed7row0_col8\" class=\"data row0 col8\" >nan</td>\n                        <td id=\"T_62afac00_117f_11eb_b076_38f9d35bbed7row0_col9\" class=\"data row0 col9\" >0.326000</td>\n                        <td id=\"T_62afac00_117f_11eb_b076_38f9d35bbed7row0_col10\" class=\"data row0 col10\" >0.027000</td>\n                        <td id=\"T_62afac00_117f_11eb_b076_38f9d35bbed7row0_col11\" class=\"data row0 col11\" >nan</td>\n                        <td id=\"T_62afac00_117f_11eb_b076_38f9d35bbed7row0_col12\" class=\"data row0 col12\" >nan</td>\n                        <td id=\"T_62afac00_117f_11eb_b076_38f9d35bbed7row0_col13\" class=\"data row0 col13\" >0.009000</td>\n            </tr>\n            <tr>\n                        <th id=\"T_62afac00_117f_11eb_b076_38f9d35bbed7level0_row1\" class=\"row_heading level0 row1\" >1 Hour</th>\n                        <td id=\"T_62afac00_117f_11eb_b076_38f9d35bbed7row1_col0\" class=\"data row1 col0\" >0.071000</td>\n                        <td id=\"T_62afac00_117f_11eb_b076_38f9d35bbed7row1_col1\" class=\"data row1 col1\" >0.001000</td>\n                        <td id=\"T_62afac00_117f_11eb_b076_38f9d35bbed7row1_col2\" class=\"data row1 col2\" >0.007000</td>\n                        <td id=\"T_62afac00_117f_11eb_b076_38f9d35bbed7row1_col3\" class=\"data row1 col3\" >0.189000</td>\n                        <td id=\"T_62afac00_117f_11eb_b076_38f9d35bbed7row1_col4\" class=\"data row1 col4\" >0.156000</td>\n                        <td id=\"T_62afac00_117f_11eb_b076_38f9d35bbed7row1_col5\" class=\"data row1 col5\" >0.005000</td>\n                        <td id=\"T_62afac00_117f_11eb_b076_38f9d35bbed7row1_col6\" class=\"data row1 col6\" >nan</td>\n                        <td id=\"T_62afac00_117f_11eb_b076_38f9d35bbed7row1_col7\" class=\"data row1 col7\" >0.100000</td>\n                        <td id=\"T_62afac00_117f_11eb_b076_38f9d35bbed7row1_col8\" class=\"data row1 col8\" >0.012000</td>\n                        <td id=\"T_62afac00_117f_11eb_b076_38f9d35bbed7row1_col9\" class=\"data row1 col9\" >0.159000</td>\n                        <td id=\"T_62afac00_117f_11eb_b076_38f9d35bbed7row1_col10\" class=\"data row1 col10\" >0.062000</td>\n                        <td id=\"T_62afac00_117f_11eb_b076_38f9d35bbed7row1_col11\" class=\"data row1 col11\" >0.016000</td>\n                        <td id=\"T_62afac00_117f_11eb_b076_38f9d35bbed7row1_col12\" class=\"data row1 col12\" >0.028000</td>\n                        <td id=\"T_62afac00_117f_11eb_b076_38f9d35bbed7row1_col13\" class=\"data row1 col13\" >0.194000</td>\n            </tr>\n            <tr>\n                        <th id=\"T_62afac00_117f_11eb_b076_38f9d35bbed7level0_row2\" class=\"row_heading level0 row2\" >1-2 Hours</th>\n                        <td id=\"T_62afac00_117f_11eb_b076_38f9d35bbed7row2_col0\" class=\"data row2 col0\" >0.144000</td>\n                        <td id=\"T_62afac00_117f_11eb_b076_38f9d35bbed7row2_col1\" class=\"data row2 col1\" >0.023000</td>\n                        <td id=\"T_62afac00_117f_11eb_b076_38f9d35bbed7row2_col2\" class=\"data row2 col2\" >0.003000</td>\n                        <td id=\"T_62afac00_117f_11eb_b076_38f9d35bbed7row2_col3\" class=\"data row2 col3\" >0.206000</td>\n                        <td id=\"T_62afac00_117f_11eb_b076_38f9d35bbed7row2_col4\" class=\"data row2 col4\" >0.101000</td>\n                        <td id=\"T_62afac00_117f_11eb_b076_38f9d35bbed7row2_col5\" class=\"data row2 col5\" >0.038000</td>\n                        <td id=\"T_62afac00_117f_11eb_b076_38f9d35bbed7row2_col6\" class=\"data row2 col6\" >nan</td>\n                        <td id=\"T_62afac00_117f_11eb_b076_38f9d35bbed7row2_col7\" class=\"data row2 col7\" >0.051000</td>\n                        <td id=\"T_62afac00_117f_11eb_b076_38f9d35bbed7row2_col8\" class=\"data row2 col8\" >0.030000</td>\n                        <td id=\"T_62afac00_117f_11eb_b076_38f9d35bbed7row2_col9\" class=\"data row2 col9\" >0.106000</td>\n                        <td id=\"T_62afac00_117f_11eb_b076_38f9d35bbed7row2_col10\" class=\"data row2 col10\" >0.131000</td>\n                        <td id=\"T_62afac00_117f_11eb_b076_38f9d35bbed7row2_col11\" class=\"data row2 col11\" >0.025000</td>\n                        <td id=\"T_62afac00_117f_11eb_b076_38f9d35bbed7row2_col12\" class=\"data row2 col12\" >0.004000</td>\n                        <td id=\"T_62afac00_117f_11eb_b076_38f9d35bbed7row2_col13\" class=\"data row2 col13\" >0.138000</td>\n            </tr>\n            <tr>\n                        <th id=\"T_62afac00_117f_11eb_b076_38f9d35bbed7level0_row3\" class=\"row_heading level0 row3\" >2-4 Hours</th>\n                        <td id=\"T_62afac00_117f_11eb_b076_38f9d35bbed7row3_col0\" class=\"data row3 col0\" >0.264000</td>\n                        <td id=\"T_62afac00_117f_11eb_b076_38f9d35bbed7row3_col1\" class=\"data row3 col1\" >0.016000</td>\n                        <td id=\"T_62afac00_117f_11eb_b076_38f9d35bbed7row3_col2\" class=\"data row3 col2\" >0.003000</td>\n                        <td id=\"T_62afac00_117f_11eb_b076_38f9d35bbed7row3_col3\" class=\"data row3 col3\" >0.165000</td>\n                        <td id=\"T_62afac00_117f_11eb_b076_38f9d35bbed7row3_col4\" class=\"data row3 col4\" >0.016000</td>\n                        <td id=\"T_62afac00_117f_11eb_b076_38f9d35bbed7row3_col5\" class=\"data row3 col5\" >0.031000</td>\n                        <td id=\"T_62afac00_117f_11eb_b076_38f9d35bbed7row3_col6\" class=\"data row3 col6\" >nan</td>\n                        <td id=\"T_62afac00_117f_11eb_b076_38f9d35bbed7row3_col7\" class=\"data row3 col7\" >0.003000</td>\n                        <td id=\"T_62afac00_117f_11eb_b076_38f9d35bbed7row3_col8\" class=\"data row3 col8\" >0.045000</td>\n                        <td id=\"T_62afac00_117f_11eb_b076_38f9d35bbed7row3_col9\" class=\"data row3 col9\" >0.046000</td>\n                        <td id=\"T_62afac00_117f_11eb_b076_38f9d35bbed7row3_col10\" class=\"data row3 col10\" >0.199000</td>\n                        <td id=\"T_62afac00_117f_11eb_b076_38f9d35bbed7row3_col11\" class=\"data row3 col11\" >0.040000</td>\n                        <td id=\"T_62afac00_117f_11eb_b076_38f9d35bbed7row3_col12\" class=\"data row3 col12\" >0.012000</td>\n                        <td id=\"T_62afac00_117f_11eb_b076_38f9d35bbed7row3_col13\" class=\"data row3 col13\" >0.160000</td>\n            </tr>\n            <tr>\n                        <th id=\"T_62afac00_117f_11eb_b076_38f9d35bbed7level0_row4\" class=\"row_heading level0 row4\" >4+ Hours</th>\n                        <td id=\"T_62afac00_117f_11eb_b076_38f9d35bbed7row4_col0\" class=\"data row4 col0\" >0.212000</td>\n                        <td id=\"T_62afac00_117f_11eb_b076_38f9d35bbed7row4_col1\" class=\"data row4 col1\" >0.012000</td>\n                        <td id=\"T_62afac00_117f_11eb_b076_38f9d35bbed7row4_col2\" class=\"data row4 col2\" >0.080000</td>\n                        <td id=\"T_62afac00_117f_11eb_b076_38f9d35bbed7row4_col3\" class=\"data row4 col3\" >0.171000</td>\n                        <td id=\"T_62afac00_117f_11eb_b076_38f9d35bbed7row4_col4\" class=\"data row4 col4\" >nan</td>\n                        <td id=\"T_62afac00_117f_11eb_b076_38f9d35bbed7row4_col5\" class=\"data row4 col5\" >0.004000</td>\n                        <td id=\"T_62afac00_117f_11eb_b076_38f9d35bbed7row4_col6\" class=\"data row4 col6\" >0.028000</td>\n                        <td id=\"T_62afac00_117f_11eb_b076_38f9d35bbed7row4_col7\" class=\"data row4 col7\" >nan</td>\n                        <td id=\"T_62afac00_117f_11eb_b076_38f9d35bbed7row4_col8\" class=\"data row4 col8\" >0.019000</td>\n                        <td id=\"T_62afac00_117f_11eb_b076_38f9d35bbed7row4_col9\" class=\"data row4 col9\" >nan</td>\n                        <td id=\"T_62afac00_117f_11eb_b076_38f9d35bbed7row4_col10\" class=\"data row4 col10\" >0.289000</td>\n                        <td id=\"T_62afac00_117f_11eb_b076_38f9d35bbed7row4_col11\" class=\"data row4 col11\" >0.065000</td>\n                        <td id=\"T_62afac00_117f_11eb_b076_38f9d35bbed7row4_col12\" class=\"data row4 col12\" >0.074000</td>\n                        <td id=\"T_62afac00_117f_11eb_b076_38f9d35bbed7row4_col13\" class=\"data row4 col13\" >0.046000</td>\n            </tr>\n    </tbody></table>"
     },
     "metadata": {},
     "execution_count": 56
    }
   ],
   "source": [
    "labels=['Under an Hour', '1 Hour', '1-2 Hours', '2-4 Hours', '4+ Hours']\n",
    "cuts2 = pd.cut(flights['DIST'], bins=bins, labels=labels)\n",
    "flights.groupby(cuts2)['AIRLINE'].value_counts(normalize=True).round(3).unstack().style.highlight_max(axis=1)"
   ]
  },
  {
   "cell_type": "code",
   "execution_count": 57,
   "metadata": {},
   "outputs": [
    {
     "output_type": "execute_result",
     "data": {
      "text/plain": [
       "0    1-2 Hours\n",
       "1    2-4 Hours\n",
       "2    1-2 Hours\n",
       "3    2-4 Hours\n",
       "4    2-4 Hours\n",
       "Name: DIST, dtype: category\n",
       "Categories (5, object): ['Under an Hour' < '1 Hour' < '1-2 Hours' < '2-4 Hours' < '4+ Hours']"
      ]
     },
     "metadata": {},
     "execution_count": 57
    }
   ],
   "source": [
    "cuts2.head()"
   ]
  },
  {
   "cell_type": "code",
   "execution_count": 58,
   "metadata": {},
   "outputs": [
    {
     "output_type": "execute_result",
     "data": {
      "text/plain": [
       "1-2 Hours        20659\n",
       "1 Hour           15874\n",
       "2-4 Hours        14186\n",
       "4+ Hours          4054\n",
       "Under an Hour     3719\n",
       "Name: DIST, dtype: int64"
      ]
     },
     "metadata": {},
     "execution_count": 58
    }
   ],
   "source": [
    "cuts2.value_counts()"
   ]
  },
  {
   "cell_type": "code",
   "execution_count": 59,
   "metadata": {},
   "outputs": [
    {
     "output_type": "execute_result",
     "data": {
      "text/plain": [
       "ORG_AIR  DEST_AIR\n",
       "ATL      ABE         31\n",
       "         ABQ         16\n",
       "         ABY         19\n",
       "         ACY          6\n",
       "         AEX         40\n",
       "dtype: int64"
      ]
     },
     "metadata": {},
     "execution_count": 59
    }
   ],
   "source": [
    "flights_ct = flights.groupby(['ORG_AIR', 'DEST_AIR']).size()\n",
    "flights_ct.head()"
   ]
  },
  {
   "cell_type": "code",
   "execution_count": 60,
   "metadata": {},
   "outputs": [
    {
     "output_type": "execute_result",
     "data": {
      "text/plain": [
       "0        [LAX, SLC]\n",
       "1        [DEN, IAD]\n",
       "2        [DFW, VPS]\n",
       "3        [DCA, DFW]\n",
       "4        [LAX, MCI]\n",
       "            ...    \n",
       "58487    [DFW, SFO]\n",
       "58488    [LAS, SFO]\n",
       "58489    [SBA, SFO]\n",
       "58490    [ATL, MSP]\n",
       "58491    [BOI, SFO]\n",
       "Length: 58492, dtype: object"
      ]
     },
     "metadata": {},
     "execution_count": 60
    }
   ],
   "source": [
    "flights_sort = flights[['ORG_AIR', 'DEST_AIR']].apply(sorted, axis=1)\n",
    "flights_sort"
   ]
  },
  {
   "cell_type": "code",
   "execution_count": 61,
   "metadata": {},
   "outputs": [
    {
     "output_type": "execute_result",
     "data": {
      "text/plain": [
       "0    1\n",
       "1    1\n",
       "2    1\n",
       "3    0\n",
       "4    1\n",
       "5    1\n",
       "6    1\n",
       "7    0\n",
       "dtype: int64"
      ]
     },
     "metadata": {},
     "execution_count": 61
    }
   ],
   "source": [
    "s = pd.Series([1, 1, 1, 0, 1, 1, 1, 0])\n",
    "s\n"
   ]
  },
  {
   "cell_type": "code",
   "execution_count": 62,
   "metadata": {},
   "outputs": [
    {
     "output_type": "execute_result",
     "data": {
      "text/plain": [
       "0    1\n",
       "1    2\n",
       "2    3\n",
       "3    3\n",
       "4    4\n",
       "5    5\n",
       "6    6\n",
       "7    6\n",
       "dtype: int64"
      ]
     },
     "metadata": {},
     "execution_count": 62
    }
   ],
   "source": [
    "s1 = s.cumsum()\n",
    "s1"
   ]
  },
  {
   "cell_type": "code",
   "execution_count": 63,
   "metadata": {},
   "outputs": [
    {
     "output_type": "execute_result",
     "data": {
      "text/plain": [
       "0    NaN\n",
       "1    1.0\n",
       "2    1.0\n",
       "3   -3.0\n",
       "4    4.0\n",
       "5    1.0\n",
       "6    1.0\n",
       "7   -6.0\n",
       "dtype: float64"
      ]
     },
     "metadata": {},
     "execution_count": 63
    }
   ],
   "source": [
    "s.mul(s1).diff()"
   ]
  },
  {
   "cell_type": "code",
   "execution_count": 64,
   "metadata": {},
   "outputs": [
    {
     "output_type": "execute_result",
     "data": {
      "text/plain": [
       "0    NaN\n",
       "1    NaN\n",
       "2    NaN\n",
       "3   -3.0\n",
       "4    NaN\n",
       "5    NaN\n",
       "6    NaN\n",
       "7   -6.0\n",
       "dtype: float64"
      ]
     },
     "metadata": {},
     "execution_count": 64
    }
   ],
   "source": [
    "s.mul(s1).diff().where(lambda x: x < 0)"
   ]
  },
  {
   "cell_type": "code",
   "execution_count": 65,
   "metadata": {},
   "outputs": [
    {
     "output_type": "execute_result",
     "data": {
      "text/plain": [
       "0    1.0\n",
       "1    2.0\n",
       "2    3.0\n",
       "3    0.0\n",
       "4    1.0\n",
       "5    2.0\n",
       "6    3.0\n",
       "7    0.0\n",
       "dtype: float64"
      ]
     },
     "metadata": {},
     "execution_count": 65
    }
   ],
   "source": [
    "s.mul(s1).diff().where(lambda x: x < 0).ffill().add(s1, fill_value=0)"
   ]
  },
  {
   "cell_type": "code",
   "execution_count": 66,
   "metadata": {},
   "outputs": [
    {
     "output_type": "execute_result",
     "data": {
      "text/plain": [
       "  AIRLINE ORG_AIR  ON_TIME\n",
       "0      WN     LAX        0\n",
       "1      UA     DEN        1\n",
       "2      MQ     DFW        0\n",
       "3      AA     DFW        1\n",
       "4      WN     LAX        0\n",
       "5      UA     IAH        1\n",
       "6      AA     DFW        0\n",
       "7      F9     SFO        1\n",
       "8      AA     ORD        1\n",
       "9      UA     IAH        1"
      ],
      "text/html": "<div>\n<style scoped>\n    .dataframe tbody tr th:only-of-type {\n        vertical-align: middle;\n    }\n\n    .dataframe tbody tr th {\n        vertical-align: top;\n    }\n\n    .dataframe thead th {\n        text-align: right;\n    }\n</style>\n<table border=\"1\" class=\"dataframe\">\n  <thead>\n    <tr style=\"text-align: right;\">\n      <th></th>\n      <th>AIRLINE</th>\n      <th>ORG_AIR</th>\n      <th>ON_TIME</th>\n    </tr>\n  </thead>\n  <tbody>\n    <tr>\n      <th>0</th>\n      <td>WN</td>\n      <td>LAX</td>\n      <td>0</td>\n    </tr>\n    <tr>\n      <th>1</th>\n      <td>UA</td>\n      <td>DEN</td>\n      <td>1</td>\n    </tr>\n    <tr>\n      <th>2</th>\n      <td>MQ</td>\n      <td>DFW</td>\n      <td>0</td>\n    </tr>\n    <tr>\n      <th>3</th>\n      <td>AA</td>\n      <td>DFW</td>\n      <td>1</td>\n    </tr>\n    <tr>\n      <th>4</th>\n      <td>WN</td>\n      <td>LAX</td>\n      <td>0</td>\n    </tr>\n    <tr>\n      <th>5</th>\n      <td>UA</td>\n      <td>IAH</td>\n      <td>1</td>\n    </tr>\n    <tr>\n      <th>6</th>\n      <td>AA</td>\n      <td>DFW</td>\n      <td>0</td>\n    </tr>\n    <tr>\n      <th>7</th>\n      <td>F9</td>\n      <td>SFO</td>\n      <td>1</td>\n    </tr>\n    <tr>\n      <th>8</th>\n      <td>AA</td>\n      <td>ORD</td>\n      <td>1</td>\n    </tr>\n    <tr>\n      <th>9</th>\n      <td>UA</td>\n      <td>IAH</td>\n      <td>1</td>\n    </tr>\n  </tbody>\n</table>\n</div>"
     },
     "metadata": {},
     "execution_count": 66
    }
   ],
   "source": [
    "flights = pd.read_csv('../data/flights.csv')\n",
    "flights['ON_TIME'] = flights['ARR_DELAY'].lt(15).astype(int)\n",
    "flights[['AIRLINE', 'ORG_AIR', 'ON_TIME']].head(10)"
   ]
  },
  {
   "cell_type": "code",
   "execution_count": 67,
   "metadata": {},
   "outputs": [
    {
     "output_type": "execute_result",
     "data": {
      "text/plain": [
       "                 mean  size  max_streak\n",
       "AIRLINE ORG_AIR                        \n",
       "AA      ATL      0.82   233          15\n",
       "        DEN      0.74   219          17\n",
       "        DFW      0.78  4006          64\n",
       "        IAH      0.80   196          24\n",
       "        LAS      0.79   374          29"
      ],
      "text/html": "<div>\n<style scoped>\n    .dataframe tbody tr th:only-of-type {\n        vertical-align: middle;\n    }\n\n    .dataframe tbody tr th {\n        vertical-align: top;\n    }\n\n    .dataframe thead th {\n        text-align: right;\n    }\n</style>\n<table border=\"1\" class=\"dataframe\">\n  <thead>\n    <tr style=\"text-align: right;\">\n      <th></th>\n      <th></th>\n      <th>mean</th>\n      <th>size</th>\n      <th>max_streak</th>\n    </tr>\n    <tr>\n      <th>AIRLINE</th>\n      <th>ORG_AIR</th>\n      <th></th>\n      <th></th>\n      <th></th>\n    </tr>\n  </thead>\n  <tbody>\n    <tr>\n      <th rowspan=\"5\" valign=\"top\">AA</th>\n      <th>ATL</th>\n      <td>0.82</td>\n      <td>233</td>\n      <td>15</td>\n    </tr>\n    <tr>\n      <th>DEN</th>\n      <td>0.74</td>\n      <td>219</td>\n      <td>17</td>\n    </tr>\n    <tr>\n      <th>DFW</th>\n      <td>0.78</td>\n      <td>4006</td>\n      <td>64</td>\n    </tr>\n    <tr>\n      <th>IAH</th>\n      <td>0.80</td>\n      <td>196</td>\n      <td>24</td>\n    </tr>\n    <tr>\n      <th>LAS</th>\n      <td>0.79</td>\n      <td>374</td>\n      <td>29</td>\n    </tr>\n  </tbody>\n</table>\n</div>"
     },
     "metadata": {},
     "execution_count": 67
    }
   ],
   "source": [
    "def max_streak(s):\n",
    "    s1 = s.cumsum()\n",
    "    return s.mul(s1).diff().where(lambda x: x < 0).ffill().add(s1, fill_value=0).max()\n",
    "\n",
    "flights.sort_values(['MONTH', 'DAY', 'SCHED_DEP']) \\\n",
    "       .groupby(['AIRLINE', 'ORG_AIR'])['ON_TIME'] \\\n",
    "       .agg(['mean', 'size', max_streak]).round(2).head()"
   ]
  }
 ]
}
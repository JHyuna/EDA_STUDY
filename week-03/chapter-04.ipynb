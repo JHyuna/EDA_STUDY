{
 "metadata": {
  "language_info": {
   "codemirror_mode": {
    "name": "ipython",
    "version": 3
   },
   "file_extension": ".py",
   "mimetype": "text/x-python",
   "name": "python",
   "nbconvert_exporter": "python",
   "pygments_lexer": "ipython3",
   "version": "3.8.5-final"
  },
  "orig_nbformat": 2,
  "kernelspec": {
   "name": "Python 3.8.5 64-bit ('dataStudy': conda)",
   "display_name": "Python 3.8.5 64-bit ('dataStudy': conda)",
   "metadata": {
    "interpreter": {
     "hash": "a22da94b6d0eb1bb9e13ff23c6dec5d5d0682dd7591db237e737d29eb0bbf2ae"
    }
   }
  }
 },
 "nbformat": 4,
 "nbformat_minor": 2,
 "cells": [
  {
   "source": [
    "# CHAPTER-04. 데이터의 부분 집합 선택\n",
    "\n",
    "- 레이블, 위치 로 데이터 선택\n"
   ],
   "cell_type": "markdown",
   "metadata": {}
  },
  {
   "source": [
    "## Series 데이터 선택\n"
   ],
   "cell_type": "markdown",
   "metadata": {}
  },
  {
   "cell_type": "code",
   "execution_count": 1,
   "metadata": {},
   "outputs": [
    {
     "output_type": "execute_result",
     "data": {
      "text/plain": [
       "INSTNM\n",
       "Alabama A & M University                   Normal\n",
       "University of Alabama at Birmingham    Birmingham\n",
       "Amridge University                     Montgomery\n",
       "University of Alabama in Huntsville    Huntsville\n",
       "Alabama State University               Montgomery\n",
       "Name: CITY, dtype: object"
      ]
     },
     "metadata": {},
     "execution_count": 1
    }
   ],
   "source": [
    "import pandas as pd\n",
    "\n",
    "college = pd.read_csv(\"../data/college.csv\", index_col = \"INSTNM\")\n",
    "city = college[\"CITY\"]\n",
    "city.head()\n"
   ]
  },
  {
   "cell_type": "code",
   "execution_count": 2,
   "metadata": {},
   "outputs": [
    {
     "output_type": "execute_result",
     "data": {
      "text/plain": [
       "'Huntsville'"
      ]
     },
     "metadata": {},
     "execution_count": 2
    }
   ],
   "source": [
    "city.iloc[3] # index location"
   ]
  },
  {
   "cell_type": "code",
   "execution_count": 3,
   "metadata": {},
   "outputs": [
    {
     "output_type": "execute_result",
     "data": {
      "text/plain": [
       "INSTNM\n",
       "University of Alabama at Birmingham    Birmingham\n",
       "Amridge University                     Montgomery\n",
       "University of Alabama in Huntsville    Huntsville\n",
       "Name: CITY, dtype: object"
      ]
     },
     "metadata": {},
     "execution_count": 3
    }
   ],
   "source": [
    "city.iloc[[1, 2, 3]]"
   ]
  },
  {
   "cell_type": "code",
   "execution_count": 4,
   "metadata": {},
   "outputs": [
    {
     "output_type": "execute_result",
     "data": {
      "text/plain": [
       "INSTNM\n",
       "Alabama State University              Montgomery\n",
       "Enterprise State Community College    Enterprise\n",
       "Heritage Christian University           Florence\n",
       "Marion Military Institute                 Marion\n",
       "Reid State Technical College           Evergreen\n",
       "Name: CITY, dtype: object"
      ]
     },
     "metadata": {},
     "execution_count": 4
    }
   ],
   "source": [
    "city.iloc[4:50:10] # index 4 부터 50 까지 10 간격으로\n"
   ]
  },
  {
   "cell_type": "code",
   "execution_count": 5,
   "metadata": {},
   "outputs": [
    {
     "output_type": "execute_result",
     "data": {
      "text/plain": [
       "'Montgomery'"
      ]
     },
     "metadata": {},
     "execution_count": 5
    }
   ],
   "source": [
    "city.loc[\"Alabama State University\"] # loc : 레이블 값으로\n"
   ]
  },
  {
   "cell_type": "code",
   "execution_count": 6,
   "metadata": {},
   "outputs": [
    {
     "output_type": "stream",
     "name": "stdout",
     "text": [
      "['Northwest HVAC/R Training Center', 'California State University-Dominguez Hills', 'Lower Columbia College', 'Southwest Acupuncture College-Boulder']\n"
     ]
    },
    {
     "output_type": "execute_result",
     "data": {
      "text/plain": [
       "INSTNM\n",
       "Northwest HVAC/R Training Center                Spokane\n",
       "California State University-Dominguez Hills      Carson\n",
       "Lower Columbia College                         Longview\n",
       "Southwest Acupuncture College-Boulder           Boulder\n",
       "Name: CITY, dtype: object"
      ]
     },
     "metadata": {},
     "execution_count": 6
    }
   ],
   "source": [
    "import numpy as np\n",
    "\n",
    "np.random.seed(1)\n",
    "labels = list(np.random.choice(city.index, 4)) # index  4개 추출\n",
    "print(labels)\n",
    "city.loc[labels]"
   ]
  },
  {
   "cell_type": "code",
   "execution_count": 7,
   "metadata": {},
   "outputs": [
    {
     "output_type": "execute_result",
     "data": {
      "text/plain": [
       "INSTNM\n",
       "Northwest HVAC/R Training Center                              Spokane\n",
       "Michigan Jewish Institute                                W Bloomfield\n",
       "Florida College of Integrative Medicine                       Orlando\n",
       "Strand College of Hair Design                            Myrtle Beach\n",
       "Branford Hall Career Institute-Southington Campus         Southington\n",
       "ITT Technical Institute-Arnold                                 Arnold\n",
       "ITT Technical Institute-Albany                                 Albany\n",
       "Ilisagvik College                                              Barrow\n",
       "Golf Academy of America-Myrtle Beach                     Myrtle Beach\n",
       "White Earth Tribal and Community College                     Mahnomen\n",
       "Blue Cliff College-Metairie                                  Metairie\n",
       "Dewey University-Carolina                                    Carolina\n",
       "University of Phoenix-Maryland                               Columbia\n",
       "Central Career Institute LLC                         South Plainfield\n",
       "Montessori Institute of Milwaukee                           Milwaukee\n",
       "Pryor Beauty College                                            Pryor\n",
       "Mr Leon's School of Hair Design-Lewiston                     Lewiston\n",
       "Vatterott College-Sunset Hills                           Sunset Hills\n",
       "Name: CITY, dtype: object"
      ]
     },
     "metadata": {},
     "execution_count": 7
    }
   ],
   "source": [
    "city.loc[\"Northwest HVAC/R Training Center\": \"Southwest Acupuncture College-Boulder\" : 2] #loc 에서도 간격 슬라이스 표기 사용 가능\n"
   ]
  },
  {
   "cell_type": "code",
   "execution_count": 8,
   "metadata": {},
   "outputs": [
    {
     "output_type": "execute_result",
     "data": {
      "text/plain": [
       "INSTNM\n",
       "University of Alabama in Huntsville    Huntsville\n",
       "Name: CITY, dtype: object"
      ]
     },
     "metadata": {},
     "execution_count": 8
    }
   ],
   "source": [
    "city.iloc[[3]] # iloc 에 리스트 전달하면 시리즈\n"
   ]
  },
  {
   "cell_type": "code",
   "execution_count": 9,
   "metadata": {},
   "outputs": [
    {
     "output_type": "execute_result",
     "data": {
      "text/plain": [
       "Series([], Name: CITY, dtype: object)"
      ]
     },
     "metadata": {},
     "execution_count": 9
    }
   ],
   "source": [
    "city.loc[\"Reid State Technical College\": \"Alabama State University\": 10] # 앞 인덱스가 뒤 인덱스보다 크면 오류메시지 없이 그냥 빈 시리즈\n"
   ]
  },
  {
   "source": [
    "## DataFrame 행 선택\n"
   ],
   "cell_type": "markdown",
   "metadata": {}
  },
  {
   "cell_type": "code",
   "execution_count": 10,
   "metadata": {},
   "outputs": [
    {
     "output_type": "execute_result",
     "data": {
      "text/plain": [
       "                                           CITY STABBR  HBCU  MENONLY  \\\n",
       "INSTNM                                                                  \n",
       "Alabama A & M University                 Normal     AL   1.0      0.0   \n",
       "University of Alabama at Birmingham  Birmingham     AL   0.0      0.0   \n",
       "Amridge University                   Montgomery     AL   0.0      0.0   \n",
       "\n",
       "                                     WOMENONLY  RELAFFIL  SATVRMID  SATMTMID  \\\n",
       "INSTNM                                                                         \n",
       "Alabama A & M University                   0.0         0     424.0     420.0   \n",
       "University of Alabama at Birmingham        0.0         0     570.0     565.0   \n",
       "Amridge University                         0.0         1       NaN       NaN   \n",
       "\n",
       "                                     DISTANCEONLY     UGDS  ...  UGDS_2MOR  \\\n",
       "INSTNM                                                      ...              \n",
       "Alabama A & M University                      0.0   4206.0  ...     0.0000   \n",
       "University of Alabama at Birmingham           0.0  11383.0  ...     0.0368   \n",
       "Amridge University                            1.0    291.0  ...     0.0000   \n",
       "\n",
       "                                     UGDS_NRA  UGDS_UNKN  PPTUG_EF  CURROPER  \\\n",
       "INSTNM                                                                         \n",
       "Alabama A & M University               0.0059     0.0138    0.0656         1   \n",
       "University of Alabama at Birmingham    0.0179     0.0100    0.2607         1   \n",
       "Amridge University                     0.0000     0.2715    0.4536         1   \n",
       "\n",
       "                                     PCTPELL  PCTFLOAN  UG25ABV  \\\n",
       "INSTNM                                                            \n",
       "Alabama A & M University              0.7356    0.8284   0.1049   \n",
       "University of Alabama at Birmingham   0.3460    0.5214   0.2422   \n",
       "Amridge University                    0.6801    0.7795   0.8540   \n",
       "\n",
       "                                     MD_EARN_WNE_P10  GRAD_DEBT_MDN_SUPP  \n",
       "INSTNM                                                                    \n",
       "Alabama A & M University                       30300               33888  \n",
       "University of Alabama at Birmingham            39700             21941.5  \n",
       "Amridge University                             40100               23370  \n",
       "\n",
       "[3 rows x 26 columns]"
      ],
      "text/html": "<div>\n<style scoped>\n    .dataframe tbody tr th:only-of-type {\n        vertical-align: middle;\n    }\n\n    .dataframe tbody tr th {\n        vertical-align: top;\n    }\n\n    .dataframe thead th {\n        text-align: right;\n    }\n</style>\n<table border=\"1\" class=\"dataframe\">\n  <thead>\n    <tr style=\"text-align: right;\">\n      <th></th>\n      <th>CITY</th>\n      <th>STABBR</th>\n      <th>HBCU</th>\n      <th>MENONLY</th>\n      <th>WOMENONLY</th>\n      <th>RELAFFIL</th>\n      <th>SATVRMID</th>\n      <th>SATMTMID</th>\n      <th>DISTANCEONLY</th>\n      <th>UGDS</th>\n      <th>...</th>\n      <th>UGDS_2MOR</th>\n      <th>UGDS_NRA</th>\n      <th>UGDS_UNKN</th>\n      <th>PPTUG_EF</th>\n      <th>CURROPER</th>\n      <th>PCTPELL</th>\n      <th>PCTFLOAN</th>\n      <th>UG25ABV</th>\n      <th>MD_EARN_WNE_P10</th>\n      <th>GRAD_DEBT_MDN_SUPP</th>\n    </tr>\n    <tr>\n      <th>INSTNM</th>\n      <th></th>\n      <th></th>\n      <th></th>\n      <th></th>\n      <th></th>\n      <th></th>\n      <th></th>\n      <th></th>\n      <th></th>\n      <th></th>\n      <th></th>\n      <th></th>\n      <th></th>\n      <th></th>\n      <th></th>\n      <th></th>\n      <th></th>\n      <th></th>\n      <th></th>\n      <th></th>\n      <th></th>\n    </tr>\n  </thead>\n  <tbody>\n    <tr>\n      <th>Alabama A &amp; M University</th>\n      <td>Normal</td>\n      <td>AL</td>\n      <td>1.0</td>\n      <td>0.0</td>\n      <td>0.0</td>\n      <td>0</td>\n      <td>424.0</td>\n      <td>420.0</td>\n      <td>0.0</td>\n      <td>4206.0</td>\n      <td>...</td>\n      <td>0.0000</td>\n      <td>0.0059</td>\n      <td>0.0138</td>\n      <td>0.0656</td>\n      <td>1</td>\n      <td>0.7356</td>\n      <td>0.8284</td>\n      <td>0.1049</td>\n      <td>30300</td>\n      <td>33888</td>\n    </tr>\n    <tr>\n      <th>University of Alabama at Birmingham</th>\n      <td>Birmingham</td>\n      <td>AL</td>\n      <td>0.0</td>\n      <td>0.0</td>\n      <td>0.0</td>\n      <td>0</td>\n      <td>570.0</td>\n      <td>565.0</td>\n      <td>0.0</td>\n      <td>11383.0</td>\n      <td>...</td>\n      <td>0.0368</td>\n      <td>0.0179</td>\n      <td>0.0100</td>\n      <td>0.2607</td>\n      <td>1</td>\n      <td>0.3460</td>\n      <td>0.5214</td>\n      <td>0.2422</td>\n      <td>39700</td>\n      <td>21941.5</td>\n    </tr>\n    <tr>\n      <th>Amridge University</th>\n      <td>Montgomery</td>\n      <td>AL</td>\n      <td>0.0</td>\n      <td>0.0</td>\n      <td>0.0</td>\n      <td>1</td>\n      <td>NaN</td>\n      <td>NaN</td>\n      <td>1.0</td>\n      <td>291.0</td>\n      <td>...</td>\n      <td>0.0000</td>\n      <td>0.0000</td>\n      <td>0.2715</td>\n      <td>0.4536</td>\n      <td>1</td>\n      <td>0.6801</td>\n      <td>0.7795</td>\n      <td>0.8540</td>\n      <td>40100</td>\n      <td>23370</td>\n    </tr>\n  </tbody>\n</table>\n<p>3 rows × 26 columns</p>\n</div>"
     },
     "metadata": {},
     "execution_count": 10
    }
   ],
   "source": [
    "college.head(3)"
   ]
  },
  {
   "cell_type": "code",
   "execution_count": 11,
   "metadata": {},
   "outputs": [
    {
     "output_type": "execute_result",
     "data": {
      "text/plain": [
       "CITY                  Birmingham\n",
       "STABBR                        AL\n",
       "HBCU                           0\n",
       "MENONLY                        0\n",
       "WOMENONLY                      0\n",
       "RELAFFIL                       0\n",
       "SATVRMID                     570\n",
       "SATMTMID                     565\n",
       "DISTANCEONLY                   0\n",
       "UGDS                       11383\n",
       "UGDS_WHITE                0.5922\n",
       "UGDS_BLACK                  0.26\n",
       "UGDS_HISP                 0.0283\n",
       "UGDS_ASIAN                0.0518\n",
       "UGDS_AIAN                 0.0022\n",
       "UGDS_NHPI                 0.0007\n",
       "UGDS_2MOR                 0.0368\n",
       "UGDS_NRA                  0.0179\n",
       "UGDS_UNKN                   0.01\n",
       "PPTUG_EF                  0.2607\n",
       "CURROPER                       1\n",
       "PCTPELL                    0.346\n",
       "PCTFLOAN                  0.5214\n",
       "UG25ABV                   0.2422\n",
       "MD_EARN_WNE_P10            39700\n",
       "GRAD_DEBT_MDN_SUPP       21941.5\n",
       "Name: University of Alabama at Birmingham, dtype: object"
      ]
     },
     "metadata": {},
     "execution_count": 11
    }
   ],
   "source": [
    "college.iloc[1] # 1번 인덱스의 행\n"
   ]
  },
  {
   "cell_type": "code",
   "execution_count": 12,
   "metadata": {},
   "outputs": [
    {
     "output_type": "execute_result",
     "data": {
      "text/plain": [
       "CITY                  Birmingham\n",
       "STABBR                        AL\n",
       "HBCU                           0\n",
       "MENONLY                        0\n",
       "WOMENONLY                      0\n",
       "RELAFFIL                       0\n",
       "SATVRMID                     570\n",
       "SATMTMID                     565\n",
       "DISTANCEONLY                   0\n",
       "UGDS                       11383\n",
       "UGDS_WHITE                0.5922\n",
       "UGDS_BLACK                  0.26\n",
       "UGDS_HISP                 0.0283\n",
       "UGDS_ASIAN                0.0518\n",
       "UGDS_AIAN                 0.0022\n",
       "UGDS_NHPI                 0.0007\n",
       "UGDS_2MOR                 0.0368\n",
       "UGDS_NRA                  0.0179\n",
       "UGDS_UNKN                   0.01\n",
       "PPTUG_EF                  0.2607\n",
       "CURROPER                       1\n",
       "PCTPELL                    0.346\n",
       "PCTFLOAN                  0.5214\n",
       "UG25ABV                   0.2422\n",
       "MD_EARN_WNE_P10            39700\n",
       "GRAD_DEBT_MDN_SUPP       21941.5\n",
       "Name: University of Alabama at Birmingham, dtype: object"
      ]
     },
     "metadata": {},
     "execution_count": 12
    }
   ],
   "source": [
    " college.loc[\"University of Alabama at Birmingham\"] #위와 동일; 1번째 인덱스의 레이블값.\n",
    " "
   ]
  },
  {
   "cell_type": "code",
   "execution_count": 13,
   "metadata": {},
   "outputs": [
    {
     "output_type": "execute_result",
     "data": {
      "text/plain": [
       "                                           CITY STABBR  HBCU  MENONLY  \\\n",
       "INSTNM                                                                  \n",
       "University of Alaska Anchorage        Anchorage     AK   0.0      0.0   \n",
       "Empire Beauty School-Flagstaff        Flagstaff     AZ   0.0      0.0   \n",
       "University of Alabama in Huntsville  Huntsville     AL   0.0      0.0   \n",
       "\n",
       "                                     WOMENONLY  RELAFFIL  SATVRMID  SATMTMID  \\\n",
       "INSTNM                                                                         \n",
       "University of Alaska Anchorage             0.0         0       NaN       NaN   \n",
       "Empire Beauty School-Flagstaff             0.0         0       NaN       NaN   \n",
       "University of Alabama in Huntsville        0.0         0     595.0     590.0   \n",
       "\n",
       "                                     DISTANCEONLY     UGDS  ...  UGDS_2MOR  \\\n",
       "INSTNM                                                      ...              \n",
       "University of Alaska Anchorage                0.0  12865.0  ...     0.0980   \n",
       "Empire Beauty School-Flagstaff                0.0     60.0  ...     0.0333   \n",
       "University of Alabama in Huntsville           0.0   5451.0  ...     0.0172   \n",
       "\n",
       "                                     UGDS_NRA  UGDS_UNKN  PPTUG_EF  CURROPER  \\\n",
       "INSTNM                                                                         \n",
       "University of Alaska Anchorage         0.0181     0.0457    0.4539         1   \n",
       "Empire Beauty School-Flagstaff         0.0000     0.0000    0.0000         1   \n",
       "University of Alabama in Huntsville    0.0332     0.0350    0.2146         1   \n",
       "\n",
       "                                     PCTPELL  PCTFLOAN  UG25ABV  \\\n",
       "INSTNM                                                            \n",
       "University of Alaska Anchorage        0.2385    0.2647   0.4386   \n",
       "Empire Beauty School-Flagstaff        0.7381    0.6786   0.3208   \n",
       "University of Alabama in Huntsville   0.3072    0.4596   0.2640   \n",
       "\n",
       "                                     MD_EARN_WNE_P10  GRAD_DEBT_MDN_SUPP  \n",
       "INSTNM                                                                    \n",
       "University of Alaska Anchorage                 42500             19449.5  \n",
       "Empire Beauty School-Flagstaff                 17800               10050  \n",
       "University of Alabama in Huntsville            45500               24097  \n",
       "\n",
       "[3 rows x 26 columns]"
      ],
      "text/html": "<div>\n<style scoped>\n    .dataframe tbody tr th:only-of-type {\n        vertical-align: middle;\n    }\n\n    .dataframe tbody tr th {\n        vertical-align: top;\n    }\n\n    .dataframe thead th {\n        text-align: right;\n    }\n</style>\n<table border=\"1\" class=\"dataframe\">\n  <thead>\n    <tr style=\"text-align: right;\">\n      <th></th>\n      <th>CITY</th>\n      <th>STABBR</th>\n      <th>HBCU</th>\n      <th>MENONLY</th>\n      <th>WOMENONLY</th>\n      <th>RELAFFIL</th>\n      <th>SATVRMID</th>\n      <th>SATMTMID</th>\n      <th>DISTANCEONLY</th>\n      <th>UGDS</th>\n      <th>...</th>\n      <th>UGDS_2MOR</th>\n      <th>UGDS_NRA</th>\n      <th>UGDS_UNKN</th>\n      <th>PPTUG_EF</th>\n      <th>CURROPER</th>\n      <th>PCTPELL</th>\n      <th>PCTFLOAN</th>\n      <th>UG25ABV</th>\n      <th>MD_EARN_WNE_P10</th>\n      <th>GRAD_DEBT_MDN_SUPP</th>\n    </tr>\n    <tr>\n      <th>INSTNM</th>\n      <th></th>\n      <th></th>\n      <th></th>\n      <th></th>\n      <th></th>\n      <th></th>\n      <th></th>\n      <th></th>\n      <th></th>\n      <th></th>\n      <th></th>\n      <th></th>\n      <th></th>\n      <th></th>\n      <th></th>\n      <th></th>\n      <th></th>\n      <th></th>\n      <th></th>\n      <th></th>\n      <th></th>\n    </tr>\n  </thead>\n  <tbody>\n    <tr>\n      <th>University of Alaska Anchorage</th>\n      <td>Anchorage</td>\n      <td>AK</td>\n      <td>0.0</td>\n      <td>0.0</td>\n      <td>0.0</td>\n      <td>0</td>\n      <td>NaN</td>\n      <td>NaN</td>\n      <td>0.0</td>\n      <td>12865.0</td>\n      <td>...</td>\n      <td>0.0980</td>\n      <td>0.0181</td>\n      <td>0.0457</td>\n      <td>0.4539</td>\n      <td>1</td>\n      <td>0.2385</td>\n      <td>0.2647</td>\n      <td>0.4386</td>\n      <td>42500</td>\n      <td>19449.5</td>\n    </tr>\n    <tr>\n      <th>Empire Beauty School-Flagstaff</th>\n      <td>Flagstaff</td>\n      <td>AZ</td>\n      <td>0.0</td>\n      <td>0.0</td>\n      <td>0.0</td>\n      <td>0</td>\n      <td>NaN</td>\n      <td>NaN</td>\n      <td>0.0</td>\n      <td>60.0</td>\n      <td>...</td>\n      <td>0.0333</td>\n      <td>0.0000</td>\n      <td>0.0000</td>\n      <td>0.0000</td>\n      <td>1</td>\n      <td>0.7381</td>\n      <td>0.6786</td>\n      <td>0.3208</td>\n      <td>17800</td>\n      <td>10050</td>\n    </tr>\n    <tr>\n      <th>University of Alabama in Huntsville</th>\n      <td>Huntsville</td>\n      <td>AL</td>\n      <td>0.0</td>\n      <td>0.0</td>\n      <td>0.0</td>\n      <td>0</td>\n      <td>595.0</td>\n      <td>590.0</td>\n      <td>0.0</td>\n      <td>5451.0</td>\n      <td>...</td>\n      <td>0.0172</td>\n      <td>0.0332</td>\n      <td>0.0350</td>\n      <td>0.2146</td>\n      <td>1</td>\n      <td>0.3072</td>\n      <td>0.4596</td>\n      <td>0.2640</td>\n      <td>45500</td>\n      <td>24097</td>\n    </tr>\n  </tbody>\n</table>\n<p>3 rows × 26 columns</p>\n</div>"
     },
     "metadata": {},
     "execution_count": 13
    }
   ],
   "source": [
    "college.iloc[[60,90,3]] # 60번 90번 3번 행"
   ]
  },
  {
   "cell_type": "code",
   "execution_count": 14,
   "metadata": {},
   "outputs": [
    {
     "output_type": "execute_result",
     "data": {
      "text/plain": [
       "                                CITY STABBR  HBCU  MENONLY  WOMENONLY  \\\n",
       "INSTNM                                                                  \n",
       "Charter College-Anchorage  Anchorage     AK   0.0      0.0        0.0   \n",
       "Everest College-Phoenix      Phoenix     AZ   0.0      0.0        0.0   \n",
       "\n",
       "                           RELAFFIL  SATVRMID  SATMTMID  DISTANCEONLY    UGDS  \\\n",
       "INSTNM                                                                          \n",
       "Charter College-Anchorage         0       NaN       NaN           0.0  3256.0   \n",
       "Everest College-Phoenix           1       NaN       NaN           0.0  4102.0   \n",
       "\n",
       "                           ...  UGDS_2MOR  UGDS_NRA  UGDS_UNKN  PPTUG_EF  \\\n",
       "INSTNM                     ...                                             \n",
       "Charter College-Anchorage  ...     0.0436       0.0     0.0393    0.0000   \n",
       "Everest College-Phoenix    ...     0.0373       0.0     0.1026    0.4749   \n",
       "\n",
       "                           CURROPER  PCTPELL  PCTFLOAN  UG25ABV  \\\n",
       "INSTNM                                                            \n",
       "Charter College-Anchorage         1   0.8307    0.7503   0.5472   \n",
       "Everest College-Phoenix           0   0.8291    0.7151   0.6700   \n",
       "\n",
       "                           MD_EARN_WNE_P10  GRAD_DEBT_MDN_SUPP  \n",
       "INSTNM                                                          \n",
       "Charter College-Anchorage            39200               13875  \n",
       "Everest College-Phoenix              28600                9500  \n",
       "\n",
       "[2 rows x 26 columns]"
      ],
      "text/html": "<div>\n<style scoped>\n    .dataframe tbody tr th:only-of-type {\n        vertical-align: middle;\n    }\n\n    .dataframe tbody tr th {\n        vertical-align: top;\n    }\n\n    .dataframe thead th {\n        text-align: right;\n    }\n</style>\n<table border=\"1\" class=\"dataframe\">\n  <thead>\n    <tr style=\"text-align: right;\">\n      <th></th>\n      <th>CITY</th>\n      <th>STABBR</th>\n      <th>HBCU</th>\n      <th>MENONLY</th>\n      <th>WOMENONLY</th>\n      <th>RELAFFIL</th>\n      <th>SATVRMID</th>\n      <th>SATMTMID</th>\n      <th>DISTANCEONLY</th>\n      <th>UGDS</th>\n      <th>...</th>\n      <th>UGDS_2MOR</th>\n      <th>UGDS_NRA</th>\n      <th>UGDS_UNKN</th>\n      <th>PPTUG_EF</th>\n      <th>CURROPER</th>\n      <th>PCTPELL</th>\n      <th>PCTFLOAN</th>\n      <th>UG25ABV</th>\n      <th>MD_EARN_WNE_P10</th>\n      <th>GRAD_DEBT_MDN_SUPP</th>\n    </tr>\n    <tr>\n      <th>INSTNM</th>\n      <th></th>\n      <th></th>\n      <th></th>\n      <th></th>\n      <th></th>\n      <th></th>\n      <th></th>\n      <th></th>\n      <th></th>\n      <th></th>\n      <th></th>\n      <th></th>\n      <th></th>\n      <th></th>\n      <th></th>\n      <th></th>\n      <th></th>\n      <th></th>\n      <th></th>\n      <th></th>\n      <th></th>\n    </tr>\n  </thead>\n  <tbody>\n    <tr>\n      <th>Charter College-Anchorage</th>\n      <td>Anchorage</td>\n      <td>AK</td>\n      <td>0.0</td>\n      <td>0.0</td>\n      <td>0.0</td>\n      <td>0</td>\n      <td>NaN</td>\n      <td>NaN</td>\n      <td>0.0</td>\n      <td>3256.0</td>\n      <td>...</td>\n      <td>0.0436</td>\n      <td>0.0</td>\n      <td>0.0393</td>\n      <td>0.0000</td>\n      <td>1</td>\n      <td>0.8307</td>\n      <td>0.7503</td>\n      <td>0.5472</td>\n      <td>39200</td>\n      <td>13875</td>\n    </tr>\n    <tr>\n      <th>Everest College-Phoenix</th>\n      <td>Phoenix</td>\n      <td>AZ</td>\n      <td>0.0</td>\n      <td>0.0</td>\n      <td>0.0</td>\n      <td>1</td>\n      <td>NaN</td>\n      <td>NaN</td>\n      <td>0.0</td>\n      <td>4102.0</td>\n      <td>...</td>\n      <td>0.0373</td>\n      <td>0.0</td>\n      <td>0.1026</td>\n      <td>0.4749</td>\n      <td>0</td>\n      <td>0.8291</td>\n      <td>0.7151</td>\n      <td>0.6700</td>\n      <td>28600</td>\n      <td>9500</td>\n    </tr>\n  </tbody>\n</table>\n<p>2 rows × 26 columns</p>\n</div>"
     },
     "metadata": {},
     "execution_count": 14
    }
   ],
   "source": [
    "college.iloc[66:70:2] #66번 ~ 70번 행 2 간격으로"
   ]
  },
  {
   "source": [
    "## DataFrame의 행과 열을 동시에 선택하기\n",
    "\n",
    "- \\[rows, cols\\] 로 하면 됨.\n"
   ],
   "cell_type": "markdown",
   "metadata": {}
  },
  {
   "cell_type": "code",
   "execution_count": 15,
   "metadata": {},
   "outputs": [
    {
     "output_type": "execute_result",
     "data": {
      "text/plain": [
       "                                           CITY STABBR  HBCU  MENONLY  \\\n",
       "INSTNM                                                                  \n",
       "Alabama A & M University                 Normal     AL   1.0      0.0   \n",
       "University of Alabama at Birmingham  Birmingham     AL   0.0      0.0   \n",
       "Amridge University                   Montgomery     AL   0.0      0.0   \n",
       "University of Alabama in Huntsville  Huntsville     AL   0.0      0.0   \n",
       "\n",
       "                                     WOMENONLY  \n",
       "INSTNM                                          \n",
       "Alabama A & M University                   0.0  \n",
       "University of Alabama at Birmingham        0.0  \n",
       "Amridge University                         0.0  \n",
       "University of Alabama in Huntsville        0.0  "
      ],
      "text/html": "<div>\n<style scoped>\n    .dataframe tbody tr th:only-of-type {\n        vertical-align: middle;\n    }\n\n    .dataframe tbody tr th {\n        vertical-align: top;\n    }\n\n    .dataframe thead th {\n        text-align: right;\n    }\n</style>\n<table border=\"1\" class=\"dataframe\">\n  <thead>\n    <tr style=\"text-align: right;\">\n      <th></th>\n      <th>CITY</th>\n      <th>STABBR</th>\n      <th>HBCU</th>\n      <th>MENONLY</th>\n      <th>WOMENONLY</th>\n    </tr>\n    <tr>\n      <th>INSTNM</th>\n      <th></th>\n      <th></th>\n      <th></th>\n      <th></th>\n      <th></th>\n    </tr>\n  </thead>\n  <tbody>\n    <tr>\n      <th>Alabama A &amp; M University</th>\n      <td>Normal</td>\n      <td>AL</td>\n      <td>1.0</td>\n      <td>0.0</td>\n      <td>0.0</td>\n    </tr>\n    <tr>\n      <th>University of Alabama at Birmingham</th>\n      <td>Birmingham</td>\n      <td>AL</td>\n      <td>0.0</td>\n      <td>0.0</td>\n      <td>0.0</td>\n    </tr>\n    <tr>\n      <th>Amridge University</th>\n      <td>Montgomery</td>\n      <td>AL</td>\n      <td>0.0</td>\n      <td>0.0</td>\n      <td>0.0</td>\n    </tr>\n    <tr>\n      <th>University of Alabama in Huntsville</th>\n      <td>Huntsville</td>\n      <td>AL</td>\n      <td>0.0</td>\n      <td>0.0</td>\n      <td>0.0</td>\n    </tr>\n  </tbody>\n</table>\n</div>"
     },
     "metadata": {},
     "execution_count": 15
    }
   ],
   "source": [
    "college.iloc[:4, :5] # 3 행, 4열 까지."
   ]
  },
  {
   "cell_type": "code",
   "execution_count": 16,
   "metadata": {},
   "outputs": [
    {
     "output_type": "execute_result",
     "data": {
      "text/plain": [
       "                                           CITY STABBR  HBCU  MENONLY  \\\n",
       "INSTNM                                                                  \n",
       "Alabama A & M University                 Normal     AL   1.0      0.0   \n",
       "University of Alabama at Birmingham  Birmingham     AL   0.0      0.0   \n",
       "Amridge University                   Montgomery     AL   0.0      0.0   \n",
       "University of Alabama in Huntsville  Huntsville     AL   0.0      0.0   \n",
       "\n",
       "                                     WOMENONLY  \n",
       "INSTNM                                          \n",
       "Alabama A & M University                   0.0  \n",
       "University of Alabama at Birmingham        0.0  \n",
       "Amridge University                         0.0  \n",
       "University of Alabama in Huntsville        0.0  "
      ],
      "text/html": "<div>\n<style scoped>\n    .dataframe tbody tr th:only-of-type {\n        vertical-align: middle;\n    }\n\n    .dataframe tbody tr th {\n        vertical-align: top;\n    }\n\n    .dataframe thead th {\n        text-align: right;\n    }\n</style>\n<table border=\"1\" class=\"dataframe\">\n  <thead>\n    <tr style=\"text-align: right;\">\n      <th></th>\n      <th>CITY</th>\n      <th>STABBR</th>\n      <th>HBCU</th>\n      <th>MENONLY</th>\n      <th>WOMENONLY</th>\n    </tr>\n    <tr>\n      <th>INSTNM</th>\n      <th></th>\n      <th></th>\n      <th></th>\n      <th></th>\n      <th></th>\n    </tr>\n  </thead>\n  <tbody>\n    <tr>\n      <th>Alabama A &amp; M University</th>\n      <td>Normal</td>\n      <td>AL</td>\n      <td>1.0</td>\n      <td>0.0</td>\n      <td>0.0</td>\n    </tr>\n    <tr>\n      <th>University of Alabama at Birmingham</th>\n      <td>Birmingham</td>\n      <td>AL</td>\n      <td>0.0</td>\n      <td>0.0</td>\n      <td>0.0</td>\n    </tr>\n    <tr>\n      <th>Amridge University</th>\n      <td>Montgomery</td>\n      <td>AL</td>\n      <td>0.0</td>\n      <td>0.0</td>\n      <td>0.0</td>\n    </tr>\n    <tr>\n      <th>University of Alabama in Huntsville</th>\n      <td>Huntsville</td>\n      <td>AL</td>\n      <td>0.0</td>\n      <td>0.0</td>\n      <td>0.0</td>\n    </tr>\n  </tbody>\n</table>\n</div>"
     },
     "metadata": {},
     "execution_count": 16
    }
   ],
   "source": [
    "college.loc[:\"University of Alabama in Huntsville\",: \"WOMENONLY\"] # 위와 같음\n"
   ]
  },
  {
   "cell_type": "code",
   "execution_count": 17,
   "metadata": {},
   "outputs": [
    {
     "output_type": "execute_result",
     "data": {
      "text/plain": [
       "                                       SATMTMID  UGDS_NHPI\n",
       "INSTNM                                                    \n",
       "GateWay Community College                   NaN     0.0029\n",
       "American Baptist Seminary of the West       NaN        NaN"
      ],
      "text/html": "<div>\n<style scoped>\n    .dataframe tbody tr th:only-of-type {\n        vertical-align: middle;\n    }\n\n    .dataframe tbody tr th {\n        vertical-align: top;\n    }\n\n    .dataframe thead th {\n        text-align: right;\n    }\n</style>\n<table border=\"1\" class=\"dataframe\">\n  <thead>\n    <tr style=\"text-align: right;\">\n      <th></th>\n      <th>SATMTMID</th>\n      <th>UGDS_NHPI</th>\n    </tr>\n    <tr>\n      <th>INSTNM</th>\n      <th></th>\n      <th></th>\n    </tr>\n  </thead>\n  <tbody>\n    <tr>\n      <th>GateWay Community College</th>\n      <td>NaN</td>\n      <td>0.0029</td>\n    </tr>\n    <tr>\n      <th>American Baptist Seminary of the West</th>\n      <td>NaN</td>\n      <td>NaN</td>\n    </tr>\n  </tbody>\n</table>\n</div>"
     },
     "metadata": {},
     "execution_count": 17
    }
   ],
   "source": [
    "college.iloc[[100,200], [7,15]]"
   ]
  },
  {
   "cell_type": "code",
   "execution_count": 18,
   "metadata": {},
   "outputs": [
    {
     "output_type": "execute_result",
     "data": {
      "text/plain": [
       "                                 RELAFFIL\n",
       "INSTNM                                   \n",
       "Empire Beauty School-Flagstaff          0\n",
       "Charles of Italy Beauty College         0\n",
       "Central Arizona College                 0\n",
       "University of Arizona                   0\n",
       "Arizona State University-Tempe          0"
      ],
      "text/html": "<div>\n<style scoped>\n    .dataframe tbody tr th:only-of-type {\n        vertical-align: middle;\n    }\n\n    .dataframe tbody tr th {\n        vertical-align: top;\n    }\n\n    .dataframe thead th {\n        text-align: right;\n    }\n</style>\n<table border=\"1\" class=\"dataframe\">\n  <thead>\n    <tr style=\"text-align: right;\">\n      <th></th>\n      <th>RELAFFIL</th>\n    </tr>\n    <tr>\n      <th>INSTNM</th>\n      <th></th>\n    </tr>\n  </thead>\n  <tbody>\n    <tr>\n      <th>Empire Beauty School-Flagstaff</th>\n      <td>0</td>\n    </tr>\n    <tr>\n      <th>Charles of Italy Beauty College</th>\n      <td>0</td>\n    </tr>\n    <tr>\n      <th>Central Arizona College</th>\n      <td>0</td>\n    </tr>\n    <tr>\n      <th>University of Arizona</th>\n      <td>0</td>\n    </tr>\n    <tr>\n      <th>Arizona State University-Tempe</th>\n      <td>0</td>\n    </tr>\n  </tbody>\n</table>\n</div>"
     },
     "metadata": {},
     "execution_count": 18
    }
   ],
   "source": [
    "college.iloc[90:80: -2, [5]]"
   ]
  },
  {
   "cell_type": "code",
   "execution_count": 19,
   "metadata": {},
   "outputs": [
    {
     "output_type": "execute_result",
     "data": {
      "text/plain": [
       "                                 RELAFFIL\n",
       "INSTNM                                   \n",
       "Arizona Automotive Institute            0\n",
       "Arizona State University-Tempe          0\n",
       "University of Arizona                   0\n",
       "Central Arizona College                 0\n",
       "Charles of Italy Beauty College         0"
      ],
      "text/html": "<div>\n<style scoped>\n    .dataframe tbody tr th:only-of-type {\n        vertical-align: middle;\n    }\n\n    .dataframe tbody tr th {\n        vertical-align: top;\n    }\n\n    .dataframe thead th {\n        text-align: right;\n    }\n</style>\n<table border=\"1\" class=\"dataframe\">\n  <thead>\n    <tr style=\"text-align: right;\">\n      <th></th>\n      <th>RELAFFIL</th>\n    </tr>\n    <tr>\n      <th>INSTNM</th>\n      <th></th>\n    </tr>\n  </thead>\n  <tbody>\n    <tr>\n      <th>Arizona Automotive Institute</th>\n      <td>0</td>\n    </tr>\n    <tr>\n      <th>Arizona State University-Tempe</th>\n      <td>0</td>\n    </tr>\n    <tr>\n      <th>University of Arizona</th>\n      <td>0</td>\n    </tr>\n    <tr>\n      <th>Central Arizona College</th>\n      <td>0</td>\n    </tr>\n    <tr>\n      <th>Charles of Italy Beauty College</th>\n      <td>0</td>\n    </tr>\n  </tbody>\n</table>\n</div>"
     },
     "metadata": {},
     "execution_count": 19
    }
   ],
   "source": [
    "college.iloc[80: 90: 2, [5]]"
   ]
  },
  {
   "source": [
    "## 정수와 레이블을 동시에 사용해 데이터 선택\n"
   ],
   "cell_type": "markdown",
   "metadata": {}
  },
  {
   "cell_type": "code",
   "execution_count": 20,
   "metadata": {},
   "outputs": [
    {
     "output_type": "stream",
     "name": "stdout",
     "text": [
      "10 19\n"
     ]
    },
    {
     "output_type": "execute_result",
     "data": {
      "text/plain": [
       "                                     UGDS_WHITE  UGDS_BLACK  UGDS_HISP  \\\n",
       "INSTNM                                                                   \n",
       "Alabama A & M University                 0.0333      0.9353     0.0055   \n",
       "University of Alabama at Birmingham      0.5922      0.2600     0.0283   \n",
       "Amridge University                       0.2990      0.4192     0.0069   \n",
       "University of Alabama in Huntsville      0.6988      0.1255     0.0382   \n",
       "Alabama State University                 0.0158      0.9208     0.0121   \n",
       "\n",
       "                                     UGDS_ASIAN  UGDS_AIAN  UGDS_NHPI  \\\n",
       "INSTNM                                                                  \n",
       "Alabama A & M University                 0.0019     0.0024     0.0019   \n",
       "University of Alabama at Birmingham      0.0518     0.0022     0.0007   \n",
       "Amridge University                       0.0034     0.0000     0.0000   \n",
       "University of Alabama in Huntsville      0.0376     0.0143     0.0002   \n",
       "Alabama State University                 0.0019     0.0010     0.0006   \n",
       "\n",
       "                                     UGDS_2MOR  UGDS_NRA  UGDS_UNKN  \n",
       "INSTNM                                                               \n",
       "Alabama A & M University                0.0000    0.0059     0.0138  \n",
       "University of Alabama at Birmingham     0.0368    0.0179     0.0100  \n",
       "Amridge University                      0.0000    0.0000     0.2715  \n",
       "University of Alabama in Huntsville     0.0172    0.0332     0.0350  \n",
       "Alabama State University                0.0098    0.0243     0.0137  "
      ],
      "text/html": "<div>\n<style scoped>\n    .dataframe tbody tr th:only-of-type {\n        vertical-align: middle;\n    }\n\n    .dataframe tbody tr th {\n        vertical-align: top;\n    }\n\n    .dataframe thead th {\n        text-align: right;\n    }\n</style>\n<table border=\"1\" class=\"dataframe\">\n  <thead>\n    <tr style=\"text-align: right;\">\n      <th></th>\n      <th>UGDS_WHITE</th>\n      <th>UGDS_BLACK</th>\n      <th>UGDS_HISP</th>\n      <th>UGDS_ASIAN</th>\n      <th>UGDS_AIAN</th>\n      <th>UGDS_NHPI</th>\n      <th>UGDS_2MOR</th>\n      <th>UGDS_NRA</th>\n      <th>UGDS_UNKN</th>\n    </tr>\n    <tr>\n      <th>INSTNM</th>\n      <th></th>\n      <th></th>\n      <th></th>\n      <th></th>\n      <th></th>\n      <th></th>\n      <th></th>\n      <th></th>\n      <th></th>\n    </tr>\n  </thead>\n  <tbody>\n    <tr>\n      <th>Alabama A &amp; M University</th>\n      <td>0.0333</td>\n      <td>0.9353</td>\n      <td>0.0055</td>\n      <td>0.0019</td>\n      <td>0.0024</td>\n      <td>0.0019</td>\n      <td>0.0000</td>\n      <td>0.0059</td>\n      <td>0.0138</td>\n    </tr>\n    <tr>\n      <th>University of Alabama at Birmingham</th>\n      <td>0.5922</td>\n      <td>0.2600</td>\n      <td>0.0283</td>\n      <td>0.0518</td>\n      <td>0.0022</td>\n      <td>0.0007</td>\n      <td>0.0368</td>\n      <td>0.0179</td>\n      <td>0.0100</td>\n    </tr>\n    <tr>\n      <th>Amridge University</th>\n      <td>0.2990</td>\n      <td>0.4192</td>\n      <td>0.0069</td>\n      <td>0.0034</td>\n      <td>0.0000</td>\n      <td>0.0000</td>\n      <td>0.0000</td>\n      <td>0.0000</td>\n      <td>0.2715</td>\n    </tr>\n    <tr>\n      <th>University of Alabama in Huntsville</th>\n      <td>0.6988</td>\n      <td>0.1255</td>\n      <td>0.0382</td>\n      <td>0.0376</td>\n      <td>0.0143</td>\n      <td>0.0002</td>\n      <td>0.0172</td>\n      <td>0.0332</td>\n      <td>0.0350</td>\n    </tr>\n    <tr>\n      <th>Alabama State University</th>\n      <td>0.0158</td>\n      <td>0.9208</td>\n      <td>0.0121</td>\n      <td>0.0019</td>\n      <td>0.0010</td>\n      <td>0.0006</td>\n      <td>0.0098</td>\n      <td>0.0243</td>\n      <td>0.0137</td>\n    </tr>\n  </tbody>\n</table>\n</div>"
     },
     "metadata": {},
     "execution_count": 20
    }
   ],
   "source": [
    "col_start = college.columns.get_loc(\"UGDS_WHITE\")\n",
    "col_end = college.columns.get_loc(\"UGDS_UNKN\") + 1\n",
    "print(col_start,col_end)\n",
    "\n",
    "college.iloc[:5, col_start : col_end] # 4행 까지, white 열 부터 unkn 열 까지.\n"
   ]
  },
  {
   "cell_type": "code",
   "execution_count": 21,
   "metadata": {},
   "outputs": [
    {
     "output_type": "execute_result",
     "data": {
      "text/plain": [
       "                                          UGDS_WHITE  UGDS_BLACK  UGDS_HISP  \\\n",
       "INSTNM                                                                        \n",
       "Birmingham Southern College                   0.7983      0.1102     0.0195   \n",
       "Chattahoochee Valley Community College        0.4661      0.4372     0.0492   \n",
       "Concordia College Alabama                     0.0280      0.8758     0.0373   \n",
       "South University-Montgomery                   0.3046      0.6054     0.0153   \n",
       "Enterprise State Community College            0.6408      0.2435     0.0509   \n",
       "James H Faulkner State Community College      0.6979      0.2259     0.0320   \n",
       "\n",
       "                                          UGDS_ASIAN  UGDS_AIAN  UGDS_NHPI  \\\n",
       "INSTNM                                                                       \n",
       "Birmingham Southern College                   0.0517     0.0102     0.0000   \n",
       "Chattahoochee Valley Community College        0.0127     0.0023     0.0035   \n",
       "Concordia College Alabama                     0.0093     0.0000     0.0000   \n",
       "South University-Montgomery                   0.0153     0.0153     0.0096   \n",
       "Enterprise State Community College            0.0202     0.0081     0.0029   \n",
       "James H Faulkner State Community College      0.0084     0.0177     0.0014   \n",
       "\n",
       "                                          UGDS_2MOR  UGDS_NRA  UGDS_UNKN  \n",
       "INSTNM                                                                    \n",
       "Birmingham Southern College                  0.0051    0.0000     0.0051  \n",
       "Chattahoochee Valley Community College       0.0151    0.0000     0.0139  \n",
       "Concordia College Alabama                    0.0031    0.0466     0.0000  \n",
       "South University-Montgomery                  0.0000    0.0019     0.0326  \n",
       "Enterprise State Community College           0.0254    0.0012     0.0069  \n",
       "James H Faulkner State Community College     0.0152    0.0007     0.0009  "
      ],
      "text/html": "<div>\n<style scoped>\n    .dataframe tbody tr th:only-of-type {\n        vertical-align: middle;\n    }\n\n    .dataframe tbody tr th {\n        vertical-align: top;\n    }\n\n    .dataframe thead th {\n        text-align: right;\n    }\n</style>\n<table border=\"1\" class=\"dataframe\">\n  <thead>\n    <tr style=\"text-align: right;\">\n      <th></th>\n      <th>UGDS_WHITE</th>\n      <th>UGDS_BLACK</th>\n      <th>UGDS_HISP</th>\n      <th>UGDS_ASIAN</th>\n      <th>UGDS_AIAN</th>\n      <th>UGDS_NHPI</th>\n      <th>UGDS_2MOR</th>\n      <th>UGDS_NRA</th>\n      <th>UGDS_UNKN</th>\n    </tr>\n    <tr>\n      <th>INSTNM</th>\n      <th></th>\n      <th></th>\n      <th></th>\n      <th></th>\n      <th></th>\n      <th></th>\n      <th></th>\n      <th></th>\n      <th></th>\n    </tr>\n  </thead>\n  <tbody>\n    <tr>\n      <th>Birmingham Southern College</th>\n      <td>0.7983</td>\n      <td>0.1102</td>\n      <td>0.0195</td>\n      <td>0.0517</td>\n      <td>0.0102</td>\n      <td>0.0000</td>\n      <td>0.0051</td>\n      <td>0.0000</td>\n      <td>0.0051</td>\n    </tr>\n    <tr>\n      <th>Chattahoochee Valley Community College</th>\n      <td>0.4661</td>\n      <td>0.4372</td>\n      <td>0.0492</td>\n      <td>0.0127</td>\n      <td>0.0023</td>\n      <td>0.0035</td>\n      <td>0.0151</td>\n      <td>0.0000</td>\n      <td>0.0139</td>\n    </tr>\n    <tr>\n      <th>Concordia College Alabama</th>\n      <td>0.0280</td>\n      <td>0.8758</td>\n      <td>0.0373</td>\n      <td>0.0093</td>\n      <td>0.0000</td>\n      <td>0.0000</td>\n      <td>0.0031</td>\n      <td>0.0466</td>\n      <td>0.0000</td>\n    </tr>\n    <tr>\n      <th>South University-Montgomery</th>\n      <td>0.3046</td>\n      <td>0.6054</td>\n      <td>0.0153</td>\n      <td>0.0153</td>\n      <td>0.0153</td>\n      <td>0.0096</td>\n      <td>0.0000</td>\n      <td>0.0019</td>\n      <td>0.0326</td>\n    </tr>\n    <tr>\n      <th>Enterprise State Community College</th>\n      <td>0.6408</td>\n      <td>0.2435</td>\n      <td>0.0509</td>\n      <td>0.0202</td>\n      <td>0.0081</td>\n      <td>0.0029</td>\n      <td>0.0254</td>\n      <td>0.0012</td>\n      <td>0.0069</td>\n    </tr>\n    <tr>\n      <th>James H Faulkner State Community College</th>\n      <td>0.6979</td>\n      <td>0.2259</td>\n      <td>0.0320</td>\n      <td>0.0084</td>\n      <td>0.0177</td>\n      <td>0.0014</td>\n      <td>0.0152</td>\n      <td>0.0007</td>\n      <td>0.0009</td>\n    </tr>\n  </tbody>\n</table>\n</div>"
     },
     "metadata": {},
     "execution_count": 21
    }
   ],
   "source": [
    "# 10행 부터 15행 까지, white 부터 unkn 열 까지\n",
    "# loc 으로\n",
    "\n",
    "row_start = college.index[10]\n",
    "row_end = college.index[15]\n",
    "\n",
    "college.loc[row_start: row_end, \"UGDS_WHITE\": \"UGDS_UNKN\"] # 10 ~ 15행 출력, loc 은 뒤에거 제외 안함."
   ]
  },
  {
   "cell_type": "code",
   "execution_count": 22,
   "metadata": {},
   "outputs": [
    {
     "output_type": "execute_result",
     "data": {
      "text/plain": [
       "                                          UGDS_WHITE  UGDS_BLACK  UGDS_HISP  \\\n",
       "INSTNM                                                                        \n",
       "Birmingham Southern College                   0.7983      0.1102     0.0195   \n",
       "Chattahoochee Valley Community College        0.4661      0.4372     0.0492   \n",
       "Concordia College Alabama                     0.0280      0.8758     0.0373   \n",
       "South University-Montgomery                   0.3046      0.6054     0.0153   \n",
       "Enterprise State Community College            0.6408      0.2435     0.0509   \n",
       "James H Faulkner State Community College      0.6979      0.2259     0.0320   \n",
       "\n",
       "                                          UGDS_ASIAN  UGDS_AIAN  UGDS_NHPI  \\\n",
       "INSTNM                                                                       \n",
       "Birmingham Southern College                   0.0517     0.0102     0.0000   \n",
       "Chattahoochee Valley Community College        0.0127     0.0023     0.0035   \n",
       "Concordia College Alabama                     0.0093     0.0000     0.0000   \n",
       "South University-Montgomery                   0.0153     0.0153     0.0096   \n",
       "Enterprise State Community College            0.0202     0.0081     0.0029   \n",
       "James H Faulkner State Community College      0.0084     0.0177     0.0014   \n",
       "\n",
       "                                          UGDS_2MOR  UGDS_NRA  UGDS_UNKN  \n",
       "INSTNM                                                                    \n",
       "Birmingham Southern College                  0.0051    0.0000     0.0051  \n",
       "Chattahoochee Valley Community College       0.0151    0.0000     0.0139  \n",
       "Concordia College Alabama                    0.0031    0.0466     0.0000  \n",
       "South University-Montgomery                  0.0000    0.0019     0.0326  \n",
       "Enterprise State Community College           0.0254    0.0012     0.0069  \n",
       "James H Faulkner State Community College     0.0152    0.0007     0.0009  "
      ],
      "text/html": "<div>\n<style scoped>\n    .dataframe tbody tr th:only-of-type {\n        vertical-align: middle;\n    }\n\n    .dataframe tbody tr th {\n        vertical-align: top;\n    }\n\n    .dataframe thead th {\n        text-align: right;\n    }\n</style>\n<table border=\"1\" class=\"dataframe\">\n  <thead>\n    <tr style=\"text-align: right;\">\n      <th></th>\n      <th>UGDS_WHITE</th>\n      <th>UGDS_BLACK</th>\n      <th>UGDS_HISP</th>\n      <th>UGDS_ASIAN</th>\n      <th>UGDS_AIAN</th>\n      <th>UGDS_NHPI</th>\n      <th>UGDS_2MOR</th>\n      <th>UGDS_NRA</th>\n      <th>UGDS_UNKN</th>\n    </tr>\n    <tr>\n      <th>INSTNM</th>\n      <th></th>\n      <th></th>\n      <th></th>\n      <th></th>\n      <th></th>\n      <th></th>\n      <th></th>\n      <th></th>\n      <th></th>\n    </tr>\n  </thead>\n  <tbody>\n    <tr>\n      <th>Birmingham Southern College</th>\n      <td>0.7983</td>\n      <td>0.1102</td>\n      <td>0.0195</td>\n      <td>0.0517</td>\n      <td>0.0102</td>\n      <td>0.0000</td>\n      <td>0.0051</td>\n      <td>0.0000</td>\n      <td>0.0051</td>\n    </tr>\n    <tr>\n      <th>Chattahoochee Valley Community College</th>\n      <td>0.4661</td>\n      <td>0.4372</td>\n      <td>0.0492</td>\n      <td>0.0127</td>\n      <td>0.0023</td>\n      <td>0.0035</td>\n      <td>0.0151</td>\n      <td>0.0000</td>\n      <td>0.0139</td>\n    </tr>\n    <tr>\n      <th>Concordia College Alabama</th>\n      <td>0.0280</td>\n      <td>0.8758</td>\n      <td>0.0373</td>\n      <td>0.0093</td>\n      <td>0.0000</td>\n      <td>0.0000</td>\n      <td>0.0031</td>\n      <td>0.0466</td>\n      <td>0.0000</td>\n    </tr>\n    <tr>\n      <th>South University-Montgomery</th>\n      <td>0.3046</td>\n      <td>0.6054</td>\n      <td>0.0153</td>\n      <td>0.0153</td>\n      <td>0.0153</td>\n      <td>0.0096</td>\n      <td>0.0000</td>\n      <td>0.0019</td>\n      <td>0.0326</td>\n    </tr>\n    <tr>\n      <th>Enterprise State Community College</th>\n      <td>0.6408</td>\n      <td>0.2435</td>\n      <td>0.0509</td>\n      <td>0.0202</td>\n      <td>0.0081</td>\n      <td>0.0029</td>\n      <td>0.0254</td>\n      <td>0.0012</td>\n      <td>0.0069</td>\n    </tr>\n    <tr>\n      <th>James H Faulkner State Community College</th>\n      <td>0.6979</td>\n      <td>0.2259</td>\n      <td>0.0320</td>\n      <td>0.0084</td>\n      <td>0.0177</td>\n      <td>0.0014</td>\n      <td>0.0152</td>\n      <td>0.0007</td>\n      <td>0.0009</td>\n    </tr>\n  </tbody>\n</table>\n</div>"
     },
     "metadata": {},
     "execution_count": 22
    }
   ],
   "source": [
    "college.iloc[10: 16, col_start: col_end] # iloc 은 뒤에꺼 슬라이스 뺌\n"
   ]
  },
  {
   "source": [
    "## 스칼라 더 빠르게 선택하기\n",
    "\n",
    "- 스칼라 값을 iat, at 으로 더 빠르게 얻을 수 있다.\n",
    "- df, series 에서 가능.\n"
   ],
   "cell_type": "markdown",
   "metadata": {}
  },
  {
   "cell_type": "code",
   "execution_count": 23,
   "metadata": {},
   "outputs": [
    {
     "output_type": "stream",
     "name": "stdout",
     "text": [
      "Birmingham\nBirmingham\n"
     ]
    }
   ],
   "source": [
    "print(college.iloc[1,0])\n",
    "print(college.iat[1, 0])\n"
   ]
  },
  {
   "cell_type": "code",
   "execution_count": 24,
   "metadata": {},
   "outputs": [
    {
     "output_type": "stream",
     "name": "stdout",
     "text": [
      "23.6 µs ± 8.82 µs per loop (mean ± std. dev. of 7 runs, 10000 loops each)\n"
     ]
    }
   ],
   "source": [
    "%timeit college.iloc[1,0]\n"
   ]
  },
  {
   "cell_type": "code",
   "execution_count": 25,
   "metadata": {},
   "outputs": [
    {
     "output_type": "stream",
     "name": "stdout",
     "text": [
      "23.3 µs ± 2.23 µs per loop (mean ± std. dev. of 7 runs, 100000 loops each)\n"
     ]
    }
   ],
   "source": [
    "%timeit college.iat[1,0]"
   ]
  },
  {
   "source": [
    "## 게으른 행 슬라이스\n",
    "\n",
    "- iloc, loc 안 쓰고 행 슬라이스 가능\n",
    "- iloc, loc 쓰는거 권장\n",
    "- 열에서는 안됨, 행 열 동시선택도 안됨"
   ],
   "cell_type": "markdown",
   "metadata": {}
  },
  {
   "cell_type": "code",
   "execution_count": 26,
   "metadata": {},
   "outputs": [
    {
     "output_type": "execute_result",
     "data": {
      "text/plain": [
       "                                             CITY STABBR  HBCU  MENONLY  \\\n",
       "INSTNM                                                                    \n",
       "Birmingham Southern College            Birmingham     AL   0.0      0.0   \n",
       "Concordia College Alabama                   Selma     AL   1.0      0.0   \n",
       "Enterprise State Community College     Enterprise     AL   0.0      0.0   \n",
       "Faulkner University                    Montgomery     AL   0.0      0.0   \n",
       "New Beginning College of Cosmetology  Albertville     AL   0.0      0.0   \n",
       "\n",
       "                                      WOMENONLY  RELAFFIL  SATVRMID  SATMTMID  \\\n",
       "INSTNM                                                                          \n",
       "Birmingham Southern College                 0.0         1     560.0     560.0   \n",
       "Concordia College Alabama                   0.0         1     420.0     400.0   \n",
       "Enterprise State Community College          0.0         0       NaN       NaN   \n",
       "Faulkner University                         0.0         1       NaN       NaN   \n",
       "New Beginning College of Cosmetology        0.0         0       NaN       NaN   \n",
       "\n",
       "                                      DISTANCEONLY    UGDS  ...  UGDS_2MOR  \\\n",
       "INSTNM                                                      ...              \n",
       "Birmingham Southern College                    0.0  1180.0  ...     0.0051   \n",
       "Concordia College Alabama                      0.0   322.0  ...     0.0031   \n",
       "Enterprise State Community College             0.0  1729.0  ...     0.0254   \n",
       "Faulkner University                            0.0  2367.0  ...     0.0173   \n",
       "New Beginning College of Cosmetology           0.0   115.0  ...     0.0000   \n",
       "\n",
       "                                      UGDS_NRA  UGDS_UNKN  PPTUG_EF  CURROPER  \\\n",
       "INSTNM                                                                          \n",
       "Birmingham Southern College             0.0000     0.0051    0.0017         1   \n",
       "Concordia College Alabama               0.0466     0.0000    0.1056         1   \n",
       "Enterprise State Community College      0.0012     0.0069    0.3823         1   \n",
       "Faulkner University                     0.0182     0.0258    0.2302         1   \n",
       "New Beginning College of Cosmetology    0.0000     0.0000    0.0783         1   \n",
       "\n",
       "                                      PCTPELL  PCTFLOAN  UG25ABV  \\\n",
       "INSTNM                                                             \n",
       "Birmingham Southern College            0.1920    0.4809   0.0152   \n",
       "Concordia College Alabama              0.8667    0.9333   0.2367   \n",
       "Enterprise State Community College     0.4895    0.2263   0.3399   \n",
       "Faulkner University                    0.5812    0.7253   0.4589   \n",
       "New Beginning College of Cosmetology   0.8224    0.8553   0.3933   \n",
       "\n",
       "                                      MD_EARN_WNE_P10  GRAD_DEBT_MDN_SUPP  \n",
       "INSTNM                                                                     \n",
       "Birmingham Southern College                     44200               27000  \n",
       "Concordia College Alabama                       19900   PrivacySuppressed  \n",
       "Enterprise State Community College              24600                8273  \n",
       "Faulkner University                             37200               22000  \n",
       "New Beginning College of Cosmetology              NaN                5500  \n",
       "\n",
       "[5 rows x 26 columns]"
      ],
      "text/html": "<div>\n<style scoped>\n    .dataframe tbody tr th:only-of-type {\n        vertical-align: middle;\n    }\n\n    .dataframe tbody tr th {\n        vertical-align: top;\n    }\n\n    .dataframe thead th {\n        text-align: right;\n    }\n</style>\n<table border=\"1\" class=\"dataframe\">\n  <thead>\n    <tr style=\"text-align: right;\">\n      <th></th>\n      <th>CITY</th>\n      <th>STABBR</th>\n      <th>HBCU</th>\n      <th>MENONLY</th>\n      <th>WOMENONLY</th>\n      <th>RELAFFIL</th>\n      <th>SATVRMID</th>\n      <th>SATMTMID</th>\n      <th>DISTANCEONLY</th>\n      <th>UGDS</th>\n      <th>...</th>\n      <th>UGDS_2MOR</th>\n      <th>UGDS_NRA</th>\n      <th>UGDS_UNKN</th>\n      <th>PPTUG_EF</th>\n      <th>CURROPER</th>\n      <th>PCTPELL</th>\n      <th>PCTFLOAN</th>\n      <th>UG25ABV</th>\n      <th>MD_EARN_WNE_P10</th>\n      <th>GRAD_DEBT_MDN_SUPP</th>\n    </tr>\n    <tr>\n      <th>INSTNM</th>\n      <th></th>\n      <th></th>\n      <th></th>\n      <th></th>\n      <th></th>\n      <th></th>\n      <th></th>\n      <th></th>\n      <th></th>\n      <th></th>\n      <th></th>\n      <th></th>\n      <th></th>\n      <th></th>\n      <th></th>\n      <th></th>\n      <th></th>\n      <th></th>\n      <th></th>\n      <th></th>\n      <th></th>\n    </tr>\n  </thead>\n  <tbody>\n    <tr>\n      <th>Birmingham Southern College</th>\n      <td>Birmingham</td>\n      <td>AL</td>\n      <td>0.0</td>\n      <td>0.0</td>\n      <td>0.0</td>\n      <td>1</td>\n      <td>560.0</td>\n      <td>560.0</td>\n      <td>0.0</td>\n      <td>1180.0</td>\n      <td>...</td>\n      <td>0.0051</td>\n      <td>0.0000</td>\n      <td>0.0051</td>\n      <td>0.0017</td>\n      <td>1</td>\n      <td>0.1920</td>\n      <td>0.4809</td>\n      <td>0.0152</td>\n      <td>44200</td>\n      <td>27000</td>\n    </tr>\n    <tr>\n      <th>Concordia College Alabama</th>\n      <td>Selma</td>\n      <td>AL</td>\n      <td>1.0</td>\n      <td>0.0</td>\n      <td>0.0</td>\n      <td>1</td>\n      <td>420.0</td>\n      <td>400.0</td>\n      <td>0.0</td>\n      <td>322.0</td>\n      <td>...</td>\n      <td>0.0031</td>\n      <td>0.0466</td>\n      <td>0.0000</td>\n      <td>0.1056</td>\n      <td>1</td>\n      <td>0.8667</td>\n      <td>0.9333</td>\n      <td>0.2367</td>\n      <td>19900</td>\n      <td>PrivacySuppressed</td>\n    </tr>\n    <tr>\n      <th>Enterprise State Community College</th>\n      <td>Enterprise</td>\n      <td>AL</td>\n      <td>0.0</td>\n      <td>0.0</td>\n      <td>0.0</td>\n      <td>0</td>\n      <td>NaN</td>\n      <td>NaN</td>\n      <td>0.0</td>\n      <td>1729.0</td>\n      <td>...</td>\n      <td>0.0254</td>\n      <td>0.0012</td>\n      <td>0.0069</td>\n      <td>0.3823</td>\n      <td>1</td>\n      <td>0.4895</td>\n      <td>0.2263</td>\n      <td>0.3399</td>\n      <td>24600</td>\n      <td>8273</td>\n    </tr>\n    <tr>\n      <th>Faulkner University</th>\n      <td>Montgomery</td>\n      <td>AL</td>\n      <td>0.0</td>\n      <td>0.0</td>\n      <td>0.0</td>\n      <td>1</td>\n      <td>NaN</td>\n      <td>NaN</td>\n      <td>0.0</td>\n      <td>2367.0</td>\n      <td>...</td>\n      <td>0.0173</td>\n      <td>0.0182</td>\n      <td>0.0258</td>\n      <td>0.2302</td>\n      <td>1</td>\n      <td>0.5812</td>\n      <td>0.7253</td>\n      <td>0.4589</td>\n      <td>37200</td>\n      <td>22000</td>\n    </tr>\n    <tr>\n      <th>New Beginning College of Cosmetology</th>\n      <td>Albertville</td>\n      <td>AL</td>\n      <td>0.0</td>\n      <td>0.0</td>\n      <td>0.0</td>\n      <td>0</td>\n      <td>NaN</td>\n      <td>NaN</td>\n      <td>0.0</td>\n      <td>115.0</td>\n      <td>...</td>\n      <td>0.0000</td>\n      <td>0.0000</td>\n      <td>0.0000</td>\n      <td>0.0783</td>\n      <td>1</td>\n      <td>0.8224</td>\n      <td>0.8553</td>\n      <td>0.3933</td>\n      <td>NaN</td>\n      <td>5500</td>\n    </tr>\n  </tbody>\n</table>\n<p>5 rows × 26 columns</p>\n</div>"
     },
     "metadata": {},
     "execution_count": 26
    }
   ],
   "source": [
    "college[10:20:2]"
   ]
  },
  {
   "cell_type": "code",
   "execution_count": 27,
   "metadata": {},
   "outputs": [
    {
     "output_type": "execute_result",
     "data": {
      "text/plain": [
       "INSTNM\n",
       "Birmingham Southern College              Birmingham\n",
       "Concordia College Alabama                     Selma\n",
       "Enterprise State Community College       Enterprise\n",
       "Faulkner University                      Montgomery\n",
       "New Beginning College of Cosmetology    Albertville\n",
       "Name: CITY, dtype: object"
      ]
     },
     "metadata": {},
     "execution_count": 27
    }
   ],
   "source": [
    "city[10:20:2]"
   ]
  },
  {
   "cell_type": "code",
   "execution_count": 28,
   "metadata": {},
   "outputs": [
    {
     "output_type": "execute_result",
     "data": {
      "text/plain": [
       "                                             CITY STABBR  HBCU  MENONLY  \\\n",
       "INSTNM                                                                    \n",
       "Birmingham Southern College            Birmingham     AL   0.0      0.0   \n",
       "Concordia College Alabama                   Selma     AL   1.0      0.0   \n",
       "Enterprise State Community College     Enterprise     AL   0.0      0.0   \n",
       "Faulkner University                    Montgomery     AL   0.0      0.0   \n",
       "New Beginning College of Cosmetology  Albertville     AL   0.0      0.0   \n",
       "\n",
       "                                      WOMENONLY  RELAFFIL  SATVRMID  SATMTMID  \\\n",
       "INSTNM                                                                          \n",
       "Birmingham Southern College                 0.0         1     560.0     560.0   \n",
       "Concordia College Alabama                   0.0         1     420.0     400.0   \n",
       "Enterprise State Community College          0.0         0       NaN       NaN   \n",
       "Faulkner University                         0.0         1       NaN       NaN   \n",
       "New Beginning College of Cosmetology        0.0         0       NaN       NaN   \n",
       "\n",
       "                                      DISTANCEONLY    UGDS  ...  UGDS_2MOR  \\\n",
       "INSTNM                                                      ...              \n",
       "Birmingham Southern College                    0.0  1180.0  ...     0.0051   \n",
       "Concordia College Alabama                      0.0   322.0  ...     0.0031   \n",
       "Enterprise State Community College             0.0  1729.0  ...     0.0254   \n",
       "Faulkner University                            0.0  2367.0  ...     0.0173   \n",
       "New Beginning College of Cosmetology           0.0   115.0  ...     0.0000   \n",
       "\n",
       "                                      UGDS_NRA  UGDS_UNKN  PPTUG_EF  CURROPER  \\\n",
       "INSTNM                                                                          \n",
       "Birmingham Southern College             0.0000     0.0051    0.0017         1   \n",
       "Concordia College Alabama               0.0466     0.0000    0.1056         1   \n",
       "Enterprise State Community College      0.0012     0.0069    0.3823         1   \n",
       "Faulkner University                     0.0182     0.0258    0.2302         1   \n",
       "New Beginning College of Cosmetology    0.0000     0.0000    0.0783         1   \n",
       "\n",
       "                                      PCTPELL  PCTFLOAN  UG25ABV  \\\n",
       "INSTNM                                                             \n",
       "Birmingham Southern College            0.1920    0.4809   0.0152   \n",
       "Concordia College Alabama              0.8667    0.9333   0.2367   \n",
       "Enterprise State Community College     0.4895    0.2263   0.3399   \n",
       "Faulkner University                    0.5812    0.7253   0.4589   \n",
       "New Beginning College of Cosmetology   0.8224    0.8553   0.3933   \n",
       "\n",
       "                                      MD_EARN_WNE_P10  GRAD_DEBT_MDN_SUPP  \n",
       "INSTNM                                                                     \n",
       "Birmingham Southern College                     44200               27000  \n",
       "Concordia College Alabama                       19900   PrivacySuppressed  \n",
       "Enterprise State Community College              24600                8273  \n",
       "Faulkner University                             37200               22000  \n",
       "New Beginning College of Cosmetology              NaN                5500  \n",
       "\n",
       "[5 rows x 26 columns]"
      ],
      "text/html": "<div>\n<style scoped>\n    .dataframe tbody tr th:only-of-type {\n        vertical-align: middle;\n    }\n\n    .dataframe tbody tr th {\n        vertical-align: top;\n    }\n\n    .dataframe thead th {\n        text-align: right;\n    }\n</style>\n<table border=\"1\" class=\"dataframe\">\n  <thead>\n    <tr style=\"text-align: right;\">\n      <th></th>\n      <th>CITY</th>\n      <th>STABBR</th>\n      <th>HBCU</th>\n      <th>MENONLY</th>\n      <th>WOMENONLY</th>\n      <th>RELAFFIL</th>\n      <th>SATVRMID</th>\n      <th>SATMTMID</th>\n      <th>DISTANCEONLY</th>\n      <th>UGDS</th>\n      <th>...</th>\n      <th>UGDS_2MOR</th>\n      <th>UGDS_NRA</th>\n      <th>UGDS_UNKN</th>\n      <th>PPTUG_EF</th>\n      <th>CURROPER</th>\n      <th>PCTPELL</th>\n      <th>PCTFLOAN</th>\n      <th>UG25ABV</th>\n      <th>MD_EARN_WNE_P10</th>\n      <th>GRAD_DEBT_MDN_SUPP</th>\n    </tr>\n    <tr>\n      <th>INSTNM</th>\n      <th></th>\n      <th></th>\n      <th></th>\n      <th></th>\n      <th></th>\n      <th></th>\n      <th></th>\n      <th></th>\n      <th></th>\n      <th></th>\n      <th></th>\n      <th></th>\n      <th></th>\n      <th></th>\n      <th></th>\n      <th></th>\n      <th></th>\n      <th></th>\n      <th></th>\n      <th></th>\n      <th></th>\n    </tr>\n  </thead>\n  <tbody>\n    <tr>\n      <th>Birmingham Southern College</th>\n      <td>Birmingham</td>\n      <td>AL</td>\n      <td>0.0</td>\n      <td>0.0</td>\n      <td>0.0</td>\n      <td>1</td>\n      <td>560.0</td>\n      <td>560.0</td>\n      <td>0.0</td>\n      <td>1180.0</td>\n      <td>...</td>\n      <td>0.0051</td>\n      <td>0.0000</td>\n      <td>0.0051</td>\n      <td>0.0017</td>\n      <td>1</td>\n      <td>0.1920</td>\n      <td>0.4809</td>\n      <td>0.0152</td>\n      <td>44200</td>\n      <td>27000</td>\n    </tr>\n    <tr>\n      <th>Concordia College Alabama</th>\n      <td>Selma</td>\n      <td>AL</td>\n      <td>1.0</td>\n      <td>0.0</td>\n      <td>0.0</td>\n      <td>1</td>\n      <td>420.0</td>\n      <td>400.0</td>\n      <td>0.0</td>\n      <td>322.0</td>\n      <td>...</td>\n      <td>0.0031</td>\n      <td>0.0466</td>\n      <td>0.0000</td>\n      <td>0.1056</td>\n      <td>1</td>\n      <td>0.8667</td>\n      <td>0.9333</td>\n      <td>0.2367</td>\n      <td>19900</td>\n      <td>PrivacySuppressed</td>\n    </tr>\n    <tr>\n      <th>Enterprise State Community College</th>\n      <td>Enterprise</td>\n      <td>AL</td>\n      <td>0.0</td>\n      <td>0.0</td>\n      <td>0.0</td>\n      <td>0</td>\n      <td>NaN</td>\n      <td>NaN</td>\n      <td>0.0</td>\n      <td>1729.0</td>\n      <td>...</td>\n      <td>0.0254</td>\n      <td>0.0012</td>\n      <td>0.0069</td>\n      <td>0.3823</td>\n      <td>1</td>\n      <td>0.4895</td>\n      <td>0.2263</td>\n      <td>0.3399</td>\n      <td>24600</td>\n      <td>8273</td>\n    </tr>\n    <tr>\n      <th>Faulkner University</th>\n      <td>Montgomery</td>\n      <td>AL</td>\n      <td>0.0</td>\n      <td>0.0</td>\n      <td>0.0</td>\n      <td>1</td>\n      <td>NaN</td>\n      <td>NaN</td>\n      <td>0.0</td>\n      <td>2367.0</td>\n      <td>...</td>\n      <td>0.0173</td>\n      <td>0.0182</td>\n      <td>0.0258</td>\n      <td>0.2302</td>\n      <td>1</td>\n      <td>0.5812</td>\n      <td>0.7253</td>\n      <td>0.4589</td>\n      <td>37200</td>\n      <td>22000</td>\n    </tr>\n    <tr>\n      <th>New Beginning College of Cosmetology</th>\n      <td>Albertville</td>\n      <td>AL</td>\n      <td>0.0</td>\n      <td>0.0</td>\n      <td>0.0</td>\n      <td>0</td>\n      <td>NaN</td>\n      <td>NaN</td>\n      <td>0.0</td>\n      <td>115.0</td>\n      <td>...</td>\n      <td>0.0000</td>\n      <td>0.0000</td>\n      <td>0.0000</td>\n      <td>0.0783</td>\n      <td>1</td>\n      <td>0.8224</td>\n      <td>0.8553</td>\n      <td>0.3933</td>\n      <td>NaN</td>\n      <td>5500</td>\n    </tr>\n  </tbody>\n</table>\n<p>5 rows × 26 columns</p>\n</div>"
     },
     "metadata": {},
     "execution_count": 28
    }
   ],
   "source": [
    "college[\"Birmingham Southern College\": \"New Beginning College of Cosmetology\" : 2]"
   ]
  },
  {
   "source": [
    "## 사전 순서로 슬라이스\n",
    "\n",
    "- 인덱스가 정렬 되어 있을 경우에만 , 슬라이스 표기로 사전 순서대로 선택가능.\n",
    "- 정렬 안되어 있으면 KeyError\n"
   ],
   "cell_type": "markdown",
   "metadata": {}
  },
  {
   "cell_type": "code",
   "execution_count": 29,
   "metadata": {},
   "outputs": [
    {
     "output_type": "execute_result",
     "data": {
      "text/plain": [
       "                                                      CITY STABBR  HBCU  \\\n",
       "INSTNM                                                                    \n",
       "CALC Institute of Technology                         Alton     IL   0.0   \n",
       "Carrington College-Albuquerque                 Albuquerque     NM   0.0   \n",
       "Cinta Aveda Institute                        San Francisco     CA   0.0   \n",
       "Columbia University in the City of New York       New York     NY   0.0   \n",
       "Davenport University-Battle Creek Location    Battle Creek     MI   NaN   \n",
       "ECPI University-Raleigh                            Raleigh     NC   NaN   \n",
       "Empire Beauty School-Portsmouth                 Portsmouth     NH   0.0   \n",
       "\n",
       "                                             MENONLY  WOMENONLY  RELAFFIL  \\\n",
       "INSTNM                                                                      \n",
       "CALC Institute of Technology                     0.0        0.0         0   \n",
       "Carrington College-Albuquerque                   0.0        0.0         0   \n",
       "Cinta Aveda Institute                            0.0        0.0         0   \n",
       "Columbia University in the City of New York      0.0        0.0         0   \n",
       "Davenport University-Battle Creek Location       NaN        NaN         1   \n",
       "ECPI University-Raleigh                          NaN        NaN         1   \n",
       "Empire Beauty School-Portsmouth                  0.0        0.0         0   \n",
       "\n",
       "                                             SATVRMID  SATMTMID  DISTANCEONLY  \\\n",
       "INSTNM                                                                          \n",
       "CALC Institute of Technology                      NaN       NaN           0.0   \n",
       "Carrington College-Albuquerque                    NaN       NaN           0.0   \n",
       "Cinta Aveda Institute                             NaN       NaN           0.0   \n",
       "Columbia University in the City of New York     735.0     745.0           0.0   \n",
       "Davenport University-Battle Creek Location        NaN       NaN           NaN   \n",
       "ECPI University-Raleigh                           NaN       NaN           NaN   \n",
       "Empire Beauty School-Portsmouth                   NaN       NaN           0.0   \n",
       "\n",
       "                                               UGDS  ...  UGDS_2MOR  UGDS_NRA  \\\n",
       "INSTNM                                               ...                        \n",
       "CALC Institute of Technology                  174.0  ...     0.0230    0.0000   \n",
       "Carrington College-Albuquerque                586.0  ...     0.0051    0.0000   \n",
       "Cinta Aveda Institute                         241.0  ...     0.0788    0.0000   \n",
       "Columbia University in the City of New York  8100.0  ...     0.0468    0.1391   \n",
       "Davenport University-Battle Creek Location      NaN  ...        NaN       NaN   \n",
       "ECPI University-Raleigh                         NaN  ...        NaN       NaN   \n",
       "Empire Beauty School-Portsmouth               140.0  ...     0.0000    0.0000   \n",
       "\n",
       "                                             UGDS_UNKN  PPTUG_EF  CURROPER  \\\n",
       "INSTNM                                                                       \n",
       "CALC Institute of Technology                    0.0057    0.9253         1   \n",
       "Carrington College-Albuquerque                  0.0137    0.0956         1   \n",
       "Cinta Aveda Institute                           0.0456    0.0000         1   \n",
       "Columbia University in the City of New York     0.0391    0.0746         1   \n",
       "Davenport University-Battle Creek Location         NaN       NaN         0   \n",
       "ECPI University-Raleigh                            NaN       NaN         1   \n",
       "Empire Beauty School-Portsmouth                 0.0000    0.2357         1   \n",
       "\n",
       "                                             PCTPELL  PCTFLOAN  UG25ABV  \\\n",
       "INSTNM                                                                    \n",
       "CALC Institute of Technology                  0.6509    0.4497   0.5721   \n",
       "Carrington College-Albuquerque                0.7565    0.5266   0.5981   \n",
       "Cinta Aveda Institute                         0.1452    0.3738   0.4796   \n",
       "Columbia University in the City of New York   0.2141    0.2561   0.1744   \n",
       "Davenport University-Battle Creek Location       NaN       NaN      NaN   \n",
       "ECPI University-Raleigh                          NaN       NaN      NaN   \n",
       "Empire Beauty School-Portsmouth               0.1156    0.1156   0.3654   \n",
       "\n",
       "                                               MD_EARN_WNE_P10  \\\n",
       "INSTNM                                                           \n",
       "CALC Institute of Technology                 PrivacySuppressed   \n",
       "Carrington College-Albuquerque                           25100   \n",
       "Cinta Aveda Institute                                      NaN   \n",
       "Columbia University in the City of New York              75200   \n",
       "Davenport University-Battle Creek Location               29000   \n",
       "ECPI University-Raleigh                                    NaN   \n",
       "Empire Beauty School-Portsmouth                          19600   \n",
       "\n",
       "                                             GRAD_DEBT_MDN_SUPP  \n",
       "INSTNM                                                           \n",
       "CALC Institute of Technology                               8636  \n",
       "Carrington College-Albuquerque                             9500  \n",
       "Cinta Aveda Institute                                     10556  \n",
       "Columbia University in the City of New York               23000  \n",
       "Davenport University-Battle Creek Location                27500  \n",
       "ECPI University-Raleigh                                   20000  \n",
       "Empire Beauty School-Portsmouth                            9833  \n",
       "\n",
       "[7 rows x 26 columns]"
      ],
      "text/html": "<div>\n<style scoped>\n    .dataframe tbody tr th:only-of-type {\n        vertical-align: middle;\n    }\n\n    .dataframe tbody tr th {\n        vertical-align: top;\n    }\n\n    .dataframe thead th {\n        text-align: right;\n    }\n</style>\n<table border=\"1\" class=\"dataframe\">\n  <thead>\n    <tr style=\"text-align: right;\">\n      <th></th>\n      <th>CITY</th>\n      <th>STABBR</th>\n      <th>HBCU</th>\n      <th>MENONLY</th>\n      <th>WOMENONLY</th>\n      <th>RELAFFIL</th>\n      <th>SATVRMID</th>\n      <th>SATMTMID</th>\n      <th>DISTANCEONLY</th>\n      <th>UGDS</th>\n      <th>...</th>\n      <th>UGDS_2MOR</th>\n      <th>UGDS_NRA</th>\n      <th>UGDS_UNKN</th>\n      <th>PPTUG_EF</th>\n      <th>CURROPER</th>\n      <th>PCTPELL</th>\n      <th>PCTFLOAN</th>\n      <th>UG25ABV</th>\n      <th>MD_EARN_WNE_P10</th>\n      <th>GRAD_DEBT_MDN_SUPP</th>\n    </tr>\n    <tr>\n      <th>INSTNM</th>\n      <th></th>\n      <th></th>\n      <th></th>\n      <th></th>\n      <th></th>\n      <th></th>\n      <th></th>\n      <th></th>\n      <th></th>\n      <th></th>\n      <th></th>\n      <th></th>\n      <th></th>\n      <th></th>\n      <th></th>\n      <th></th>\n      <th></th>\n      <th></th>\n      <th></th>\n      <th></th>\n      <th></th>\n    </tr>\n  </thead>\n  <tbody>\n    <tr>\n      <th>CALC Institute of Technology</th>\n      <td>Alton</td>\n      <td>IL</td>\n      <td>0.0</td>\n      <td>0.0</td>\n      <td>0.0</td>\n      <td>0</td>\n      <td>NaN</td>\n      <td>NaN</td>\n      <td>0.0</td>\n      <td>174.0</td>\n      <td>...</td>\n      <td>0.0230</td>\n      <td>0.0000</td>\n      <td>0.0057</td>\n      <td>0.9253</td>\n      <td>1</td>\n      <td>0.6509</td>\n      <td>0.4497</td>\n      <td>0.5721</td>\n      <td>PrivacySuppressed</td>\n      <td>8636</td>\n    </tr>\n    <tr>\n      <th>Carrington College-Albuquerque</th>\n      <td>Albuquerque</td>\n      <td>NM</td>\n      <td>0.0</td>\n      <td>0.0</td>\n      <td>0.0</td>\n      <td>0</td>\n      <td>NaN</td>\n      <td>NaN</td>\n      <td>0.0</td>\n      <td>586.0</td>\n      <td>...</td>\n      <td>0.0051</td>\n      <td>0.0000</td>\n      <td>0.0137</td>\n      <td>0.0956</td>\n      <td>1</td>\n      <td>0.7565</td>\n      <td>0.5266</td>\n      <td>0.5981</td>\n      <td>25100</td>\n      <td>9500</td>\n    </tr>\n    <tr>\n      <th>Cinta Aveda Institute</th>\n      <td>San Francisco</td>\n      <td>CA</td>\n      <td>0.0</td>\n      <td>0.0</td>\n      <td>0.0</td>\n      <td>0</td>\n      <td>NaN</td>\n      <td>NaN</td>\n      <td>0.0</td>\n      <td>241.0</td>\n      <td>...</td>\n      <td>0.0788</td>\n      <td>0.0000</td>\n      <td>0.0456</td>\n      <td>0.0000</td>\n      <td>1</td>\n      <td>0.1452</td>\n      <td>0.3738</td>\n      <td>0.4796</td>\n      <td>NaN</td>\n      <td>10556</td>\n    </tr>\n    <tr>\n      <th>Columbia University in the City of New York</th>\n      <td>New York</td>\n      <td>NY</td>\n      <td>0.0</td>\n      <td>0.0</td>\n      <td>0.0</td>\n      <td>0</td>\n      <td>735.0</td>\n      <td>745.0</td>\n      <td>0.0</td>\n      <td>8100.0</td>\n      <td>...</td>\n      <td>0.0468</td>\n      <td>0.1391</td>\n      <td>0.0391</td>\n      <td>0.0746</td>\n      <td>1</td>\n      <td>0.2141</td>\n      <td>0.2561</td>\n      <td>0.1744</td>\n      <td>75200</td>\n      <td>23000</td>\n    </tr>\n    <tr>\n      <th>Davenport University-Battle Creek Location</th>\n      <td>Battle Creek</td>\n      <td>MI</td>\n      <td>NaN</td>\n      <td>NaN</td>\n      <td>NaN</td>\n      <td>1</td>\n      <td>NaN</td>\n      <td>NaN</td>\n      <td>NaN</td>\n      <td>NaN</td>\n      <td>...</td>\n      <td>NaN</td>\n      <td>NaN</td>\n      <td>NaN</td>\n      <td>NaN</td>\n      <td>0</td>\n      <td>NaN</td>\n      <td>NaN</td>\n      <td>NaN</td>\n      <td>29000</td>\n      <td>27500</td>\n    </tr>\n    <tr>\n      <th>ECPI University-Raleigh</th>\n      <td>Raleigh</td>\n      <td>NC</td>\n      <td>NaN</td>\n      <td>NaN</td>\n      <td>NaN</td>\n      <td>1</td>\n      <td>NaN</td>\n      <td>NaN</td>\n      <td>NaN</td>\n      <td>NaN</td>\n      <td>...</td>\n      <td>NaN</td>\n      <td>NaN</td>\n      <td>NaN</td>\n      <td>NaN</td>\n      <td>1</td>\n      <td>NaN</td>\n      <td>NaN</td>\n      <td>NaN</td>\n      <td>NaN</td>\n      <td>20000</td>\n    </tr>\n    <tr>\n      <th>Empire Beauty School-Portsmouth</th>\n      <td>Portsmouth</td>\n      <td>NH</td>\n      <td>0.0</td>\n      <td>0.0</td>\n      <td>0.0</td>\n      <td>0</td>\n      <td>NaN</td>\n      <td>NaN</td>\n      <td>0.0</td>\n      <td>140.0</td>\n      <td>...</td>\n      <td>0.0000</td>\n      <td>0.0000</td>\n      <td>0.0000</td>\n      <td>0.2357</td>\n      <td>1</td>\n      <td>0.1156</td>\n      <td>0.1156</td>\n      <td>0.3654</td>\n      <td>19600</td>\n      <td>9833</td>\n    </tr>\n  </tbody>\n</table>\n<p>7 rows × 26 columns</p>\n</div>"
     },
     "metadata": {},
     "execution_count": 29
    }
   ],
   "source": [
    "college = college.sort_index()\n",
    "college.loc[\"C\": \"F\" : 200] # loc 슬라이스는 마지막 포함 하니까 이름이 정확히 F 인 거 까지 표기 가능"
   ]
  },
  {
   "cell_type": "code",
   "execution_count": 30,
   "metadata": {},
   "outputs": [
    {
     "output_type": "stream",
     "name": "stdout",
     "text": [
      "True\n"
     ]
    },
    {
     "output_type": "execute_result",
     "data": {
      "text/plain": [
       "                                                          CITY STABBR  HBCU  \\\n",
       "INSTNM                                                                        \n",
       "Expression College for Digital Arts                 Emeryville     CA   0.0   \n",
       "Empire Beauty School-Jackson                           Jackson     TN   0.0   \n",
       "Downey Adult School                                     Downey     CA   0.0   \n",
       "D'Youville College                                     Buffalo     NY   0.0   \n",
       "Colorado Media School                                 Lakewood     CO   0.0   \n",
       "Cheeks International Academy of Beauty Culture-...     Greeley     CO   0.0   \n",
       "Career Technical Institute                          Washington     DC   0.0   \n",
       "\n",
       "                                                    MENONLY  WOMENONLY  \\\n",
       "INSTNM                                                                   \n",
       "Expression College for Digital Arts                     0.0        0.0   \n",
       "Empire Beauty School-Jackson                            0.0        0.0   \n",
       "Downey Adult School                                     0.0        0.0   \n",
       "D'Youville College                                      0.0        0.0   \n",
       "Colorado Media School                                   0.0        0.0   \n",
       "Cheeks International Academy of Beauty Culture-...      0.0        0.0   \n",
       "Career Technical Institute                              0.0        0.0   \n",
       "\n",
       "                                                    RELAFFIL  SATVRMID  \\\n",
       "INSTNM                                                                   \n",
       "Expression College for Digital Arts                        0       NaN   \n",
       "Empire Beauty School-Jackson                               0       NaN   \n",
       "Downey Adult School                                        0       NaN   \n",
       "D'Youville College                                         0     500.0   \n",
       "Colorado Media School                                      0       NaN   \n",
       "Cheeks International Academy of Beauty Culture-...         0       NaN   \n",
       "Career Technical Institute                                 0       NaN   \n",
       "\n",
       "                                                    SATMTMID  DISTANCEONLY  \\\n",
       "INSTNM                                                                       \n",
       "Expression College for Digital Arts                      NaN           0.0   \n",
       "Empire Beauty School-Jackson                             NaN           0.0   \n",
       "Downey Adult School                                      NaN           0.0   \n",
       "D'Youville College                                     515.0           0.0   \n",
       "Colorado Media School                                    NaN           0.0   \n",
       "Cheeks International Academy of Beauty Culture-...       NaN           0.0   \n",
       "Career Technical Institute                               NaN           0.0   \n",
       "\n",
       "                                                      UGDS  ...  UGDS_2MOR  \\\n",
       "INSTNM                                                      ...              \n",
       "Expression College for Digital Arts                  445.0  ...     0.0921   \n",
       "Empire Beauty School-Jackson                          78.0  ...     0.0128   \n",
       "Downey Adult School                                 1210.0  ...     0.0000   \n",
       "D'Youville College                                  1796.0  ...     0.0200   \n",
       "Colorado Media School                                144.0  ...     0.1111   \n",
       "Cheeks International Academy of Beauty Culture-...    38.0  ...     0.0000   \n",
       "Career Technical Institute                           607.0  ...     0.0000   \n",
       "\n",
       "                                                    UGDS_NRA  UGDS_UNKN  \\\n",
       "INSTNM                                                                    \n",
       "Expression College for Digital Arts                   0.0112     0.3416   \n",
       "Empire Beauty School-Jackson                          0.0000     0.0000   \n",
       "Downey Adult School                                   0.0000     0.0000   \n",
       "D'Youville College                                    0.0568     0.0200   \n",
       "Colorado Media School                                 0.0000     0.0278   \n",
       "Cheeks International Academy of Beauty Culture-...    0.0000     0.0000   \n",
       "Career Technical Institute                            0.0000     0.0000   \n",
       "\n",
       "                                                    PPTUG_EF  CURROPER  \\\n",
       "INSTNM                                                                   \n",
       "Expression College for Digital Arts                   0.0000         1   \n",
       "Empire Beauty School-Jackson                          0.0000         1   \n",
       "Downey Adult School                                   0.6380         1   \n",
       "D'Youville College                                    0.1631         1   \n",
       "Colorado Media School                                 0.0000         1   \n",
       "Cheeks International Academy of Beauty Culture-...    0.3158         0   \n",
       "Career Technical Institute                            0.0000         1   \n",
       "\n",
       "                                                    PCTPELL  PCTFLOAN  \\\n",
       "INSTNM                                                                  \n",
       "Expression College for Digital Arts                  0.5797    0.7736   \n",
       "Empire Beauty School-Jackson                         0.9346    0.7843   \n",
       "Downey Adult School                                  0.3773    0.0000   \n",
       "D'Youville College                                   0.3421    0.6599   \n",
       "Colorado Media School                                0.6840    0.8760   \n",
       "Cheeks International Academy of Beauty Culture-...   0.9773    0.9773   \n",
       "Career Technical Institute                           0.7381    0.8610   \n",
       "\n",
       "                                                    UG25ABV  \\\n",
       "INSTNM                                                        \n",
       "Expression College for Digital Arts                  0.3955   \n",
       "Empire Beauty School-Jackson                         0.3830   \n",
       "Downey Adult School                                  0.4381   \n",
       "D'Youville College                                   0.3099   \n",
       "Colorado Media School                                0.5829   \n",
       "Cheeks International Academy of Beauty Culture-...   0.3590   \n",
       "Career Technical Institute                           0.7388   \n",
       "\n",
       "                                                      MD_EARN_WNE_P10  \\\n",
       "INSTNM                                                                  \n",
       "Expression College for Digital Arts                 PrivacySuppressed   \n",
       "Empire Beauty School-Jackson                                    17900   \n",
       "Downey Adult School                                               NaN   \n",
       "D'Youville College                                              48000   \n",
       "Colorado Media School                                           27500   \n",
       "Cheeks International Academy of Beauty Culture-...              15200   \n",
       "Career Technical Institute                          PrivacySuppressed   \n",
       "\n",
       "                                                    GRAD_DEBT_MDN_SUPP  \n",
       "INSTNM                                                                  \n",
       "Expression College for Digital Arts                              35662  \n",
       "Empire Beauty School-Jackson                                    9768.5  \n",
       "Downey Adult School                                  PrivacySuppressed  \n",
       "D'Youville College                                               25500  \n",
       "Colorado Media School                                             9500  \n",
       "Cheeks International Academy of Beauty Culture-...                8206  \n",
       "Career Technical Institute                                        7917  \n",
       "\n",
       "[7 rows x 26 columns]"
      ],
      "text/html": "<div>\n<style scoped>\n    .dataframe tbody tr th:only-of-type {\n        vertical-align: middle;\n    }\n\n    .dataframe tbody tr th {\n        vertical-align: top;\n    }\n\n    .dataframe thead th {\n        text-align: right;\n    }\n</style>\n<table border=\"1\" class=\"dataframe\">\n  <thead>\n    <tr style=\"text-align: right;\">\n      <th></th>\n      <th>CITY</th>\n      <th>STABBR</th>\n      <th>HBCU</th>\n      <th>MENONLY</th>\n      <th>WOMENONLY</th>\n      <th>RELAFFIL</th>\n      <th>SATVRMID</th>\n      <th>SATMTMID</th>\n      <th>DISTANCEONLY</th>\n      <th>UGDS</th>\n      <th>...</th>\n      <th>UGDS_2MOR</th>\n      <th>UGDS_NRA</th>\n      <th>UGDS_UNKN</th>\n      <th>PPTUG_EF</th>\n      <th>CURROPER</th>\n      <th>PCTPELL</th>\n      <th>PCTFLOAN</th>\n      <th>UG25ABV</th>\n      <th>MD_EARN_WNE_P10</th>\n      <th>GRAD_DEBT_MDN_SUPP</th>\n    </tr>\n    <tr>\n      <th>INSTNM</th>\n      <th></th>\n      <th></th>\n      <th></th>\n      <th></th>\n      <th></th>\n      <th></th>\n      <th></th>\n      <th></th>\n      <th></th>\n      <th></th>\n      <th></th>\n      <th></th>\n      <th></th>\n      <th></th>\n      <th></th>\n      <th></th>\n      <th></th>\n      <th></th>\n      <th></th>\n      <th></th>\n      <th></th>\n    </tr>\n  </thead>\n  <tbody>\n    <tr>\n      <th>Expression College for Digital Arts</th>\n      <td>Emeryville</td>\n      <td>CA</td>\n      <td>0.0</td>\n      <td>0.0</td>\n      <td>0.0</td>\n      <td>0</td>\n      <td>NaN</td>\n      <td>NaN</td>\n      <td>0.0</td>\n      <td>445.0</td>\n      <td>...</td>\n      <td>0.0921</td>\n      <td>0.0112</td>\n      <td>0.3416</td>\n      <td>0.0000</td>\n      <td>1</td>\n      <td>0.5797</td>\n      <td>0.7736</td>\n      <td>0.3955</td>\n      <td>PrivacySuppressed</td>\n      <td>35662</td>\n    </tr>\n    <tr>\n      <th>Empire Beauty School-Jackson</th>\n      <td>Jackson</td>\n      <td>TN</td>\n      <td>0.0</td>\n      <td>0.0</td>\n      <td>0.0</td>\n      <td>0</td>\n      <td>NaN</td>\n      <td>NaN</td>\n      <td>0.0</td>\n      <td>78.0</td>\n      <td>...</td>\n      <td>0.0128</td>\n      <td>0.0000</td>\n      <td>0.0000</td>\n      <td>0.0000</td>\n      <td>1</td>\n      <td>0.9346</td>\n      <td>0.7843</td>\n      <td>0.3830</td>\n      <td>17900</td>\n      <td>9768.5</td>\n    </tr>\n    <tr>\n      <th>Downey Adult School</th>\n      <td>Downey</td>\n      <td>CA</td>\n      <td>0.0</td>\n      <td>0.0</td>\n      <td>0.0</td>\n      <td>0</td>\n      <td>NaN</td>\n      <td>NaN</td>\n      <td>0.0</td>\n      <td>1210.0</td>\n      <td>...</td>\n      <td>0.0000</td>\n      <td>0.0000</td>\n      <td>0.0000</td>\n      <td>0.6380</td>\n      <td>1</td>\n      <td>0.3773</td>\n      <td>0.0000</td>\n      <td>0.4381</td>\n      <td>NaN</td>\n      <td>PrivacySuppressed</td>\n    </tr>\n    <tr>\n      <th>D'Youville College</th>\n      <td>Buffalo</td>\n      <td>NY</td>\n      <td>0.0</td>\n      <td>0.0</td>\n      <td>0.0</td>\n      <td>0</td>\n      <td>500.0</td>\n      <td>515.0</td>\n      <td>0.0</td>\n      <td>1796.0</td>\n      <td>...</td>\n      <td>0.0200</td>\n      <td>0.0568</td>\n      <td>0.0200</td>\n      <td>0.1631</td>\n      <td>1</td>\n      <td>0.3421</td>\n      <td>0.6599</td>\n      <td>0.3099</td>\n      <td>48000</td>\n      <td>25500</td>\n    </tr>\n    <tr>\n      <th>Colorado Media School</th>\n      <td>Lakewood</td>\n      <td>CO</td>\n      <td>0.0</td>\n      <td>0.0</td>\n      <td>0.0</td>\n      <td>0</td>\n      <td>NaN</td>\n      <td>NaN</td>\n      <td>0.0</td>\n      <td>144.0</td>\n      <td>...</td>\n      <td>0.1111</td>\n      <td>0.0000</td>\n      <td>0.0278</td>\n      <td>0.0000</td>\n      <td>1</td>\n      <td>0.6840</td>\n      <td>0.8760</td>\n      <td>0.5829</td>\n      <td>27500</td>\n      <td>9500</td>\n    </tr>\n    <tr>\n      <th>Cheeks International Academy of Beauty Culture-Greeley</th>\n      <td>Greeley</td>\n      <td>CO</td>\n      <td>0.0</td>\n      <td>0.0</td>\n      <td>0.0</td>\n      <td>0</td>\n      <td>NaN</td>\n      <td>NaN</td>\n      <td>0.0</td>\n      <td>38.0</td>\n      <td>...</td>\n      <td>0.0000</td>\n      <td>0.0000</td>\n      <td>0.0000</td>\n      <td>0.3158</td>\n      <td>0</td>\n      <td>0.9773</td>\n      <td>0.9773</td>\n      <td>0.3590</td>\n      <td>15200</td>\n      <td>8206</td>\n    </tr>\n    <tr>\n      <th>Career Technical Institute</th>\n      <td>Washington</td>\n      <td>DC</td>\n      <td>0.0</td>\n      <td>0.0</td>\n      <td>0.0</td>\n      <td>0</td>\n      <td>NaN</td>\n      <td>NaN</td>\n      <td>0.0</td>\n      <td>607.0</td>\n      <td>...</td>\n      <td>0.0000</td>\n      <td>0.0000</td>\n      <td>0.0000</td>\n      <td>0.0000</td>\n      <td>1</td>\n      <td>0.7381</td>\n      <td>0.8610</td>\n      <td>0.7388</td>\n      <td>PrivacySuppressed</td>\n      <td>7917</td>\n    </tr>\n  </tbody>\n</table>\n<p>7 rows × 26 columns</p>\n</div>"
     },
     "metadata": {},
     "execution_count": 30
    }
   ],
   "source": [
    "college = college.sort_index(ascending= False) # 반대로 정렬되어 있어도 가능.\n",
    "print(college.index.is_monotonic_decreasing) # monotonic 하게 increasing or decreasing 이면 가능.\n",
    "college.loc[\"F\": \"C\" : 200]"
   ]
  }
 ]
}